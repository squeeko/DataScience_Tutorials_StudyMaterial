{
 "cells": [
  {
   "cell_type": "code",
   "execution_count": 1,
   "metadata": {
    "collapsed": true
   },
   "outputs": [],
   "source": [
    "# write a basic calculator instruction for a user and present a menu with options to add, subt,\n",
    "# modulus, multiply, divide two numbers.\n",
    "# prompt and ask users what operation they wanna do. Selection must be within the presented menu.\n",
    "# display the result (don't forget) if they select zero for denominator in division"
   ]
  },
  {
   "cell_type": "code",
   "execution_count": 3,
   "metadata": {
    "collapsed": true
   },
   "outputs": [],
   "source": [
    "from __future__ import division"
   ]
  },
  {
   "cell_type": "code",
   "execution_count": null,
   "metadata": {
    "collapsed": false
   },
   "outputs": [
    {
     "name": "stdout",
     "output_type": "stream",
     "text": [
      " Our Simple Calculator Menu\n",
      "\n",
      "0. Choose zero to quit\n",
      "1. Choose one to add \n",
      "2. Choose two to subtract\n",
      "3. Choose three to multiply\n",
      "4. Choose four to divide\n",
      "5. Choose five to calculate modulous\n",
      "\n",
      "\n",
      "please make a choice from the menu above: 5\n",
      "Enter your first number now: 5\n",
      "Enter your second number now: 0\n",
      "Error, can't calculate modulous when denominator is zero\n",
      "The result of your operation is: 2\n",
      " Our Simple Calculator Menu\n",
      "\n",
      "0. Choose zero to quit\n",
      "1. Choose one to add \n",
      "2. Choose two to subtract\n",
      "3. Choose three to multiply\n",
      "4. Choose four to divide\n",
      "5. Choose five to calculate modulous\n",
      "\n",
      "\n",
      "please make a choice from the menu above: 5\n",
      "Enter your first number now: 6\n",
      "Enter your second number now: 5\n",
      "The result of your operation is: 1\n",
      " Our Simple Calculator Menu\n",
      "\n",
      "0. Choose zero to quit\n",
      "1. Choose one to add \n",
      "2. Choose two to subtract\n",
      "3. Choose three to multiply\n",
      "4. Choose four to divide\n",
      "5. Choose five to calculate modulous\n",
      "\n",
      "\n"
     ]
    }
   ],
   "source": [
    "menu = \"\"\" Our Simple Calculator Menu\n",
    "\n",
    "0. Choose zero to quit\n",
    "1. Choose one to add \n",
    "2. Choose two to subtract\n",
    "3. Choose three to multiply\n",
    "4. Choose four to divide\n",
    "5. Choose five to calculate modulous\n",
    "\n",
    "\"\"\"\n",
    "\n",
    "choice = None\n",
    "\n",
    "while choice != 0:\n",
    "    print menu\n",
    "    choice = int(raw_input(\"please make a choice from the menu above: \"))\n",
    "    \n",
    "    if choice not in range(6):\n",
    "        print \"You've made an invalid choice: {}\".format(choice)\n",
    "        continue\n",
    "        \n",
    "    if choice == 0:\n",
    "        continue\n",
    "        \n",
    "    x = int(raw_input(\"Enter your first number now: \"))\n",
    "    y = int(raw_input(\"Enter your second number now: \"))\n",
    "    \n",
    "    if choice == 1:\n",
    "        result = x + y\n",
    "        \n",
    "    elif choice == 2:\n",
    "        result = x - y\n",
    "        \n",
    "    elif choice == 3:\n",
    "        result = x * y\n",
    "        \n",
    "    elif choice == 4:\n",
    "        if y == 0:\n",
    "            print \"Error, can't divide a number by zero\"\n",
    "        else:\n",
    "            result = x / y\n",
    "            \n",
    "    elif choice == 5:\n",
    "        if y == 0:\n",
    "            print \"Error, can't calculate modulous when denominator is zero\"\n",
    "        else:\n",
    "            result = x % y\n",
    "        \n",
    "    print \"The result of your operation is: {}\".format(result)\n",
    "    "
   ]
  },
  {
   "cell_type": "code",
   "execution_count": null,
   "metadata": {
    "collapsed": true
   },
   "outputs": [],
   "source": []
  },
  {
   "cell_type": "code",
   "execution_count": null,
   "metadata": {
    "collapsed": true
   },
   "outputs": [],
   "source": []
  },
  {
   "cell_type": "code",
   "execution_count": null,
   "metadata": {
    "collapsed": true
   },
   "outputs": [],
   "source": []
  },
  {
   "cell_type": "code",
   "execution_count": null,
   "metadata": {
    "collapsed": true
   },
   "outputs": [],
   "source": []
  },
  {
   "cell_type": "code",
   "execution_count": null,
   "metadata": {
    "collapsed": true
   },
   "outputs": [],
   "source": []
  },
  {
   "cell_type": "code",
   "execution_count": null,
   "metadata": {
    "collapsed": true
   },
   "outputs": [],
   "source": []
  },
  {
   "cell_type": "code",
   "execution_count": null,
   "metadata": {
    "collapsed": true
   },
   "outputs": [],
   "source": []
  },
  {
   "cell_type": "code",
   "execution_count": null,
   "metadata": {
    "collapsed": true
   },
   "outputs": [],
   "source": []
  },
  {
   "cell_type": "code",
   "execution_count": null,
   "metadata": {
    "collapsed": true
   },
   "outputs": [],
   "source": []
  },
  {
   "cell_type": "code",
   "execution_count": null,
   "metadata": {
    "collapsed": true
   },
   "outputs": [],
   "source": []
  },
  {
   "cell_type": "code",
   "execution_count": null,
   "metadata": {
    "collapsed": true
   },
   "outputs": [],
   "source": []
  },
  {
   "cell_type": "code",
   "execution_count": null,
   "metadata": {
    "collapsed": true
   },
   "outputs": [],
   "source": []
  },
  {
   "cell_type": "code",
   "execution_count": null,
   "metadata": {
    "collapsed": true
   },
   "outputs": [],
   "source": []
  },
  {
   "cell_type": "code",
   "execution_count": null,
   "metadata": {
    "collapsed": true
   },
   "outputs": [],
   "source": []
  },
  {
   "cell_type": "code",
   "execution_count": null,
   "metadata": {
    "collapsed": true
   },
   "outputs": [],
   "source": []
  },
  {
   "cell_type": "code",
   "execution_count": null,
   "metadata": {
    "collapsed": true
   },
   "outputs": [],
   "source": []
  },
  {
   "cell_type": "code",
   "execution_count": null,
   "metadata": {
    "collapsed": true
   },
   "outputs": [],
   "source": []
  },
  {
   "cell_type": "code",
   "execution_count": null,
   "metadata": {
    "collapsed": true
   },
   "outputs": [],
   "source": []
  },
  {
   "cell_type": "code",
   "execution_count": null,
   "metadata": {
    "collapsed": true
   },
   "outputs": [],
   "source": []
  },
  {
   "cell_type": "code",
   "execution_count": null,
   "metadata": {
    "collapsed": true
   },
   "outputs": [],
   "source": []
  },
  {
   "cell_type": "code",
   "execution_count": null,
   "metadata": {
    "collapsed": true
   },
   "outputs": [],
   "source": []
  },
  {
   "cell_type": "code",
   "execution_count": null,
   "metadata": {
    "collapsed": true
   },
   "outputs": [],
   "source": []
  },
  {
   "cell_type": "code",
   "execution_count": null,
   "metadata": {
    "collapsed": true
   },
   "outputs": [],
   "source": []
  },
  {
   "cell_type": "code",
   "execution_count": null,
   "metadata": {
    "collapsed": true
   },
   "outputs": [],
   "source": []
  },
  {
   "cell_type": "code",
   "execution_count": null,
   "metadata": {
    "collapsed": true
   },
   "outputs": [],
   "source": []
  },
  {
   "cell_type": "code",
   "execution_count": null,
   "metadata": {
    "collapsed": true
   },
   "outputs": [],
   "source": []
  },
  {
   "cell_type": "code",
   "execution_count": null,
   "metadata": {
    "collapsed": true
   },
   "outputs": [],
   "source": []
  },
  {
   "cell_type": "code",
   "execution_count": null,
   "metadata": {
    "collapsed": true
   },
   "outputs": [],
   "source": []
  },
  {
   "cell_type": "code",
   "execution_count": null,
   "metadata": {
    "collapsed": true
   },
   "outputs": [],
   "source": []
  },
  {
   "cell_type": "code",
   "execution_count": null,
   "metadata": {
    "collapsed": true
   },
   "outputs": [],
   "source": []
  }
 ],
 "metadata": {
  "kernelspec": {
   "display_name": "Python 2",
   "language": "python",
   "name": "python2"
  },
  "language_info": {
   "codemirror_mode": {
    "name": "ipython",
    "version": 2
   },
   "file_extension": ".py",
   "mimetype": "text/x-python",
   "name": "python",
   "nbconvert_exporter": "python",
   "pygments_lexer": "ipython2",
   "version": "2.7.12"
  }
 },
 "nbformat": 4,
 "nbformat_minor": 0
}
