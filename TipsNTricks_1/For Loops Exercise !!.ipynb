{
 "cells": [
  {
   "cell_type": "code",
   "execution_count": null,
   "metadata": {
    "collapsed": true
   },
   "outputs": [],
   "source": [
    "#1)\n",
    "# prompt a user to enter an integer n\n",
    "# find out all the divisors of n by checking the modulous of all the numbers between 1 and n =0\n",
    "# finally print out a list of all the divisors!\n",
    "# example, if n=6, check 6%5, 6%4, 6%3,2,1 so 6 is divisible by [1,2,3 and 6]."
   ]
  },
  {
   "cell_type": "code",
   "execution_count": 92,
   "metadata": {
    "collapsed": false
   },
   "outputs": [
    {
     "name": "stdout",
     "output_type": "stream",
     "text": [
      "Enter your integer: 123456\n",
      "[1, 2, 3, 4, 6, 8, 12, 16, 24, 32, 48, 64, 96, 192, 643, 1286, 1929, 2572, 3858, 5144, 7716, 10288, 15432, 20576, 30864, 41152, 61728, 123456]\n"
     ]
    }
   ],
   "source": [
    "\n",
    "num = int(raw_input(\"Enter your integer: \")) # 8 range(1,9)\n",
    "num_range = list(range(1, num+1)) # [1,2,3,4,...,8]\n",
    "\n",
    "divisor_num = [] # empty [1, 2, ...]\n",
    "\n",
    "for number in num_range:\n",
    "    if num % number == 0: # 8 % 2 == 0\n",
    "        divisor_num.append(number)\n",
    "        \n",
    "print divisor_num\n",
    "        \n",
    "\n",
    "\n",
    "\n"
   ]
  },
  {
   "cell_type": "code",
   "execution_count": null,
   "metadata": {
    "collapsed": true
   },
   "outputs": [],
   "source": []
  },
  {
   "cell_type": "code",
   "execution_count": 93,
   "metadata": {
    "collapsed": true
   },
   "outputs": [],
   "source": [
    "#2)\n",
    "x = [-3,-5,-11,0,2,4,6, 12.6, -0.024, 0.34]\n",
    "# use a for loop and if statement to find out if the numbers in the list, x are positive,\n",
    "# negative or zero.\n",
    "# if the number is negative, find out the abs of the number."
   ]
  },
  {
   "cell_type": "code",
   "execution_count": 94,
   "metadata": {
    "collapsed": false
   },
   "outputs": [
    {
     "name": "stdout",
     "output_type": "stream",
     "text": [
      "-3  is a negative number\n",
      "  and its abs is:  3\n",
      "-5  is a negative number\n",
      "  and its abs is:  5\n",
      "-11  is a negative number\n",
      "  and its abs is:  11\n",
      "0  is neither a pos nor a negative number\n",
      "2  is a positive number\n",
      "4  is a positive number\n",
      "6  is a positive number\n",
      "12.6  is a positive number\n",
      "-0.024  is a negative number\n",
      "  and its abs is:  0.024\n",
      "0.34  is a positive number\n"
     ]
    }
   ],
   "source": [
    "for num in x:\n",
    "    if num > 0:\n",
    "        print num, \" is a positive number\"\n",
    "    elif num == 0:\n",
    "        print num, \" is neither a pos nor a negative number\"\n",
    "    else:\n",
    "        print num, \" is a negative number\"\n",
    "        print \"  and its abs is: \", abs(num)\n",
    "\n",
    "\n",
    "\n"
   ]
  },
  {
   "cell_type": "code",
   "execution_count": null,
   "metadata": {
    "collapsed": true
   },
   "outputs": [],
   "source": []
  },
  {
   "cell_type": "code",
   "execution_count": 96,
   "metadata": {
    "collapsed": false
   },
   "outputs": [],
   "source": [
    "#3)\n",
    "list1= [1,'a',2,'b','c','d',3,4,5,6,8]\n",
    "# use a for loop to print out all the adjacent elements in the list above\n",
    "#(1,'a'), ('a',2)"
   ]
  },
  {
   "cell_type": "code",
   "execution_count": 97,
   "metadata": {
    "collapsed": false
   },
   "outputs": [
    {
     "name": "stdout",
     "output_type": "stream",
     "text": [
      "(1, 'a')\n",
      "('a', 2)\n",
      "(2, 'b')\n",
      "('b', 'c')\n",
      "('c', 'd')\n",
      "('d', 3)\n",
      "(3, 4)\n",
      "(4, 5)\n",
      "(5, 6)\n",
      "(6, 8)\n"
     ]
    }
   ],
   "source": [
    "\n",
    "for x in range(1, len(list1)): #(1,11) [1,2,3..10]\n",
    "    first = list1[x-1] # 1\n",
    "    second = list1[x] # a\n",
    "    \n",
    "    print (first,second)\n",
    "\n",
    "\n",
    "\n",
    "\n",
    "\n",
    "list1= [1,'a',2,'b','c','d',3,4,5,6,8]\n",
    "\n"
   ]
  },
  {
   "cell_type": "code",
   "execution_count": null,
   "metadata": {
    "collapsed": true
   },
   "outputs": [],
   "source": []
  },
  {
   "cell_type": "code",
   "execution_count": 98,
   "metadata": {
    "collapsed": false
   },
   "outputs": [],
   "source": [
    "#4)\n",
    "# write a program that will count the length of each word in a given string and place each\\\n",
    "# word in a separate list Start out with an empty list and append to each list by using for\\\n",
    "# loops and if statements good luck\n",
    "\n",
    "\n",
    "st = \"write a program that will count the length of each word in a given string and place\\\n",
    "      each word in a separate list Start out with an empty list and append to each list\\\n",
    "      by using for loops and if statements good luck\"\n",
    "\n",
    "\n"
   ]
  },
  {
   "cell_type": "code",
   "execution_count": 104,
   "metadata": {
    "collapsed": false
   },
   "outputs": [
    {
     "name": "stdout",
     "output_type": "stream",
     "text": [
      "enter your string now!: a program that will count the length of each word in a given string and place each word in a separate list Start out with an empty list and append \n",
      "------------------------------------------------------------------------------------\n",
      "words with length = 3:  ['the', 'and', 'out', 'and']\n",
      "------------------------------------------------------------------------------------------\n",
      "words with length = 4:  ['that', 'will', 'each', 'word', 'each', 'word', 'list', 'with', 'list']\n",
      "------------------------------------------------------------------------------------------\n",
      "words with length = 5:  ['count', 'given', 'place', 'Start', 'empty']\n",
      "------------------------------------------------------------------------------------------\n",
      "words with length = 6:  ['length', 'string', 'append']\n",
      "------------------------------------------------------------------------------------------\n",
      "words with length = 7:  ['program']\n",
      "------------------------------------------------------------------------------------------\n",
      "words with length < 3:  ['a', 'of', 'in', 'a', 'in', 'a', 'an']\n",
      "------------------------------------------------------------------------------------------\n",
      "rest of the words:  ['separate']\n",
      "------------------------------------------------------------------------------------------\n"
     ]
    }
   ],
   "source": [
    "st = raw_input(\"enter your string now!: \")\n",
    "\n",
    "print \"------\" * 14\n",
    "\n",
    "three = []\n",
    "four = []\n",
    "five = []\n",
    "six = []\n",
    "seven = []\n",
    "article = [] # if length < 3\n",
    "rest = [] # if length > 7\n",
    "\n",
    "for word in st.split():\n",
    "    if len(word) == 3:\n",
    "        three.append(word)\n",
    "    elif len(word) == 4:\n",
    "        four.append(word)\n",
    "    elif len(word) == 5:\n",
    "        five.append(word)\n",
    "    elif len(word) == 6:\n",
    "        six.append(word)\n",
    "    elif len(word) == 7:\n",
    "        seven.append(word)\n",
    "    elif len(word) < 3:\n",
    "        article.append(word)\n",
    "    else:\n",
    "        rest.append(word)\n",
    "\n",
    "print \"words with length = 3: \", three\n",
    "print \"------\" * 15\n",
    "print \"words with length = 4: \", four\n",
    "print \"------\" * 15\n",
    "print \"words with length = 5: \", five\n",
    "print \"------\" * 15\n",
    "print \"words with length = 6: \", six\n",
    "print \"------\" * 15\n",
    "print \"words with length = 7: \", seven\n",
    "print \"------\" * 15\n",
    "print \"words with length < 3: \", article\n",
    "print \"------\" * 15\n",
    "print \"rest of the words: \", rest\n",
    "print \"------\" * 15\n",
    "\n",
    "\n",
    "\n",
    "\n",
    "\n"
   ]
  },
  {
   "cell_type": "code",
   "execution_count": null,
   "metadata": {
    "collapsed": true
   },
   "outputs": [],
   "source": []
  },
  {
   "cell_type": "code",
   "execution_count": 105,
   "metadata": {
    "collapsed": true
   },
   "outputs": [],
   "source": [
    "#5)  \n",
    "# define punctuation and numbers as shown below. Prompt a user to enter a string with a\\\n",
    "# combination of numbers, punct and characters. Use a for loop and if statements to find\\\n",
    "# out if the char is a num, alpha or punct. and print out a string of all the numbers, \\\n",
    "# puctuations and alphabets...\n",
    "\n",
    "punctuations = '''!()-[]{};:'\"\\,<>./?@#$%^&*_~+'''\n",
    "numbers = '''1234567890'''\n",
    "#my_string = \"It's the last week of November 2016, and it's cold!!432?@# so cold +>??\""
   ]
  },
  {
   "cell_type": "code",
   "execution_count": 109,
   "metadata": {
    "collapsed": false
   },
   "outputs": [
    {
     "name": "stdout",
     "output_type": "stream",
     "text": [
      "------------------------------------------------------------------------------------------\n",
      "alphabets:  Its the last week of November  and its cold so cold \n",
      "------------------------------------------------------------------------------------------\n",
      "numbers:  2016432\n",
      "------------------------------------------------------------------------------------------\n",
      "punctuations:  ','!!?@#+>??\n",
      "------------------------------------------------------------------------------------------\n"
     ]
    }
   ],
   "source": [
    "\n",
    "#my_string = raw_input(\"please enter your string now: \")\n",
    "my_string = \"It's the last week of November 2016, and it's cold!!432?@# so cold +>??\"\n",
    "\n",
    "print \"------\" * 15\n",
    "alpha_only = \"\"\n",
    "num_only = \"\"\n",
    "punc_only = \"\"\n",
    "\n",
    "for char in my_string:\n",
    "    if (char not in punctuations and char not in numbers):\n",
    "        alpha_only = alpha_only + char\n",
    "    elif char in numbers:\n",
    "        num_only = num_only + char\n",
    "    elif char in punctuations:\n",
    "        punc_only = punc_only + char\n",
    "    else:\n",
    "        print \"I don't know what that character is! \"\n",
    "        \n",
    "print \"alphabets: \", alpha_only\n",
    "print \"------\" * 15\n",
    "print \"numbers: \", num_only\n",
    "print \"------\" * 15\n",
    "print \"punctuations: \", punc_only\n",
    "print \"------\" * 15\n",
    "\n",
    "\n",
    "\n",
    "\n",
    "\n",
    "\n",
    "\n",
    "\n"
   ]
  },
  {
   "cell_type": "code",
   "execution_count": null,
   "metadata": {
    "collapsed": true
   },
   "outputs": [],
   "source": []
  },
  {
   "cell_type": "code",
   "execution_count": null,
   "metadata": {
    "collapsed": true
   },
   "outputs": [],
   "source": []
  },
  {
   "cell_type": "code",
   "execution_count": null,
   "metadata": {
    "collapsed": true
   },
   "outputs": [],
   "source": []
  },
  {
   "cell_type": "code",
   "execution_count": null,
   "metadata": {
    "collapsed": true
   },
   "outputs": [],
   "source": []
  },
  {
   "cell_type": "code",
   "execution_count": null,
   "metadata": {
    "collapsed": true
   },
   "outputs": [],
   "source": []
  },
  {
   "cell_type": "code",
   "execution_count": null,
   "metadata": {
    "collapsed": true
   },
   "outputs": [],
   "source": []
  },
  {
   "cell_type": "code",
   "execution_count": null,
   "metadata": {
    "collapsed": true
   },
   "outputs": [],
   "source": []
  },
  {
   "cell_type": "code",
   "execution_count": null,
   "metadata": {
    "collapsed": true
   },
   "outputs": [],
   "source": []
  },
  {
   "cell_type": "code",
   "execution_count": null,
   "metadata": {
    "collapsed": true
   },
   "outputs": [],
   "source": []
  },
  {
   "cell_type": "code",
   "execution_count": null,
   "metadata": {
    "collapsed": true
   },
   "outputs": [],
   "source": []
  },
  {
   "cell_type": "code",
   "execution_count": null,
   "metadata": {
    "collapsed": true
   },
   "outputs": [],
   "source": []
  },
  {
   "cell_type": "code",
   "execution_count": null,
   "metadata": {
    "collapsed": true
   },
   "outputs": [],
   "source": []
  },
  {
   "cell_type": "code",
   "execution_count": null,
   "metadata": {
    "collapsed": true
   },
   "outputs": [],
   "source": []
  },
  {
   "cell_type": "code",
   "execution_count": null,
   "metadata": {
    "collapsed": true
   },
   "outputs": [],
   "source": []
  },
  {
   "cell_type": "code",
   "execution_count": null,
   "metadata": {
    "collapsed": true
   },
   "outputs": [],
   "source": []
  },
  {
   "cell_type": "code",
   "execution_count": null,
   "metadata": {
    "collapsed": true
   },
   "outputs": [],
   "source": []
  },
  {
   "cell_type": "code",
   "execution_count": null,
   "metadata": {
    "collapsed": true
   },
   "outputs": [],
   "source": []
  },
  {
   "cell_type": "code",
   "execution_count": null,
   "metadata": {
    "collapsed": true
   },
   "outputs": [],
   "source": []
  },
  {
   "cell_type": "code",
   "execution_count": null,
   "metadata": {
    "collapsed": true
   },
   "outputs": [],
   "source": []
  },
  {
   "cell_type": "code",
   "execution_count": null,
   "metadata": {
    "collapsed": true
   },
   "outputs": [],
   "source": []
  },
  {
   "cell_type": "code",
   "execution_count": null,
   "metadata": {
    "collapsed": true
   },
   "outputs": [],
   "source": []
  },
  {
   "cell_type": "code",
   "execution_count": null,
   "metadata": {
    "collapsed": true
   },
   "outputs": [],
   "source": []
  },
  {
   "cell_type": "code",
   "execution_count": null,
   "metadata": {
    "collapsed": true
   },
   "outputs": [],
   "source": []
  },
  {
   "cell_type": "code",
   "execution_count": null,
   "metadata": {
    "collapsed": true
   },
   "outputs": [],
   "source": []
  },
  {
   "cell_type": "code",
   "execution_count": null,
   "metadata": {
    "collapsed": true
   },
   "outputs": [],
   "source": []
  },
  {
   "cell_type": "code",
   "execution_count": null,
   "metadata": {
    "collapsed": true
   },
   "outputs": [],
   "source": []
  },
  {
   "cell_type": "code",
   "execution_count": null,
   "metadata": {
    "collapsed": true
   },
   "outputs": [],
   "source": []
  },
  {
   "cell_type": "code",
   "execution_count": null,
   "metadata": {
    "collapsed": true
   },
   "outputs": [],
   "source": []
  },
  {
   "cell_type": "code",
   "execution_count": null,
   "metadata": {
    "collapsed": true
   },
   "outputs": [],
   "source": []
  },
  {
   "cell_type": "code",
   "execution_count": null,
   "metadata": {
    "collapsed": true
   },
   "outputs": [],
   "source": []
  },
  {
   "cell_type": "code",
   "execution_count": null,
   "metadata": {
    "collapsed": true
   },
   "outputs": [],
   "source": []
  },
  {
   "cell_type": "code",
   "execution_count": null,
   "metadata": {
    "collapsed": true
   },
   "outputs": [],
   "source": []
  },
  {
   "cell_type": "code",
   "execution_count": null,
   "metadata": {
    "collapsed": true
   },
   "outputs": [],
   "source": []
  },
  {
   "cell_type": "code",
   "execution_count": null,
   "metadata": {
    "collapsed": true
   },
   "outputs": [],
   "source": []
  },
  {
   "cell_type": "code",
   "execution_count": null,
   "metadata": {
    "collapsed": true
   },
   "outputs": [],
   "source": []
  },
  {
   "cell_type": "code",
   "execution_count": null,
   "metadata": {
    "collapsed": true
   },
   "outputs": [],
   "source": []
  },
  {
   "cell_type": "code",
   "execution_count": 78,
   "metadata": {
    "collapsed": false
   },
   "outputs": [
    {
     "name": "stdout",
     "output_type": "stream",
     "text": [
      "Enter a string: atioeurwuq83q qhe\n",
      "alpha:  Its the last week of November  and its cold so cold\n",
      "num:  2016432\n",
      "punc:  ','!!?@#+>??\n"
     ]
    }
   ],
   "source": [
    "#5)  \n",
    "# define punctuation and numbers as shown below. Prompt a user to enter a string with a\\\n",
    "# combination of numbers, punct and characters. Use a for loop and if statements to find\\\n",
    "# out if the char is a num, alpha or punct. and print out a string of all the numbers, \\\n",
    "# puctuations and alphabets...\n",
    "\n",
    "punctuations = '''!()-[]{};:'\"\\,<>./?@#$%^&*_~+'''\n",
    "numbers = '''1234567890'''\n",
    "#my_string = \"It's the last week of November 2016, and it's cold!!432?@# so cold +>??\"\n",
    "\n",
    "# To take input from the user\n",
    "my_string = raw_input(\"Enter a string: \")\n",
    "\n",
    "# remove punctuation from the string\n",
    "alpha_only = \"\"\n",
    "num_only = \"\"\n",
    "punc_only = \"\"\n",
    "for char in my_str:\n",
    "    if (char not in punctuations and char not in numbers):\n",
    "        alpha_only = alpha_only + char\n",
    "    elif char in numbers:\n",
    "        num_only = num_only + char\n",
    "    elif char in punctuations:\n",
    "        punc_only = punc_only + char\n",
    "    else:\n",
    "        print \"I dont know what that char is\"\n",
    "        \n",
    "\n",
    "# display the unpunctuated string\n",
    "print \"alpha: \", alpha_only\n",
    "print \"num: \", num_only\n",
    "print \"punc: \", punc_only"
   ]
  },
  {
   "cell_type": "code",
   "execution_count": null,
   "metadata": {
    "collapsed": true
   },
   "outputs": [],
   "source": []
  },
  {
   "cell_type": "code",
   "execution_count": null,
   "metadata": {
    "collapsed": true
   },
   "outputs": [],
   "source": []
  },
  {
   "cell_type": "code",
   "execution_count": null,
   "metadata": {
    "collapsed": true
   },
   "outputs": [],
   "source": []
  },
  {
   "cell_type": "code",
   "execution_count": null,
   "metadata": {
    "collapsed": true
   },
   "outputs": [],
   "source": []
  },
  {
   "cell_type": "code",
   "execution_count": 54,
   "metadata": {
    "collapsed": false
   },
   "outputs": [
    {
     "name": "stdout",
     "output_type": "stream",
     "text": [
      "(1, 'a')\n",
      "('a', 2)\n",
      "(2, 'b')\n",
      "('b', 'c')\n",
      "('c', 'd')\n",
      "('d', 3)\n",
      "(3, 4)\n",
      "(4, 5)\n",
      "(5, 6)\n",
      "(6, 8)\n"
     ]
    }
   ],
   "source": [
    "# Use range.\n",
    "\n",
    "list1 = [1,'a',2,'b','c','d',3,4,5,6,8]\n",
    "for x in range(1, len(list1)):\n",
    "    # Get two adjacent elements.\n",
    "    first = list1[x - 1]\n",
    "    second = list1[x]\n",
    "\n",
    "    # Print two elements.\n",
    "    print(first, second)"
   ]
  },
  {
   "cell_type": "code",
   "execution_count": null,
   "metadata": {
    "collapsed": true
   },
   "outputs": [],
   "source": []
  },
  {
   "cell_type": "code",
   "execution_count": null,
   "metadata": {
    "collapsed": true
   },
   "outputs": [],
   "source": []
  },
  {
   "cell_type": "code",
   "execution_count": null,
   "metadata": {
    "collapsed": true
   },
   "outputs": [],
   "source": [
    "#4)\n",
    "# write a program that will count the length of each word in a given string and place each\\\n",
    "# word in a separate list Start out with an empty list and append to each list by using for\\\n",
    "# loops and if statements good luck\n",
    "\n",
    "\n",
    "st = \"write a program that will count the length of each word in a given string and place\\\n",
    "      each word in a separate list Start out with an empty list and append to each list\\\n",
    "      by using for loops and if statements good luck\"\n",
    "\n",
    "three = []\n",
    "four = []\n",
    "five = []\n",
    "six = []\n",
    "seven = []\n",
    "rest = []\n",
    "article = []\n",
    "\n",
    "for words in st.split():\n",
    "    if len(words) == 3:\n",
    "        three.append(words)\n",
    "    elif len(words) == 4:\n",
    "        four.append(words)\n",
    "    elif len(words) == 5:\n",
    "        five.append(words)\n",
    "    elif len(words) == 6:\n",
    "        six.append(words)\n",
    "    elif len(words) == 7:\n",
    "        seven.append(words)\n",
    "    elif len(words) < 3:\n",
    "        article.append(words)\n",
    "    else:\n",
    "        rest.append(words)\n",
    "        \n",
    "print \"|words with length = 3: \", three\n",
    "print \"------\" * 15\n",
    "print \"|words with length = 4: \", four\n",
    "print \"------\" * 15\n",
    "print \"|words with length = 5: \", five\n",
    "print \"------\" * 15 \n",
    "print \"|words with length = 6: \", six\n",
    "print \"------\" * 15\n",
    "print \"|words with length = 7: \", seven\n",
    "print \"------\" * 15\n",
    "print \"|words with length < 3: \", article\n",
    "print \"------\" * 15\n",
    "print \"|rest of the words: \", rest\n",
    "print \"------\" * 15\n"
   ]
  },
  {
   "cell_type": "code",
   "execution_count": null,
   "metadata": {
    "collapsed": true
   },
   "outputs": [],
   "source": []
  },
  {
   "cell_type": "code",
   "execution_count": null,
   "metadata": {
    "collapsed": true
   },
   "outputs": [],
   "source": []
  },
  {
   "cell_type": "code",
   "execution_count": null,
   "metadata": {
    "collapsed": true
   },
   "outputs": [],
   "source": []
  },
  {
   "cell_type": "code",
   "execution_count": null,
   "metadata": {
    "collapsed": true
   },
   "outputs": [],
   "source": []
  },
  {
   "cell_type": "code",
   "execution_count": null,
   "metadata": {
    "collapsed": true
   },
   "outputs": [],
   "source": []
  },
  {
   "cell_type": "code",
   "execution_count": null,
   "metadata": {
    "collapsed": true
   },
   "outputs": [],
   "source": []
  },
  {
   "cell_type": "code",
   "execution_count": null,
   "metadata": {
    "collapsed": true
   },
   "outputs": [],
   "source": []
  },
  {
   "cell_type": "code",
   "execution_count": 50,
   "metadata": {
    "collapsed": false
   },
   "outputs": [
    {
     "name": "stdout",
     "output_type": "stream",
     "text": [
      "Enter a digit: 12\n",
      "Digit not found in list\n",
      "do you want me to add the number to the list? yes\n",
      "12 is now added to your list\n"
     ]
    }
   ],
   "source": [
    "\n",
    "\n",
    "# a list of digit\n",
    "list_of_digits = []\n",
    "\n",
    "# To take input from user, uncomment the code below\n",
    "input_digit = int(raw_input(\"Enter a digit: \"))\n",
    "\n",
    "# search the input digit in our list\n",
    "if input_digit in list_of_digits:\n",
    "    print(\"Digit is in the list\")\n",
    "else:\n",
    "    print(\"Digit not found in list\")\n",
    "    x = raw_input(\"do you want me to add the number to the list? \")\n",
    "    if x == 'yes':\n",
    "        list_of_digits.append(input_digit) \n",
    "        print input_digit, \"is now added to your list\"\n",
    "        list_of_digits = list_of_digits\n",
    "    else:\n",
    "        print \"you have chosen not to include\", input_digit , \"in your list\""
   ]
  },
  {
   "cell_type": "code",
   "execution_count": 51,
   "metadata": {
    "collapsed": false
   },
   "outputs": [
    {
     "data": {
      "text/plain": [
       "[12]"
      ]
     },
     "execution_count": 51,
     "metadata": {},
     "output_type": "execute_result"
    }
   ],
   "source": [
    "list_of_digits"
   ]
  },
  {
   "cell_type": "code",
   "execution_count": null,
   "metadata": {
    "collapsed": true
   },
   "outputs": [],
   "source": [
    "x = [-3,-5,-11,0,2,4,6, 12.6, -0.024, 0.34]\n",
    "# use a for loop and if statement to find out if the numbers in the list, x are positive,\n",
    "# negative or zero.\n",
    "# if the number is negative, print out the abs of the number."
   ]
  },
  {
   "cell_type": "code",
   "execution_count": 26,
   "metadata": {
    "collapsed": false
   },
   "outputs": [
    {
     "name": "stdout",
     "output_type": "stream",
     "text": [
      "1  is a Positive number\n",
      "2  is a Positive number\n",
      "3  is a Positive number\n",
      "4  is a Positive number\n",
      "0  is Zero\n",
      "-2 is a Negative number\n",
      "   and its abs is:  2\n",
      "-4 is a Negative number\n",
      "   and its abs is:  4\n"
     ]
    }
   ],
   "source": [
    "#num = float(raw_input(\"Enter a number: \"))\n",
    "\n",
    "x = [1,2,3,4,0,-2,-4]\n",
    "\n",
    "for num in x:\n",
    "    if num > 0:\n",
    "        print num,\" is a Positive number\"\n",
    "    elif num == 0:\n",
    "        print num,\" is Zero\"\n",
    "    else:\n",
    "        print num, \"is a Negative number\"\n",
    "        print \"   and its abs is: \", abs(num)"
   ]
  },
  {
   "cell_type": "code",
   "execution_count": null,
   "metadata": {
    "collapsed": true
   },
   "outputs": [],
   "source": []
  },
  {
   "cell_type": "code",
   "execution_count": 32,
   "metadata": {
    "collapsed": false
   },
   "outputs": [
    {
     "name": "stdout",
     "output_type": "stream",
     "text": [
      "Sorry, factorial does not exist for negative numbers:  -2\n",
      "Sorry, factorial does not exist for negative numbers:  -3\n",
      "The factorial of 0 is 1\n",
      "factorial is as follows...\n",
      "factorial is as follows...\n",
      "factorial is as follows...\n",
      "factorial is as follows...\n",
      "factorial is as follows...\n",
      "\n",
      "\n",
      "The factorial of 5 is 1\n",
      "\n",
      "\n",
      "The factorial of 5 is 2\n",
      "\n",
      "\n",
      "The factorial of 5 is 6\n",
      "\n",
      "\n",
      "The factorial of 5 is 24\n",
      "\n",
      "\n",
      "The factorial of 5 is 120\n"
     ]
    }
   ],
   "source": [
    "num = [-2,-3,0,2,3,4,5,6]\n",
    "\n",
    "#num = int(input(\"Enter a number: \"))\n",
    "\n",
    "factorial = 1\n",
    "\n",
    "for x in num:\n",
    "# check if the number is negative, positive or zero\n",
    "    if x < 0:\n",
    "           print \"Sorry, factorial does not exist for negative numbers: \",x\n",
    "    elif x == 0:\n",
    "           print \"The factorial of 0 is 1\"\n",
    "    else:\n",
    "        print \"factorial is as follows...\"\n",
    "if num[x] > 0:        \n",
    "    for i in range(1,num[x] + 1):\n",
    "        factorial = factorial*i\n",
    "        #print \"The factorial of\",num[x],\"is\",factorial\n",
    "        print \"\\n\"\n",
    "        print \"The factorial of\",num[x],\"is\",factorial"
   ]
  },
  {
   "cell_type": "code",
   "execution_count": null,
   "metadata": {
    "collapsed": true
   },
   "outputs": [],
   "source": []
  },
  {
   "cell_type": "code",
   "execution_count": null,
   "metadata": {
    "collapsed": true
   },
   "outputs": [],
   "source": [
    "#3)\n",
    "list1= [1,'a',2,'b','c','d',3,4,5,6,8]\n",
    "# use a for loop to print out all the adjacent elements in the list above\n",
    "\n",
    "list1 = [1,'a',2,'b','c','d',3,4,5,6,8]\n",
    "for x in range(1, len(list1)):\n",
    "    # Get two adjacent elements.\n",
    "    first = list1[x - 1]\n",
    "    second = list1[x]\n",
    "\n",
    "    # Print two elements.\n",
    "    print(first, second)"
   ]
  },
  {
   "cell_type": "code",
   "execution_count": null,
   "metadata": {
    "collapsed": true
   },
   "outputs": [],
   "source": []
  },
  {
   "cell_type": "code",
   "execution_count": null,
   "metadata": {
    "collapsed": true
   },
   "outputs": [],
   "source": []
  },
  {
   "cell_type": "code",
   "execution_count": null,
   "metadata": {
    "collapsed": true
   },
   "outputs": [],
   "source": []
  },
  {
   "cell_type": "code",
   "execution_count": 67,
   "metadata": {
    "collapsed": false
   },
   "outputs": [
    {
     "name": "stdout",
     "output_type": "stream",
     "text": [
      "words with length = 3:  ['has']\n",
      "words with length = 4:  ['word', 'this', 'that', 'even']\n",
      "words with length = 5:  ['print', 'every']\n",
      "words with length = 6:  []\n",
      "here is the rest of the words  ['in', 'sentence', 'an', 'number', 'of', 'letters']\n"
     ]
    }
   ],
   "source": [
    "st = \"write a program that will count the length of each word in a given string and place each\\\n",
    "      word in a separate list Start out with an empty list and append to each list by using for\\\n",
    "      loops and if statements good luck\"\n",
    "\n",
    "three = []\n",
    "four = []\n",
    "five = []\n",
    "six = []\n",
    "rest = []\n",
    "for words in st.split():\n",
    "    if len(words) == 3:\n",
    "    elif len(words) == 4:\n",
    "        four.append(words)\n",
    "    elif len(words) == 5:\n",
    "        five.append(words)\n",
    "    else:\n",
    "        rest.append(words)\n",
    "        \n",
    "print \"words with length = 3: \", three\n",
    "print \"words with length = 4: \", four\n",
    "print \"words with length = 5: \", five\n",
    "print \"words with length = 6: \", six\n",
    "print \"here is the rest of the words \", rest\n",
    "\n",
    "\n"
   ]
  },
  {
   "cell_type": "code",
   "execution_count": 58,
   "metadata": {
    "collapsed": false
   },
   "outputs": [
    {
     "data": {
      "text/plain": [
       "['has']"
      ]
     },
     "execution_count": 58,
     "metadata": {},
     "output_type": "execute_result"
    }
   ],
   "source": [
    "three"
   ]
  },
  {
   "cell_type": "code",
   "execution_count": 59,
   "metadata": {
    "collapsed": false
   },
   "outputs": [
    {
     "data": {
      "text/plain": [
       "['word', 'this', 'that', 'even']"
      ]
     },
     "execution_count": 59,
     "metadata": {},
     "output_type": "execute_result"
    }
   ],
   "source": [
    "four"
   ]
  },
  {
   "cell_type": "code",
   "execution_count": 60,
   "metadata": {
    "collapsed": false
   },
   "outputs": [
    {
     "data": {
      "text/plain": [
       "['print', 'every']"
      ]
     },
     "execution_count": 60,
     "metadata": {},
     "output_type": "execute_result"
    }
   ],
   "source": [
    "five"
   ]
  },
  {
   "cell_type": "code",
   "execution_count": 61,
   "metadata": {
    "collapsed": false
   },
   "outputs": [
    {
     "data": {
      "text/plain": [
       "['in', 'sentence', 'an', 'number', 'of', 'letters']"
      ]
     },
     "execution_count": 61,
     "metadata": {},
     "output_type": "execute_result"
    }
   ],
   "source": [
    "rest"
   ]
  },
  {
   "cell_type": "code",
   "execution_count": null,
   "metadata": {
    "collapsed": true
   },
   "outputs": [],
   "source": []
  },
  {
   "cell_type": "code",
   "execution_count": null,
   "metadata": {
    "collapsed": true
   },
   "outputs": [],
   "source": []
  },
  {
   "cell_type": "code",
   "execution_count": null,
   "metadata": {
    "collapsed": true
   },
   "outputs": [],
   "source": []
  },
  {
   "cell_type": "code",
   "execution_count": null,
   "metadata": {
    "collapsed": true
   },
   "outputs": [],
   "source": []
  },
  {
   "cell_type": "code",
   "execution_count": null,
   "metadata": {
    "collapsed": true
   },
   "outputs": [],
   "source": []
  }
 ],
 "metadata": {
  "kernelspec": {
   "display_name": "Python 2",
   "language": "python",
   "name": "python2"
  },
  "language_info": {
   "codemirror_mode": {
    "name": "ipython",
    "version": 2
   },
   "file_extension": ".py",
   "mimetype": "text/x-python",
   "name": "python",
   "nbconvert_exporter": "python",
   "pygments_lexer": "ipython2",
   "version": "2.7.12"
  }
 },
 "nbformat": 4,
 "nbformat_minor": 0
}
