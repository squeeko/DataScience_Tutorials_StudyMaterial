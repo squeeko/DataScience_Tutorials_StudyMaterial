{
 "cells": [
  {
   "cell_type": "code",
   "execution_count": null,
   "metadata": {
    "collapsed": true
   },
   "outputs": [],
   "source": [
    "str, lists, dict, tuples  type()"
   ]
  },
  {
   "cell_type": "code",
   "execution_count": 1,
   "metadata": {
    "collapsed": true
   },
   "outputs": [],
   "source": [
    "string1 = \"str example\""
   ]
  },
  {
   "cell_type": "code",
   "execution_count": 2,
   "metadata": {
    "collapsed": false
   },
   "outputs": [
    {
     "data": {
      "text/plain": [
       "'str example'"
      ]
     },
     "execution_count": 2,
     "metadata": {},
     "output_type": "execute_result"
    }
   ],
   "source": [
    "string1"
   ]
  },
  {
   "cell_type": "code",
   "execution_count": 3,
   "metadata": {
    "collapsed": false
   },
   "outputs": [
    {
     "data": {
      "text/plain": [
       "str"
      ]
     },
     "execution_count": 3,
     "metadata": {},
     "output_type": "execute_result"
    }
   ],
   "source": [
    "type(string1)"
   ]
  },
  {
   "cell_type": "code",
   "execution_count": 4,
   "metadata": {
    "collapsed": false
   },
   "outputs": [
    {
     "data": {
      "text/plain": [
       "int"
      ]
     },
     "execution_count": 4,
     "metadata": {},
     "output_type": "execute_result"
    }
   ],
   "source": [
    "type(23)"
   ]
  },
  {
   "cell_type": "code",
   "execution_count": 5,
   "metadata": {
    "collapsed": true
   },
   "outputs": [],
   "source": [
    "lst = [3,4,5, 'a','c']"
   ]
  },
  {
   "cell_type": "code",
   "execution_count": 6,
   "metadata": {
    "collapsed": false
   },
   "outputs": [
    {
     "data": {
      "text/plain": [
       "list"
      ]
     },
     "execution_count": 6,
     "metadata": {},
     "output_type": "execute_result"
    }
   ],
   "source": [
    "type(lst)"
   ]
  },
  {
   "cell_type": "code",
   "execution_count": null,
   "metadata": {
    "collapsed": true
   },
   "outputs": [],
   "source": [
    "type(pass_any_object)"
   ]
  },
  {
   "cell_type": "code",
   "execution_count": null,
   "metadata": {
    "collapsed": true
   },
   "outputs": [],
   "source": []
  },
  {
   "cell_type": "code",
   "execution_count": null,
   "metadata": {
    "collapsed": true
   },
   "outputs": [],
   "source": [
    "class Class_Name:\n",
    "    def __init__(self, parameter2, param3):\n",
    "        #any code to initialize our object\n",
    "        \n",
    "    def method_name(self):\n",
    "        "
   ]
  },
  {
   "cell_type": "code",
   "execution_count": null,
   "metadata": {
    "collapsed": true
   },
   "outputs": [],
   "source": [
    "method= is just a fn within a class"
   ]
  },
  {
   "cell_type": "code",
   "execution_count": null,
   "metadata": {
    "collapsed": true
   },
   "outputs": [],
   "source": []
  },
  {
   "cell_type": "markdown",
   "metadata": {
    "collapsed": true
   },
   "source": [
    "# Creating Classes"
   ]
  },
  {
   "cell_type": "code",
   "execution_count": null,
   "metadata": {
    "collapsed": true
   },
   "outputs": [],
   "source": []
  },
  {
   "cell_type": "code",
   "execution_count": 7,
   "metadata": {
    "collapsed": false
   },
   "outputs": [],
   "source": [
    "class Person:\n",
    "    \n",
    "    def __init__(self, name, lastname, telephone):\n",
    "        self.name = name\n",
    "        self.lastname = lastname\n",
    "        self.telephone = telephone\n",
    "        \n",
    "x = Person(\"John\", \"Smith\", \"345 656 8849\")"
   ]
  },
  {
   "cell_type": "code",
   "execution_count": 8,
   "metadata": {
    "collapsed": false
   },
   "outputs": [
    {
     "data": {
      "text/plain": [
       "<__main__.Person instance at 0x10508d1b8>"
      ]
     },
     "execution_count": 8,
     "metadata": {},
     "output_type": "execute_result"
    }
   ],
   "source": [
    "x"
   ]
  },
  {
   "cell_type": "code",
   "execution_count": 3,
   "metadata": {
    "collapsed": false
   },
   "outputs": [
    {
     "data": {
      "text/plain": [
       "instance"
      ]
     },
     "execution_count": 3,
     "metadata": {},
     "output_type": "execute_result"
    }
   ],
   "source": [
    "type(x)"
   ]
  },
  {
   "cell_type": "code",
   "execution_count": 11,
   "metadata": {
    "collapsed": false
   },
   "outputs": [],
   "source": [
    "x.lastname = 'Smith'"
   ]
  },
  {
   "cell_type": "code",
   "execution_count": 12,
   "metadata": {
    "collapsed": false
   },
   "outputs": [
    {
     "data": {
      "text/plain": [
       "'345 656 8849'"
      ]
     },
     "execution_count": 12,
     "metadata": {},
     "output_type": "execute_result"
    }
   ],
   "source": [
    "x.telephone"
   ]
  },
  {
   "cell_type": "code",
   "execution_count": null,
   "metadata": {
    "collapsed": false
   },
   "outputs": [],
   "source": []
  },
  {
   "cell_type": "code",
   "execution_count": 22,
   "metadata": {
    "collapsed": true
   },
   "outputs": [],
   "source": [
    "class Person:\n",
    "    \n",
    "    def __init__(self, name, lastname, telephone = \"445 342 1245\"):\n",
    "        self.name = name\n",
    "        self.lastname = lastname\n",
    "        self.telephone = telephone\n",
    "        \n",
    "y = Person(\"Jane\", \"Smith\", \"345 569 9803\")"
   ]
  },
  {
   "cell_type": "code",
   "execution_count": 23,
   "metadata": {
    "collapsed": false
   },
   "outputs": [
    {
     "data": {
      "text/plain": [
       "<__main__.Person instance at 0x1050cbcf8>"
      ]
     },
     "execution_count": 23,
     "metadata": {},
     "output_type": "execute_result"
    }
   ],
   "source": [
    "y"
   ]
  },
  {
   "cell_type": "code",
   "execution_count": 24,
   "metadata": {
    "collapsed": false
   },
   "outputs": [
    {
     "data": {
      "text/plain": [
       "'Jane'"
      ]
     },
     "execution_count": 24,
     "metadata": {},
     "output_type": "execute_result"
    }
   ],
   "source": [
    "y.name"
   ]
  },
  {
   "cell_type": "code",
   "execution_count": 25,
   "metadata": {
    "collapsed": false
   },
   "outputs": [
    {
     "data": {
      "text/plain": [
       "'Smith'"
      ]
     },
     "execution_count": 25,
     "metadata": {},
     "output_type": "execute_result"
    }
   ],
   "source": [
    "y.lastname"
   ]
  },
  {
   "cell_type": "code",
   "execution_count": 26,
   "metadata": {
    "collapsed": true
   },
   "outputs": [],
   "source": [
    "class Person:\n",
    "    \n",
    "    def __init__(self, name, lastname, telephone = \"445 342 1245\"):\n",
    "        self.name = name\n",
    "        self.lastname = lastname\n",
    "        self.telephone = telephone\n",
    "        \n",
    "a = Person(\"Cory\", \"Paul\")"
   ]
  },
  {
   "cell_type": "code",
   "execution_count": 27,
   "metadata": {
    "collapsed": false
   },
   "outputs": [
    {
     "data": {
      "text/plain": [
       "'Cory'"
      ]
     },
     "execution_count": 27,
     "metadata": {},
     "output_type": "execute_result"
    }
   ],
   "source": [
    "a.name"
   ]
  },
  {
   "cell_type": "code",
   "execution_count": 28,
   "metadata": {
    "collapsed": false
   },
   "outputs": [
    {
     "data": {
      "text/plain": [
       "'445 342 1245'"
      ]
     },
     "execution_count": 28,
     "metadata": {},
     "output_type": "execute_result"
    }
   ],
   "source": [
    "a.telephone"
   ]
  },
  {
   "cell_type": "code",
   "execution_count": 29,
   "metadata": {
    "collapsed": true
   },
   "outputs": [],
   "source": [
    "a.name = \"John\""
   ]
  },
  {
   "cell_type": "code",
   "execution_count": 30,
   "metadata": {
    "collapsed": false
   },
   "outputs": [
    {
     "data": {
      "text/plain": [
       "'John'"
      ]
     },
     "execution_count": 30,
     "metadata": {},
     "output_type": "execute_result"
    }
   ],
   "source": [
    "a.name"
   ]
  },
  {
   "cell_type": "code",
   "execution_count": 35,
   "metadata": {
    "collapsed": false
   },
   "outputs": [],
   "source": [
    "class Person:\n",
    "    \n",
    "    def __init__(self, lastname, name = \"Harry\", telephone = \"445 342 1245\"):\n",
    "        self.name = name\n",
    "        self.lastname = lastname\n",
    "        self.telephone = telephone\n",
    "        \n",
    "a = Person(\"Cory\")\n",
    "b = Person(\"Paul\", \"Tim\", \"435 533 4456\")"
   ]
  },
  {
   "cell_type": "code",
   "execution_count": 33,
   "metadata": {
    "collapsed": false
   },
   "outputs": [
    {
     "data": {
      "text/plain": [
       "<__main__.Person instance at 0x1050c2b00>"
      ]
     },
     "execution_count": 33,
     "metadata": {},
     "output_type": "execute_result"
    }
   ],
   "source": [
    "a"
   ]
  },
  {
   "cell_type": "code",
   "execution_count": 34,
   "metadata": {
    "collapsed": false
   },
   "outputs": [
    {
     "data": {
      "text/plain": [
       "'445 342 1245'"
      ]
     },
     "execution_count": 34,
     "metadata": {},
     "output_type": "execute_result"
    }
   ],
   "source": [
    "a.telephone"
   ]
  },
  {
   "cell_type": "code",
   "execution_count": 36,
   "metadata": {
    "collapsed": false
   },
   "outputs": [
    {
     "data": {
      "text/plain": [
       "'Paul'"
      ]
     },
     "execution_count": 36,
     "metadata": {},
     "output_type": "execute_result"
    }
   ],
   "source": [
    "b.lastname"
   ]
  },
  {
   "cell_type": "code",
   "execution_count": 37,
   "metadata": {
    "collapsed": false
   },
   "outputs": [
    {
     "data": {
      "text/plain": [
       "'Tim'"
      ]
     },
     "execution_count": 37,
     "metadata": {},
     "output_type": "execute_result"
    }
   ],
   "source": [
    "b.name"
   ]
  },
  {
   "cell_type": "code",
   "execution_count": 42,
   "metadata": {
    "collapsed": true
   },
   "outputs": [],
   "source": [
    "class Person:\n",
    "    \n",
    "    address = \"New York\" # class variables\n",
    "    city = \"NY City\"\n",
    "    \n",
    "    def __init__(self, lastname, name = \"Harry\", telephone = \"445 342 1245\"):\n",
    "        self.name = name\n",
    "        self.lastname = lastname\n",
    "        self.telephone = telephone\n",
    "        \n",
    "c = Person(\"Newman\")"
   ]
  },
  {
   "cell_type": "code",
   "execution_count": 39,
   "metadata": {
    "collapsed": false
   },
   "outputs": [
    {
     "data": {
      "text/plain": [
       "'New York'"
      ]
     },
     "execution_count": 39,
     "metadata": {},
     "output_type": "execute_result"
    }
   ],
   "source": [
    "c."
   ]
  },
  {
   "cell_type": "code",
   "execution_count": 40,
   "metadata": {
    "collapsed": true
   },
   "outputs": [],
   "source": [
    "c.address = \"New Jersey\""
   ]
  },
  {
   "cell_type": "code",
   "execution_count": 41,
   "metadata": {
    "collapsed": false
   },
   "outputs": [
    {
     "data": {
      "text/plain": [
       "'New Jersey'"
      ]
     },
     "execution_count": 41,
     "metadata": {},
     "output_type": "execute_result"
    }
   ],
   "source": [
    "c.address"
   ]
  },
  {
   "cell_type": "code",
   "execution_count": null,
   "metadata": {
    "collapsed": true
   },
   "outputs": [],
   "source": []
  },
  {
   "cell_type": "markdown",
   "metadata": {
    "collapsed": true
   },
   "source": [
    "# Methods"
   ]
  },
  {
   "cell_type": "code",
   "execution_count": 49,
   "metadata": {
    "collapsed": true
   },
   "outputs": [],
   "source": [
    "class Person:\n",
    "    \n",
    "    address = \"New York\"\n",
    "    \n",
    "    def __init__(self, lastname, name = \"Harry\", telephone = \"445 342 1245\"):\n",
    "        self.name = name\n",
    "        self.lastname = lastname\n",
    "        self.telephone = telephone\n",
    "        \n",
    "    def greet_person(self):\n",
    "        print \"Hello and welcome \" + self.name + \" \" + self.lastname\n",
    "        \n",
    "        \n",
    "a = Person(\"Smith\")"
   ]
  },
  {
   "cell_type": "code",
   "execution_count": 44,
   "metadata": {
    "collapsed": false
   },
   "outputs": [
    {
     "data": {
      "text/plain": [
       "instance"
      ]
     },
     "execution_count": 44,
     "metadata": {},
     "output_type": "execute_result"
    }
   ],
   "source": [
    "type(a)"
   ]
  },
  {
   "cell_type": "code",
   "execution_count": 47,
   "metadata": {
    "collapsed": false
   },
   "outputs": [
    {
     "name": "stdout",
     "output_type": "stream",
     "text": [
      "Hello and welcome Harry Smith\n"
     ]
    }
   ],
   "source": [
    "a."
   ]
  },
  {
   "cell_type": "code",
   "execution_count": 48,
   "metadata": {
    "collapsed": false
   },
   "outputs": [
    {
     "data": {
      "text/plain": [
       "'Smith'"
      ]
     },
     "execution_count": 48,
     "metadata": {},
     "output_type": "execute_result"
    }
   ],
   "source": [
    "a.lastname"
   ]
  },
  {
   "cell_type": "code",
   "execution_count": 50,
   "metadata": {
    "collapsed": true
   },
   "outputs": [],
   "source": [
    "class Person:\n",
    "    \n",
    "    address = \"New York\"\n",
    "    \n",
    "    def __init__(self, lastname, name = \"Harry\", telephone = \"445 342 1245\"):\n",
    "        self.name = name\n",
    "        self.lastname = lastname\n",
    "        self.telephone = telephone\n",
    "        \n",
    "    def greet_person(self):\n",
    "        print \"Hello and welcome \" + self.name + \" \" + self.lastname\n",
    "        \n",
    "    def ask_person(self):\n",
    "        print \"are you from \" + Person.address + \" \" + self.name + \" ?\"\n",
    "        \n",
    "xx = Person(\"Smith\")"
   ]
  },
  {
   "cell_type": "code",
   "execution_count": 51,
   "metadata": {
    "collapsed": false
   },
   "outputs": [
    {
     "data": {
      "text/plain": [
       "<bound method Person.greet_person of <__main__.Person instance at 0x1050cbef0>>"
      ]
     },
     "execution_count": 51,
     "metadata": {},
     "output_type": "execute_result"
    }
   ],
   "source": [
    "xx.greet_person"
   ]
  },
  {
   "cell_type": "code",
   "execution_count": 52,
   "metadata": {
    "collapsed": false
   },
   "outputs": [
    {
     "name": "stdout",
     "output_type": "stream",
     "text": [
      "Hello and welcome Harry Smith\n"
     ]
    }
   ],
   "source": [
    "xx.greet_person()"
   ]
  },
  {
   "cell_type": "code",
   "execution_count": 53,
   "metadata": {
    "collapsed": false
   },
   "outputs": [
    {
     "name": "stdout",
     "output_type": "stream",
     "text": [
      "are you from New York Harry ?\n"
     ]
    }
   ],
   "source": [
    "xx.ask_person()"
   ]
  },
  {
   "cell_type": "code",
   "execution_count": null,
   "metadata": {
    "collapsed": true
   },
   "outputs": [],
   "source": []
  },
  {
   "cell_type": "markdown",
   "metadata": {
    "collapsed": true
   },
   "source": [
    "# Class attributes"
   ]
  },
  {
   "cell_type": "code",
   "execution_count": null,
   "metadata": {
    "collapsed": true
   },
   "outputs": [],
   "source": []
  },
  {
   "cell_type": "code",
   "execution_count": 68,
   "metadata": {
    "collapsed": false
   },
   "outputs": [],
   "source": [
    "class Person:\n",
    "    \n",
    "    MAJORS = (\"Engineering\", \"Law\", \"IT\", \"Psychology\")\n",
    "    \n",
    "    def __init__(self, major, name, lastname):\n",
    "        \n",
    "        if major not in self.MAJORS:\n",
    "            raise ValueError (\"{} is not a valid major\".format(major)) \n",
    "        \n",
    "        self.major = major\n",
    "        self.name = name\n",
    "        self.lastname = lastname\n",
    "        \n",
    "    def person_major(self):\n",
    "        print \"The major of \" + self.name + \" \" + self.lastname + \" is \" + self.major\n",
    "        \n",
    "jimmy = Person(\"Engineering\", \"Jimmy\", \"Newman\")"
   ]
  },
  {
   "cell_type": "code",
   "execution_count": 69,
   "metadata": {
    "collapsed": false
   },
   "outputs": [
    {
     "name": "stdout",
     "output_type": "stream",
     "text": [
      "The major of Jimmy Newman is Engineering\n"
     ]
    }
   ],
   "source": [
    "jimmy.person_major()"
   ]
  },
  {
   "cell_type": "code",
   "execution_count": 56,
   "metadata": {
    "collapsed": false
   },
   "outputs": [
    {
     "data": {
      "text/plain": [
       "'Newman'"
      ]
     },
     "execution_count": 56,
     "metadata": {},
     "output_type": "execute_result"
    }
   ],
   "source": [
    "jimmy.lastname"
   ]
  },
  {
   "cell_type": "code",
   "execution_count": 57,
   "metadata": {
    "collapsed": false
   },
   "outputs": [
    {
     "data": {
      "text/plain": [
       "'Law'"
      ]
     },
     "execution_count": 57,
     "metadata": {},
     "output_type": "execute_result"
    }
   ],
   "source": [
    "jimmy.major"
   ]
  },
  {
   "cell_type": "code",
   "execution_count": null,
   "metadata": {
    "collapsed": true
   },
   "outputs": [],
   "source": []
  },
  {
   "cell_type": "code",
   "execution_count": 106,
   "metadata": {
    "collapsed": false
   },
   "outputs": [
    {
     "data": {
      "text/plain": [
       "' this is a doc string ok'"
      ]
     },
     "execution_count": 106,
     "metadata": {},
     "output_type": "execute_result"
    }
   ],
   "source": [
    "class Person:\n",
    "    \"\"\" this is a doc string ok\"\"\"\n",
    "    sports = []\n",
    "    \n",
    "    def __init__(self):\n",
    "        \"\"\"create a list of sports here\"\"\"\n",
    "        self.sports = []\n",
    "        \n",
    "    def add_sport(self, sport):\n",
    "        \"\"\"add a list of sports to your list\"\"\"\n",
    "        self.sports.append(sport)\n",
    "        print \"the following sport has been added to our sports list: \" + sport\n",
    "    \n",
    "   \n",
    "        \n",
    "x = Person()\n",
    "x.__doc__"
   ]
  },
  {
   "cell_type": "code",
   "execution_count": null,
   "metadata": {
    "collapsed": false
   },
   "outputs": [],
   "source": []
  },
  {
   "cell_type": "code",
   "execution_count": null,
   "metadata": {
    "collapsed": false
   },
   "outputs": [],
   "source": []
  },
  {
   "cell_type": "code",
   "execution_count": 73,
   "metadata": {
    "collapsed": false
   },
   "outputs": [
    {
     "data": {
      "text/plain": [
       "['soccer']"
      ]
     },
     "execution_count": 73,
     "metadata": {},
     "output_type": "execute_result"
    }
   ],
   "source": [
    "x.sports"
   ]
  },
  {
   "cell_type": "code",
   "execution_count": 74,
   "metadata": {
    "collapsed": false
   },
   "outputs": [
    {
     "name": "stdout",
     "output_type": "stream",
     "text": [
      "the following sport has been added to our sports list: basket ball\n"
     ]
    }
   ],
   "source": [
    "x.add_sport(\"basket ball\")"
   ]
  },
  {
   "cell_type": "code",
   "execution_count": 75,
   "metadata": {
    "collapsed": false
   },
   "outputs": [
    {
     "data": {
      "text/plain": [
       "['soccer', 'basket ball']"
      ]
     },
     "execution_count": 75,
     "metadata": {},
     "output_type": "execute_result"
    }
   ],
   "source": [
    "x.sports"
   ]
  },
  {
   "cell_type": "code",
   "execution_count": 95,
   "metadata": {
    "collapsed": true
   },
   "outputs": [],
   "source": [
    "class Person:\n",
    "    \n",
    "    sports = []\n",
    "    \n",
    "    def __init__(self):\n",
    "        self.sports = []\n",
    "        \n",
    "    def add_sport(self, sport):\n",
    "        self.sports.append(sport)\n",
    "        print \"the following sport has been added to our sports list: \" + sport\n",
    "        \n",
    "    def sport_list(self):\n",
    "        print \"here is a list of all the sports in our list \" + str(self.sports)\n",
    "        \n",
    "x = Person()"
   ]
  },
  {
   "cell_type": "code",
   "execution_count": 99,
   "metadata": {
    "collapsed": false
   },
   "outputs": [
    {
     "data": {
      "text/plain": [
       "['soccer', 'basket ball', 'base ball']"
      ]
     },
     "execution_count": 99,
     "metadata": {},
     "output_type": "execute_result"
    }
   ],
   "source": [
    "x.sports"
   ]
  },
  {
   "cell_type": "code",
   "execution_count": 100,
   "metadata": {
    "collapsed": false
   },
   "outputs": [
    {
     "name": "stdout",
     "output_type": "stream",
     "text": [
      "here is a list of all the sports in our list ['soccer', 'basket ball', 'base ball']\n"
     ]
    }
   ],
   "source": [
    "x.sport_list()"
   ]
  },
  {
   "cell_type": "code",
   "execution_count": null,
   "metadata": {
    "collapsed": true
   },
   "outputs": [],
   "source": []
  },
  {
   "cell_type": "markdown",
   "metadata": {},
   "source": [
    "# doc strings"
   ]
  },
  {
   "cell_type": "code",
   "execution_count": null,
   "metadata": {
    "collapsed": true
   },
   "outputs": [],
   "source": [
    " -- gives us info \"\"\"doc strings \"\"\" ''' doc strings '''"
   ]
  },
  {
   "cell_type": "code",
   "execution_count": 112,
   "metadata": {
    "collapsed": true
   },
   "outputs": [],
   "source": [
    "class Person:\n",
    "    \"\"\"class to represent a person\n",
    "    Attributes:\n",
    "        name - first name of the person\n",
    "        lastname - last name of the person\n",
    "        telephone - telephone of the person\n",
    "    \"\"\"\n",
    "    \n",
    "    def __init__(self, name, lastname, telephone = \"445 342 1245\"):\n",
    "        \"\"\"The person init method\n",
    "        Params:\n",
    "            name - initializes our name attr\n",
    "            lastname - initializes our last name attr\n",
    "            telephone - initializes our telephone\n",
    "                        default value is 445 342 1245\n",
    "        \"\"\"\n",
    "        self.name = name\n",
    "        self.lastname = lastname\n",
    "        self.telephone = telephone"
   ]
  },
  {
   "cell_type": "code",
   "execution_count": 113,
   "metadata": {
    "collapsed": false
   },
   "outputs": [
    {
     "name": "stdout",
     "output_type": "stream",
     "text": [
      "Help on class Person in module __main__:\n",
      "\n",
      "class Person\n",
      " |  class to represent a person\n",
      " |  Attributes:\n",
      " |      name - first name of the person\n",
      " |      lastname - last name of the person\n",
      " |      telephone - telephone of the person\n",
      " |  \n",
      " |  Methods defined here:\n",
      " |  \n",
      " |  __init__(self, name, lastname, telephone='445 342 1245')\n",
      " |      The person init method\n",
      " |      Params:\n",
      " |          name - initializes our name attr\n",
      " |          lastname - initializes our last name attr\n",
      " |          telephone - initializes our telephone\n",
      " |                      default value is 445 342 1245\n",
      "\n"
     ]
    }
   ],
   "source": [
    "help(Person)"
   ]
  },
  {
   "cell_type": "code",
   "execution_count": 118,
   "metadata": {
    "collapsed": true
   },
   "outputs": [],
   "source": [
    "class Person:\n",
    "    \"\"\"class to represent a person\"\"\"\n",
    "    \n",
    "    address = \"New York\"\n",
    "    \n",
    "    def __init__(self, lastname, name = \"Harry\", telephone = \"445 342 1245\"):\n",
    "        \"\"\"Person init method\"\"\"\n",
    "        self.name = name\n",
    "        self.lastname = lastname\n",
    "        self.telephone = telephone\n",
    "        \n",
    "    def greet_person(self):\n",
    "        \"\"\"Method to greet a person\"\"\"\n",
    "        print \"Hello and welcome \" + self.name + \" \" + self.lastname\n",
    "        \n",
    "    def ask_person(self):\n",
    "        \"\"\"method to ask persons where abouts\"\"\"\n",
    "        print \"are you from \" + Person.address + \" \" + self.name + \" ?\""
   ]
  },
  {
   "cell_type": "code",
   "execution_count": 117,
   "metadata": {
    "collapsed": false
   },
   "outputs": [
    {
     "name": "stdout",
     "output_type": "stream",
     "text": [
      "Help on class Person in module __main__:\n",
      "\n",
      "class Person\n",
      " |  class to represent a person\n",
      " |  \n",
      " |  Methods defined here:\n",
      " |  \n",
      " |  __init__(self, lastname, name='Harry', telephone='445 342 1245')\n",
      " |      Person init method\n",
      " |  \n",
      " |  ask_person(self)\n",
      " |      method to ask persons where abouts\n",
      " |  \n",
      " |  greet_person(self)\n",
      " |      Method to greet a person\n",
      " |  \n",
      " |  ----------------------------------------------------------------------\n",
      " |  Data and other attributes defined here:\n",
      " |  \n",
      " |  address = 'New York'\n",
      "\n"
     ]
    }
   ],
   "source": [
    "help(Person)"
   ]
  },
  {
   "cell_type": "code",
   "execution_count": null,
   "metadata": {
    "collapsed": true
   },
   "outputs": [],
   "source": []
  },
  {
   "cell_type": "markdown",
   "metadata": {},
   "source": [
    "# Inheritance and Method Overriding"
   ]
  },
  {
   "cell_type": "code",
   "execution_count": null,
   "metadata": {
    "collapsed": true
   },
   "outputs": [],
   "source": [
    "class Parent:\n",
    "    method1: print \"hi\"\n",
    "    method2\n",
    "    method3\n",
    "    \n",
    "class Child(Parent):\n",
    "    method4\n",
    "    method5\n",
    "    method1: print \"hi there\"\n",
    "    \n"
   ]
  },
  {
   "cell_type": "code",
   "execution_count": 126,
   "metadata": {
    "collapsed": true
   },
   "outputs": [],
   "source": [
    "class House:\n",
    "    \"\"\"This is our House parent class\"\"\"\n",
    "    def __init__(self):\n",
    "        print \"This is a house\"\n",
    "    \n",
    "    def color(self):\n",
    "        print \"I am red!\"\n",
    "        \n",
    "    def size(self):\n",
    "        print \"I am 3500 sq ft\"\n",
    "        \n",
    "    def location(self):\n",
    "        print \"I am in NY\"\n",
    "        \n",
    "    def kind(self):\n",
    "        print \"I am a town house\"\n",
    "        \n",
    "#==================================================\n",
    "    \n",
    "    \n",
    "class Kitchen(House):\n",
    "    \"\"\"Kitchen class and inherits from House class\"\"\"\n",
    "    def __init__(self):\n",
    "        House.__init__(self)\n",
    "        print \"I am a kitchen\"\n",
    "        \n",
    "    def color(self):\n",
    "        print \"I am cream in color\"\n",
    "        \n",
    "    def oven(self):\n",
    "        print \"I make food!\"\n",
    "        \n",
    "    def size(self):\n",
    "        print \"I am no longer 3500 sq ft\"\n",
    "        print \"I am now 800 sq ft\""
   ]
  },
  {
   "cell_type": "code",
   "execution_count": 128,
   "metadata": {
    "collapsed": false
   },
   "outputs": [
    {
     "name": "stdout",
     "output_type": "stream",
     "text": [
      "This is a house\n",
      "I am a kitchen\n"
     ]
    }
   ],
   "source": [
    "x = Kitchen()"
   ]
  },
  {
   "cell_type": "code",
   "execution_count": 129,
   "metadata": {
    "collapsed": false
   },
   "outputs": [
    {
     "name": "stdout",
     "output_type": "stream",
     "text": [
      "I make food!\n"
     ]
    }
   ],
   "source": [
    "x.oven()"
   ]
  },
  {
   "cell_type": "code",
   "execution_count": 130,
   "metadata": {
    "collapsed": false
   },
   "outputs": [
    {
     "name": "stdout",
     "output_type": "stream",
     "text": [
      "I am cream in color\n"
     ]
    }
   ],
   "source": [
    "x.color()"
   ]
  },
  {
   "cell_type": "code",
   "execution_count": 131,
   "metadata": {
    "collapsed": false
   },
   "outputs": [
    {
     "name": "stdout",
     "output_type": "stream",
     "text": [
      "I am a town house\n"
     ]
    }
   ],
   "source": [
    "x.kind()"
   ]
  },
  {
   "cell_type": "code",
   "execution_count": 132,
   "metadata": {
    "collapsed": false
   },
   "outputs": [
    {
     "name": "stdout",
     "output_type": "stream",
     "text": [
      "I am in NY\n"
     ]
    }
   ],
   "source": [
    "x.location()"
   ]
  },
  {
   "cell_type": "code",
   "execution_count": 133,
   "metadata": {
    "collapsed": false
   },
   "outputs": [
    {
     "name": "stdout",
     "output_type": "stream",
     "text": [
      "I am no longer 3500 sq ft\n",
      "I am now 800 sq ft\n"
     ]
    }
   ],
   "source": [
    "x.size()"
   ]
  },
  {
   "cell_type": "code",
   "execution_count": 19,
   "metadata": {
    "collapsed": false
   },
   "outputs": [
    {
     "name": "stdout",
     "output_type": "stream",
     "text": [
      "1/4\n",
      "2/3\n",
      "3/4\n",
      "4/9\n",
      "9\n"
     ]
    }
   ],
   "source": [
    "class Rational:\n",
    "    \n",
    "    def __init__(self, num, den):\n",
    "        self.numerator = num\n",
    "        if den != 0:\n",
    "            self.denominator = den\n",
    "        else:\n",
    "            print \"there was an error with your calculation\"\n",
    "            from sys import exit\n",
    "            exit()\n",
    "       \n",
    "    def get_numerator(self):\n",
    "        return self.numerator\n",
    "    \n",
    "    def get_denominator(self):\n",
    "        return self.denominator\n",
    "    \n",
    "    def set_numerator(self, n):\n",
    "        self.numerator = n\n",
    "        \n",
    "    def set_denominator(self, d):\n",
    "        if d != 0:\n",
    "            self.denominator = d\n",
    "        else:\n",
    "            print \"error, can't be zero\"\n",
    "            from sys import exit\n",
    "            exit()\n",
    "\n",
    "    def __str__(self):\n",
    "        return str(self.get_numerator()) + \"/\" + str(self.get_denominator())\n",
    "    \n",
    "def main():\n",
    "    fract1 = Rational(1,4)\n",
    "    fract2 = Rational(2,3)\n",
    "    print fract1\n",
    "    print fract2\n",
    "    fract1.set_numerator(3)\n",
    "    fract1.set_denominator(4)\n",
    "    print fract1\n",
    "    fract3 = Rational(4,9)\n",
    "    print fract3\n",
    "    print fract3.get_denominator()\n",
    "    \n",
    "main()"
   ]
  },
  {
   "cell_type": "code",
   "execution_count": null,
   "metadata": {
    "collapsed": false
   },
   "outputs": [],
   "source": []
  },
  {
   "cell_type": "code",
   "execution_count": 53,
   "metadata": {
    "collapsed": false
   },
   "outputs": [],
   "source": [
    "class BankAccount:\n",
    "    \n",
    "    def __init__(self, number, name, balance):\n",
    "        self.account_number = number\n",
    "        #self.ssn = ssn\n",
    "        self.name = name\n",
    "        self.balance = balance\n",
    "        self.min_balance = 500\n",
    "        self.active = True\n",
    "        \n",
    "    def deposit(self, amount):\n",
    "        \n",
    "        if self.is_active():\n",
    "            self.balance += amount\n",
    "            return True\n",
    "        else:\n",
    "            print \"will need to go to a nearest branch ...\"\n",
    "            return False\n",
    "    \n",
    "    def withdraw(self, amount):\n",
    "        \n",
    "        result = False\n",
    "        \n",
    "        if self.is_active() and self.balance - amount >= self.min_balance:\n",
    "            self.balance -= amount\n",
    "            result = True\n",
    "        else:\n",
    "            print \"you will need a min balance of 500 to remain in yr acct\"\n",
    "            \n",
    "        return result\n",
    "        \n",
    "    \n",
    "    def set_active(self, act):\n",
    "        self.active = act\n",
    "        \n",
    "    def is_active(self):\n",
    "        if self.balance > 0:\n",
    "            return self.active\n",
    "        return False"
   ]
  },
  {
   "cell_type": "code",
   "execution_count": 62,
   "metadata": {
    "collapsed": false
   },
   "outputs": [],
   "source": [
    "acct = BankAccount(23333, \"Jane\", 200)"
   ]
  },
  {
   "cell_type": "code",
   "execution_count": 67,
   "metadata": {
    "collapsed": false
   },
   "outputs": [],
   "source": [
    "acct.set_active(\"False\")"
   ]
  },
  {
   "cell_type": "code",
   "execution_count": 60,
   "metadata": {
    "collapsed": false
   },
   "outputs": [
    {
     "data": {
      "text/plain": [
       "True"
      ]
     },
     "execution_count": 60,
     "metadata": {},
     "output_type": "execute_result"
    }
   ],
   "source": [
    "acct.deposit(200)"
   ]
  },
  {
   "cell_type": "code",
   "execution_count": 69,
   "metadata": {
    "collapsed": false
   },
   "outputs": [
    {
     "data": {
      "text/plain": [
       "200"
      ]
     },
     "execution_count": 69,
     "metadata": {},
     "output_type": "execute_result"
    }
   ],
   "source": [
    "acct.balance"
   ]
  },
  {
   "cell_type": "code",
   "execution_count": 59,
   "metadata": {
    "collapsed": false
   },
   "outputs": [
    {
     "name": "stdout",
     "output_type": "stream",
     "text": [
      "you will need a min balance of 500 to remain in yr acct\n"
     ]
    },
    {
     "data": {
      "text/plain": [
       "False"
      ]
     },
     "execution_count": 59,
     "metadata": {},
     "output_type": "execute_result"
    }
   ],
   "source": [
    "acct.withdraw(2600)"
   ]
  },
  {
   "cell_type": "code",
   "execution_count": 68,
   "metadata": {
    "collapsed": false
   },
   "outputs": [
    {
     "data": {
      "text/plain": [
       "'False'"
      ]
     },
     "execution_count": 68,
     "metadata": {},
     "output_type": "execute_result"
    }
   ],
   "source": [
    "acct.is_active()"
   ]
  },
  {
   "cell_type": "code",
   "execution_count": 14,
   "metadata": {
    "collapsed": false
   },
   "outputs": [
    {
     "data": {
      "text/plain": [
       "'Jane'"
      ]
     },
     "execution_count": 14,
     "metadata": {},
     "output_type": "execute_result"
    }
   ],
   "source": [
    "acct.name"
   ]
  },
  {
   "cell_type": "code",
   "execution_count": null,
   "metadata": {
    "collapsed": true
   },
   "outputs": [],
   "source": []
  },
  {
   "cell_type": "code",
   "execution_count": null,
   "metadata": {
    "collapsed": true
   },
   "outputs": [],
   "source": []
  },
  {
   "cell_type": "code",
   "execution_count": null,
   "metadata": {
    "collapsed": true
   },
   "outputs": [],
   "source": []
  },
  {
   "cell_type": "code",
   "execution_count": null,
   "metadata": {
    "collapsed": true
   },
   "outputs": [],
   "source": []
  },
  {
   "cell_type": "code",
   "execution_count": null,
   "metadata": {
    "collapsed": true
   },
   "outputs": [],
   "source": []
  },
  {
   "cell_type": "code",
   "execution_count": null,
   "metadata": {
    "collapsed": true
   },
   "outputs": [],
   "source": []
  },
  {
   "cell_type": "code",
   "execution_count": null,
   "metadata": {
    "collapsed": true
   },
   "outputs": [],
   "source": []
  },
  {
   "cell_type": "code",
   "execution_count": null,
   "metadata": {
    "collapsed": true
   },
   "outputs": [],
   "source": []
  },
  {
   "cell_type": "code",
   "execution_count": null,
   "metadata": {
    "collapsed": true
   },
   "outputs": [],
   "source": []
  },
  {
   "cell_type": "code",
   "execution_count": null,
   "metadata": {
    "collapsed": true
   },
   "outputs": [],
   "source": []
  },
  {
   "cell_type": "code",
   "execution_count": null,
   "metadata": {
    "collapsed": true
   },
   "outputs": [],
   "source": []
  },
  {
   "cell_type": "code",
   "execution_count": null,
   "metadata": {
    "collapsed": true
   },
   "outputs": [],
   "source": []
  },
  {
   "cell_type": "code",
   "execution_count": null,
   "metadata": {
    "collapsed": true
   },
   "outputs": [],
   "source": []
  },
  {
   "cell_type": "code",
   "execution_count": null,
   "metadata": {
    "collapsed": true
   },
   "outputs": [],
   "source": []
  }
 ],
 "metadata": {
  "kernelspec": {
   "display_name": "Python 2",
   "language": "python",
   "name": "python2"
  },
  "language_info": {
   "codemirror_mode": {
    "name": "ipython",
    "version": 2
   },
   "file_extension": ".py",
   "mimetype": "text/x-python",
   "name": "python",
   "nbconvert_exporter": "python",
   "pygments_lexer": "ipython2",
   "version": "2.7.12"
  }
 },
 "nbformat": 4,
 "nbformat_minor": 0
}
