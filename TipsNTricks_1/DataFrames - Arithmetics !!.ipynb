{
 "cells": [
  {
   "cell_type": "code",
   "execution_count": 1,
   "metadata": {
    "collapsed": true
   },
   "outputs": [],
   "source": [
    "import pandas as pd \n",
    "import numpy as np"
   ]
  },
  {
   "cell_type": "code",
   "execution_count": 2,
   "metadata": {
    "collapsed": true
   },
   "outputs": [],
   "source": [
    "dframe1 = pd.DataFrame(np.random.randn(8,4), columns = ['a','b','c','d'])"
   ]
  },
  {
   "cell_type": "code",
   "execution_count": 3,
   "metadata": {
    "collapsed": true
   },
   "outputs": [],
   "source": [
    "dframe2 = pd.DataFrame(np.random.randn(6,3), columns = ['a', 'b', 'c'])"
   ]
  },
  {
   "cell_type": "code",
   "execution_count": 4,
   "metadata": {
    "collapsed": false
   },
   "outputs": [
    {
     "data": {
      "text/html": [
       "<div>\n",
       "<table border=\"1\" class=\"dataframe\">\n",
       "  <thead>\n",
       "    <tr style=\"text-align: right;\">\n",
       "      <th></th>\n",
       "      <th>a</th>\n",
       "      <th>b</th>\n",
       "      <th>c</th>\n",
       "      <th>d</th>\n",
       "    </tr>\n",
       "  </thead>\n",
       "  <tbody>\n",
       "    <tr>\n",
       "      <th>0</th>\n",
       "      <td>-0.118971</td>\n",
       "      <td>-1.247610</td>\n",
       "      <td>1.124840</td>\n",
       "      <td>-0.511315</td>\n",
       "    </tr>\n",
       "    <tr>\n",
       "      <th>1</th>\n",
       "      <td>1.146056</td>\n",
       "      <td>-0.751738</td>\n",
       "      <td>-0.979386</td>\n",
       "      <td>1.774481</td>\n",
       "    </tr>\n",
       "    <tr>\n",
       "      <th>2</th>\n",
       "      <td>-0.488030</td>\n",
       "      <td>-1.128232</td>\n",
       "      <td>-0.905606</td>\n",
       "      <td>-0.987748</td>\n",
       "    </tr>\n",
       "    <tr>\n",
       "      <th>3</th>\n",
       "      <td>0.375020</td>\n",
       "      <td>1.282398</td>\n",
       "      <td>-0.565454</td>\n",
       "      <td>-0.174676</td>\n",
       "    </tr>\n",
       "    <tr>\n",
       "      <th>4</th>\n",
       "      <td>-1.099169</td>\n",
       "      <td>0.419332</td>\n",
       "      <td>0.442034</td>\n",
       "      <td>-0.280023</td>\n",
       "    </tr>\n",
       "    <tr>\n",
       "      <th>5</th>\n",
       "      <td>-0.939333</td>\n",
       "      <td>1.378930</td>\n",
       "      <td>-1.315387</td>\n",
       "      <td>2.279741</td>\n",
       "    </tr>\n",
       "    <tr>\n",
       "      <th>6</th>\n",
       "      <td>0.204503</td>\n",
       "      <td>0.440453</td>\n",
       "      <td>-0.045067</td>\n",
       "      <td>1.399209</td>\n",
       "    </tr>\n",
       "    <tr>\n",
       "      <th>7</th>\n",
       "      <td>-1.521414</td>\n",
       "      <td>0.316145</td>\n",
       "      <td>-0.666590</td>\n",
       "      <td>-0.036795</td>\n",
       "    </tr>\n",
       "  </tbody>\n",
       "</table>\n",
       "</div>"
      ],
      "text/plain": [
       "          a         b         c         d\n",
       "0 -0.118971 -1.247610  1.124840 -0.511315\n",
       "1  1.146056 -0.751738 -0.979386  1.774481\n",
       "2 -0.488030 -1.128232 -0.905606 -0.987748\n",
       "3  0.375020  1.282398 -0.565454 -0.174676\n",
       "4 -1.099169  0.419332  0.442034 -0.280023\n",
       "5 -0.939333  1.378930 -1.315387  2.279741\n",
       "6  0.204503  0.440453 -0.045067  1.399209\n",
       "7 -1.521414  0.316145 -0.666590 -0.036795"
      ]
     },
     "execution_count": 4,
     "metadata": {},
     "output_type": "execute_result"
    }
   ],
   "source": [
    "dframe1"
   ]
  },
  {
   "cell_type": "code",
   "execution_count": 5,
   "metadata": {
    "collapsed": false
   },
   "outputs": [
    {
     "data": {
      "text/html": [
       "<div>\n",
       "<table border=\"1\" class=\"dataframe\">\n",
       "  <thead>\n",
       "    <tr style=\"text-align: right;\">\n",
       "      <th></th>\n",
       "      <th>a</th>\n",
       "      <th>b</th>\n",
       "      <th>c</th>\n",
       "    </tr>\n",
       "  </thead>\n",
       "  <tbody>\n",
       "    <tr>\n",
       "      <th>0</th>\n",
       "      <td>-0.812469</td>\n",
       "      <td>0.959139</td>\n",
       "      <td>0.446328</td>\n",
       "    </tr>\n",
       "    <tr>\n",
       "      <th>1</th>\n",
       "      <td>0.557273</td>\n",
       "      <td>0.332980</td>\n",
       "      <td>-1.032536</td>\n",
       "    </tr>\n",
       "    <tr>\n",
       "      <th>2</th>\n",
       "      <td>-0.414061</td>\n",
       "      <td>-1.225050</td>\n",
       "      <td>-0.390523</td>\n",
       "    </tr>\n",
       "    <tr>\n",
       "      <th>3</th>\n",
       "      <td>-1.210132</td>\n",
       "      <td>0.233051</td>\n",
       "      <td>0.652896</td>\n",
       "    </tr>\n",
       "    <tr>\n",
       "      <th>4</th>\n",
       "      <td>0.419319</td>\n",
       "      <td>-0.041813</td>\n",
       "      <td>-0.380283</td>\n",
       "    </tr>\n",
       "    <tr>\n",
       "      <th>5</th>\n",
       "      <td>0.549778</td>\n",
       "      <td>0.243016</td>\n",
       "      <td>1.719877</td>\n",
       "    </tr>\n",
       "  </tbody>\n",
       "</table>\n",
       "</div>"
      ],
      "text/plain": [
       "          a         b         c\n",
       "0 -0.812469  0.959139  0.446328\n",
       "1  0.557273  0.332980 -1.032536\n",
       "2 -0.414061 -1.225050 -0.390523\n",
       "3 -1.210132  0.233051  0.652896\n",
       "4  0.419319 -0.041813 -0.380283\n",
       "5  0.549778  0.243016  1.719877"
      ]
     },
     "execution_count": 5,
     "metadata": {},
     "output_type": "execute_result"
    }
   ],
   "source": [
    "dframe2"
   ]
  },
  {
   "cell_type": "code",
   "execution_count": 6,
   "metadata": {
    "collapsed": false
   },
   "outputs": [
    {
     "data": {
      "text/html": [
       "<div>\n",
       "<table border=\"1\" class=\"dataframe\">\n",
       "  <thead>\n",
       "    <tr style=\"text-align: right;\">\n",
       "      <th></th>\n",
       "      <th>a</th>\n",
       "      <th>b</th>\n",
       "      <th>c</th>\n",
       "      <th>d</th>\n",
       "    </tr>\n",
       "  </thead>\n",
       "  <tbody>\n",
       "    <tr>\n",
       "      <th>0</th>\n",
       "      <td>-0.931440</td>\n",
       "      <td>-0.288471</td>\n",
       "      <td>1.571168</td>\n",
       "      <td>NaN</td>\n",
       "    </tr>\n",
       "    <tr>\n",
       "      <th>1</th>\n",
       "      <td>1.703329</td>\n",
       "      <td>-0.418758</td>\n",
       "      <td>-2.011922</td>\n",
       "      <td>NaN</td>\n",
       "    </tr>\n",
       "    <tr>\n",
       "      <th>2</th>\n",
       "      <td>-0.902091</td>\n",
       "      <td>-2.353282</td>\n",
       "      <td>-1.296129</td>\n",
       "      <td>NaN</td>\n",
       "    </tr>\n",
       "    <tr>\n",
       "      <th>3</th>\n",
       "      <td>-0.835112</td>\n",
       "      <td>1.515449</td>\n",
       "      <td>0.087441</td>\n",
       "      <td>NaN</td>\n",
       "    </tr>\n",
       "    <tr>\n",
       "      <th>4</th>\n",
       "      <td>-0.679850</td>\n",
       "      <td>0.377520</td>\n",
       "      <td>0.061751</td>\n",
       "      <td>NaN</td>\n",
       "    </tr>\n",
       "    <tr>\n",
       "      <th>5</th>\n",
       "      <td>-0.389554</td>\n",
       "      <td>1.621946</td>\n",
       "      <td>0.404490</td>\n",
       "      <td>NaN</td>\n",
       "    </tr>\n",
       "    <tr>\n",
       "      <th>6</th>\n",
       "      <td>NaN</td>\n",
       "      <td>NaN</td>\n",
       "      <td>NaN</td>\n",
       "      <td>NaN</td>\n",
       "    </tr>\n",
       "    <tr>\n",
       "      <th>7</th>\n",
       "      <td>NaN</td>\n",
       "      <td>NaN</td>\n",
       "      <td>NaN</td>\n",
       "      <td>NaN</td>\n",
       "    </tr>\n",
       "  </tbody>\n",
       "</table>\n",
       "</div>"
      ],
      "text/plain": [
       "          a         b         c   d\n",
       "0 -0.931440 -0.288471  1.571168 NaN\n",
       "1  1.703329 -0.418758 -2.011922 NaN\n",
       "2 -0.902091 -2.353282 -1.296129 NaN\n",
       "3 -0.835112  1.515449  0.087441 NaN\n",
       "4 -0.679850  0.377520  0.061751 NaN\n",
       "5 -0.389554  1.621946  0.404490 NaN\n",
       "6       NaN       NaN       NaN NaN\n",
       "7       NaN       NaN       NaN NaN"
      ]
     },
     "execution_count": 6,
     "metadata": {},
     "output_type": "execute_result"
    }
   ],
   "source": [
    "dframe1 + dframe2"
   ]
  },
  {
   "cell_type": "code",
   "execution_count": 8,
   "metadata": {
    "collapsed": false
   },
   "outputs": [],
   "source": [
    "index_date = pd.date_range('10/22/2016', periods = 10)"
   ]
  },
  {
   "cell_type": "code",
   "execution_count": 9,
   "metadata": {
    "collapsed": true
   },
   "outputs": [],
   "source": [
    "dframe = pd.DataFrame(np.random.randn(10,3), index = index_date, columns = ['a', 'b', 'c'])"
   ]
  },
  {
   "cell_type": "code",
   "execution_count": 10,
   "metadata": {
    "collapsed": false
   },
   "outputs": [
    {
     "data": {
      "text/html": [
       "<div>\n",
       "<table border=\"1\" class=\"dataframe\">\n",
       "  <thead>\n",
       "    <tr style=\"text-align: right;\">\n",
       "      <th></th>\n",
       "      <th>a</th>\n",
       "      <th>b</th>\n",
       "      <th>c</th>\n",
       "    </tr>\n",
       "  </thead>\n",
       "  <tbody>\n",
       "    <tr>\n",
       "      <th>2016-10-22</th>\n",
       "      <td>0.605244</td>\n",
       "      <td>-0.224503</td>\n",
       "      <td>1.411214</td>\n",
       "    </tr>\n",
       "    <tr>\n",
       "      <th>2016-10-23</th>\n",
       "      <td>-0.476827</td>\n",
       "      <td>0.263432</td>\n",
       "      <td>-0.594605</td>\n",
       "    </tr>\n",
       "    <tr>\n",
       "      <th>2016-10-24</th>\n",
       "      <td>0.838683</td>\n",
       "      <td>-2.182945</td>\n",
       "      <td>-0.434403</td>\n",
       "    </tr>\n",
       "    <tr>\n",
       "      <th>2016-10-25</th>\n",
       "      <td>-0.085741</td>\n",
       "      <td>-0.562788</td>\n",
       "      <td>-0.146070</td>\n",
       "    </tr>\n",
       "    <tr>\n",
       "      <th>2016-10-26</th>\n",
       "      <td>-0.504075</td>\n",
       "      <td>0.065512</td>\n",
       "      <td>-0.097906</td>\n",
       "    </tr>\n",
       "    <tr>\n",
       "      <th>2016-10-27</th>\n",
       "      <td>-1.068745</td>\n",
       "      <td>0.667100</td>\n",
       "      <td>-0.670403</td>\n",
       "    </tr>\n",
       "    <tr>\n",
       "      <th>2016-10-28</th>\n",
       "      <td>1.156604</td>\n",
       "      <td>-0.877290</td>\n",
       "      <td>0.722105</td>\n",
       "    </tr>\n",
       "    <tr>\n",
       "      <th>2016-10-29</th>\n",
       "      <td>0.439503</td>\n",
       "      <td>-0.785378</td>\n",
       "      <td>-1.259223</td>\n",
       "    </tr>\n",
       "    <tr>\n",
       "      <th>2016-10-30</th>\n",
       "      <td>0.934991</td>\n",
       "      <td>1.194567</td>\n",
       "      <td>0.386111</td>\n",
       "    </tr>\n",
       "    <tr>\n",
       "      <th>2016-10-31</th>\n",
       "      <td>-1.361773</td>\n",
       "      <td>0.378821</td>\n",
       "      <td>1.064865</td>\n",
       "    </tr>\n",
       "  </tbody>\n",
       "</table>\n",
       "</div>"
      ],
      "text/plain": [
       "                   a         b         c\n",
       "2016-10-22  0.605244 -0.224503  1.411214\n",
       "2016-10-23 -0.476827  0.263432 -0.594605\n",
       "2016-10-24  0.838683 -2.182945 -0.434403\n",
       "2016-10-25 -0.085741 -0.562788 -0.146070\n",
       "2016-10-26 -0.504075  0.065512 -0.097906\n",
       "2016-10-27 -1.068745  0.667100 -0.670403\n",
       "2016-10-28  1.156604 -0.877290  0.722105\n",
       "2016-10-29  0.439503 -0.785378 -1.259223\n",
       "2016-10-30  0.934991  1.194567  0.386111\n",
       "2016-10-31 -1.361773  0.378821  1.064865"
      ]
     },
     "execution_count": 10,
     "metadata": {},
     "output_type": "execute_result"
    }
   ],
   "source": [
    "dframe"
   ]
  },
  {
   "cell_type": "code",
   "execution_count": 11,
   "metadata": {
    "collapsed": false
   },
   "outputs": [
    {
     "data": {
      "text/plain": [
       "2016-10-22    0.605244\n",
       "2016-10-23   -0.476827\n",
       "2016-10-24    0.838683\n",
       "2016-10-25   -0.085741\n",
       "2016-10-26   -0.504075\n",
       "2016-10-27   -1.068745\n",
       "2016-10-28    1.156604\n",
       "2016-10-29    0.439503\n",
       "2016-10-30    0.934991\n",
       "2016-10-31   -1.361773\n",
       "Freq: D, Name: a, dtype: float64"
      ]
     },
     "execution_count": 11,
     "metadata": {},
     "output_type": "execute_result"
    }
   ],
   "source": [
    "dframe['a']"
   ]
  },
  {
   "cell_type": "code",
   "execution_count": 12,
   "metadata": {
    "collapsed": false
   },
   "outputs": [
    {
     "data": {
      "text/plain": [
       "pandas.core.series.Series"
      ]
     },
     "execution_count": 12,
     "metadata": {},
     "output_type": "execute_result"
    }
   ],
   "source": [
    "type(dframe['a'])"
   ]
  },
  {
   "cell_type": "code",
   "execution_count": 13,
   "metadata": {
    "collapsed": false
   },
   "outputs": [
    {
     "data": {
      "text/html": [
       "<div>\n",
       "<table border=\"1\" class=\"dataframe\">\n",
       "  <thead>\n",
       "    <tr style=\"text-align: right;\">\n",
       "      <th></th>\n",
       "      <th>a</th>\n",
       "      <th>b</th>\n",
       "      <th>c</th>\n",
       "    </tr>\n",
       "  </thead>\n",
       "  <tbody>\n",
       "    <tr>\n",
       "      <th>2016-10-22</th>\n",
       "      <td>1.815732</td>\n",
       "      <td>-0.673510</td>\n",
       "      <td>4.233643</td>\n",
       "    </tr>\n",
       "    <tr>\n",
       "      <th>2016-10-23</th>\n",
       "      <td>-1.430482</td>\n",
       "      <td>0.790296</td>\n",
       "      <td>-1.783815</td>\n",
       "    </tr>\n",
       "    <tr>\n",
       "      <th>2016-10-24</th>\n",
       "      <td>2.516050</td>\n",
       "      <td>-6.548836</td>\n",
       "      <td>-1.303208</td>\n",
       "    </tr>\n",
       "    <tr>\n",
       "      <th>2016-10-25</th>\n",
       "      <td>-0.257222</td>\n",
       "      <td>-1.688364</td>\n",
       "      <td>-0.438209</td>\n",
       "    </tr>\n",
       "    <tr>\n",
       "      <th>2016-10-26</th>\n",
       "      <td>-1.512226</td>\n",
       "      <td>0.196535</td>\n",
       "      <td>-0.293718</td>\n",
       "    </tr>\n",
       "    <tr>\n",
       "      <th>2016-10-27</th>\n",
       "      <td>-3.206236</td>\n",
       "      <td>2.001299</td>\n",
       "      <td>-2.011208</td>\n",
       "    </tr>\n",
       "    <tr>\n",
       "      <th>2016-10-28</th>\n",
       "      <td>3.469813</td>\n",
       "      <td>-2.631869</td>\n",
       "      <td>2.166315</td>\n",
       "    </tr>\n",
       "    <tr>\n",
       "      <th>2016-10-29</th>\n",
       "      <td>1.318508</td>\n",
       "      <td>-2.356133</td>\n",
       "      <td>-3.777669</td>\n",
       "    </tr>\n",
       "    <tr>\n",
       "      <th>2016-10-30</th>\n",
       "      <td>2.804974</td>\n",
       "      <td>3.583701</td>\n",
       "      <td>1.158333</td>\n",
       "    </tr>\n",
       "    <tr>\n",
       "      <th>2016-10-31</th>\n",
       "      <td>-4.085320</td>\n",
       "      <td>1.136464</td>\n",
       "      <td>3.194596</td>\n",
       "    </tr>\n",
       "  </tbody>\n",
       "</table>\n",
       "</div>"
      ],
      "text/plain": [
       "                   a         b         c\n",
       "2016-10-22  1.815732 -0.673510  4.233643\n",
       "2016-10-23 -1.430482  0.790296 -1.783815\n",
       "2016-10-24  2.516050 -6.548836 -1.303208\n",
       "2016-10-25 -0.257222 -1.688364 -0.438209\n",
       "2016-10-26 -1.512226  0.196535 -0.293718\n",
       "2016-10-27 -3.206236  2.001299 -2.011208\n",
       "2016-10-28  3.469813 -2.631869  2.166315\n",
       "2016-10-29  1.318508 -2.356133 -3.777669\n",
       "2016-10-30  2.804974  3.583701  1.158333\n",
       "2016-10-31 -4.085320  1.136464  3.194596"
      ]
     },
     "execution_count": 13,
     "metadata": {},
     "output_type": "execute_result"
    }
   ],
   "source": [
    "dframe * 3"
   ]
  },
  {
   "cell_type": "code",
   "execution_count": 14,
   "metadata": {
    "collapsed": false
   },
   "outputs": [
    {
     "data": {
      "text/html": [
       "<div>\n",
       "<table border=\"1\" class=\"dataframe\">\n",
       "  <thead>\n",
       "    <tr style=\"text-align: right;\">\n",
       "      <th></th>\n",
       "      <th>a</th>\n",
       "      <th>b</th>\n",
       "      <th>c</th>\n",
       "    </tr>\n",
       "  </thead>\n",
       "  <tbody>\n",
       "    <tr>\n",
       "      <th>2016-10-22</th>\n",
       "      <td>0.605244</td>\n",
       "      <td>-0.224503</td>\n",
       "      <td>1.411214</td>\n",
       "    </tr>\n",
       "    <tr>\n",
       "      <th>2016-10-23</th>\n",
       "      <td>-0.476827</td>\n",
       "      <td>0.263432</td>\n",
       "      <td>-0.594605</td>\n",
       "    </tr>\n",
       "    <tr>\n",
       "      <th>2016-10-24</th>\n",
       "      <td>0.838683</td>\n",
       "      <td>-2.182945</td>\n",
       "      <td>-0.434403</td>\n",
       "    </tr>\n",
       "    <tr>\n",
       "      <th>2016-10-25</th>\n",
       "      <td>-0.085741</td>\n",
       "      <td>-0.562788</td>\n",
       "      <td>-0.146070</td>\n",
       "    </tr>\n",
       "    <tr>\n",
       "      <th>2016-10-26</th>\n",
       "      <td>-0.504075</td>\n",
       "      <td>0.065512</td>\n",
       "      <td>-0.097906</td>\n",
       "    </tr>\n",
       "    <tr>\n",
       "      <th>2016-10-27</th>\n",
       "      <td>-1.068745</td>\n",
       "      <td>0.667100</td>\n",
       "      <td>-0.670403</td>\n",
       "    </tr>\n",
       "    <tr>\n",
       "      <th>2016-10-28</th>\n",
       "      <td>1.156604</td>\n",
       "      <td>-0.877290</td>\n",
       "      <td>0.722105</td>\n",
       "    </tr>\n",
       "    <tr>\n",
       "      <th>2016-10-29</th>\n",
       "      <td>0.439503</td>\n",
       "      <td>-0.785378</td>\n",
       "      <td>-1.259223</td>\n",
       "    </tr>\n",
       "    <tr>\n",
       "      <th>2016-10-30</th>\n",
       "      <td>0.934991</td>\n",
       "      <td>1.194567</td>\n",
       "      <td>0.386111</td>\n",
       "    </tr>\n",
       "    <tr>\n",
       "      <th>2016-10-31</th>\n",
       "      <td>-1.361773</td>\n",
       "      <td>0.378821</td>\n",
       "      <td>1.064865</td>\n",
       "    </tr>\n",
       "  </tbody>\n",
       "</table>\n",
       "</div>"
      ],
      "text/plain": [
       "                   a         b         c\n",
       "2016-10-22  0.605244 -0.224503  1.411214\n",
       "2016-10-23 -0.476827  0.263432 -0.594605\n",
       "2016-10-24  0.838683 -2.182945 -0.434403\n",
       "2016-10-25 -0.085741 -0.562788 -0.146070\n",
       "2016-10-26 -0.504075  0.065512 -0.097906\n",
       "2016-10-27 -1.068745  0.667100 -0.670403\n",
       "2016-10-28  1.156604 -0.877290  0.722105\n",
       "2016-10-29  0.439503 -0.785378 -1.259223\n",
       "2016-10-30  0.934991  1.194567  0.386111\n",
       "2016-10-31 -1.361773  0.378821  1.064865"
      ]
     },
     "execution_count": 14,
     "metadata": {},
     "output_type": "execute_result"
    }
   ],
   "source": [
    "dframe"
   ]
  },
  {
   "cell_type": "code",
   "execution_count": 15,
   "metadata": {
    "collapsed": false
   },
   "outputs": [
    {
     "data": {
      "text/html": [
       "<div>\n",
       "<table border=\"1\" class=\"dataframe\">\n",
       "  <thead>\n",
       "    <tr style=\"text-align: right;\">\n",
       "      <th></th>\n",
       "      <th>a</th>\n",
       "      <th>b</th>\n",
       "      <th>c</th>\n",
       "    </tr>\n",
       "  </thead>\n",
       "  <tbody>\n",
       "    <tr>\n",
       "      <th>2016-10-22</th>\n",
       "      <td>2.605244</td>\n",
       "      <td>1.775497</td>\n",
       "      <td>3.411214</td>\n",
       "    </tr>\n",
       "    <tr>\n",
       "      <th>2016-10-23</th>\n",
       "      <td>1.523173</td>\n",
       "      <td>2.263432</td>\n",
       "      <td>1.405395</td>\n",
       "    </tr>\n",
       "    <tr>\n",
       "      <th>2016-10-24</th>\n",
       "      <td>2.838683</td>\n",
       "      <td>-0.182945</td>\n",
       "      <td>1.565597</td>\n",
       "    </tr>\n",
       "    <tr>\n",
       "      <th>2016-10-25</th>\n",
       "      <td>1.914259</td>\n",
       "      <td>1.437212</td>\n",
       "      <td>1.853930</td>\n",
       "    </tr>\n",
       "    <tr>\n",
       "      <th>2016-10-26</th>\n",
       "      <td>1.495925</td>\n",
       "      <td>2.065512</td>\n",
       "      <td>1.902094</td>\n",
       "    </tr>\n",
       "    <tr>\n",
       "      <th>2016-10-27</th>\n",
       "      <td>0.931255</td>\n",
       "      <td>2.667100</td>\n",
       "      <td>1.329597</td>\n",
       "    </tr>\n",
       "    <tr>\n",
       "      <th>2016-10-28</th>\n",
       "      <td>3.156604</td>\n",
       "      <td>1.122710</td>\n",
       "      <td>2.722105</td>\n",
       "    </tr>\n",
       "    <tr>\n",
       "      <th>2016-10-29</th>\n",
       "      <td>2.439503</td>\n",
       "      <td>1.214622</td>\n",
       "      <td>0.740777</td>\n",
       "    </tr>\n",
       "    <tr>\n",
       "      <th>2016-10-30</th>\n",
       "      <td>2.934991</td>\n",
       "      <td>3.194567</td>\n",
       "      <td>2.386111</td>\n",
       "    </tr>\n",
       "    <tr>\n",
       "      <th>2016-10-31</th>\n",
       "      <td>0.638227</td>\n",
       "      <td>2.378821</td>\n",
       "      <td>3.064865</td>\n",
       "    </tr>\n",
       "  </tbody>\n",
       "</table>\n",
       "</div>"
      ],
      "text/plain": [
       "                   a         b         c\n",
       "2016-10-22  2.605244  1.775497  3.411214\n",
       "2016-10-23  1.523173  2.263432  1.405395\n",
       "2016-10-24  2.838683 -0.182945  1.565597\n",
       "2016-10-25  1.914259  1.437212  1.853930\n",
       "2016-10-26  1.495925  2.065512  1.902094\n",
       "2016-10-27  0.931255  2.667100  1.329597\n",
       "2016-10-28  3.156604  1.122710  2.722105\n",
       "2016-10-29  2.439503  1.214622  0.740777\n",
       "2016-10-30  2.934991  3.194567  2.386111\n",
       "2016-10-31  0.638227  2.378821  3.064865"
      ]
     },
     "execution_count": 15,
     "metadata": {},
     "output_type": "execute_result"
    }
   ],
   "source": [
    "dframe + 2"
   ]
  },
  {
   "cell_type": "code",
   "execution_count": 16,
   "metadata": {
    "collapsed": false
   },
   "outputs": [
    {
     "data": {
      "text/html": [
       "<div>\n",
       "<table border=\"1\" class=\"dataframe\">\n",
       "  <thead>\n",
       "    <tr style=\"text-align: right;\">\n",
       "      <th></th>\n",
       "      <th>a</th>\n",
       "      <th>b</th>\n",
       "      <th>c</th>\n",
       "    </tr>\n",
       "  </thead>\n",
       "  <tbody>\n",
       "    <tr>\n",
       "      <th>2016-10-22</th>\n",
       "      <td>-5.394756</td>\n",
       "      <td>-6.224503</td>\n",
       "      <td>-4.588786</td>\n",
       "    </tr>\n",
       "    <tr>\n",
       "      <th>2016-10-23</th>\n",
       "      <td>-6.476827</td>\n",
       "      <td>-5.736568</td>\n",
       "      <td>-6.594605</td>\n",
       "    </tr>\n",
       "    <tr>\n",
       "      <th>2016-10-24</th>\n",
       "      <td>-5.161317</td>\n",
       "      <td>-8.182945</td>\n",
       "      <td>-6.434403</td>\n",
       "    </tr>\n",
       "    <tr>\n",
       "      <th>2016-10-25</th>\n",
       "      <td>-6.085741</td>\n",
       "      <td>-6.562788</td>\n",
       "      <td>-6.146070</td>\n",
       "    </tr>\n",
       "    <tr>\n",
       "      <th>2016-10-26</th>\n",
       "      <td>-6.504075</td>\n",
       "      <td>-5.934488</td>\n",
       "      <td>-6.097906</td>\n",
       "    </tr>\n",
       "    <tr>\n",
       "      <th>2016-10-27</th>\n",
       "      <td>-7.068745</td>\n",
       "      <td>-5.332900</td>\n",
       "      <td>-6.670403</td>\n",
       "    </tr>\n",
       "    <tr>\n",
       "      <th>2016-10-28</th>\n",
       "      <td>-4.843396</td>\n",
       "      <td>-6.877290</td>\n",
       "      <td>-5.277895</td>\n",
       "    </tr>\n",
       "    <tr>\n",
       "      <th>2016-10-29</th>\n",
       "      <td>-5.560497</td>\n",
       "      <td>-6.785378</td>\n",
       "      <td>-7.259223</td>\n",
       "    </tr>\n",
       "    <tr>\n",
       "      <th>2016-10-30</th>\n",
       "      <td>-5.065009</td>\n",
       "      <td>-4.805433</td>\n",
       "      <td>-5.613889</td>\n",
       "    </tr>\n",
       "    <tr>\n",
       "      <th>2016-10-31</th>\n",
       "      <td>-7.361773</td>\n",
       "      <td>-5.621179</td>\n",
       "      <td>-4.935135</td>\n",
       "    </tr>\n",
       "  </tbody>\n",
       "</table>\n",
       "</div>"
      ],
      "text/plain": [
       "                   a         b         c\n",
       "2016-10-22 -5.394756 -6.224503 -4.588786\n",
       "2016-10-23 -6.476827 -5.736568 -6.594605\n",
       "2016-10-24 -5.161317 -8.182945 -6.434403\n",
       "2016-10-25 -6.085741 -6.562788 -6.146070\n",
       "2016-10-26 -6.504075 -5.934488 -6.097906\n",
       "2016-10-27 -7.068745 -5.332900 -6.670403\n",
       "2016-10-28 -4.843396 -6.877290 -5.277895\n",
       "2016-10-29 -5.560497 -6.785378 -7.259223\n",
       "2016-10-30 -5.065009 -4.805433 -5.613889\n",
       "2016-10-31 -7.361773 -5.621179 -4.935135"
      ]
     },
     "execution_count": 16,
     "metadata": {},
     "output_type": "execute_result"
    }
   ],
   "source": [
    "dframe - 6"
   ]
  },
  {
   "cell_type": "code",
   "execution_count": 17,
   "metadata": {
    "collapsed": false
   },
   "outputs": [
    {
     "data": {
      "text/html": [
       "<div>\n",
       "<table border=\"1\" class=\"dataframe\">\n",
       "  <thead>\n",
       "    <tr style=\"text-align: right;\">\n",
       "      <th></th>\n",
       "      <th>a</th>\n",
       "      <th>b</th>\n",
       "      <th>c</th>\n",
       "    </tr>\n",
       "  </thead>\n",
       "  <tbody>\n",
       "    <tr>\n",
       "      <th>2016-10-22</th>\n",
       "      <td>1.652226</td>\n",
       "      <td>-4.454279</td>\n",
       "      <td>0.708610</td>\n",
       "    </tr>\n",
       "    <tr>\n",
       "      <th>2016-10-23</th>\n",
       "      <td>-2.097196</td>\n",
       "      <td>3.796044</td>\n",
       "      <td>-1.681789</td>\n",
       "    </tr>\n",
       "    <tr>\n",
       "      <th>2016-10-24</th>\n",
       "      <td>1.192345</td>\n",
       "      <td>-0.458097</td>\n",
       "      <td>-2.302011</td>\n",
       "    </tr>\n",
       "    <tr>\n",
       "      <th>2016-10-25</th>\n",
       "      <td>-11.663091</td>\n",
       "      <td>-1.776868</td>\n",
       "      <td>-6.846047</td>\n",
       "    </tr>\n",
       "    <tr>\n",
       "      <th>2016-10-26</th>\n",
       "      <td>-1.983830</td>\n",
       "      <td>15.264421</td>\n",
       "      <td>-10.213875</td>\n",
       "    </tr>\n",
       "    <tr>\n",
       "      <th>2016-10-27</th>\n",
       "      <td>-0.935676</td>\n",
       "      <td>1.499026</td>\n",
       "      <td>-1.491641</td>\n",
       "    </tr>\n",
       "    <tr>\n",
       "      <th>2016-10-28</th>\n",
       "      <td>0.864600</td>\n",
       "      <td>-1.139875</td>\n",
       "      <td>1.384840</td>\n",
       "    </tr>\n",
       "    <tr>\n",
       "      <th>2016-10-29</th>\n",
       "      <td>2.275299</td>\n",
       "      <td>-1.273273</td>\n",
       "      <td>-0.794141</td>\n",
       "    </tr>\n",
       "    <tr>\n",
       "      <th>2016-10-30</th>\n",
       "      <td>1.069529</td>\n",
       "      <td>0.837123</td>\n",
       "      <td>2.589930</td>\n",
       "    </tr>\n",
       "    <tr>\n",
       "      <th>2016-10-31</th>\n",
       "      <td>-0.734337</td>\n",
       "      <td>2.639768</td>\n",
       "      <td>0.939086</td>\n",
       "    </tr>\n",
       "  </tbody>\n",
       "</table>\n",
       "</div>"
      ],
      "text/plain": [
       "                    a          b          c\n",
       "2016-10-22   1.652226  -4.454279   0.708610\n",
       "2016-10-23  -2.097196   3.796044  -1.681789\n",
       "2016-10-24   1.192345  -0.458097  -2.302011\n",
       "2016-10-25 -11.663091  -1.776868  -6.846047\n",
       "2016-10-26  -1.983830  15.264421 -10.213875\n",
       "2016-10-27  -0.935676   1.499026  -1.491641\n",
       "2016-10-28   0.864600  -1.139875   1.384840\n",
       "2016-10-29   2.275299  -1.273273  -0.794141\n",
       "2016-10-30   1.069529   0.837123   2.589930\n",
       "2016-10-31  -0.734337   2.639768   0.939086"
      ]
     },
     "execution_count": 17,
     "metadata": {},
     "output_type": "execute_result"
    }
   ],
   "source": [
    "1/dframe"
   ]
  },
  {
   "cell_type": "code",
   "execution_count": 18,
   "metadata": {
    "collapsed": false
   },
   "outputs": [
    {
     "data": {
      "text/html": [
       "<div>\n",
       "<table border=\"1\" class=\"dataframe\">\n",
       "  <thead>\n",
       "    <tr style=\"text-align: right;\">\n",
       "      <th></th>\n",
       "      <th>a</th>\n",
       "      <th>b</th>\n",
       "      <th>c</th>\n",
       "    </tr>\n",
       "  </thead>\n",
       "  <tbody>\n",
       "    <tr>\n",
       "      <th>2016-10-22</th>\n",
       "      <td>0.366320</td>\n",
       "      <td>0.050402</td>\n",
       "      <td>1.991526</td>\n",
       "    </tr>\n",
       "    <tr>\n",
       "      <th>2016-10-23</th>\n",
       "      <td>0.227364</td>\n",
       "      <td>0.069396</td>\n",
       "      <td>0.353555</td>\n",
       "    </tr>\n",
       "    <tr>\n",
       "      <th>2016-10-24</th>\n",
       "      <td>0.703390</td>\n",
       "      <td>4.765250</td>\n",
       "      <td>0.188706</td>\n",
       "    </tr>\n",
       "    <tr>\n",
       "      <th>2016-10-25</th>\n",
       "      <td>0.007351</td>\n",
       "      <td>0.316730</td>\n",
       "      <td>0.021336</td>\n",
       "    </tr>\n",
       "    <tr>\n",
       "      <th>2016-10-26</th>\n",
       "      <td>0.254092</td>\n",
       "      <td>0.004292</td>\n",
       "      <td>0.009586</td>\n",
       "    </tr>\n",
       "    <tr>\n",
       "      <th>2016-10-27</th>\n",
       "      <td>1.142217</td>\n",
       "      <td>0.445022</td>\n",
       "      <td>0.449440</td>\n",
       "    </tr>\n",
       "    <tr>\n",
       "      <th>2016-10-28</th>\n",
       "      <td>1.337734</td>\n",
       "      <td>0.769637</td>\n",
       "      <td>0.521435</td>\n",
       "    </tr>\n",
       "    <tr>\n",
       "      <th>2016-10-29</th>\n",
       "      <td>0.193163</td>\n",
       "      <td>0.616818</td>\n",
       "      <td>1.585643</td>\n",
       "    </tr>\n",
       "    <tr>\n",
       "      <th>2016-10-30</th>\n",
       "      <td>0.874209</td>\n",
       "      <td>1.426990</td>\n",
       "      <td>0.149082</td>\n",
       "    </tr>\n",
       "    <tr>\n",
       "      <th>2016-10-31</th>\n",
       "      <td>1.854427</td>\n",
       "      <td>0.143505</td>\n",
       "      <td>1.133938</td>\n",
       "    </tr>\n",
       "  </tbody>\n",
       "</table>\n",
       "</div>"
      ],
      "text/plain": [
       "                   a         b         c\n",
       "2016-10-22  0.366320  0.050402  1.991526\n",
       "2016-10-23  0.227364  0.069396  0.353555\n",
       "2016-10-24  0.703390  4.765250  0.188706\n",
       "2016-10-25  0.007351  0.316730  0.021336\n",
       "2016-10-26  0.254092  0.004292  0.009586\n",
       "2016-10-27  1.142217  0.445022  0.449440\n",
       "2016-10-28  1.337734  0.769637  0.521435\n",
       "2016-10-29  0.193163  0.616818  1.585643\n",
       "2016-10-30  0.874209  1.426990  0.149082\n",
       "2016-10-31  1.854427  0.143505  1.133938"
      ]
     },
     "execution_count": 18,
     "metadata": {},
     "output_type": "execute_result"
    }
   ],
   "source": [
    "dframe**2"
   ]
  },
  {
   "cell_type": "code",
   "execution_count": 19,
   "metadata": {
    "collapsed": false
   },
   "outputs": [
    {
     "data": {
      "text/html": [
       "<div>\n",
       "<table border=\"1\" class=\"dataframe\">\n",
       "  <thead>\n",
       "    <tr style=\"text-align: right;\">\n",
       "      <th></th>\n",
       "      <th>a</th>\n",
       "      <th>b</th>\n",
       "      <th>c</th>\n",
       "    </tr>\n",
       "  </thead>\n",
       "  <tbody>\n",
       "    <tr>\n",
       "      <th>2016-10-22</th>\n",
       "      <td>0.221713</td>\n",
       "      <td>-0.011315</td>\n",
       "      <td>2.810470</td>\n",
       "    </tr>\n",
       "    <tr>\n",
       "      <th>2016-10-23</th>\n",
       "      <td>-0.108413</td>\n",
       "      <td>0.018281</td>\n",
       "      <td>-0.210226</td>\n",
       "    </tr>\n",
       "    <tr>\n",
       "      <th>2016-10-24</th>\n",
       "      <td>0.589921</td>\n",
       "      <td>-10.402281</td>\n",
       "      <td>-0.081974</td>\n",
       "    </tr>\n",
       "    <tr>\n",
       "      <th>2016-10-25</th>\n",
       "      <td>-0.000630</td>\n",
       "      <td>-0.178252</td>\n",
       "      <td>-0.003117</td>\n",
       "    </tr>\n",
       "    <tr>\n",
       "      <th>2016-10-26</th>\n",
       "      <td>-0.128081</td>\n",
       "      <td>0.000281</td>\n",
       "      <td>-0.000938</td>\n",
       "    </tr>\n",
       "    <tr>\n",
       "      <th>2016-10-27</th>\n",
       "      <td>-1.220739</td>\n",
       "      <td>0.296874</td>\n",
       "      <td>-0.301306</td>\n",
       "    </tr>\n",
       "    <tr>\n",
       "      <th>2016-10-28</th>\n",
       "      <td>1.547229</td>\n",
       "      <td>-0.675194</td>\n",
       "      <td>0.376531</td>\n",
       "    </tr>\n",
       "    <tr>\n",
       "      <th>2016-10-29</th>\n",
       "      <td>0.084895</td>\n",
       "      <td>-0.484435</td>\n",
       "      <td>-1.996678</td>\n",
       "    </tr>\n",
       "    <tr>\n",
       "      <th>2016-10-30</th>\n",
       "      <td>0.817377</td>\n",
       "      <td>1.704636</td>\n",
       "      <td>0.057562</td>\n",
       "    </tr>\n",
       "    <tr>\n",
       "      <th>2016-10-31</th>\n",
       "      <td>-2.525309</td>\n",
       "      <td>0.054363</td>\n",
       "      <td>1.207491</td>\n",
       "    </tr>\n",
       "  </tbody>\n",
       "</table>\n",
       "</div>"
      ],
      "text/plain": [
       "                   a          b         c\n",
       "2016-10-22  0.221713  -0.011315  2.810470\n",
       "2016-10-23 -0.108413   0.018281 -0.210226\n",
       "2016-10-24  0.589921 -10.402281 -0.081974\n",
       "2016-10-25 -0.000630  -0.178252 -0.003117\n",
       "2016-10-26 -0.128081   0.000281 -0.000938\n",
       "2016-10-27 -1.220739   0.296874 -0.301306\n",
       "2016-10-28  1.547229  -0.675194  0.376531\n",
       "2016-10-29  0.084895  -0.484435 -1.996678\n",
       "2016-10-30  0.817377   1.704636  0.057562\n",
       "2016-10-31 -2.525309   0.054363  1.207491"
      ]
     },
     "execution_count": 19,
     "metadata": {},
     "output_type": "execute_result"
    }
   ],
   "source": [
    "dframe**3"
   ]
  },
  {
   "cell_type": "code",
   "execution_count": 20,
   "metadata": {
    "collapsed": true
   },
   "outputs": [],
   "source": [
    "dframe1 = pd.DataFrame({'x': [10, 0, 10], 'y': [0, 10, 10]})"
   ]
  },
  {
   "cell_type": "code",
   "execution_count": 21,
   "metadata": {
    "collapsed": true
   },
   "outputs": [],
   "source": [
    "dframe2 = pd.DataFrame({'x': [0, 10, 10], 'y': [10, 10, 0]})"
   ]
  },
  {
   "cell_type": "code",
   "execution_count": 35,
   "metadata": {
    "collapsed": false
   },
   "outputs": [
    {
     "data": {
      "text/html": [
       "<div>\n",
       "<table border=\"1\" class=\"dataframe\">\n",
       "  <thead>\n",
       "    <tr style=\"text-align: right;\">\n",
       "      <th></th>\n",
       "      <th>x</th>\n",
       "      <th>y</th>\n",
       "    </tr>\n",
       "  </thead>\n",
       "  <tbody>\n",
       "    <tr>\n",
       "      <th>0</th>\n",
       "      <td>10</td>\n",
       "      <td>0</td>\n",
       "    </tr>\n",
       "    <tr>\n",
       "      <th>1</th>\n",
       "      <td>0</td>\n",
       "      <td>10</td>\n",
       "    </tr>\n",
       "    <tr>\n",
       "      <th>2</th>\n",
       "      <td>10</td>\n",
       "      <td>10</td>\n",
       "    </tr>\n",
       "  </tbody>\n",
       "</table>\n",
       "</div>"
      ],
      "text/plain": [
       "    x   y\n",
       "0  10   0\n",
       "1   0  10\n",
       "2  10  10"
      ]
     },
     "execution_count": 35,
     "metadata": {},
     "output_type": "execute_result"
    }
   ],
   "source": [
    "dframe1"
   ]
  },
  {
   "cell_type": "code",
   "execution_count": 36,
   "metadata": {
    "collapsed": false
   },
   "outputs": [
    {
     "data": {
      "text/html": [
       "<div>\n",
       "<table border=\"1\" class=\"dataframe\">\n",
       "  <thead>\n",
       "    <tr style=\"text-align: right;\">\n",
       "      <th></th>\n",
       "      <th>x</th>\n",
       "      <th>y</th>\n",
       "    </tr>\n",
       "  </thead>\n",
       "  <tbody>\n",
       "    <tr>\n",
       "      <th>0</th>\n",
       "      <td>0</td>\n",
       "      <td>10</td>\n",
       "    </tr>\n",
       "    <tr>\n",
       "      <th>1</th>\n",
       "      <td>10</td>\n",
       "      <td>10</td>\n",
       "    </tr>\n",
       "    <tr>\n",
       "      <th>2</th>\n",
       "      <td>10</td>\n",
       "      <td>0</td>\n",
       "    </tr>\n",
       "  </tbody>\n",
       "</table>\n",
       "</div>"
      ],
      "text/plain": [
       "    x   y\n",
       "0   0  10\n",
       "1  10  10\n",
       "2  10   0"
      ]
     },
     "execution_count": 36,
     "metadata": {},
     "output_type": "execute_result"
    }
   ],
   "source": [
    "dframe2"
   ]
  },
  {
   "cell_type": "code",
   "execution_count": 37,
   "metadata": {
    "collapsed": false
   },
   "outputs": [
    {
     "data": {
      "text/html": [
       "<div>\n",
       "<table border=\"1\" class=\"dataframe\">\n",
       "  <thead>\n",
       "    <tr style=\"text-align: right;\">\n",
       "      <th></th>\n",
       "      <th>x</th>\n",
       "      <th>y</th>\n",
       "    </tr>\n",
       "  </thead>\n",
       "  <tbody>\n",
       "    <tr>\n",
       "      <th>0</th>\n",
       "      <td>0</td>\n",
       "      <td>0</td>\n",
       "    </tr>\n",
       "    <tr>\n",
       "      <th>1</th>\n",
       "      <td>0</td>\n",
       "      <td>100</td>\n",
       "    </tr>\n",
       "    <tr>\n",
       "      <th>2</th>\n",
       "      <td>100</td>\n",
       "      <td>0</td>\n",
       "    </tr>\n",
       "  </tbody>\n",
       "</table>\n",
       "</div>"
      ],
      "text/plain": [
       "     x    y\n",
       "0    0    0\n",
       "1    0  100\n",
       "2  100    0"
      ]
     },
     "execution_count": 37,
     "metadata": {},
     "output_type": "execute_result"
    }
   ],
   "source": [
    "dframe1 * dframe2"
   ]
  },
  {
   "cell_type": "code",
   "execution_count": 38,
   "metadata": {
    "collapsed": false
   },
   "outputs": [
    {
     "data": {
      "text/html": [
       "<div>\n",
       "<table border=\"1\" class=\"dataframe\">\n",
       "  <thead>\n",
       "    <tr style=\"text-align: right;\">\n",
       "      <th></th>\n",
       "      <th>x</th>\n",
       "      <th>y</th>\n",
       "    </tr>\n",
       "  </thead>\n",
       "  <tbody>\n",
       "    <tr>\n",
       "      <th>0</th>\n",
       "      <td>5</td>\n",
       "      <td>5</td>\n",
       "    </tr>\n",
       "    <tr>\n",
       "      <th>1</th>\n",
       "      <td>5</td>\n",
       "      <td>105</td>\n",
       "    </tr>\n",
       "    <tr>\n",
       "      <th>2</th>\n",
       "      <td>105</td>\n",
       "      <td>5</td>\n",
       "    </tr>\n",
       "  </tbody>\n",
       "</table>\n",
       "</div>"
      ],
      "text/plain": [
       "     x    y\n",
       "0    5    5\n",
       "1    5  105\n",
       "2  105    5"
      ]
     },
     "execution_count": 38,
     "metadata": {},
     "output_type": "execute_result"
    }
   ],
   "source": [
    "(dframe1 * dframe2) + 5"
   ]
  },
  {
   "cell_type": "code",
   "execution_count": null,
   "metadata": {
    "collapsed": true
   },
   "outputs": [],
   "source": [
    "# transpose"
   ]
  },
  {
   "cell_type": "code",
   "execution_count": 39,
   "metadata": {
    "collapsed": false
   },
   "outputs": [
    {
     "data": {
      "text/html": [
       "<div>\n",
       "<table border=\"1\" class=\"dataframe\">\n",
       "  <thead>\n",
       "    <tr style=\"text-align: right;\">\n",
       "      <th></th>\n",
       "      <th>0</th>\n",
       "      <th>1</th>\n",
       "      <th>2</th>\n",
       "    </tr>\n",
       "  </thead>\n",
       "  <tbody>\n",
       "    <tr>\n",
       "      <th>x</th>\n",
       "      <td>10</td>\n",
       "      <td>0</td>\n",
       "      <td>10</td>\n",
       "    </tr>\n",
       "    <tr>\n",
       "      <th>y</th>\n",
       "      <td>0</td>\n",
       "      <td>10</td>\n",
       "      <td>10</td>\n",
       "    </tr>\n",
       "  </tbody>\n",
       "</table>\n",
       "</div>"
      ],
      "text/plain": [
       "    0   1   2\n",
       "x  10   0  10\n",
       "y   0  10  10"
      ]
     },
     "execution_count": 39,
     "metadata": {},
     "output_type": "execute_result"
    }
   ],
   "source": [
    "dframe1.T"
   ]
  },
  {
   "cell_type": "code",
   "execution_count": 40,
   "metadata": {
    "collapsed": false
   },
   "outputs": [
    {
     "data": {
      "text/html": [
       "<div>\n",
       "<table border=\"1\" class=\"dataframe\">\n",
       "  <thead>\n",
       "    <tr style=\"text-align: right;\">\n",
       "      <th></th>\n",
       "      <th>a</th>\n",
       "      <th>b</th>\n",
       "      <th>c</th>\n",
       "    </tr>\n",
       "  </thead>\n",
       "  <tbody>\n",
       "    <tr>\n",
       "      <th>2016-10-22</th>\n",
       "      <td>0.605244</td>\n",
       "      <td>-0.224503</td>\n",
       "      <td>1.411214</td>\n",
       "    </tr>\n",
       "    <tr>\n",
       "      <th>2016-10-23</th>\n",
       "      <td>-0.476827</td>\n",
       "      <td>0.263432</td>\n",
       "      <td>-0.594605</td>\n",
       "    </tr>\n",
       "    <tr>\n",
       "      <th>2016-10-24</th>\n",
       "      <td>0.838683</td>\n",
       "      <td>-2.182945</td>\n",
       "      <td>-0.434403</td>\n",
       "    </tr>\n",
       "    <tr>\n",
       "      <th>2016-10-25</th>\n",
       "      <td>-0.085741</td>\n",
       "      <td>-0.562788</td>\n",
       "      <td>-0.146070</td>\n",
       "    </tr>\n",
       "    <tr>\n",
       "      <th>2016-10-26</th>\n",
       "      <td>-0.504075</td>\n",
       "      <td>0.065512</td>\n",
       "      <td>-0.097906</td>\n",
       "    </tr>\n",
       "    <tr>\n",
       "      <th>2016-10-27</th>\n",
       "      <td>-1.068745</td>\n",
       "      <td>0.667100</td>\n",
       "      <td>-0.670403</td>\n",
       "    </tr>\n",
       "    <tr>\n",
       "      <th>2016-10-28</th>\n",
       "      <td>1.156604</td>\n",
       "      <td>-0.877290</td>\n",
       "      <td>0.722105</td>\n",
       "    </tr>\n",
       "    <tr>\n",
       "      <th>2016-10-29</th>\n",
       "      <td>0.439503</td>\n",
       "      <td>-0.785378</td>\n",
       "      <td>-1.259223</td>\n",
       "    </tr>\n",
       "    <tr>\n",
       "      <th>2016-10-30</th>\n",
       "      <td>0.934991</td>\n",
       "      <td>1.194567</td>\n",
       "      <td>0.386111</td>\n",
       "    </tr>\n",
       "    <tr>\n",
       "      <th>2016-10-31</th>\n",
       "      <td>-1.361773</td>\n",
       "      <td>0.378821</td>\n",
       "      <td>1.064865</td>\n",
       "    </tr>\n",
       "  </tbody>\n",
       "</table>\n",
       "</div>"
      ],
      "text/plain": [
       "                   a         b         c\n",
       "2016-10-22  0.605244 -0.224503  1.411214\n",
       "2016-10-23 -0.476827  0.263432 -0.594605\n",
       "2016-10-24  0.838683 -2.182945 -0.434403\n",
       "2016-10-25 -0.085741 -0.562788 -0.146070\n",
       "2016-10-26 -0.504075  0.065512 -0.097906\n",
       "2016-10-27 -1.068745  0.667100 -0.670403\n",
       "2016-10-28  1.156604 -0.877290  0.722105\n",
       "2016-10-29  0.439503 -0.785378 -1.259223\n",
       "2016-10-30  0.934991  1.194567  0.386111\n",
       "2016-10-31 -1.361773  0.378821  1.064865"
      ]
     },
     "execution_count": 40,
     "metadata": {},
     "output_type": "execute_result"
    }
   ],
   "source": [
    "dframe"
   ]
  },
  {
   "cell_type": "code",
   "execution_count": 41,
   "metadata": {
    "collapsed": false
   },
   "outputs": [
    {
     "data": {
      "text/html": [
       "<div>\n",
       "<table border=\"1\" class=\"dataframe\">\n",
       "  <thead>\n",
       "    <tr style=\"text-align: right;\">\n",
       "      <th></th>\n",
       "      <th>2016-10-22 00:00:00</th>\n",
       "      <th>2016-10-23 00:00:00</th>\n",
       "      <th>2016-10-24 00:00:00</th>\n",
       "      <th>2016-10-25 00:00:00</th>\n",
       "      <th>2016-10-26 00:00:00</th>\n",
       "      <th>2016-10-27 00:00:00</th>\n",
       "      <th>2016-10-28 00:00:00</th>\n",
       "      <th>2016-10-29 00:00:00</th>\n",
       "      <th>2016-10-30 00:00:00</th>\n",
       "      <th>2016-10-31 00:00:00</th>\n",
       "    </tr>\n",
       "  </thead>\n",
       "  <tbody>\n",
       "    <tr>\n",
       "      <th>a</th>\n",
       "      <td>0.605244</td>\n",
       "      <td>-0.476827</td>\n",
       "      <td>0.838683</td>\n",
       "      <td>-0.085741</td>\n",
       "      <td>-0.504075</td>\n",
       "      <td>-1.068745</td>\n",
       "      <td>1.156604</td>\n",
       "      <td>0.439503</td>\n",
       "      <td>0.934991</td>\n",
       "      <td>-1.361773</td>\n",
       "    </tr>\n",
       "    <tr>\n",
       "      <th>b</th>\n",
       "      <td>-0.224503</td>\n",
       "      <td>0.263432</td>\n",
       "      <td>-2.182945</td>\n",
       "      <td>-0.562788</td>\n",
       "      <td>0.065512</td>\n",
       "      <td>0.667100</td>\n",
       "      <td>-0.877290</td>\n",
       "      <td>-0.785378</td>\n",
       "      <td>1.194567</td>\n",
       "      <td>0.378821</td>\n",
       "    </tr>\n",
       "    <tr>\n",
       "      <th>c</th>\n",
       "      <td>1.411214</td>\n",
       "      <td>-0.594605</td>\n",
       "      <td>-0.434403</td>\n",
       "      <td>-0.146070</td>\n",
       "      <td>-0.097906</td>\n",
       "      <td>-0.670403</td>\n",
       "      <td>0.722105</td>\n",
       "      <td>-1.259223</td>\n",
       "      <td>0.386111</td>\n",
       "      <td>1.064865</td>\n",
       "    </tr>\n",
       "  </tbody>\n",
       "</table>\n",
       "</div>"
      ],
      "text/plain": [
       "   2016-10-22  2016-10-23  2016-10-24  2016-10-25  2016-10-26  2016-10-27  \\\n",
       "a    0.605244   -0.476827    0.838683   -0.085741   -0.504075   -1.068745   \n",
       "b   -0.224503    0.263432   -2.182945   -0.562788    0.065512    0.667100   \n",
       "c    1.411214   -0.594605   -0.434403   -0.146070   -0.097906   -0.670403   \n",
       "\n",
       "   2016-10-28  2016-10-29  2016-10-30  2016-10-31  \n",
       "a    1.156604    0.439503    0.934991   -1.361773  \n",
       "b   -0.877290   -0.785378    1.194567    0.378821  \n",
       "c    0.722105   -1.259223    0.386111    1.064865  "
      ]
     },
     "execution_count": 41,
     "metadata": {},
     "output_type": "execute_result"
    }
   ],
   "source": [
    "dframe.T"
   ]
  },
  {
   "cell_type": "code",
   "execution_count": 42,
   "metadata": {
    "collapsed": false
   },
   "outputs": [
    {
     "data": {
      "text/html": [
       "<div>\n",
       "<table border=\"1\" class=\"dataframe\">\n",
       "  <thead>\n",
       "    <tr style=\"text-align: right;\">\n",
       "      <th></th>\n",
       "      <th>a</th>\n",
       "      <th>b</th>\n",
       "      <th>c</th>\n",
       "    </tr>\n",
       "  </thead>\n",
       "  <tbody>\n",
       "    <tr>\n",
       "      <th>2016-10-22</th>\n",
       "      <td>0.605244</td>\n",
       "      <td>-0.224503</td>\n",
       "      <td>1.411214</td>\n",
       "    </tr>\n",
       "    <tr>\n",
       "      <th>2016-10-23</th>\n",
       "      <td>-0.476827</td>\n",
       "      <td>0.263432</td>\n",
       "      <td>-0.594605</td>\n",
       "    </tr>\n",
       "    <tr>\n",
       "      <th>2016-10-24</th>\n",
       "      <td>0.838683</td>\n",
       "      <td>-2.182945</td>\n",
       "      <td>-0.434403</td>\n",
       "    </tr>\n",
       "    <tr>\n",
       "      <th>2016-10-25</th>\n",
       "      <td>-0.085741</td>\n",
       "      <td>-0.562788</td>\n",
       "      <td>-0.146070</td>\n",
       "    </tr>\n",
       "  </tbody>\n",
       "</table>\n",
       "</div>"
      ],
      "text/plain": [
       "                   a         b         c\n",
       "2016-10-22  0.605244 -0.224503  1.411214\n",
       "2016-10-23 -0.476827  0.263432 -0.594605\n",
       "2016-10-24  0.838683 -2.182945 -0.434403\n",
       "2016-10-25 -0.085741 -0.562788 -0.146070"
      ]
     },
     "execution_count": 42,
     "metadata": {},
     "output_type": "execute_result"
    }
   ],
   "source": [
    "dframe[:4]"
   ]
  },
  {
   "cell_type": "code",
   "execution_count": 43,
   "metadata": {
    "collapsed": false
   },
   "outputs": [
    {
     "data": {
      "text/html": [
       "<div>\n",
       "<table border=\"1\" class=\"dataframe\">\n",
       "  <thead>\n",
       "    <tr style=\"text-align: right;\">\n",
       "      <th></th>\n",
       "      <th>2016-10-22 00:00:00</th>\n",
       "      <th>2016-10-23 00:00:00</th>\n",
       "      <th>2016-10-24 00:00:00</th>\n",
       "      <th>2016-10-25 00:00:00</th>\n",
       "    </tr>\n",
       "  </thead>\n",
       "  <tbody>\n",
       "    <tr>\n",
       "      <th>a</th>\n",
       "      <td>0.605244</td>\n",
       "      <td>-0.476827</td>\n",
       "      <td>0.838683</td>\n",
       "      <td>-0.085741</td>\n",
       "    </tr>\n",
       "    <tr>\n",
       "      <th>b</th>\n",
       "      <td>-0.224503</td>\n",
       "      <td>0.263432</td>\n",
       "      <td>-2.182945</td>\n",
       "      <td>-0.562788</td>\n",
       "    </tr>\n",
       "    <tr>\n",
       "      <th>c</th>\n",
       "      <td>1.411214</td>\n",
       "      <td>-0.594605</td>\n",
       "      <td>-0.434403</td>\n",
       "      <td>-0.146070</td>\n",
       "    </tr>\n",
       "  </tbody>\n",
       "</table>\n",
       "</div>"
      ],
      "text/plain": [
       "   2016-10-22  2016-10-23  2016-10-24  2016-10-25\n",
       "a    0.605244   -0.476827    0.838683   -0.085741\n",
       "b   -0.224503    0.263432   -2.182945   -0.562788\n",
       "c    1.411214   -0.594605   -0.434403   -0.146070"
      ]
     },
     "execution_count": 43,
     "metadata": {},
     "output_type": "execute_result"
    }
   ],
   "source": [
    "dframe[:4].T"
   ]
  },
  {
   "cell_type": "code",
   "execution_count": 48,
   "metadata": {
    "collapsed": false
   },
   "outputs": [
    {
     "data": {
      "text/html": [
       "<div>\n",
       "<table border=\"1\" class=\"dataframe\">\n",
       "  <thead>\n",
       "    <tr style=\"text-align: right;\">\n",
       "      <th></th>\n",
       "      <th>a</th>\n",
       "      <th>b</th>\n",
       "      <th>c</th>\n",
       "    </tr>\n",
       "  </thead>\n",
       "  <tbody>\n",
       "    <tr>\n",
       "      <th>2016-10-22</th>\n",
       "      <td>0.605244</td>\n",
       "      <td>-0.224503</td>\n",
       "      <td>1.411214</td>\n",
       "    </tr>\n",
       "    <tr>\n",
       "      <th>2016-10-23</th>\n",
       "      <td>-0.476827</td>\n",
       "      <td>0.263432</td>\n",
       "      <td>-0.594605</td>\n",
       "    </tr>\n",
       "    <tr>\n",
       "      <th>2016-10-24</th>\n",
       "      <td>0.838683</td>\n",
       "      <td>-2.182945</td>\n",
       "      <td>-0.434403</td>\n",
       "    </tr>\n",
       "    <tr>\n",
       "      <th>2016-10-25</th>\n",
       "      <td>-0.085741</td>\n",
       "      <td>-0.562788</td>\n",
       "      <td>-0.146070</td>\n",
       "    </tr>\n",
       "    <tr>\n",
       "      <th>2016-10-26</th>\n",
       "      <td>-0.504075</td>\n",
       "      <td>0.065512</td>\n",
       "      <td>-0.097906</td>\n",
       "    </tr>\n",
       "    <tr>\n",
       "      <th>2016-10-27</th>\n",
       "      <td>-1.068745</td>\n",
       "      <td>0.667100</td>\n",
       "      <td>-0.670403</td>\n",
       "    </tr>\n",
       "    <tr>\n",
       "      <th>2016-10-28</th>\n",
       "      <td>1.156604</td>\n",
       "      <td>-0.877290</td>\n",
       "      <td>0.722105</td>\n",
       "    </tr>\n",
       "    <tr>\n",
       "      <th>2016-10-29</th>\n",
       "      <td>0.439503</td>\n",
       "      <td>-0.785378</td>\n",
       "      <td>-1.259223</td>\n",
       "    </tr>\n",
       "    <tr>\n",
       "      <th>2016-10-30</th>\n",
       "      <td>0.934991</td>\n",
       "      <td>1.194567</td>\n",
       "      <td>0.386111</td>\n",
       "    </tr>\n",
       "    <tr>\n",
       "      <th>2016-10-31</th>\n",
       "      <td>-1.361773</td>\n",
       "      <td>0.378821</td>\n",
       "      <td>1.064865</td>\n",
       "    </tr>\n",
       "  </tbody>\n",
       "</table>\n",
       "</div>"
      ],
      "text/plain": [
       "                   a         b         c\n",
       "2016-10-22  0.605244 -0.224503  1.411214\n",
       "2016-10-23 -0.476827  0.263432 -0.594605\n",
       "2016-10-24  0.838683 -2.182945 -0.434403\n",
       "2016-10-25 -0.085741 -0.562788 -0.146070\n",
       "2016-10-26 -0.504075  0.065512 -0.097906\n",
       "2016-10-27 -1.068745  0.667100 -0.670403\n",
       "2016-10-28  1.156604 -0.877290  0.722105\n",
       "2016-10-29  0.439503 -0.785378 -1.259223\n",
       "2016-10-30  0.934991  1.194567  0.386111\n",
       "2016-10-31 -1.361773  0.378821  1.064865"
      ]
     },
     "execution_count": 48,
     "metadata": {},
     "output_type": "execute_result"
    }
   ],
   "source": [
    "dframe"
   ]
  },
  {
   "cell_type": "code",
   "execution_count": 49,
   "metadata": {
    "collapsed": false
   },
   "outputs": [
    {
     "data": {
      "text/html": [
       "<div>\n",
       "<table border=\"1\" class=\"dataframe\">\n",
       "  <thead>\n",
       "    <tr style=\"text-align: right;\">\n",
       "      <th></th>\n",
       "      <th>a</th>\n",
       "      <th>b</th>\n",
       "      <th>c</th>\n",
       "    </tr>\n",
       "  </thead>\n",
       "  <tbody>\n",
       "    <tr>\n",
       "      <th>2016-10-22</th>\n",
       "      <td>1.831699</td>\n",
       "      <td>0.798913</td>\n",
       "      <td>4.100933</td>\n",
       "    </tr>\n",
       "    <tr>\n",
       "      <th>2016-10-23</th>\n",
       "      <td>0.620750</td>\n",
       "      <td>1.301389</td>\n",
       "      <td>0.551780</td>\n",
       "    </tr>\n",
       "    <tr>\n",
       "      <th>2016-10-24</th>\n",
       "      <td>2.313319</td>\n",
       "      <td>0.112709</td>\n",
       "      <td>0.647651</td>\n",
       "    </tr>\n",
       "    <tr>\n",
       "      <th>2016-10-25</th>\n",
       "      <td>0.917832</td>\n",
       "      <td>0.569619</td>\n",
       "      <td>0.864097</td>\n",
       "    </tr>\n",
       "    <tr>\n",
       "      <th>2016-10-26</th>\n",
       "      <td>0.604064</td>\n",
       "      <td>1.067705</td>\n",
       "      <td>0.906734</td>\n",
       "    </tr>\n",
       "    <tr>\n",
       "      <th>2016-10-27</th>\n",
       "      <td>0.343439</td>\n",
       "      <td>1.948578</td>\n",
       "      <td>0.511503</td>\n",
       "    </tr>\n",
       "    <tr>\n",
       "      <th>2016-10-28</th>\n",
       "      <td>3.179120</td>\n",
       "      <td>0.415909</td>\n",
       "      <td>2.058762</td>\n",
       "    </tr>\n",
       "    <tr>\n",
       "      <th>2016-10-29</th>\n",
       "      <td>1.551935</td>\n",
       "      <td>0.455948</td>\n",
       "      <td>0.283875</td>\n",
       "    </tr>\n",
       "    <tr>\n",
       "      <th>2016-10-30</th>\n",
       "      <td>2.547191</td>\n",
       "      <td>3.302128</td>\n",
       "      <td>1.471248</td>\n",
       "    </tr>\n",
       "    <tr>\n",
       "      <th>2016-10-31</th>\n",
       "      <td>0.256206</td>\n",
       "      <td>1.460562</td>\n",
       "      <td>2.900448</td>\n",
       "    </tr>\n",
       "  </tbody>\n",
       "</table>\n",
       "</div>"
      ],
      "text/plain": [
       "                   a         b         c\n",
       "2016-10-22  1.831699  0.798913  4.100933\n",
       "2016-10-23  0.620750  1.301389  0.551780\n",
       "2016-10-24  2.313319  0.112709  0.647651\n",
       "2016-10-25  0.917832  0.569619  0.864097\n",
       "2016-10-26  0.604064  1.067705  0.906734\n",
       "2016-10-27  0.343439  1.948578  0.511503\n",
       "2016-10-28  3.179120  0.415909  2.058762\n",
       "2016-10-29  1.551935  0.455948  0.283875\n",
       "2016-10-30  2.547191  3.302128  1.471248\n",
       "2016-10-31  0.256206  1.460562  2.900448"
      ]
     },
     "execution_count": 49,
     "metadata": {},
     "output_type": "execute_result"
    }
   ],
   "source": [
    "np.exp(dframe)"
   ]
  },
  {
   "cell_type": "code",
   "execution_count": 50,
   "metadata": {
    "collapsed": false
   },
   "outputs": [
    {
     "data": {
      "text/html": [
       "<div>\n",
       "<table border=\"1\" class=\"dataframe\">\n",
       "  <thead>\n",
       "    <tr style=\"text-align: right;\">\n",
       "      <th></th>\n",
       "      <th>a</th>\n",
       "      <th>b</th>\n",
       "      <th>c</th>\n",
       "    </tr>\n",
       "  </thead>\n",
       "  <tbody>\n",
       "    <tr>\n",
       "      <th>2016-10-22</th>\n",
       "      <td>-0.502124</td>\n",
       "      <td>NaN</td>\n",
       "      <td>0.344451</td>\n",
       "    </tr>\n",
       "    <tr>\n",
       "      <th>2016-10-23</th>\n",
       "      <td>NaN</td>\n",
       "      <td>-1.333959</td>\n",
       "      <td>NaN</td>\n",
       "    </tr>\n",
       "    <tr>\n",
       "      <th>2016-10-24</th>\n",
       "      <td>-0.175922</td>\n",
       "      <td>NaN</td>\n",
       "      <td>NaN</td>\n",
       "    </tr>\n",
       "    <tr>\n",
       "      <th>2016-10-25</th>\n",
       "      <td>NaN</td>\n",
       "      <td>NaN</td>\n",
       "      <td>NaN</td>\n",
       "    </tr>\n",
       "    <tr>\n",
       "      <th>2016-10-26</th>\n",
       "      <td>NaN</td>\n",
       "      <td>-2.725525</td>\n",
       "      <td>NaN</td>\n",
       "    </tr>\n",
       "    <tr>\n",
       "      <th>2016-10-27</th>\n",
       "      <td>NaN</td>\n",
       "      <td>-0.404816</td>\n",
       "      <td>NaN</td>\n",
       "    </tr>\n",
       "    <tr>\n",
       "      <th>2016-10-28</th>\n",
       "      <td>0.145489</td>\n",
       "      <td>NaN</td>\n",
       "      <td>-0.325585</td>\n",
       "    </tr>\n",
       "    <tr>\n",
       "      <th>2016-10-29</th>\n",
       "      <td>-0.822112</td>\n",
       "      <td>NaN</td>\n",
       "      <td>NaN</td>\n",
       "    </tr>\n",
       "    <tr>\n",
       "      <th>2016-10-30</th>\n",
       "      <td>-0.067218</td>\n",
       "      <td>0.177784</td>\n",
       "      <td>-0.951631</td>\n",
       "    </tr>\n",
       "    <tr>\n",
       "      <th>2016-10-31</th>\n",
       "      <td>NaN</td>\n",
       "      <td>-0.970691</td>\n",
       "      <td>0.062848</td>\n",
       "    </tr>\n",
       "  </tbody>\n",
       "</table>\n",
       "</div>"
      ],
      "text/plain": [
       "                   a         b         c\n",
       "2016-10-22 -0.502124       NaN  0.344451\n",
       "2016-10-23       NaN -1.333959       NaN\n",
       "2016-10-24 -0.175922       NaN       NaN\n",
       "2016-10-25       NaN       NaN       NaN\n",
       "2016-10-26       NaN -2.725525       NaN\n",
       "2016-10-27       NaN -0.404816       NaN\n",
       "2016-10-28  0.145489       NaN -0.325585\n",
       "2016-10-29 -0.822112       NaN       NaN\n",
       "2016-10-30 -0.067218  0.177784 -0.951631\n",
       "2016-10-31       NaN -0.970691  0.062848"
      ]
     },
     "execution_count": 50,
     "metadata": {},
     "output_type": "execute_result"
    }
   ],
   "source": [
    "np.log(dframe)"
   ]
  },
  {
   "cell_type": "code",
   "execution_count": 51,
   "metadata": {
    "collapsed": false
   },
   "outputs": [
    {
     "data": {
      "text/html": [
       "<div>\n",
       "<table border=\"1\" class=\"dataframe\">\n",
       "  <thead>\n",
       "    <tr style=\"text-align: right;\">\n",
       "      <th></th>\n",
       "      <th>a</th>\n",
       "      <th>b</th>\n",
       "      <th>c</th>\n",
       "    </tr>\n",
       "  </thead>\n",
       "  <tbody>\n",
       "    <tr>\n",
       "      <th>2016-10-22</th>\n",
       "      <td>0.777974</td>\n",
       "      <td>NaN</td>\n",
       "      <td>1.187945</td>\n",
       "    </tr>\n",
       "    <tr>\n",
       "      <th>2016-10-23</th>\n",
       "      <td>NaN</td>\n",
       "      <td>0.513256</td>\n",
       "      <td>NaN</td>\n",
       "    </tr>\n",
       "    <tr>\n",
       "      <th>2016-10-24</th>\n",
       "      <td>0.915797</td>\n",
       "      <td>NaN</td>\n",
       "      <td>NaN</td>\n",
       "    </tr>\n",
       "    <tr>\n",
       "      <th>2016-10-25</th>\n",
       "      <td>NaN</td>\n",
       "      <td>NaN</td>\n",
       "      <td>NaN</td>\n",
       "    </tr>\n",
       "    <tr>\n",
       "      <th>2016-10-26</th>\n",
       "      <td>NaN</td>\n",
       "      <td>0.255953</td>\n",
       "      <td>NaN</td>\n",
       "    </tr>\n",
       "    <tr>\n",
       "      <th>2016-10-27</th>\n",
       "      <td>NaN</td>\n",
       "      <td>0.816762</td>\n",
       "      <td>NaN</td>\n",
       "    </tr>\n",
       "    <tr>\n",
       "      <th>2016-10-28</th>\n",
       "      <td>1.075455</td>\n",
       "      <td>NaN</td>\n",
       "      <td>0.849768</td>\n",
       "    </tr>\n",
       "    <tr>\n",
       "      <th>2016-10-29</th>\n",
       "      <td>0.662950</td>\n",
       "      <td>NaN</td>\n",
       "      <td>NaN</td>\n",
       "    </tr>\n",
       "    <tr>\n",
       "      <th>2016-10-30</th>\n",
       "      <td>0.966949</td>\n",
       "      <td>1.092962</td>\n",
       "      <td>0.621378</td>\n",
       "    </tr>\n",
       "    <tr>\n",
       "      <th>2016-10-31</th>\n",
       "      <td>NaN</td>\n",
       "      <td>0.615485</td>\n",
       "      <td>1.031923</td>\n",
       "    </tr>\n",
       "  </tbody>\n",
       "</table>\n",
       "</div>"
      ],
      "text/plain": [
       "                   a         b         c\n",
       "2016-10-22  0.777974       NaN  1.187945\n",
       "2016-10-23       NaN  0.513256       NaN\n",
       "2016-10-24  0.915797       NaN       NaN\n",
       "2016-10-25       NaN       NaN       NaN\n",
       "2016-10-26       NaN  0.255953       NaN\n",
       "2016-10-27       NaN  0.816762       NaN\n",
       "2016-10-28  1.075455       NaN  0.849768\n",
       "2016-10-29  0.662950       NaN       NaN\n",
       "2016-10-30  0.966949  1.092962  0.621378\n",
       "2016-10-31       NaN  0.615485  1.031923"
      ]
     },
     "execution_count": 51,
     "metadata": {},
     "output_type": "execute_result"
    }
   ],
   "source": [
    "np.sqrt(dframe)"
   ]
  },
  {
   "cell_type": "code",
   "execution_count": 52,
   "metadata": {
    "collapsed": false
   },
   "outputs": [
    {
     "data": {
      "text/plain": [
       "array([[ 0.60524399, -0.22450321,  1.41121443],\n",
       "       [-0.47682726,  0.26343214, -0.594605  ],\n",
       "       [ 0.83868331, -2.1829453 , -0.43440274],\n",
       "       [-0.08574057, -0.56278798, -0.14606969],\n",
       "       [-0.50407535,  0.06551182, -0.09790603],\n",
       "       [-1.06874547,  0.66709962, -0.6704026 ],\n",
       "       [ 1.15660447, -0.87728952,  0.72210485],\n",
       "       [ 0.43950264, -0.78537757, -1.259223  ],\n",
       "       [ 0.93499122,  1.194567  ,  0.3861109 ],\n",
       "       [-1.36177341,  0.37882119,  1.06486531]])"
      ]
     },
     "execution_count": 52,
     "metadata": {},
     "output_type": "execute_result"
    }
   ],
   "source": [
    "np.asarray(dframe)"
   ]
  },
  {
   "cell_type": "code",
   "execution_count": 53,
   "metadata": {
    "collapsed": false
   },
   "outputs": [
    {
     "data": {
      "text/html": [
       "<div>\n",
       "<table border=\"1\" class=\"dataframe\">\n",
       "  <thead>\n",
       "    <tr style=\"text-align: right;\">\n",
       "      <th></th>\n",
       "      <th>a</th>\n",
       "      <th>b</th>\n",
       "      <th>c</th>\n",
       "    </tr>\n",
       "  </thead>\n",
       "  <tbody>\n",
       "    <tr>\n",
       "      <th>2016-10-22</th>\n",
       "      <td>0.605244</td>\n",
       "      <td>-0.224503</td>\n",
       "      <td>1.411214</td>\n",
       "    </tr>\n",
       "    <tr>\n",
       "      <th>2016-10-23</th>\n",
       "      <td>-0.476827</td>\n",
       "      <td>0.263432</td>\n",
       "      <td>-0.594605</td>\n",
       "    </tr>\n",
       "    <tr>\n",
       "      <th>2016-10-24</th>\n",
       "      <td>0.838683</td>\n",
       "      <td>-2.182945</td>\n",
       "      <td>-0.434403</td>\n",
       "    </tr>\n",
       "    <tr>\n",
       "      <th>2016-10-25</th>\n",
       "      <td>-0.085741</td>\n",
       "      <td>-0.562788</td>\n",
       "      <td>-0.146070</td>\n",
       "    </tr>\n",
       "    <tr>\n",
       "      <th>2016-10-26</th>\n",
       "      <td>-0.504075</td>\n",
       "      <td>0.065512</td>\n",
       "      <td>-0.097906</td>\n",
       "    </tr>\n",
       "    <tr>\n",
       "      <th>2016-10-27</th>\n",
       "      <td>-1.068745</td>\n",
       "      <td>0.667100</td>\n",
       "      <td>-0.670403</td>\n",
       "    </tr>\n",
       "    <tr>\n",
       "      <th>2016-10-28</th>\n",
       "      <td>1.156604</td>\n",
       "      <td>-0.877290</td>\n",
       "      <td>0.722105</td>\n",
       "    </tr>\n",
       "    <tr>\n",
       "      <th>2016-10-29</th>\n",
       "      <td>0.439503</td>\n",
       "      <td>-0.785378</td>\n",
       "      <td>-1.259223</td>\n",
       "    </tr>\n",
       "    <tr>\n",
       "      <th>2016-10-30</th>\n",
       "      <td>0.934991</td>\n",
       "      <td>1.194567</td>\n",
       "      <td>0.386111</td>\n",
       "    </tr>\n",
       "    <tr>\n",
       "      <th>2016-10-31</th>\n",
       "      <td>-1.361773</td>\n",
       "      <td>0.378821</td>\n",
       "      <td>1.064865</td>\n",
       "    </tr>\n",
       "  </tbody>\n",
       "</table>\n",
       "</div>"
      ],
      "text/plain": [
       "                   a         b         c\n",
       "2016-10-22  0.605244 -0.224503  1.411214\n",
       "2016-10-23 -0.476827  0.263432 -0.594605\n",
       "2016-10-24  0.838683 -2.182945 -0.434403\n",
       "2016-10-25 -0.085741 -0.562788 -0.146070\n",
       "2016-10-26 -0.504075  0.065512 -0.097906\n",
       "2016-10-27 -1.068745  0.667100 -0.670403\n",
       "2016-10-28  1.156604 -0.877290  0.722105\n",
       "2016-10-29  0.439503 -0.785378 -1.259223\n",
       "2016-10-30  0.934991  1.194567  0.386111\n",
       "2016-10-31 -1.361773  0.378821  1.064865"
      ]
     },
     "execution_count": 53,
     "metadata": {},
     "output_type": "execute_result"
    }
   ],
   "source": [
    "dframe"
   ]
  },
  {
   "cell_type": "code",
   "execution_count": null,
   "metadata": {
    "collapsed": true
   },
   "outputs": [],
   "source": []
  },
  {
   "cell_type": "code",
   "execution_count": null,
   "metadata": {
    "collapsed": true
   },
   "outputs": [],
   "source": []
  },
  {
   "cell_type": "code",
   "execution_count": null,
   "metadata": {
    "collapsed": true
   },
   "outputs": [],
   "source": []
  },
  {
   "cell_type": "code",
   "execution_count": null,
   "metadata": {
    "collapsed": true
   },
   "outputs": [],
   "source": []
  },
  {
   "cell_type": "code",
   "execution_count": null,
   "metadata": {
    "collapsed": true
   },
   "outputs": [],
   "source": []
  },
  {
   "cell_type": "code",
   "execution_count": null,
   "metadata": {
    "collapsed": true
   },
   "outputs": [],
   "source": []
  },
  {
   "cell_type": "code",
   "execution_count": null,
   "metadata": {
    "collapsed": true
   },
   "outputs": [],
   "source": []
  },
  {
   "cell_type": "code",
   "execution_count": null,
   "metadata": {
    "collapsed": true
   },
   "outputs": [],
   "source": []
  },
  {
   "cell_type": "code",
   "execution_count": null,
   "metadata": {
    "collapsed": true
   },
   "outputs": [],
   "source": []
  }
 ],
 "metadata": {
  "kernelspec": {
   "display_name": "Python 2",
   "language": "python",
   "name": "python2"
  },
  "language_info": {
   "codemirror_mode": {
    "name": "ipython",
    "version": 2
   },
   "file_extension": ".py",
   "mimetype": "text/x-python",
   "name": "python",
   "nbconvert_exporter": "python",
   "pygments_lexer": "ipython2",
   "version": "2.7.12"
  }
 },
 "nbformat": 4,
 "nbformat_minor": 0
}
