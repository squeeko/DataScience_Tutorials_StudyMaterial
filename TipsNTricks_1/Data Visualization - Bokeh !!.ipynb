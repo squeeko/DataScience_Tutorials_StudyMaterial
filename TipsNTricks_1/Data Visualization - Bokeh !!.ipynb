{
 "cells": [
  {
   "cell_type": "code",
   "execution_count": null,
   "metadata": {
    "collapsed": true
   },
   "outputs": [],
   "source": [
    "# conda install bokeh or pip install bokeh"
   ]
  },
  {
   "cell_type": "code",
   "execution_count": null,
   "metadata": {
    "collapsed": true
   },
   "outputs": [],
   "source": [
    "# 3 interfaces bokeh.charts, bokeh.plotting, bokeh.models"
   ]
  },
  {
   "cell_type": "code",
   "execution_count": 1,
   "metadata": {
    "collapsed": true
   },
   "outputs": [],
   "source": [
    "import bokeh"
   ]
  },
  {
   "cell_type": "code",
   "execution_count": null,
   "metadata": {
    "collapsed": true
   },
   "outputs": [],
   "source": [
    "# output_notebook, output_file"
   ]
  },
  {
   "cell_type": "code",
   "execution_count": 2,
   "metadata": {
    "collapsed": true
   },
   "outputs": [],
   "source": [
    "from bokeh.io import output_notebook, show\n",
    "from bokeh.plotting import figure"
   ]
  },
  {
   "cell_type": "code",
   "execution_count": 3,
   "metadata": {
    "collapsed": false
   },
   "outputs": [
    {
     "data": {
      "text/html": [
       "\n",
       "    <div class=\"bk-root\">\n",
       "        <a href=\"http://bokeh.pydata.org\" target=\"_blank\" class=\"bk-logo bk-logo-small bk-logo-notebook\"></a>\n",
       "        <span id=\"29c4dc89-00f6-47c4-b692-8f49358476f0\">Loading BokehJS ...</span>\n",
       "    </div>"
      ]
     },
     "metadata": {},
     "output_type": "display_data"
    },
    {
     "data": {
      "application/javascript": [
       "\n",
       "(function(global) {\n",
       "  function now() {\n",
       "    return new Date();\n",
       "  }\n",
       "\n",
       "  var force = \"1\";\n",
       "\n",
       "  if (typeof (window._bokeh_onload_callbacks) === \"undefined\" || force !== \"\") {\n",
       "    window._bokeh_onload_callbacks = [];\n",
       "    window._bokeh_is_loading = undefined;\n",
       "  }\n",
       "\n",
       "  function run_callbacks() {\n",
       "    window._bokeh_onload_callbacks.forEach(function(callback) { callback() });\n",
       "    delete window._bokeh_onload_callbacks\n",
       "    console.info(\"Bokeh: all callbacks have finished\");\n",
       "  }\n",
       "\n",
       "  function load_libs(js_urls, callback) {\n",
       "    window._bokeh_onload_callbacks.push(callback);\n",
       "    if (window._bokeh_is_loading > 0) {\n",
       "      console.log(\"Bokeh: BokehJS is being loaded, scheduling callback at\", now());\n",
       "      return null;\n",
       "    }\n",
       "    if (js_urls == null || js_urls.length === 0) {\n",
       "      run_callbacks();\n",
       "      return null;\n",
       "    }\n",
       "    console.log(\"Bokeh: BokehJS not loaded, scheduling load and callback at\", now());\n",
       "    window._bokeh_is_loading = js_urls.length;\n",
       "    for (var i = 0; i < js_urls.length; i++) {\n",
       "      var url = js_urls[i];\n",
       "      var s = document.createElement('script');\n",
       "      s.src = url;\n",
       "      s.async = false;\n",
       "      s.onreadystatechange = s.onload = function() {\n",
       "        window._bokeh_is_loading--;\n",
       "        if (window._bokeh_is_loading === 0) {\n",
       "          console.log(\"Bokeh: all BokehJS libraries loaded\");\n",
       "          run_callbacks()\n",
       "        }\n",
       "      };\n",
       "      s.onerror = function() {\n",
       "        console.warn(\"failed to load library \" + url);\n",
       "      };\n",
       "      console.log(\"Bokeh: injecting script tag for BokehJS library: \", url);\n",
       "      document.getElementsByTagName(\"head\")[0].appendChild(s);\n",
       "    }\n",
       "  };\n",
       "\n",
       "  var js_urls = ['https://cdn.pydata.org/bokeh/release/bokeh-0.12.1.min.js', 'https://cdn.pydata.org/bokeh/release/bokeh-widgets-0.12.1.min.js', 'https://cdn.pydata.org/bokeh/release/bokeh-compiler-0.12.1.min.js'];\n",
       "\n",
       "  var inline_js = [\n",
       "    function(Bokeh) {\n",
       "      Bokeh.set_log_level(\"info\");\n",
       "    },\n",
       "    \n",
       "    function(Bokeh) {\n",
       "      \n",
       "      Bokeh.$(\"#29c4dc89-00f6-47c4-b692-8f49358476f0\").text(\"BokehJS successfully loaded\");\n",
       "      var kernel = Jupyter.notebook.kernel\n",
       "      if (kernel.execute !== undefined) {\n",
       "          kernel.execute(\"import bokeh.io; bokeh.io._nb_loaded = True\");\n",
       "      }\n",
       "    },\n",
       "    function(Bokeh) {\n",
       "      console.log(\"Bokeh: injecting CSS: https://cdn.pydata.org/bokeh/release/bokeh-0.12.1.min.css\");\n",
       "      Bokeh.embed.inject_css(\"https://cdn.pydata.org/bokeh/release/bokeh-0.12.1.min.css\");\n",
       "      console.log(\"Bokeh: injecting CSS: https://cdn.pydata.org/bokeh/release/bokeh-widgets-0.12.1.min.css\");\n",
       "      Bokeh.embed.inject_css(\"https://cdn.pydata.org/bokeh/release/bokeh-widgets-0.12.1.min.css\");\n",
       "    }\n",
       "  ];\n",
       "\n",
       "  function run_inline_js() {\n",
       "    for (var i = 0; i < inline_js.length; i++) {\n",
       "      inline_js[i](window.Bokeh);\n",
       "    }\n",
       "  }\n",
       "\n",
       "  if (window._bokeh_is_loading === 0) {\n",
       "    console.log(\"Bokeh: BokehJS loaded, going straight to plotting\");\n",
       "    run_inline_js();\n",
       "  } else {\n",
       "    load_libs(js_urls, function() {\n",
       "      console.log(\"Bokeh: BokehJS plotting callback run at\", now());\n",
       "      run_inline_js();\n",
       "    });\n",
       "  }\n",
       "}(this));"
      ]
     },
     "metadata": {},
     "output_type": "display_data"
    }
   ],
   "source": [
    "output_notebook()"
   ]
  },
  {
   "cell_type": "code",
   "execution_count": null,
   "metadata": {
    "collapsed": true
   },
   "outputs": [],
   "source": [
    "# scatter plots"
   ]
  },
  {
   "cell_type": "code",
   "execution_count": 4,
   "metadata": {
    "collapsed": true
   },
   "outputs": [],
   "source": [
    "p = figure(plot_width=450, plot_height=350)"
   ]
  },
  {
   "cell_type": "code",
   "execution_count": 6,
   "metadata": {
    "collapsed": false
   },
   "outputs": [],
   "source": [
    "#show(p)"
   ]
  },
  {
   "cell_type": "code",
   "execution_count": 7,
   "metadata": {
    "collapsed": false
   },
   "outputs": [
    {
     "data": {
      "text/html": [
       "\n",
       "\n",
       "    <div class=\"bk-root\">\n",
       "        <div class=\"plotdiv\" id=\"35aa6b8e-742a-4fdb-9b4d-fe4407a7da1d\"></div>\n",
       "    </div>\n",
       "<script type=\"text/javascript\">\n",
       "  \n",
       "  (function(global) {\n",
       "    function now() {\n",
       "      return new Date();\n",
       "    }\n",
       "  \n",
       "    var force = \"\";\n",
       "  \n",
       "    if (typeof (window._bokeh_onload_callbacks) === \"undefined\" || force !== \"\") {\n",
       "      window._bokeh_onload_callbacks = [];\n",
       "      window._bokeh_is_loading = undefined;\n",
       "    }\n",
       "  \n",
       "    function run_callbacks() {\n",
       "      window._bokeh_onload_callbacks.forEach(function(callback) { callback() });\n",
       "      delete window._bokeh_onload_callbacks\n",
       "      console.info(\"Bokeh: all callbacks have finished\");\n",
       "    }\n",
       "  \n",
       "    function load_libs(js_urls, callback) {\n",
       "      window._bokeh_onload_callbacks.push(callback);\n",
       "      if (window._bokeh_is_loading > 0) {\n",
       "        console.log(\"Bokeh: BokehJS is being loaded, scheduling callback at\", now());\n",
       "        return null;\n",
       "      }\n",
       "      if (js_urls == null || js_urls.length === 0) {\n",
       "        run_callbacks();\n",
       "        return null;\n",
       "      }\n",
       "      console.log(\"Bokeh: BokehJS not loaded, scheduling load and callback at\", now());\n",
       "      window._bokeh_is_loading = js_urls.length;\n",
       "      for (var i = 0; i < js_urls.length; i++) {\n",
       "        var url = js_urls[i];\n",
       "        var s = document.createElement('script');\n",
       "        s.src = url;\n",
       "        s.async = false;\n",
       "        s.onreadystatechange = s.onload = function() {\n",
       "          window._bokeh_is_loading--;\n",
       "          if (window._bokeh_is_loading === 0) {\n",
       "            console.log(\"Bokeh: all BokehJS libraries loaded\");\n",
       "            run_callbacks()\n",
       "          }\n",
       "        };\n",
       "        s.onerror = function() {\n",
       "          console.warn(\"failed to load library \" + url);\n",
       "        };\n",
       "        console.log(\"Bokeh: injecting script tag for BokehJS library: \", url);\n",
       "        document.getElementsByTagName(\"head\")[0].appendChild(s);\n",
       "      }\n",
       "    };var element = document.getElementById(\"35aa6b8e-742a-4fdb-9b4d-fe4407a7da1d\");\n",
       "    if (element == null) {\n",
       "      console.log(\"Bokeh: ERROR: autoload.js configured with elementid '35aa6b8e-742a-4fdb-9b4d-fe4407a7da1d' but no matching script tag was found. \")\n",
       "      return false;\n",
       "    }\n",
       "  \n",
       "    var js_urls = [];\n",
       "  \n",
       "    var inline_js = [\n",
       "      function(Bokeh) {\n",
       "        Bokeh.$(function() {\n",
       "            var docs_json = {\"c848f9ee-a45e-4153-8e2f-8adbe1dc23ad\":{\"roots\":{\"references\":[{\"attributes\":{\"dimension\":1,\"plot\":{\"id\":\"2178ca33-1f67-4f3b-9fc7-a9ca090b97ab\",\"subtype\":\"Figure\",\"type\":\"Plot\"},\"ticker\":{\"id\":\"6df2c2e7-5be5-4330-a335-96fb4f652298\",\"type\":\"BasicTicker\"}},\"id\":\"11d322b5-1fcf-42f1-8317-b9c8a18ef362\",\"type\":\"Grid\"},{\"attributes\":{},\"id\":\"155a96f2-5290-44e9-bbf5-9fc46d82669e\",\"type\":\"BasicTicker\"},{\"attributes\":{\"callback\":null,\"column_names\":[\"y\",\"x\"],\"data\":{\"x\":[2,4,6,8],\"y\":[4,3,7,1]}},\"id\":\"a9b11518-4c4a-4930-9099-92cf038251f9\",\"type\":\"ColumnDataSource\"},{\"attributes\":{\"plot\":{\"id\":\"2178ca33-1f67-4f3b-9fc7-a9ca090b97ab\",\"subtype\":\"Figure\",\"type\":\"Plot\"},\"ticker\":{\"id\":\"155a96f2-5290-44e9-bbf5-9fc46d82669e\",\"type\":\"BasicTicker\"}},\"id\":\"a125ac07-ad29-439c-b35e-34551cb26def\",\"type\":\"Grid\"},{\"attributes\":{\"bottom_units\":\"screen\",\"fill_alpha\":{\"value\":0.5},\"fill_color\":{\"value\":\"lightgrey\"},\"left_units\":\"screen\",\"level\":\"overlay\",\"line_alpha\":{\"value\":1.0},\"line_color\":{\"value\":\"black\"},\"line_dash\":[4,4],\"line_width\":{\"value\":2},\"plot\":null,\"render_mode\":\"css\",\"right_units\":\"screen\",\"top_units\":\"screen\"},\"id\":\"cbb047ce-bb43-4712-854f-e0f8432eeb4e\",\"type\":\"BoxAnnotation\"},{\"attributes\":{\"callback\":null},\"id\":\"416681bb-866d-48fa-b6c9-f1f1001e026a\",\"type\":\"DataRange1d\"},{\"attributes\":{\"formatter\":{\"id\":\"0506936d-594d-4d64-8547-5f3f254053a9\",\"type\":\"BasicTickFormatter\"},\"plot\":{\"id\":\"2178ca33-1f67-4f3b-9fc7-a9ca090b97ab\",\"subtype\":\"Figure\",\"type\":\"Plot\"},\"ticker\":{\"id\":\"6df2c2e7-5be5-4330-a335-96fb4f652298\",\"type\":\"BasicTicker\"}},\"id\":\"e4a9237a-ba12-4e34-b831-0465ba2ec996\",\"type\":\"LinearAxis\"},{\"attributes\":{\"plot\":{\"id\":\"2178ca33-1f67-4f3b-9fc7-a9ca090b97ab\",\"subtype\":\"Figure\",\"type\":\"Plot\"}},\"id\":\"6972b334-d45f-403d-85fd-a5dd65857f00\",\"type\":\"WheelZoomTool\"},{\"attributes\":{\"callback\":null},\"id\":\"f9db7ab4-ef74-44a3-9a15-5fecff78a703\",\"type\":\"DataRange1d\"},{\"attributes\":{\"below\":[{\"id\":\"a70e2cb0-5bec-494c-8ffc-7dc81239cdd9\",\"type\":\"LinearAxis\"}],\"left\":[{\"id\":\"e4a9237a-ba12-4e34-b831-0465ba2ec996\",\"type\":\"LinearAxis\"}],\"plot_height\":350,\"plot_width\":450,\"renderers\":[{\"id\":\"a70e2cb0-5bec-494c-8ffc-7dc81239cdd9\",\"type\":\"LinearAxis\"},{\"id\":\"a125ac07-ad29-439c-b35e-34551cb26def\",\"type\":\"Grid\"},{\"id\":\"e4a9237a-ba12-4e34-b831-0465ba2ec996\",\"type\":\"LinearAxis\"},{\"id\":\"11d322b5-1fcf-42f1-8317-b9c8a18ef362\",\"type\":\"Grid\"},{\"id\":\"cbb047ce-bb43-4712-854f-e0f8432eeb4e\",\"type\":\"BoxAnnotation\"},{\"id\":\"bb1b5f8e-e50a-43b0-a46e-17238231ab7a\",\"type\":\"GlyphRenderer\"}],\"title\":{\"id\":\"d2f07d74-c396-4af7-9793-107cc830e345\",\"type\":\"Title\"},\"tool_events\":{\"id\":\"87745a58-a561-4920-a7ad-9257d9fc8b0e\",\"type\":\"ToolEvents\"},\"toolbar\":{\"id\":\"c7c57953-69d7-448e-9e0f-f98170a6fb51\",\"type\":\"Toolbar\"},\"x_range\":{\"id\":\"416681bb-866d-48fa-b6c9-f1f1001e026a\",\"type\":\"DataRange1d\"},\"y_range\":{\"id\":\"f9db7ab4-ef74-44a3-9a15-5fecff78a703\",\"type\":\"DataRange1d\"}},\"id\":\"2178ca33-1f67-4f3b-9fc7-a9ca090b97ab\",\"subtype\":\"Figure\",\"type\":\"Plot\"},{\"attributes\":{\"plot\":{\"id\":\"2178ca33-1f67-4f3b-9fc7-a9ca090b97ab\",\"subtype\":\"Figure\",\"type\":\"Plot\"}},\"id\":\"1bc0ef04-3b54-4d37-a41f-08261883a76e\",\"type\":\"ResetTool\"},{\"attributes\":{\"plot\":{\"id\":\"2178ca33-1f67-4f3b-9fc7-a9ca090b97ab\",\"subtype\":\"Figure\",\"type\":\"Plot\"}},\"id\":\"c23d65d5-eedc-47ad-b911-939634280d56\",\"type\":\"SaveTool\"},{\"attributes\":{\"fill_color\":{\"value\":\"#1f77b4\"},\"line_color\":{\"value\":\"#1f77b4\"},\"x\":{\"field\":\"x\"},\"y\":{\"field\":\"y\"}},\"id\":\"76db2237-0011-48ae-a4e8-4ec61594f8d5\",\"type\":\"Circle\"},{\"attributes\":{\"plot\":null,\"text\":null},\"id\":\"d2f07d74-c396-4af7-9793-107cc830e345\",\"type\":\"Title\"},{\"attributes\":{\"formatter\":{\"id\":\"2894e7e7-56f1-4c87-8f69-63c548f851c1\",\"type\":\"BasicTickFormatter\"},\"plot\":{\"id\":\"2178ca33-1f67-4f3b-9fc7-a9ca090b97ab\",\"subtype\":\"Figure\",\"type\":\"Plot\"},\"ticker\":{\"id\":\"155a96f2-5290-44e9-bbf5-9fc46d82669e\",\"type\":\"BasicTicker\"}},\"id\":\"a70e2cb0-5bec-494c-8ffc-7dc81239cdd9\",\"type\":\"LinearAxis\"},{\"attributes\":{\"plot\":{\"id\":\"2178ca33-1f67-4f3b-9fc7-a9ca090b97ab\",\"subtype\":\"Figure\",\"type\":\"Plot\"}},\"id\":\"b30be7b1-ff00-48d2-9a52-6b05ac401175\",\"type\":\"HelpTool\"},{\"attributes\":{\"active_drag\":\"auto\",\"active_scroll\":\"auto\",\"active_tap\":\"auto\",\"tools\":[{\"id\":\"016fa9bb-8216-4666-8413-344cbc64251f\",\"type\":\"PanTool\"},{\"id\":\"6972b334-d45f-403d-85fd-a5dd65857f00\",\"type\":\"WheelZoomTool\"},{\"id\":\"b6af1795-81b4-4a11-9afc-4b37acdecd5c\",\"type\":\"BoxZoomTool\"},{\"id\":\"c23d65d5-eedc-47ad-b911-939634280d56\",\"type\":\"SaveTool\"},{\"id\":\"1bc0ef04-3b54-4d37-a41f-08261883a76e\",\"type\":\"ResetTool\"},{\"id\":\"b30be7b1-ff00-48d2-9a52-6b05ac401175\",\"type\":\"HelpTool\"}]},\"id\":\"c7c57953-69d7-448e-9e0f-f98170a6fb51\",\"type\":\"Toolbar\"},{\"attributes\":{},\"id\":\"0506936d-594d-4d64-8547-5f3f254053a9\",\"type\":\"BasicTickFormatter\"},{\"attributes\":{},\"id\":\"87745a58-a561-4920-a7ad-9257d9fc8b0e\",\"type\":\"ToolEvents\"},{\"attributes\":{},\"id\":\"6df2c2e7-5be5-4330-a335-96fb4f652298\",\"type\":\"BasicTicker\"},{\"attributes\":{\"fill_alpha\":{\"value\":0.1},\"fill_color\":{\"value\":\"#1f77b4\"},\"line_alpha\":{\"value\":0.1},\"line_color\":{\"value\":\"#1f77b4\"},\"x\":{\"field\":\"x\"},\"y\":{\"field\":\"y\"}},\"id\":\"c5bac781-1de4-4a55-93c5-2a9064f3ba07\",\"type\":\"Circle\"},{\"attributes\":{\"overlay\":{\"id\":\"cbb047ce-bb43-4712-854f-e0f8432eeb4e\",\"type\":\"BoxAnnotation\"},\"plot\":{\"id\":\"2178ca33-1f67-4f3b-9fc7-a9ca090b97ab\",\"subtype\":\"Figure\",\"type\":\"Plot\"}},\"id\":\"b6af1795-81b4-4a11-9afc-4b37acdecd5c\",\"type\":\"BoxZoomTool\"},{\"attributes\":{\"plot\":{\"id\":\"2178ca33-1f67-4f3b-9fc7-a9ca090b97ab\",\"subtype\":\"Figure\",\"type\":\"Plot\"}},\"id\":\"016fa9bb-8216-4666-8413-344cbc64251f\",\"type\":\"PanTool\"},{\"attributes\":{},\"id\":\"2894e7e7-56f1-4c87-8f69-63c548f851c1\",\"type\":\"BasicTickFormatter\"},{\"attributes\":{\"data_source\":{\"id\":\"a9b11518-4c4a-4930-9099-92cf038251f9\",\"type\":\"ColumnDataSource\"},\"glyph\":{\"id\":\"76db2237-0011-48ae-a4e8-4ec61594f8d5\",\"type\":\"Circle\"},\"hover_glyph\":null,\"nonselection_glyph\":{\"id\":\"c5bac781-1de4-4a55-93c5-2a9064f3ba07\",\"type\":\"Circle\"},\"selection_glyph\":null},\"id\":\"bb1b5f8e-e50a-43b0-a46e-17238231ab7a\",\"type\":\"GlyphRenderer\"}],\"root_ids\":[\"2178ca33-1f67-4f3b-9fc7-a9ca090b97ab\"]},\"title\":\"Bokeh Application\",\"version\":\"0.12.1\"}};\n",
       "            var render_items = [{\"docid\":\"c848f9ee-a45e-4153-8e2f-8adbe1dc23ad\",\"elementid\":\"35aa6b8e-742a-4fdb-9b4d-fe4407a7da1d\",\"modelid\":\"2178ca33-1f67-4f3b-9fc7-a9ca090b97ab\",\"notebook_comms_target\":\"9b757d7c-ca42-483f-a178-8a1fff4f5cee\"}];\n",
       "            \n",
       "            Bokeh.embed.embed_items(docs_json, render_items);\n",
       "        });\n",
       "      },\n",
       "      function(Bokeh) {\n",
       "      }\n",
       "    ];\n",
       "  \n",
       "    function run_inline_js() {\n",
       "      for (var i = 0; i < inline_js.length; i++) {\n",
       "        inline_js[i](window.Bokeh);\n",
       "      }\n",
       "    }\n",
       "  \n",
       "    if (window._bokeh_is_loading === 0) {\n",
       "      console.log(\"Bokeh: BokehJS loaded, going straight to plotting\");\n",
       "      run_inline_js();\n",
       "    } else {\n",
       "      load_libs(js_urls, function() {\n",
       "        console.log(\"Bokeh: BokehJS plotting callback run at\", now());\n",
       "        run_inline_js();\n",
       "      });\n",
       "    }\n",
       "  }(this));\n",
       "</script>"
      ]
     },
     "metadata": {},
     "output_type": "display_data"
    },
    {
     "data": {
      "text/html": [
       "<p><code>&lt;Bokeh Notebook handle for <strong>In[7]</strong>&gt;</code></p>"
      ],
      "text/plain": [
       "<bokeh.io._CommsHandle at 0x1133df250>"
      ]
     },
     "execution_count": 7,
     "metadata": {},
     "output_type": "execute_result"
    }
   ],
   "source": [
    "p.circle([2,4,6,8],[4,3,7,1])\n",
    "\n",
    "show(p)"
   ]
  },
  {
   "cell_type": "code",
   "execution_count": 8,
   "metadata": {
    "collapsed": false
   },
   "outputs": [
    {
     "data": {
      "text/html": [
       "\n",
       "\n",
       "    <div class=\"bk-root\">\n",
       "        <div class=\"plotdiv\" id=\"5ab268be-3863-4830-87d5-6b757615839b\"></div>\n",
       "    </div>\n",
       "<script type=\"text/javascript\">\n",
       "  \n",
       "  (function(global) {\n",
       "    function now() {\n",
       "      return new Date();\n",
       "    }\n",
       "  \n",
       "    var force = \"\";\n",
       "  \n",
       "    if (typeof (window._bokeh_onload_callbacks) === \"undefined\" || force !== \"\") {\n",
       "      window._bokeh_onload_callbacks = [];\n",
       "      window._bokeh_is_loading = undefined;\n",
       "    }\n",
       "  \n",
       "    function run_callbacks() {\n",
       "      window._bokeh_onload_callbacks.forEach(function(callback) { callback() });\n",
       "      delete window._bokeh_onload_callbacks\n",
       "      console.info(\"Bokeh: all callbacks have finished\");\n",
       "    }\n",
       "  \n",
       "    function load_libs(js_urls, callback) {\n",
       "      window._bokeh_onload_callbacks.push(callback);\n",
       "      if (window._bokeh_is_loading > 0) {\n",
       "        console.log(\"Bokeh: BokehJS is being loaded, scheduling callback at\", now());\n",
       "        return null;\n",
       "      }\n",
       "      if (js_urls == null || js_urls.length === 0) {\n",
       "        run_callbacks();\n",
       "        return null;\n",
       "      }\n",
       "      console.log(\"Bokeh: BokehJS not loaded, scheduling load and callback at\", now());\n",
       "      window._bokeh_is_loading = js_urls.length;\n",
       "      for (var i = 0; i < js_urls.length; i++) {\n",
       "        var url = js_urls[i];\n",
       "        var s = document.createElement('script');\n",
       "        s.src = url;\n",
       "        s.async = false;\n",
       "        s.onreadystatechange = s.onload = function() {\n",
       "          window._bokeh_is_loading--;\n",
       "          if (window._bokeh_is_loading === 0) {\n",
       "            console.log(\"Bokeh: all BokehJS libraries loaded\");\n",
       "            run_callbacks()\n",
       "          }\n",
       "        };\n",
       "        s.onerror = function() {\n",
       "          console.warn(\"failed to load library \" + url);\n",
       "        };\n",
       "        console.log(\"Bokeh: injecting script tag for BokehJS library: \", url);\n",
       "        document.getElementsByTagName(\"head\")[0].appendChild(s);\n",
       "      }\n",
       "    };var element = document.getElementById(\"5ab268be-3863-4830-87d5-6b757615839b\");\n",
       "    if (element == null) {\n",
       "      console.log(\"Bokeh: ERROR: autoload.js configured with elementid '5ab268be-3863-4830-87d5-6b757615839b' but no matching script tag was found. \")\n",
       "      return false;\n",
       "    }\n",
       "  \n",
       "    var js_urls = [];\n",
       "  \n",
       "    var inline_js = [\n",
       "      function(Bokeh) {\n",
       "        Bokeh.$(function() {\n",
       "            var docs_json = {\"f84b62ec-1a21-46cf-88cb-98fb5e4555b1\":{\"roots\":{\"references\":[{\"attributes\":{\"dimension\":1,\"plot\":{\"id\":\"2178ca33-1f67-4f3b-9fc7-a9ca090b97ab\",\"subtype\":\"Figure\",\"type\":\"Plot\"},\"ticker\":{\"id\":\"6df2c2e7-5be5-4330-a335-96fb4f652298\",\"type\":\"BasicTicker\"}},\"id\":\"11d322b5-1fcf-42f1-8317-b9c8a18ef362\",\"type\":\"Grid\"},{\"attributes\":{\"callback\":null,\"column_names\":[\"y\",\"x\"],\"data\":{\"x\":[2,4,6,8],\"y\":[4,3,7,1]}},\"id\":\"131bf8a8-be6a-4983-a472-941b9ab23eb5\",\"type\":\"ColumnDataSource\"},{\"attributes\":{},\"id\":\"155a96f2-5290-44e9-bbf5-9fc46d82669e\",\"type\":\"BasicTicker\"},{\"attributes\":{\"callback\":null,\"column_names\":[\"y\",\"x\"],\"data\":{\"x\":[2,4,6,8],\"y\":[4,3,7,1]}},\"id\":\"a9b11518-4c4a-4930-9099-92cf038251f9\",\"type\":\"ColumnDataSource\"},{\"attributes\":{\"plot\":{\"id\":\"2178ca33-1f67-4f3b-9fc7-a9ca090b97ab\",\"subtype\":\"Figure\",\"type\":\"Plot\"},\"ticker\":{\"id\":\"155a96f2-5290-44e9-bbf5-9fc46d82669e\",\"type\":\"BasicTicker\"}},\"id\":\"a125ac07-ad29-439c-b35e-34551cb26def\",\"type\":\"Grid\"},{\"attributes\":{\"bottom_units\":\"screen\",\"fill_alpha\":{\"value\":0.5},\"fill_color\":{\"value\":\"lightgrey\"},\"left_units\":\"screen\",\"level\":\"overlay\",\"line_alpha\":{\"value\":1.0},\"line_color\":{\"value\":\"black\"},\"line_dash\":[4,4],\"line_width\":{\"value\":2},\"plot\":null,\"render_mode\":\"css\",\"right_units\":\"screen\",\"top_units\":\"screen\"},\"id\":\"cbb047ce-bb43-4712-854f-e0f8432eeb4e\",\"type\":\"BoxAnnotation\"},{\"attributes\":{\"callback\":null},\"id\":\"416681bb-866d-48fa-b6c9-f1f1001e026a\",\"type\":\"DataRange1d\"},{\"attributes\":{\"data_source\":{\"id\":\"131bf8a8-be6a-4983-a472-941b9ab23eb5\",\"type\":\"ColumnDataSource\"},\"glyph\":{\"id\":\"d3b4387e-f452-456e-bf0b-af41456a38d3\",\"type\":\"Circle\"},\"hover_glyph\":null,\"nonselection_glyph\":{\"id\":\"f7793bbd-cde6-4c9a-a049-b1320409057e\",\"type\":\"Circle\"},\"selection_glyph\":null},\"id\":\"3dc0a2bb-8ce2-4d7c-a821-f2112b366cee\",\"type\":\"GlyphRenderer\"},{\"attributes\":{\"formatter\":{\"id\":\"0506936d-594d-4d64-8547-5f3f254053a9\",\"type\":\"BasicTickFormatter\"},\"plot\":{\"id\":\"2178ca33-1f67-4f3b-9fc7-a9ca090b97ab\",\"subtype\":\"Figure\",\"type\":\"Plot\"},\"ticker\":{\"id\":\"6df2c2e7-5be5-4330-a335-96fb4f652298\",\"type\":\"BasicTicker\"}},\"id\":\"e4a9237a-ba12-4e34-b831-0465ba2ec996\",\"type\":\"LinearAxis\"},{\"attributes\":{\"plot\":{\"id\":\"2178ca33-1f67-4f3b-9fc7-a9ca090b97ab\",\"subtype\":\"Figure\",\"type\":\"Plot\"}},\"id\":\"6972b334-d45f-403d-85fd-a5dd65857f00\",\"type\":\"WheelZoomTool\"},{\"attributes\":{\"formatter\":{\"id\":\"2894e7e7-56f1-4c87-8f69-63c548f851c1\",\"type\":\"BasicTickFormatter\"},\"plot\":{\"id\":\"2178ca33-1f67-4f3b-9fc7-a9ca090b97ab\",\"subtype\":\"Figure\",\"type\":\"Plot\"},\"ticker\":{\"id\":\"155a96f2-5290-44e9-bbf5-9fc46d82669e\",\"type\":\"BasicTicker\"}},\"id\":\"a70e2cb0-5bec-494c-8ffc-7dc81239cdd9\",\"type\":\"LinearAxis\"},{\"attributes\":{\"fill_color\":{\"value\":\"#1f77b4\"},\"line_color\":{\"value\":\"red\"},\"size\":{\"units\":\"screen\",\"value\":14},\"x\":{\"field\":\"x\"},\"y\":{\"field\":\"y\"}},\"id\":\"d3b4387e-f452-456e-bf0b-af41456a38d3\",\"type\":\"Circle\"},{\"attributes\":{\"plot\":{\"id\":\"2178ca33-1f67-4f3b-9fc7-a9ca090b97ab\",\"subtype\":\"Figure\",\"type\":\"Plot\"}},\"id\":\"b30be7b1-ff00-48d2-9a52-6b05ac401175\",\"type\":\"HelpTool\"},{\"attributes\":{\"below\":[{\"id\":\"a70e2cb0-5bec-494c-8ffc-7dc81239cdd9\",\"type\":\"LinearAxis\"}],\"left\":[{\"id\":\"e4a9237a-ba12-4e34-b831-0465ba2ec996\",\"type\":\"LinearAxis\"}],\"plot_height\":350,\"plot_width\":450,\"renderers\":[{\"id\":\"a70e2cb0-5bec-494c-8ffc-7dc81239cdd9\",\"type\":\"LinearAxis\"},{\"id\":\"a125ac07-ad29-439c-b35e-34551cb26def\",\"type\":\"Grid\"},{\"id\":\"e4a9237a-ba12-4e34-b831-0465ba2ec996\",\"type\":\"LinearAxis\"},{\"id\":\"11d322b5-1fcf-42f1-8317-b9c8a18ef362\",\"type\":\"Grid\"},{\"id\":\"cbb047ce-bb43-4712-854f-e0f8432eeb4e\",\"type\":\"BoxAnnotation\"},{\"id\":\"bb1b5f8e-e50a-43b0-a46e-17238231ab7a\",\"type\":\"GlyphRenderer\"},{\"id\":\"3dc0a2bb-8ce2-4d7c-a821-f2112b366cee\",\"type\":\"GlyphRenderer\"}],\"title\":{\"id\":\"d2f07d74-c396-4af7-9793-107cc830e345\",\"type\":\"Title\"},\"tool_events\":{\"id\":\"87745a58-a561-4920-a7ad-9257d9fc8b0e\",\"type\":\"ToolEvents\"},\"toolbar\":{\"id\":\"c7c57953-69d7-448e-9e0f-f98170a6fb51\",\"type\":\"Toolbar\"},\"x_range\":{\"id\":\"416681bb-866d-48fa-b6c9-f1f1001e026a\",\"type\":\"DataRange1d\"},\"y_range\":{\"id\":\"f9db7ab4-ef74-44a3-9a15-5fecff78a703\",\"type\":\"DataRange1d\"}},\"id\":\"2178ca33-1f67-4f3b-9fc7-a9ca090b97ab\",\"subtype\":\"Figure\",\"type\":\"Plot\"},{\"attributes\":{\"plot\":{\"id\":\"2178ca33-1f67-4f3b-9fc7-a9ca090b97ab\",\"subtype\":\"Figure\",\"type\":\"Plot\"}},\"id\":\"1bc0ef04-3b54-4d37-a41f-08261883a76e\",\"type\":\"ResetTool\"},{\"attributes\":{\"plot\":{\"id\":\"2178ca33-1f67-4f3b-9fc7-a9ca090b97ab\",\"subtype\":\"Figure\",\"type\":\"Plot\"}},\"id\":\"c23d65d5-eedc-47ad-b911-939634280d56\",\"type\":\"SaveTool\"},{\"attributes\":{\"fill_color\":{\"value\":\"#1f77b4\"},\"line_color\":{\"value\":\"#1f77b4\"},\"x\":{\"field\":\"x\"},\"y\":{\"field\":\"y\"}},\"id\":\"76db2237-0011-48ae-a4e8-4ec61594f8d5\",\"type\":\"Circle\"},{\"attributes\":{\"plot\":null,\"text\":null},\"id\":\"d2f07d74-c396-4af7-9793-107cc830e345\",\"type\":\"Title\"},{\"attributes\":{\"fill_alpha\":{\"value\":0.1},\"fill_color\":{\"value\":\"#1f77b4\"},\"line_alpha\":{\"value\":0.1},\"line_color\":{\"value\":\"#1f77b4\"},\"size\":{\"units\":\"screen\",\"value\":14},\"x\":{\"field\":\"x\"},\"y\":{\"field\":\"y\"}},\"id\":\"f7793bbd-cde6-4c9a-a049-b1320409057e\",\"type\":\"Circle\"},{\"attributes\":{\"active_drag\":\"auto\",\"active_scroll\":\"auto\",\"active_tap\":\"auto\",\"tools\":[{\"id\":\"016fa9bb-8216-4666-8413-344cbc64251f\",\"type\":\"PanTool\"},{\"id\":\"6972b334-d45f-403d-85fd-a5dd65857f00\",\"type\":\"WheelZoomTool\"},{\"id\":\"b6af1795-81b4-4a11-9afc-4b37acdecd5c\",\"type\":\"BoxZoomTool\"},{\"id\":\"c23d65d5-eedc-47ad-b911-939634280d56\",\"type\":\"SaveTool\"},{\"id\":\"1bc0ef04-3b54-4d37-a41f-08261883a76e\",\"type\":\"ResetTool\"},{\"id\":\"b30be7b1-ff00-48d2-9a52-6b05ac401175\",\"type\":\"HelpTool\"}]},\"id\":\"c7c57953-69d7-448e-9e0f-f98170a6fb51\",\"type\":\"Toolbar\"},{\"attributes\":{},\"id\":\"0506936d-594d-4d64-8547-5f3f254053a9\",\"type\":\"BasicTickFormatter\"},{\"attributes\":{},\"id\":\"87745a58-a561-4920-a7ad-9257d9fc8b0e\",\"type\":\"ToolEvents\"},{\"attributes\":{\"callback\":null},\"id\":\"f9db7ab4-ef74-44a3-9a15-5fecff78a703\",\"type\":\"DataRange1d\"},{\"attributes\":{},\"id\":\"6df2c2e7-5be5-4330-a335-96fb4f652298\",\"type\":\"BasicTicker\"},{\"attributes\":{\"fill_alpha\":{\"value\":0.1},\"fill_color\":{\"value\":\"#1f77b4\"},\"line_alpha\":{\"value\":0.1},\"line_color\":{\"value\":\"#1f77b4\"},\"x\":{\"field\":\"x\"},\"y\":{\"field\":\"y\"}},\"id\":\"c5bac781-1de4-4a55-93c5-2a9064f3ba07\",\"type\":\"Circle\"},{\"attributes\":{\"overlay\":{\"id\":\"cbb047ce-bb43-4712-854f-e0f8432eeb4e\",\"type\":\"BoxAnnotation\"},\"plot\":{\"id\":\"2178ca33-1f67-4f3b-9fc7-a9ca090b97ab\",\"subtype\":\"Figure\",\"type\":\"Plot\"}},\"id\":\"b6af1795-81b4-4a11-9afc-4b37acdecd5c\",\"type\":\"BoxZoomTool\"},{\"attributes\":{\"plot\":{\"id\":\"2178ca33-1f67-4f3b-9fc7-a9ca090b97ab\",\"subtype\":\"Figure\",\"type\":\"Plot\"}},\"id\":\"016fa9bb-8216-4666-8413-344cbc64251f\",\"type\":\"PanTool\"},{\"attributes\":{},\"id\":\"2894e7e7-56f1-4c87-8f69-63c548f851c1\",\"type\":\"BasicTickFormatter\"},{\"attributes\":{\"data_source\":{\"id\":\"a9b11518-4c4a-4930-9099-92cf038251f9\",\"type\":\"ColumnDataSource\"},\"glyph\":{\"id\":\"76db2237-0011-48ae-a4e8-4ec61594f8d5\",\"type\":\"Circle\"},\"hover_glyph\":null,\"nonselection_glyph\":{\"id\":\"c5bac781-1de4-4a55-93c5-2a9064f3ba07\",\"type\":\"Circle\"},\"selection_glyph\":null},\"id\":\"bb1b5f8e-e50a-43b0-a46e-17238231ab7a\",\"type\":\"GlyphRenderer\"}],\"root_ids\":[\"2178ca33-1f67-4f3b-9fc7-a9ca090b97ab\"]},\"title\":\"Bokeh Application\",\"version\":\"0.12.1\"}};\n",
       "            var render_items = [{\"docid\":\"f84b62ec-1a21-46cf-88cb-98fb5e4555b1\",\"elementid\":\"5ab268be-3863-4830-87d5-6b757615839b\",\"modelid\":\"2178ca33-1f67-4f3b-9fc7-a9ca090b97ab\",\"notebook_comms_target\":\"c26e9a72-cfa1-4cb0-bc37-2bb970243c92\"}];\n",
       "            \n",
       "            Bokeh.embed.embed_items(docs_json, render_items);\n",
       "        });\n",
       "      },\n",
       "      function(Bokeh) {\n",
       "      }\n",
       "    ];\n",
       "  \n",
       "    function run_inline_js() {\n",
       "      for (var i = 0; i < inline_js.length; i++) {\n",
       "        inline_js[i](window.Bokeh);\n",
       "      }\n",
       "    }\n",
       "  \n",
       "    if (window._bokeh_is_loading === 0) {\n",
       "      console.log(\"Bokeh: BokehJS loaded, going straight to plotting\");\n",
       "      run_inline_js();\n",
       "    } else {\n",
       "      load_libs(js_urls, function() {\n",
       "        console.log(\"Bokeh: BokehJS plotting callback run at\", now());\n",
       "        run_inline_js();\n",
       "      });\n",
       "    }\n",
       "  }(this));\n",
       "</script>"
      ]
     },
     "metadata": {},
     "output_type": "display_data"
    },
    {
     "data": {
      "text/html": [
       "<p><code>&lt;Bokeh Notebook handle for <strong>In[8]</strong>&gt;</code></p>"
      ],
      "text/plain": [
       "<bokeh.io._CommsHandle at 0x1133df210>"
      ]
     },
     "execution_count": 8,
     "metadata": {},
     "output_type": "execute_result"
    }
   ],
   "source": [
    "p.circle([2,4,6,8],[4,3,7,1], size=14, line_color='red')\n",
    "\n",
    "show(p)"
   ]
  },
  {
   "cell_type": "code",
   "execution_count": 9,
   "metadata": {
    "collapsed": false
   },
   "outputs": [
    {
     "data": {
      "text/html": [
       "\n",
       "\n",
       "    <div class=\"bk-root\">\n",
       "        <div class=\"plotdiv\" id=\"85e415d8-dff6-4d8a-9ee4-d4c046b18110\"></div>\n",
       "    </div>\n",
       "<script type=\"text/javascript\">\n",
       "  \n",
       "  (function(global) {\n",
       "    function now() {\n",
       "      return new Date();\n",
       "    }\n",
       "  \n",
       "    var force = \"\";\n",
       "  \n",
       "    if (typeof (window._bokeh_onload_callbacks) === \"undefined\" || force !== \"\") {\n",
       "      window._bokeh_onload_callbacks = [];\n",
       "      window._bokeh_is_loading = undefined;\n",
       "    }\n",
       "  \n",
       "    function run_callbacks() {\n",
       "      window._bokeh_onload_callbacks.forEach(function(callback) { callback() });\n",
       "      delete window._bokeh_onload_callbacks\n",
       "      console.info(\"Bokeh: all callbacks have finished\");\n",
       "    }\n",
       "  \n",
       "    function load_libs(js_urls, callback) {\n",
       "      window._bokeh_onload_callbacks.push(callback);\n",
       "      if (window._bokeh_is_loading > 0) {\n",
       "        console.log(\"Bokeh: BokehJS is being loaded, scheduling callback at\", now());\n",
       "        return null;\n",
       "      }\n",
       "      if (js_urls == null || js_urls.length === 0) {\n",
       "        run_callbacks();\n",
       "        return null;\n",
       "      }\n",
       "      console.log(\"Bokeh: BokehJS not loaded, scheduling load and callback at\", now());\n",
       "      window._bokeh_is_loading = js_urls.length;\n",
       "      for (var i = 0; i < js_urls.length; i++) {\n",
       "        var url = js_urls[i];\n",
       "        var s = document.createElement('script');\n",
       "        s.src = url;\n",
       "        s.async = false;\n",
       "        s.onreadystatechange = s.onload = function() {\n",
       "          window._bokeh_is_loading--;\n",
       "          if (window._bokeh_is_loading === 0) {\n",
       "            console.log(\"Bokeh: all BokehJS libraries loaded\");\n",
       "            run_callbacks()\n",
       "          }\n",
       "        };\n",
       "        s.onerror = function() {\n",
       "          console.warn(\"failed to load library \" + url);\n",
       "        };\n",
       "        console.log(\"Bokeh: injecting script tag for BokehJS library: \", url);\n",
       "        document.getElementsByTagName(\"head\")[0].appendChild(s);\n",
       "      }\n",
       "    };var element = document.getElementById(\"85e415d8-dff6-4d8a-9ee4-d4c046b18110\");\n",
       "    if (element == null) {\n",
       "      console.log(\"Bokeh: ERROR: autoload.js configured with elementid '85e415d8-dff6-4d8a-9ee4-d4c046b18110' but no matching script tag was found. \")\n",
       "      return false;\n",
       "    }\n",
       "  \n",
       "    var js_urls = [];\n",
       "  \n",
       "    var inline_js = [\n",
       "      function(Bokeh) {\n",
       "        Bokeh.$(function() {\n",
       "            var docs_json = {\"e0bb59dc-b987-41dd-a856-6d0ad8c7f99e\":{\"roots\":{\"references\":[{\"attributes\":{\"fill_alpha\":{\"value\":0.1},\"fill_color\":{\"value\":\"#1f77b4\"},\"line_alpha\":{\"value\":0.1},\"line_color\":{\"value\":\"#1f77b4\"},\"size\":{\"units\":\"screen\",\"value\":18},\"x\":{\"field\":\"x\"},\"y\":{\"field\":\"y\"}},\"id\":\"7ed90b6c-6c5c-4c47-b961-c29f842b6b6a\",\"type\":\"Circle\"},{\"attributes\":{\"dimension\":1,\"plot\":{\"id\":\"2178ca33-1f67-4f3b-9fc7-a9ca090b97ab\",\"subtype\":\"Figure\",\"type\":\"Plot\"},\"ticker\":{\"id\":\"6df2c2e7-5be5-4330-a335-96fb4f652298\",\"type\":\"BasicTicker\"}},\"id\":\"11d322b5-1fcf-42f1-8317-b9c8a18ef362\",\"type\":\"Grid\"},{\"attributes\":{},\"id\":\"155a96f2-5290-44e9-bbf5-9fc46d82669e\",\"type\":\"BasicTicker\"},{\"attributes\":{\"callback\":null,\"column_names\":[\"y\",\"x\"],\"data\":{\"x\":[2,4,6,8],\"y\":[4,3,7,1]}},\"id\":\"a9b11518-4c4a-4930-9099-92cf038251f9\",\"type\":\"ColumnDataSource\"},{\"attributes\":{\"callback\":null},\"id\":\"f9db7ab4-ef74-44a3-9a15-5fecff78a703\",\"type\":\"DataRange1d\"},{\"attributes\":{\"bottom_units\":\"screen\",\"fill_alpha\":{\"value\":0.5},\"fill_color\":{\"value\":\"lightgrey\"},\"left_units\":\"screen\",\"level\":\"overlay\",\"line_alpha\":{\"value\":1.0},\"line_color\":{\"value\":\"black\"},\"line_dash\":[4,4],\"line_width\":{\"value\":2},\"plot\":null,\"render_mode\":\"css\",\"right_units\":\"screen\",\"top_units\":\"screen\"},\"id\":\"cbb047ce-bb43-4712-854f-e0f8432eeb4e\",\"type\":\"BoxAnnotation\"},{\"attributes\":{\"data_source\":{\"id\":\"e0e91a2f-5d4f-4515-9fac-4ef36399a01c\",\"type\":\"ColumnDataSource\"},\"glyph\":{\"id\":\"c8fe46f3-cc7e-4cc2-9dd2-e1c31cd70452\",\"type\":\"Circle\"},\"hover_glyph\":null,\"nonselection_glyph\":{\"id\":\"7ed90b6c-6c5c-4c47-b961-c29f842b6b6a\",\"type\":\"Circle\"},\"selection_glyph\":null},\"id\":\"f07ebeeb-6f9b-48bc-889d-29466c60c28e\",\"type\":\"GlyphRenderer\"},{\"attributes\":{\"callback\":null},\"id\":\"416681bb-866d-48fa-b6c9-f1f1001e026a\",\"type\":\"DataRange1d\"},{\"attributes\":{\"data_source\":{\"id\":\"131bf8a8-be6a-4983-a472-941b9ab23eb5\",\"type\":\"ColumnDataSource\"},\"glyph\":{\"id\":\"d3b4387e-f452-456e-bf0b-af41456a38d3\",\"type\":\"Circle\"},\"hover_glyph\":null,\"nonselection_glyph\":{\"id\":\"f7793bbd-cde6-4c9a-a049-b1320409057e\",\"type\":\"Circle\"},\"selection_glyph\":null},\"id\":\"3dc0a2bb-8ce2-4d7c-a821-f2112b366cee\",\"type\":\"GlyphRenderer\"},{\"attributes\":{\"plot\":{\"id\":\"2178ca33-1f67-4f3b-9fc7-a9ca090b97ab\",\"subtype\":\"Figure\",\"type\":\"Plot\"}},\"id\":\"1bc0ef04-3b54-4d37-a41f-08261883a76e\",\"type\":\"ResetTool\"},{\"attributes\":{\"plot\":{\"id\":\"2178ca33-1f67-4f3b-9fc7-a9ca090b97ab\",\"subtype\":\"Figure\",\"type\":\"Plot\"}},\"id\":\"6972b334-d45f-403d-85fd-a5dd65857f00\",\"type\":\"WheelZoomTool\"},{\"attributes\":{\"formatter\":{\"id\":\"2894e7e7-56f1-4c87-8f69-63c548f851c1\",\"type\":\"BasicTickFormatter\"},\"plot\":{\"id\":\"2178ca33-1f67-4f3b-9fc7-a9ca090b97ab\",\"subtype\":\"Figure\",\"type\":\"Plot\"},\"ticker\":{\"id\":\"155a96f2-5290-44e9-bbf5-9fc46d82669e\",\"type\":\"BasicTicker\"}},\"id\":\"a70e2cb0-5bec-494c-8ffc-7dc81239cdd9\",\"type\":\"LinearAxis\"},{\"attributes\":{\"callback\":null,\"column_names\":[\"y\",\"x\"],\"data\":{\"x\":[2,4,6,8],\"y\":[4,3,7,1]}},\"id\":\"131bf8a8-be6a-4983-a472-941b9ab23eb5\",\"type\":\"ColumnDataSource\"},{\"attributes\":{\"fill_color\":{\"value\":\"#1f77b4\"},\"line_color\":{\"value\":\"red\"},\"size\":{\"units\":\"screen\",\"value\":14},\"x\":{\"field\":\"x\"},\"y\":{\"field\":\"y\"}},\"id\":\"d3b4387e-f452-456e-bf0b-af41456a38d3\",\"type\":\"Circle\"},{\"attributes\":{\"plot\":{\"id\":\"2178ca33-1f67-4f3b-9fc7-a9ca090b97ab\",\"subtype\":\"Figure\",\"type\":\"Plot\"},\"ticker\":{\"id\":\"155a96f2-5290-44e9-bbf5-9fc46d82669e\",\"type\":\"BasicTicker\"}},\"id\":\"a125ac07-ad29-439c-b35e-34551cb26def\",\"type\":\"Grid\"},{\"attributes\":{\"below\":[{\"id\":\"a70e2cb0-5bec-494c-8ffc-7dc81239cdd9\",\"type\":\"LinearAxis\"}],\"left\":[{\"id\":\"e4a9237a-ba12-4e34-b831-0465ba2ec996\",\"type\":\"LinearAxis\"}],\"plot_height\":350,\"plot_width\":450,\"renderers\":[{\"id\":\"a70e2cb0-5bec-494c-8ffc-7dc81239cdd9\",\"type\":\"LinearAxis\"},{\"id\":\"a125ac07-ad29-439c-b35e-34551cb26def\",\"type\":\"Grid\"},{\"id\":\"e4a9237a-ba12-4e34-b831-0465ba2ec996\",\"type\":\"LinearAxis\"},{\"id\":\"11d322b5-1fcf-42f1-8317-b9c8a18ef362\",\"type\":\"Grid\"},{\"id\":\"cbb047ce-bb43-4712-854f-e0f8432eeb4e\",\"type\":\"BoxAnnotation\"},{\"id\":\"bb1b5f8e-e50a-43b0-a46e-17238231ab7a\",\"type\":\"GlyphRenderer\"},{\"id\":\"3dc0a2bb-8ce2-4d7c-a821-f2112b366cee\",\"type\":\"GlyphRenderer\"},{\"id\":\"f07ebeeb-6f9b-48bc-889d-29466c60c28e\",\"type\":\"GlyphRenderer\"}],\"title\":{\"id\":\"d2f07d74-c396-4af7-9793-107cc830e345\",\"type\":\"Title\"},\"tool_events\":{\"id\":\"87745a58-a561-4920-a7ad-9257d9fc8b0e\",\"type\":\"ToolEvents\"},\"toolbar\":{\"id\":\"c7c57953-69d7-448e-9e0f-f98170a6fb51\",\"type\":\"Toolbar\"},\"x_range\":{\"id\":\"416681bb-866d-48fa-b6c9-f1f1001e026a\",\"type\":\"DataRange1d\"},\"y_range\":{\"id\":\"f9db7ab4-ef74-44a3-9a15-5fecff78a703\",\"type\":\"DataRange1d\"}},\"id\":\"2178ca33-1f67-4f3b-9fc7-a9ca090b97ab\",\"subtype\":\"Figure\",\"type\":\"Plot\"},{\"attributes\":{\"formatter\":{\"id\":\"0506936d-594d-4d64-8547-5f3f254053a9\",\"type\":\"BasicTickFormatter\"},\"plot\":{\"id\":\"2178ca33-1f67-4f3b-9fc7-a9ca090b97ab\",\"subtype\":\"Figure\",\"type\":\"Plot\"},\"ticker\":{\"id\":\"6df2c2e7-5be5-4330-a335-96fb4f652298\",\"type\":\"BasicTicker\"}},\"id\":\"e4a9237a-ba12-4e34-b831-0465ba2ec996\",\"type\":\"LinearAxis\"},{\"attributes\":{\"plot\":{\"id\":\"2178ca33-1f67-4f3b-9fc7-a9ca090b97ab\",\"subtype\":\"Figure\",\"type\":\"Plot\"}},\"id\":\"c23d65d5-eedc-47ad-b911-939634280d56\",\"type\":\"SaveTool\"},{\"attributes\":{\"fill_color\":{\"value\":\"#1f77b4\"},\"line_color\":{\"value\":\"#1f77b4\"},\"x\":{\"field\":\"x\"},\"y\":{\"field\":\"y\"}},\"id\":\"76db2237-0011-48ae-a4e8-4ec61594f8d5\",\"type\":\"Circle\"},{\"attributes\":{\"plot\":null,\"text\":null},\"id\":\"d2f07d74-c396-4af7-9793-107cc830e345\",\"type\":\"Title\"},{\"attributes\":{\"fill_alpha\":{\"value\":0.1},\"fill_color\":{\"value\":\"#1f77b4\"},\"line_alpha\":{\"value\":0.1},\"line_color\":{\"value\":\"#1f77b4\"},\"size\":{\"units\":\"screen\",\"value\":14},\"x\":{\"field\":\"x\"},\"y\":{\"field\":\"y\"}},\"id\":\"f7793bbd-cde6-4c9a-a049-b1320409057e\",\"type\":\"Circle\"},{\"attributes\":{\"callback\":null,\"column_names\":[\"y\",\"x\"],\"data\":{\"x\":[2,4,6,8],\"y\":[4,3,7,1]}},\"id\":\"e0e91a2f-5d4f-4515-9fac-4ef36399a01c\",\"type\":\"ColumnDataSource\"},{\"attributes\":{\"plot\":{\"id\":\"2178ca33-1f67-4f3b-9fc7-a9ca090b97ab\",\"subtype\":\"Figure\",\"type\":\"Plot\"}},\"id\":\"b30be7b1-ff00-48d2-9a52-6b05ac401175\",\"type\":\"HelpTool\"},{\"attributes\":{\"active_drag\":\"auto\",\"active_scroll\":\"auto\",\"active_tap\":\"auto\",\"tools\":[{\"id\":\"016fa9bb-8216-4666-8413-344cbc64251f\",\"type\":\"PanTool\"},{\"id\":\"6972b334-d45f-403d-85fd-a5dd65857f00\",\"type\":\"WheelZoomTool\"},{\"id\":\"b6af1795-81b4-4a11-9afc-4b37acdecd5c\",\"type\":\"BoxZoomTool\"},{\"id\":\"c23d65d5-eedc-47ad-b911-939634280d56\",\"type\":\"SaveTool\"},{\"id\":\"1bc0ef04-3b54-4d37-a41f-08261883a76e\",\"type\":\"ResetTool\"},{\"id\":\"b30be7b1-ff00-48d2-9a52-6b05ac401175\",\"type\":\"HelpTool\"}]},\"id\":\"c7c57953-69d7-448e-9e0f-f98170a6fb51\",\"type\":\"Toolbar\"},{\"attributes\":{},\"id\":\"0506936d-594d-4d64-8547-5f3f254053a9\",\"type\":\"BasicTickFormatter\"},{\"attributes\":{},\"id\":\"87745a58-a561-4920-a7ad-9257d9fc8b0e\",\"type\":\"ToolEvents\"},{\"attributes\":{\"fill_color\":{\"value\":\"yellow\"},\"line_color\":{\"value\":\"red\"},\"size\":{\"units\":\"screen\",\"value\":18},\"x\":{\"field\":\"x\"},\"y\":{\"field\":\"y\"}},\"id\":\"c8fe46f3-cc7e-4cc2-9dd2-e1c31cd70452\",\"type\":\"Circle\"},{\"attributes\":{},\"id\":\"6df2c2e7-5be5-4330-a335-96fb4f652298\",\"type\":\"BasicTicker\"},{\"attributes\":{\"fill_alpha\":{\"value\":0.1},\"fill_color\":{\"value\":\"#1f77b4\"},\"line_alpha\":{\"value\":0.1},\"line_color\":{\"value\":\"#1f77b4\"},\"x\":{\"field\":\"x\"},\"y\":{\"field\":\"y\"}},\"id\":\"c5bac781-1de4-4a55-93c5-2a9064f3ba07\",\"type\":\"Circle\"},{\"attributes\":{\"overlay\":{\"id\":\"cbb047ce-bb43-4712-854f-e0f8432eeb4e\",\"type\":\"BoxAnnotation\"},\"plot\":{\"id\":\"2178ca33-1f67-4f3b-9fc7-a9ca090b97ab\",\"subtype\":\"Figure\",\"type\":\"Plot\"}},\"id\":\"b6af1795-81b4-4a11-9afc-4b37acdecd5c\",\"type\":\"BoxZoomTool\"},{\"attributes\":{\"plot\":{\"id\":\"2178ca33-1f67-4f3b-9fc7-a9ca090b97ab\",\"subtype\":\"Figure\",\"type\":\"Plot\"}},\"id\":\"016fa9bb-8216-4666-8413-344cbc64251f\",\"type\":\"PanTool\"},{\"attributes\":{},\"id\":\"2894e7e7-56f1-4c87-8f69-63c548f851c1\",\"type\":\"BasicTickFormatter\"},{\"attributes\":{\"data_source\":{\"id\":\"a9b11518-4c4a-4930-9099-92cf038251f9\",\"type\":\"ColumnDataSource\"},\"glyph\":{\"id\":\"76db2237-0011-48ae-a4e8-4ec61594f8d5\",\"type\":\"Circle\"},\"hover_glyph\":null,\"nonselection_glyph\":{\"id\":\"c5bac781-1de4-4a55-93c5-2a9064f3ba07\",\"type\":\"Circle\"},\"selection_glyph\":null},\"id\":\"bb1b5f8e-e50a-43b0-a46e-17238231ab7a\",\"type\":\"GlyphRenderer\"}],\"root_ids\":[\"2178ca33-1f67-4f3b-9fc7-a9ca090b97ab\"]},\"title\":\"Bokeh Application\",\"version\":\"0.12.1\"}};\n",
       "            var render_items = [{\"docid\":\"e0bb59dc-b987-41dd-a856-6d0ad8c7f99e\",\"elementid\":\"85e415d8-dff6-4d8a-9ee4-d4c046b18110\",\"modelid\":\"2178ca33-1f67-4f3b-9fc7-a9ca090b97ab\",\"notebook_comms_target\":\"3beaeadd-1bd9-4287-a44e-6d6440312650\"}];\n",
       "            \n",
       "            Bokeh.embed.embed_items(docs_json, render_items);\n",
       "        });\n",
       "      },\n",
       "      function(Bokeh) {\n",
       "      }\n",
       "    ];\n",
       "  \n",
       "    function run_inline_js() {\n",
       "      for (var i = 0; i < inline_js.length; i++) {\n",
       "        inline_js[i](window.Bokeh);\n",
       "      }\n",
       "    }\n",
       "  \n",
       "    if (window._bokeh_is_loading === 0) {\n",
       "      console.log(\"Bokeh: BokehJS loaded, going straight to plotting\");\n",
       "      run_inline_js();\n",
       "    } else {\n",
       "      load_libs(js_urls, function() {\n",
       "        console.log(\"Bokeh: BokehJS plotting callback run at\", now());\n",
       "        run_inline_js();\n",
       "      });\n",
       "    }\n",
       "  }(this));\n",
       "</script>"
      ]
     },
     "metadata": {},
     "output_type": "display_data"
    },
    {
     "data": {
      "text/html": [
       "<p><code>&lt;Bokeh Notebook handle for <strong>In[9]</strong>&gt;</code></p>"
      ],
      "text/plain": [
       "<bokeh.io._CommsHandle at 0x1133dff50>"
      ]
     },
     "execution_count": 9,
     "metadata": {},
     "output_type": "execute_result"
    }
   ],
   "source": [
    "p.circle([2,4,6,8],[4,3,7,1], size=18, line_color='red', fill_color='yellow')\n",
    "\n",
    "show(p)"
   ]
  },
  {
   "cell_type": "code",
   "execution_count": null,
   "metadata": {
    "collapsed": true
   },
   "outputs": [],
   "source": [
    "# square"
   ]
  },
  {
   "cell_type": "code",
   "execution_count": 10,
   "metadata": {
    "collapsed": true
   },
   "outputs": [],
   "source": [
    "p = figure(plot_width = 450, plot_height = 350)"
   ]
  },
  {
   "cell_type": "code",
   "execution_count": 12,
   "metadata": {
    "collapsed": false
   },
   "outputs": [
    {
     "data": {
      "text/html": [
       "\n",
       "\n",
       "    <div class=\"bk-root\">\n",
       "        <div class=\"plotdiv\" id=\"3f194733-9730-443d-b50b-16a6bc2b8d0c\"></div>\n",
       "    </div>\n",
       "<script type=\"text/javascript\">\n",
       "  \n",
       "  (function(global) {\n",
       "    function now() {\n",
       "      return new Date();\n",
       "    }\n",
       "  \n",
       "    var force = \"\";\n",
       "  \n",
       "    if (typeof (window._bokeh_onload_callbacks) === \"undefined\" || force !== \"\") {\n",
       "      window._bokeh_onload_callbacks = [];\n",
       "      window._bokeh_is_loading = undefined;\n",
       "    }\n",
       "  \n",
       "    function run_callbacks() {\n",
       "      window._bokeh_onload_callbacks.forEach(function(callback) { callback() });\n",
       "      delete window._bokeh_onload_callbacks\n",
       "      console.info(\"Bokeh: all callbacks have finished\");\n",
       "    }\n",
       "  \n",
       "    function load_libs(js_urls, callback) {\n",
       "      window._bokeh_onload_callbacks.push(callback);\n",
       "      if (window._bokeh_is_loading > 0) {\n",
       "        console.log(\"Bokeh: BokehJS is being loaded, scheduling callback at\", now());\n",
       "        return null;\n",
       "      }\n",
       "      if (js_urls == null || js_urls.length === 0) {\n",
       "        run_callbacks();\n",
       "        return null;\n",
       "      }\n",
       "      console.log(\"Bokeh: BokehJS not loaded, scheduling load and callback at\", now());\n",
       "      window._bokeh_is_loading = js_urls.length;\n",
       "      for (var i = 0; i < js_urls.length; i++) {\n",
       "        var url = js_urls[i];\n",
       "        var s = document.createElement('script');\n",
       "        s.src = url;\n",
       "        s.async = false;\n",
       "        s.onreadystatechange = s.onload = function() {\n",
       "          window._bokeh_is_loading--;\n",
       "          if (window._bokeh_is_loading === 0) {\n",
       "            console.log(\"Bokeh: all BokehJS libraries loaded\");\n",
       "            run_callbacks()\n",
       "          }\n",
       "        };\n",
       "        s.onerror = function() {\n",
       "          console.warn(\"failed to load library \" + url);\n",
       "        };\n",
       "        console.log(\"Bokeh: injecting script tag for BokehJS library: \", url);\n",
       "        document.getElementsByTagName(\"head\")[0].appendChild(s);\n",
       "      }\n",
       "    };var element = document.getElementById(\"3f194733-9730-443d-b50b-16a6bc2b8d0c\");\n",
       "    if (element == null) {\n",
       "      console.log(\"Bokeh: ERROR: autoload.js configured with elementid '3f194733-9730-443d-b50b-16a6bc2b8d0c' but no matching script tag was found. \")\n",
       "      return false;\n",
       "    }\n",
       "  \n",
       "    var js_urls = [];\n",
       "  \n",
       "    var inline_js = [\n",
       "      function(Bokeh) {\n",
       "        Bokeh.$(function() {\n",
       "            var docs_json = {\"e5c9f488-863b-4eae-bfc3-ac06ab43bf92\":{\"roots\":{\"references\":[{\"attributes\":{\"fill_color\":{\"value\":\"red\"},\"line_color\":{\"value\":\"red\"},\"size\":{\"units\":\"screen\",\"value\":16},\"x\":{\"field\":\"x\"},\"y\":{\"field\":\"y\"}},\"id\":\"9b3e538d-8889-4fa0-bc72-6341222c3401\",\"type\":\"Square\"},{\"attributes\":{\"plot\":null,\"text\":null},\"id\":\"11a06a88-7495-43ae-8a95-34d6c8389147\",\"type\":\"Title\"},{\"attributes\":{\"callback\":null,\"column_names\":[\"x\",\"y\"],\"data\":{\"x\":[2,4,6,8],\"y\":[4,3,7,1]}},\"id\":\"6386c6d1-a8fe-444b-b61f-f6f170f32472\",\"type\":\"ColumnDataSource\"},{\"attributes\":{\"plot\":{\"id\":\"c0dfdbb5-f74f-4225-b72e-7648f7e4c1f2\",\"subtype\":\"Figure\",\"type\":\"Plot\"}},\"id\":\"c98bdced-e38a-4481-8669-bfc158099c00\",\"type\":\"PanTool\"},{\"attributes\":{\"formatter\":{\"id\":\"794aefb6-a4f2-4356-95b7-c9896e47ebaf\",\"type\":\"BasicTickFormatter\"},\"plot\":{\"id\":\"c0dfdbb5-f74f-4225-b72e-7648f7e4c1f2\",\"subtype\":\"Figure\",\"type\":\"Plot\"},\"ticker\":{\"id\":\"1d1df490-a23d-4489-add5-02a0957de575\",\"type\":\"BasicTicker\"}},\"id\":\"73b4d689-b973-4594-8749-fc2e9f9c1430\",\"type\":\"LinearAxis\"},{\"attributes\":{\"plot\":{\"id\":\"c0dfdbb5-f74f-4225-b72e-7648f7e4c1f2\",\"subtype\":\"Figure\",\"type\":\"Plot\"}},\"id\":\"146045c9-5ddf-4c65-b2cf-950215d93a92\",\"type\":\"ResetTool\"},{\"attributes\":{\"fill_alpha\":{\"value\":0.3},\"fill_color\":{\"value\":\"red\"},\"line_alpha\":{\"value\":0.3},\"line_color\":{\"value\":\"red\"},\"size\":{\"units\":\"screen\",\"value\":16},\"x\":{\"field\":\"x\"},\"y\":{\"field\":\"y\"}},\"id\":\"8e62a5a3-99fb-44dd-a06f-2c89c800b442\",\"type\":\"Square\"},{\"attributes\":{\"data_source\":{\"id\":\"6386c6d1-a8fe-444b-b61f-f6f170f32472\",\"type\":\"ColumnDataSource\"},\"glyph\":{\"id\":\"8e62a5a3-99fb-44dd-a06f-2c89c800b442\",\"type\":\"Square\"},\"hover_glyph\":null,\"nonselection_glyph\":{\"id\":\"db94a435-325a-4789-a087-1f67785ca662\",\"type\":\"Square\"},\"selection_glyph\":null},\"id\":\"062a9798-5642-48b4-b43a-6b697485430b\",\"type\":\"GlyphRenderer\"},{\"attributes\":{},\"id\":\"c227d99a-6093-4686-bfae-94b4553e82d6\",\"type\":\"BasicTicker\"},{\"attributes\":{},\"id\":\"1d1df490-a23d-4489-add5-02a0957de575\",\"type\":\"BasicTicker\"},{\"attributes\":{\"callback\":null,\"column_names\":[\"y\",\"x\"],\"data\":{\"x\":[2,4,6,8],\"y\":[4,3,7,1]}},\"id\":\"f924abed-3111-44cf-8a7b-9eee50d56cb2\",\"type\":\"ColumnDataSource\"},{\"attributes\":{\"plot\":{\"id\":\"c0dfdbb5-f74f-4225-b72e-7648f7e4c1f2\",\"subtype\":\"Figure\",\"type\":\"Plot\"}},\"id\":\"444437d0-e904-41b2-9daa-7a764f61164b\",\"type\":\"WheelZoomTool\"},{\"attributes\":{\"overlay\":{\"id\":\"ab775642-8c26-425f-b7d8-eb9f961a65fd\",\"type\":\"BoxAnnotation\"},\"plot\":{\"id\":\"c0dfdbb5-f74f-4225-b72e-7648f7e4c1f2\",\"subtype\":\"Figure\",\"type\":\"Plot\"}},\"id\":\"0adc4779-521c-432e-b4b1-168d26761f4b\",\"type\":\"BoxZoomTool\"},{\"attributes\":{\"plot\":{\"id\":\"c0dfdbb5-f74f-4225-b72e-7648f7e4c1f2\",\"subtype\":\"Figure\",\"type\":\"Plot\"},\"ticker\":{\"id\":\"c227d99a-6093-4686-bfae-94b4553e82d6\",\"type\":\"BasicTicker\"}},\"id\":\"098b81f1-0b9f-466b-8767-92a7936bfd5a\",\"type\":\"Grid\"},{\"attributes\":{},\"id\":\"794aefb6-a4f2-4356-95b7-c9896e47ebaf\",\"type\":\"BasicTickFormatter\"},{\"attributes\":{\"plot\":{\"id\":\"c0dfdbb5-f74f-4225-b72e-7648f7e4c1f2\",\"subtype\":\"Figure\",\"type\":\"Plot\"}},\"id\":\"f563a381-d9ec-497c-a7ac-26eb522d92d8\",\"type\":\"SaveTool\"},{\"attributes\":{\"active_drag\":\"auto\",\"active_scroll\":\"auto\",\"active_tap\":\"auto\",\"tools\":[{\"id\":\"c98bdced-e38a-4481-8669-bfc158099c00\",\"type\":\"PanTool\"},{\"id\":\"444437d0-e904-41b2-9daa-7a764f61164b\",\"type\":\"WheelZoomTool\"},{\"id\":\"0adc4779-521c-432e-b4b1-168d26761f4b\",\"type\":\"BoxZoomTool\"},{\"id\":\"f563a381-d9ec-497c-a7ac-26eb522d92d8\",\"type\":\"SaveTool\"},{\"id\":\"146045c9-5ddf-4c65-b2cf-950215d93a92\",\"type\":\"ResetTool\"},{\"id\":\"03d53b55-9d23-46cb-9456-a4346af7755e\",\"type\":\"HelpTool\"}]},\"id\":\"e333d61a-b2c6-4ba6-8801-c1573f4e4119\",\"type\":\"Toolbar\"},{\"attributes\":{\"dimension\":1,\"plot\":{\"id\":\"c0dfdbb5-f74f-4225-b72e-7648f7e4c1f2\",\"subtype\":\"Figure\",\"type\":\"Plot\"},\"ticker\":{\"id\":\"1d1df490-a23d-4489-add5-02a0957de575\",\"type\":\"BasicTicker\"}},\"id\":\"60c3fb7b-4bab-4174-8402-fbc73c67a2bb\",\"type\":\"Grid\"},{\"attributes\":{\"callback\":null},\"id\":\"240cf13f-a966-4869-811a-130b53e1c395\",\"type\":\"DataRange1d\"},{\"attributes\":{\"callback\":null},\"id\":\"1fec4c1c-610c-4cc8-b71d-599c4dcb6d62\",\"type\":\"DataRange1d\"},{\"attributes\":{\"formatter\":{\"id\":\"d4cefe0f-03af-40f0-8b6d-07f037fd16f3\",\"type\":\"BasicTickFormatter\"},\"plot\":{\"id\":\"c0dfdbb5-f74f-4225-b72e-7648f7e4c1f2\",\"subtype\":\"Figure\",\"type\":\"Plot\"},\"ticker\":{\"id\":\"c227d99a-6093-4686-bfae-94b4553e82d6\",\"type\":\"BasicTicker\"}},\"id\":\"0d0886fc-9950-4f90-973c-b7e0bfb51a62\",\"type\":\"LinearAxis\"},{\"attributes\":{},\"id\":\"d4cefe0f-03af-40f0-8b6d-07f037fd16f3\",\"type\":\"BasicTickFormatter\"},{\"attributes\":{\"plot\":{\"id\":\"c0dfdbb5-f74f-4225-b72e-7648f7e4c1f2\",\"subtype\":\"Figure\",\"type\":\"Plot\"}},\"id\":\"03d53b55-9d23-46cb-9456-a4346af7755e\",\"type\":\"HelpTool\"},{\"attributes\":{\"bottom_units\":\"screen\",\"fill_alpha\":{\"value\":0.5},\"fill_color\":{\"value\":\"lightgrey\"},\"left_units\":\"screen\",\"level\":\"overlay\",\"line_alpha\":{\"value\":1.0},\"line_color\":{\"value\":\"black\"},\"line_dash\":[4,4],\"line_width\":{\"value\":2},\"plot\":null,\"render_mode\":\"css\",\"right_units\":\"screen\",\"top_units\":\"screen\"},\"id\":\"ab775642-8c26-425f-b7d8-eb9f961a65fd\",\"type\":\"BoxAnnotation\"},{\"attributes\":{\"below\":[{\"id\":\"0d0886fc-9950-4f90-973c-b7e0bfb51a62\",\"type\":\"LinearAxis\"}],\"left\":[{\"id\":\"73b4d689-b973-4594-8749-fc2e9f9c1430\",\"type\":\"LinearAxis\"}],\"plot_height\":350,\"plot_width\":450,\"renderers\":[{\"id\":\"0d0886fc-9950-4f90-973c-b7e0bfb51a62\",\"type\":\"LinearAxis\"},{\"id\":\"098b81f1-0b9f-466b-8767-92a7936bfd5a\",\"type\":\"Grid\"},{\"id\":\"73b4d689-b973-4594-8749-fc2e9f9c1430\",\"type\":\"LinearAxis\"},{\"id\":\"60c3fb7b-4bab-4174-8402-fbc73c67a2bb\",\"type\":\"Grid\"},{\"id\":\"ab775642-8c26-425f-b7d8-eb9f961a65fd\",\"type\":\"BoxAnnotation\"},{\"id\":\"f13d0425-4808-46d5-8f62-035a582230dc\",\"type\":\"GlyphRenderer\"},{\"id\":\"062a9798-5642-48b4-b43a-6b697485430b\",\"type\":\"GlyphRenderer\"}],\"title\":{\"id\":\"11a06a88-7495-43ae-8a95-34d6c8389147\",\"type\":\"Title\"},\"tool_events\":{\"id\":\"f8f9ccec-80ef-445f-aa72-c9b7abb596e8\",\"type\":\"ToolEvents\"},\"toolbar\":{\"id\":\"e333d61a-b2c6-4ba6-8801-c1573f4e4119\",\"type\":\"Toolbar\"},\"x_range\":{\"id\":\"1fec4c1c-610c-4cc8-b71d-599c4dcb6d62\",\"type\":\"DataRange1d\"},\"y_range\":{\"id\":\"240cf13f-a966-4869-811a-130b53e1c395\",\"type\":\"DataRange1d\"}},\"id\":\"c0dfdbb5-f74f-4225-b72e-7648f7e4c1f2\",\"subtype\":\"Figure\",\"type\":\"Plot\"},{\"attributes\":{\"fill_alpha\":{\"value\":0.1},\"fill_color\":{\"value\":\"#1f77b4\"},\"line_alpha\":{\"value\":0.1},\"line_color\":{\"value\":\"#1f77b4\"},\"size\":{\"units\":\"screen\",\"value\":16},\"x\":{\"field\":\"x\"},\"y\":{\"field\":\"y\"}},\"id\":\"db94a435-325a-4789-a087-1f67785ca662\",\"type\":\"Square\"},{\"attributes\":{},\"id\":\"f8f9ccec-80ef-445f-aa72-c9b7abb596e8\",\"type\":\"ToolEvents\"},{\"attributes\":{\"data_source\":{\"id\":\"f924abed-3111-44cf-8a7b-9eee50d56cb2\",\"type\":\"ColumnDataSource\"},\"glyph\":{\"id\":\"9b3e538d-8889-4fa0-bc72-6341222c3401\",\"type\":\"Square\"},\"hover_glyph\":null,\"nonselection_glyph\":{\"id\":\"74bd15fa-125c-4cff-941b-af9d1c95ea36\",\"type\":\"Square\"},\"selection_glyph\":null},\"id\":\"f13d0425-4808-46d5-8f62-035a582230dc\",\"type\":\"GlyphRenderer\"},{\"attributes\":{\"fill_alpha\":{\"value\":0.1},\"fill_color\":{\"value\":\"#1f77b4\"},\"line_alpha\":{\"value\":0.1},\"line_color\":{\"value\":\"#1f77b4\"},\"size\":{\"units\":\"screen\",\"value\":16},\"x\":{\"field\":\"x\"},\"y\":{\"field\":\"y\"}},\"id\":\"74bd15fa-125c-4cff-941b-af9d1c95ea36\",\"type\":\"Square\"}],\"root_ids\":[\"c0dfdbb5-f74f-4225-b72e-7648f7e4c1f2\"]},\"title\":\"Bokeh Application\",\"version\":\"0.12.1\"}};\n",
       "            var render_items = [{\"docid\":\"e5c9f488-863b-4eae-bfc3-ac06ab43bf92\",\"elementid\":\"3f194733-9730-443d-b50b-16a6bc2b8d0c\",\"modelid\":\"c0dfdbb5-f74f-4225-b72e-7648f7e4c1f2\",\"notebook_comms_target\":\"1cdebdd5-f6e6-4218-9cfd-525eae7b1df4\"}];\n",
       "            \n",
       "            Bokeh.embed.embed_items(docs_json, render_items);\n",
       "        });\n",
       "      },\n",
       "      function(Bokeh) {\n",
       "      }\n",
       "    ];\n",
       "  \n",
       "    function run_inline_js() {\n",
       "      for (var i = 0; i < inline_js.length; i++) {\n",
       "        inline_js[i](window.Bokeh);\n",
       "      }\n",
       "    }\n",
       "  \n",
       "    if (window._bokeh_is_loading === 0) {\n",
       "      console.log(\"Bokeh: BokehJS loaded, going straight to plotting\");\n",
       "      run_inline_js();\n",
       "    } else {\n",
       "      load_libs(js_urls, function() {\n",
       "        console.log(\"Bokeh: BokehJS plotting callback run at\", now());\n",
       "        run_inline_js();\n",
       "      });\n",
       "    }\n",
       "  }(this));\n",
       "</script>"
      ]
     },
     "metadata": {},
     "output_type": "display_data"
    },
    {
     "data": {
      "text/html": [
       "<p><code>&lt;Bokeh Notebook handle for <strong>In[12]</strong>&gt;</code></p>"
      ],
      "text/plain": [
       "<bokeh.io._CommsHandle at 0x1133df310>"
      ]
     },
     "execution_count": 12,
     "metadata": {},
     "output_type": "execute_result"
    }
   ],
   "source": [
    "p.square([2,4,6,8],[4,3,7,1], size=16, color='red', alpha=0.3)\n",
    "show(p)"
   ]
  },
  {
   "cell_type": "code",
   "execution_count": 14,
   "metadata": {
    "collapsed": false
   },
   "outputs": [
    {
     "data": {
      "text/html": [
       "\n",
       "\n",
       "    <div class=\"bk-root\">\n",
       "        <div class=\"plotdiv\" id=\"461822b1-9b6a-4f2e-b701-73d334a4a2f9\"></div>\n",
       "    </div>\n",
       "<script type=\"text/javascript\">\n",
       "  \n",
       "  (function(global) {\n",
       "    function now() {\n",
       "      return new Date();\n",
       "    }\n",
       "  \n",
       "    var force = \"\";\n",
       "  \n",
       "    if (typeof (window._bokeh_onload_callbacks) === \"undefined\" || force !== \"\") {\n",
       "      window._bokeh_onload_callbacks = [];\n",
       "      window._bokeh_is_loading = undefined;\n",
       "    }\n",
       "  \n",
       "    function run_callbacks() {\n",
       "      window._bokeh_onload_callbacks.forEach(function(callback) { callback() });\n",
       "      delete window._bokeh_onload_callbacks\n",
       "      console.info(\"Bokeh: all callbacks have finished\");\n",
       "    }\n",
       "  \n",
       "    function load_libs(js_urls, callback) {\n",
       "      window._bokeh_onload_callbacks.push(callback);\n",
       "      if (window._bokeh_is_loading > 0) {\n",
       "        console.log(\"Bokeh: BokehJS is being loaded, scheduling callback at\", now());\n",
       "        return null;\n",
       "      }\n",
       "      if (js_urls == null || js_urls.length === 0) {\n",
       "        run_callbacks();\n",
       "        return null;\n",
       "      }\n",
       "      console.log(\"Bokeh: BokehJS not loaded, scheduling load and callback at\", now());\n",
       "      window._bokeh_is_loading = js_urls.length;\n",
       "      for (var i = 0; i < js_urls.length; i++) {\n",
       "        var url = js_urls[i];\n",
       "        var s = document.createElement('script');\n",
       "        s.src = url;\n",
       "        s.async = false;\n",
       "        s.onreadystatechange = s.onload = function() {\n",
       "          window._bokeh_is_loading--;\n",
       "          if (window._bokeh_is_loading === 0) {\n",
       "            console.log(\"Bokeh: all BokehJS libraries loaded\");\n",
       "            run_callbacks()\n",
       "          }\n",
       "        };\n",
       "        s.onerror = function() {\n",
       "          console.warn(\"failed to load library \" + url);\n",
       "        };\n",
       "        console.log(\"Bokeh: injecting script tag for BokehJS library: \", url);\n",
       "        document.getElementsByTagName(\"head\")[0].appendChild(s);\n",
       "      }\n",
       "    };var element = document.getElementById(\"461822b1-9b6a-4f2e-b701-73d334a4a2f9\");\n",
       "    if (element == null) {\n",
       "      console.log(\"Bokeh: ERROR: autoload.js configured with elementid '461822b1-9b6a-4f2e-b701-73d334a4a2f9' but no matching script tag was found. \")\n",
       "      return false;\n",
       "    }\n",
       "  \n",
       "    var js_urls = [];\n",
       "  \n",
       "    var inline_js = [\n",
       "      function(Bokeh) {\n",
       "        Bokeh.$(function() {\n",
       "            var docs_json = {\"8b59f5ed-efc8-4a24-9665-c191a6f527b3\":{\"roots\":{\"references\":[{\"attributes\":{\"plot\":{\"id\":\"9788147a-9be5-4bca-9692-bbd488229b17\",\"subtype\":\"Figure\",\"type\":\"Plot\"}},\"id\":\"db762815-cb87-44cd-aab7-601797ff3d40\",\"type\":\"ResetTool\"},{\"attributes\":{\"fill_alpha\":{\"value\":0.1},\"fill_color\":{\"value\":\"#1f77b4\"},\"line_alpha\":{\"value\":0.1},\"line_color\":{\"value\":\"#1f77b4\"},\"size\":{\"field\":\"size\",\"units\":\"screen\"},\"x\":{\"field\":\"x\"},\"y\":{\"field\":\"y\"}},\"id\":\"0a38c044-183c-4d2a-b0f8-76e2ae15c785\",\"type\":\"Square\"},{\"attributes\":{\"plot\":{\"id\":\"9788147a-9be5-4bca-9692-bbd488229b17\",\"subtype\":\"Figure\",\"type\":\"Plot\"}},\"id\":\"fc8bb519-2f04-4ea2-a441-2fcc5894fd45\",\"type\":\"SaveTool\"},{\"attributes\":{\"callback\":null},\"id\":\"e7bda887-d66e-4725-9559-06ab4d57fce0\",\"type\":\"DataRange1d\"},{\"attributes\":{\"plot\":{\"id\":\"9788147a-9be5-4bca-9692-bbd488229b17\",\"subtype\":\"Figure\",\"type\":\"Plot\"},\"ticker\":{\"id\":\"611bd4c3-172e-4cb0-9f26-0603658c386d\",\"type\":\"BasicTicker\"}},\"id\":\"3d926790-0412-4dca-a409-ee3f929fed3d\",\"type\":\"Grid\"},{\"attributes\":{},\"id\":\"611bd4c3-172e-4cb0-9f26-0603658c386d\",\"type\":\"BasicTicker\"},{\"attributes\":{\"fill_alpha\":{\"value\":0.3},\"fill_color\":{\"value\":\"red\"},\"line_alpha\":{\"value\":0.3},\"line_color\":{\"value\":\"red\"},\"size\":{\"field\":\"size\",\"units\":\"screen\"},\"x\":{\"field\":\"x\"},\"y\":{\"field\":\"y\"}},\"id\":\"29413b08-bfad-4666-ad71-5b527dd4b4b0\",\"type\":\"Square\"},{\"attributes\":{},\"id\":\"b2157698-03a3-4bc4-9d7c-0845c05177fa\",\"type\":\"BasicTickFormatter\"},{\"attributes\":{\"dimension\":1,\"plot\":{\"id\":\"9788147a-9be5-4bca-9692-bbd488229b17\",\"subtype\":\"Figure\",\"type\":\"Plot\"},\"ticker\":{\"id\":\"6d95c815-0f4f-46a2-a787-e628e087f13b\",\"type\":\"BasicTicker\"}},\"id\":\"e73ebd31-6747-491b-87e0-da8dea9e8bb3\",\"type\":\"Grid\"},{\"attributes\":{},\"id\":\"31e8d17e-6438-4b9e-b69a-35779a6ca430\",\"type\":\"BasicTickFormatter\"},{\"attributes\":{\"plot\":{\"id\":\"9788147a-9be5-4bca-9692-bbd488229b17\",\"subtype\":\"Figure\",\"type\":\"Plot\"}},\"id\":\"9f72c3a3-89e6-4103-8405-49111f0c0d7b\",\"type\":\"PanTool\"},{\"attributes\":{\"formatter\":{\"id\":\"31e8d17e-6438-4b9e-b69a-35779a6ca430\",\"type\":\"BasicTickFormatter\"},\"plot\":{\"id\":\"9788147a-9be5-4bca-9692-bbd488229b17\",\"subtype\":\"Figure\",\"type\":\"Plot\"},\"ticker\":{\"id\":\"611bd4c3-172e-4cb0-9f26-0603658c386d\",\"type\":\"BasicTicker\"}},\"id\":\"a1ff32f4-68d3-4ba0-9aef-07b5b0395331\",\"type\":\"LinearAxis\"},{\"attributes\":{\"callback\":null},\"id\":\"0893c1e3-054a-4a2f-89f9-30bb8a717c4e\",\"type\":\"DataRange1d\"},{\"attributes\":{\"callback\":null,\"column_names\":[\"x\",\"y\",\"size\"],\"data\":{\"size\":[6,10,14,18],\"x\":[2,4,6,8],\"y\":[4,3,7,1]}},\"id\":\"5d46d42b-2b24-42ea-a0d6-e5481e6419b1\",\"type\":\"ColumnDataSource\"},{\"attributes\":{},\"id\":\"6d95c815-0f4f-46a2-a787-e628e087f13b\",\"type\":\"BasicTicker\"},{\"attributes\":{\"overlay\":{\"id\":\"aa5e85bb-c959-4b25-97ea-40a6cc13c0dc\",\"type\":\"BoxAnnotation\"},\"plot\":{\"id\":\"9788147a-9be5-4bca-9692-bbd488229b17\",\"subtype\":\"Figure\",\"type\":\"Plot\"}},\"id\":\"ba0e71de-5bb0-4bdc-92a6-cadeb8ef5d99\",\"type\":\"BoxZoomTool\"},{\"attributes\":{\"below\":[{\"id\":\"a1ff32f4-68d3-4ba0-9aef-07b5b0395331\",\"type\":\"LinearAxis\"}],\"left\":[{\"id\":\"6d49835a-fff2-4dfe-8448-cc5d0b6ecff5\",\"type\":\"LinearAxis\"}],\"plot_height\":350,\"plot_width\":450,\"renderers\":[{\"id\":\"a1ff32f4-68d3-4ba0-9aef-07b5b0395331\",\"type\":\"LinearAxis\"},{\"id\":\"3d926790-0412-4dca-a409-ee3f929fed3d\",\"type\":\"Grid\"},{\"id\":\"6d49835a-fff2-4dfe-8448-cc5d0b6ecff5\",\"type\":\"LinearAxis\"},{\"id\":\"e73ebd31-6747-491b-87e0-da8dea9e8bb3\",\"type\":\"Grid\"},{\"id\":\"aa5e85bb-c959-4b25-97ea-40a6cc13c0dc\",\"type\":\"BoxAnnotation\"},{\"id\":\"fbf60714-6d69-4809-953d-1fd62da7fa15\",\"type\":\"GlyphRenderer\"}],\"title\":{\"id\":\"af48b492-e7d7-479b-9dba-28d6ab1edbe0\",\"type\":\"Title\"},\"tool_events\":{\"id\":\"bac22b52-9d57-4f95-b61a-163a8a515cd8\",\"type\":\"ToolEvents\"},\"toolbar\":{\"id\":\"5bb9130c-e001-4c8d-9104-465b33cdc990\",\"type\":\"Toolbar\"},\"x_range\":{\"id\":\"e7bda887-d66e-4725-9559-06ab4d57fce0\",\"type\":\"DataRange1d\"},\"y_range\":{\"id\":\"0893c1e3-054a-4a2f-89f9-30bb8a717c4e\",\"type\":\"DataRange1d\"}},\"id\":\"9788147a-9be5-4bca-9692-bbd488229b17\",\"subtype\":\"Figure\",\"type\":\"Plot\"},{\"attributes\":{},\"id\":\"bac22b52-9d57-4f95-b61a-163a8a515cd8\",\"type\":\"ToolEvents\"},{\"attributes\":{\"active_drag\":\"auto\",\"active_scroll\":\"auto\",\"active_tap\":\"auto\",\"tools\":[{\"id\":\"9f72c3a3-89e6-4103-8405-49111f0c0d7b\",\"type\":\"PanTool\"},{\"id\":\"cd73e490-503b-46cf-8d27-a33ead3b585e\",\"type\":\"WheelZoomTool\"},{\"id\":\"ba0e71de-5bb0-4bdc-92a6-cadeb8ef5d99\",\"type\":\"BoxZoomTool\"},{\"id\":\"fc8bb519-2f04-4ea2-a441-2fcc5894fd45\",\"type\":\"SaveTool\"},{\"id\":\"db762815-cb87-44cd-aab7-601797ff3d40\",\"type\":\"ResetTool\"},{\"id\":\"a84132d4-1b96-4cbd-8d2e-73e0142c65d7\",\"type\":\"HelpTool\"}]},\"id\":\"5bb9130c-e001-4c8d-9104-465b33cdc990\",\"type\":\"Toolbar\"},{\"attributes\":{\"plot\":null,\"text\":null},\"id\":\"af48b492-e7d7-479b-9dba-28d6ab1edbe0\",\"type\":\"Title\"},{\"attributes\":{\"formatter\":{\"id\":\"b2157698-03a3-4bc4-9d7c-0845c05177fa\",\"type\":\"BasicTickFormatter\"},\"plot\":{\"id\":\"9788147a-9be5-4bca-9692-bbd488229b17\",\"subtype\":\"Figure\",\"type\":\"Plot\"},\"ticker\":{\"id\":\"6d95c815-0f4f-46a2-a787-e628e087f13b\",\"type\":\"BasicTicker\"}},\"id\":\"6d49835a-fff2-4dfe-8448-cc5d0b6ecff5\",\"type\":\"LinearAxis\"},{\"attributes\":{\"plot\":{\"id\":\"9788147a-9be5-4bca-9692-bbd488229b17\",\"subtype\":\"Figure\",\"type\":\"Plot\"}},\"id\":\"cd73e490-503b-46cf-8d27-a33ead3b585e\",\"type\":\"WheelZoomTool\"},{\"attributes\":{\"bottom_units\":\"screen\",\"fill_alpha\":{\"value\":0.5},\"fill_color\":{\"value\":\"lightgrey\"},\"left_units\":\"screen\",\"level\":\"overlay\",\"line_alpha\":{\"value\":1.0},\"line_color\":{\"value\":\"black\"},\"line_dash\":[4,4],\"line_width\":{\"value\":2},\"plot\":null,\"render_mode\":\"css\",\"right_units\":\"screen\",\"top_units\":\"screen\"},\"id\":\"aa5e85bb-c959-4b25-97ea-40a6cc13c0dc\",\"type\":\"BoxAnnotation\"},{\"attributes\":{\"plot\":{\"id\":\"9788147a-9be5-4bca-9692-bbd488229b17\",\"subtype\":\"Figure\",\"type\":\"Plot\"}},\"id\":\"a84132d4-1b96-4cbd-8d2e-73e0142c65d7\",\"type\":\"HelpTool\"},{\"attributes\":{\"data_source\":{\"id\":\"5d46d42b-2b24-42ea-a0d6-e5481e6419b1\",\"type\":\"ColumnDataSource\"},\"glyph\":{\"id\":\"29413b08-bfad-4666-ad71-5b527dd4b4b0\",\"type\":\"Square\"},\"hover_glyph\":null,\"nonselection_glyph\":{\"id\":\"0a38c044-183c-4d2a-b0f8-76e2ae15c785\",\"type\":\"Square\"},\"selection_glyph\":null},\"id\":\"fbf60714-6d69-4809-953d-1fd62da7fa15\",\"type\":\"GlyphRenderer\"}],\"root_ids\":[\"9788147a-9be5-4bca-9692-bbd488229b17\"]},\"title\":\"Bokeh Application\",\"version\":\"0.12.1\"}};\n",
       "            var render_items = [{\"docid\":\"8b59f5ed-efc8-4a24-9665-c191a6f527b3\",\"elementid\":\"461822b1-9b6a-4f2e-b701-73d334a4a2f9\",\"modelid\":\"9788147a-9be5-4bca-9692-bbd488229b17\",\"notebook_comms_target\":\"2bb9806f-1a6f-4bbc-9a56-0710ba4ddadc\"}];\n",
       "            \n",
       "            Bokeh.embed.embed_items(docs_json, render_items);\n",
       "        });\n",
       "      },\n",
       "      function(Bokeh) {\n",
       "      }\n",
       "    ];\n",
       "  \n",
       "    function run_inline_js() {\n",
       "      for (var i = 0; i < inline_js.length; i++) {\n",
       "        inline_js[i](window.Bokeh);\n",
       "      }\n",
       "    }\n",
       "  \n",
       "    if (window._bokeh_is_loading === 0) {\n",
       "      console.log(\"Bokeh: BokehJS loaded, going straight to plotting\");\n",
       "      run_inline_js();\n",
       "    } else {\n",
       "      load_libs(js_urls, function() {\n",
       "        console.log(\"Bokeh: BokehJS plotting callback run at\", now());\n",
       "        run_inline_js();\n",
       "      });\n",
       "    }\n",
       "  }(this));\n",
       "</script>"
      ]
     },
     "metadata": {},
     "output_type": "display_data"
    },
    {
     "data": {
      "text/html": [
       "<p><code>&lt;Bokeh Notebook handle for <strong>In[14]</strong>&gt;</code></p>"
      ],
      "text/plain": [
       "<bokeh.io._CommsHandle at 0x113417c10>"
      ]
     },
     "execution_count": 14,
     "metadata": {},
     "output_type": "execute_result"
    }
   ],
   "source": [
    "x = figure(plot_width=450, plot_height=350)\n",
    "\n",
    "x.square([2,4,6,8],[4,3,7,1], size=[6,10,14,18], color='red', alpha=0.3)\n",
    "show(x)"
   ]
  },
  {
   "cell_type": "code",
   "execution_count": null,
   "metadata": {
    "collapsed": true
   },
   "outputs": [],
   "source": [
    "# circle, sq, diamond, cross"
   ]
  },
  {
   "cell_type": "code",
   "execution_count": null,
   "metadata": {
    "collapsed": true
   },
   "outputs": [],
   "source": [
    "# use the diamond, circle and square"
   ]
  },
  {
   "cell_type": "code",
   "execution_count": 18,
   "metadata": {
    "collapsed": false
   },
   "outputs": [
    {
     "data": {
      "text/html": [
       "\n",
       "\n",
       "    <div class=\"bk-root\">\n",
       "        <div class=\"plotdiv\" id=\"060453c1-b50b-43a9-be8f-532cb6821d1e\"></div>\n",
       "    </div>\n",
       "<script type=\"text/javascript\">\n",
       "  \n",
       "  (function(global) {\n",
       "    function now() {\n",
       "      return new Date();\n",
       "    }\n",
       "  \n",
       "    var force = \"\";\n",
       "  \n",
       "    if (typeof (window._bokeh_onload_callbacks) === \"undefined\" || force !== \"\") {\n",
       "      window._bokeh_onload_callbacks = [];\n",
       "      window._bokeh_is_loading = undefined;\n",
       "    }\n",
       "  \n",
       "    function run_callbacks() {\n",
       "      window._bokeh_onload_callbacks.forEach(function(callback) { callback() });\n",
       "      delete window._bokeh_onload_callbacks\n",
       "      console.info(\"Bokeh: all callbacks have finished\");\n",
       "    }\n",
       "  \n",
       "    function load_libs(js_urls, callback) {\n",
       "      window._bokeh_onload_callbacks.push(callback);\n",
       "      if (window._bokeh_is_loading > 0) {\n",
       "        console.log(\"Bokeh: BokehJS is being loaded, scheduling callback at\", now());\n",
       "        return null;\n",
       "      }\n",
       "      if (js_urls == null || js_urls.length === 0) {\n",
       "        run_callbacks();\n",
       "        return null;\n",
       "      }\n",
       "      console.log(\"Bokeh: BokehJS not loaded, scheduling load and callback at\", now());\n",
       "      window._bokeh_is_loading = js_urls.length;\n",
       "      for (var i = 0; i < js_urls.length; i++) {\n",
       "        var url = js_urls[i];\n",
       "        var s = document.createElement('script');\n",
       "        s.src = url;\n",
       "        s.async = false;\n",
       "        s.onreadystatechange = s.onload = function() {\n",
       "          window._bokeh_is_loading--;\n",
       "          if (window._bokeh_is_loading === 0) {\n",
       "            console.log(\"Bokeh: all BokehJS libraries loaded\");\n",
       "            run_callbacks()\n",
       "          }\n",
       "        };\n",
       "        s.onerror = function() {\n",
       "          console.warn(\"failed to load library \" + url);\n",
       "        };\n",
       "        console.log(\"Bokeh: injecting script tag for BokehJS library: \", url);\n",
       "        document.getElementsByTagName(\"head\")[0].appendChild(s);\n",
       "      }\n",
       "    };var element = document.getElementById(\"060453c1-b50b-43a9-be8f-532cb6821d1e\");\n",
       "    if (element == null) {\n",
       "      console.log(\"Bokeh: ERROR: autoload.js configured with elementid '060453c1-b50b-43a9-be8f-532cb6821d1e' but no matching script tag was found. \")\n",
       "      return false;\n",
       "    }\n",
       "  \n",
       "    var js_urls = [];\n",
       "  \n",
       "    var inline_js = [\n",
       "      function(Bokeh) {\n",
       "        Bokeh.$(function() {\n",
       "            var docs_json = {\"89e169bc-e9f3-4315-8a51-88db87eed3e7\":{\"roots\":{\"references\":[{\"attributes\":{\"fill_alpha\":{\"value\":0.1},\"fill_color\":{\"value\":\"#1f77b4\"},\"line_alpha\":{\"value\":0.1},\"line_color\":{\"value\":\"#1f77b4\"},\"size\":{\"units\":\"screen\",\"value\":16},\"x\":{\"field\":\"x\"},\"y\":{\"field\":\"y\"}},\"id\":\"15103b98-2806-4e89-b0de-6ee4cbfc5aac\",\"type\":\"Circle\"},{\"attributes\":{},\"id\":\"03b18ec7-5138-4867-a96d-3c64f37d791e\",\"type\":\"BasicTicker\"},{\"attributes\":{},\"id\":\"13f7f75c-5d94-4a17-a3d6-e81882eebe9f\",\"type\":\"BasicTickFormatter\"},{\"attributes\":{\"data_source\":{\"id\":\"ca09a299-7623-47e6-af23-db252830caf5\",\"type\":\"ColumnDataSource\"},\"glyph\":{\"id\":\"d221227c-93af-424e-99d5-1b0712891d1d\",\"type\":\"Square\"},\"hover_glyph\":null,\"nonselection_glyph\":{\"id\":\"c097cd2a-7c89-4381-869f-b3dd216afd82\",\"type\":\"Square\"},\"selection_glyph\":null},\"id\":\"48178b45-67ad-455f-8bb0-84db38154648\",\"type\":\"GlyphRenderer\"},{\"attributes\":{\"dimension\":1,\"plot\":{\"id\":\"8b0d3dde-e689-4201-9db6-de20b8419d30\",\"subtype\":\"Figure\",\"type\":\"Plot\"},\"ticker\":{\"id\":\"03b18ec7-5138-4867-a96d-3c64f37d791e\",\"type\":\"BasicTicker\"}},\"id\":\"5ddf0bd7-cfee-4ee7-bcc3-ff8c22585f4a\",\"type\":\"Grid\"},{\"attributes\":{\"fill_alpha\":{\"value\":0.8},\"fill_color\":{\"value\":\"blue\"},\"line_alpha\":{\"value\":0.8},\"line_color\":{\"value\":\"blue\"},\"size\":{\"units\":\"screen\",\"value\":12},\"x\":{\"field\":\"x\"},\"y\":{\"field\":\"y\"}},\"id\":\"d221227c-93af-424e-99d5-1b0712891d1d\",\"type\":\"Square\"},{\"attributes\":{\"below\":[{\"id\":\"807706a6-5e84-4ef9-88a1-476ccd28ffbe\",\"type\":\"LinearAxis\"}],\"left\":[{\"id\":\"9f16138c-9221-4213-a2f7-48fa39b673ed\",\"type\":\"LinearAxis\"}],\"plot_height\":350,\"plot_width\":450,\"renderers\":[{\"id\":\"807706a6-5e84-4ef9-88a1-476ccd28ffbe\",\"type\":\"LinearAxis\"},{\"id\":\"621f3df7-201e-4034-ab63-d6ae61d46c07\",\"type\":\"Grid\"},{\"id\":\"9f16138c-9221-4213-a2f7-48fa39b673ed\",\"type\":\"LinearAxis\"},{\"id\":\"5ddf0bd7-cfee-4ee7-bcc3-ff8c22585f4a\",\"type\":\"Grid\"},{\"id\":\"56cc52f7-cebf-4645-820f-90e17d6ef300\",\"type\":\"BoxAnnotation\"},{\"id\":\"2c89b3fb-c9ca-4423-9ce8-b6eedcfcf9ec\",\"type\":\"GlyphRenderer\"},{\"id\":\"d729f05c-ac4d-43f3-9bfc-ebbc8ebaebc3\",\"type\":\"GlyphRenderer\"},{\"id\":\"48178b45-67ad-455f-8bb0-84db38154648\",\"type\":\"GlyphRenderer\"}],\"title\":{\"id\":\"98467434-1c84-42bb-bebc-134658ca1cc6\",\"type\":\"Title\"},\"tool_events\":{\"id\":\"bfa6f58c-b18f-495e-9dd8-ac907853e361\",\"type\":\"ToolEvents\"},\"toolbar\":{\"id\":\"d43f2a14-0779-4468-8e85-f8aafb4a0c93\",\"type\":\"Toolbar\"},\"x_range\":{\"id\":\"5083dd8b-2f01-43c9-8ee8-5074ffa6d4f4\",\"type\":\"DataRange1d\"},\"y_range\":{\"id\":\"c3c7b377-1e99-4205-ae20-552889ac3408\",\"type\":\"DataRange1d\"}},\"id\":\"8b0d3dde-e689-4201-9db6-de20b8419d30\",\"subtype\":\"Figure\",\"type\":\"Plot\"},{\"attributes\":{},\"id\":\"bfa6f58c-b18f-495e-9dd8-ac907853e361\",\"type\":\"ToolEvents\"},{\"attributes\":{\"data_source\":{\"id\":\"11fd8865-1ed3-401f-86a2-fc977fc5253d\",\"type\":\"ColumnDataSource\"},\"glyph\":{\"id\":\"22a7edbb-8884-434e-ae34-8ca84258f8aa\",\"type\":\"Diamond\"},\"hover_glyph\":null,\"nonselection_glyph\":{\"id\":\"fb2b0ab2-fa9d-4dde-b1f6-24b17117ef8e\",\"type\":\"Diamond\"},\"selection_glyph\":null},\"id\":\"2c89b3fb-c9ca-4423-9ce8-b6eedcfcf9ec\",\"type\":\"GlyphRenderer\"},{\"attributes\":{\"callback\":null},\"id\":\"5083dd8b-2f01-43c9-8ee8-5074ffa6d4f4\",\"type\":\"DataRange1d\"},{\"attributes\":{\"plot\":{\"id\":\"8b0d3dde-e689-4201-9db6-de20b8419d30\",\"subtype\":\"Figure\",\"type\":\"Plot\"},\"ticker\":{\"id\":\"11b13fea-157b-48bc-bb78-967c5c1dc45d\",\"type\":\"BasicTicker\"}},\"id\":\"621f3df7-201e-4034-ab63-d6ae61d46c07\",\"type\":\"Grid\"},{\"attributes\":{\"data_source\":{\"id\":\"43f156d9-4201-4811-8ecb-fe64df00831b\",\"type\":\"ColumnDataSource\"},\"glyph\":{\"id\":\"f164b7f4-18ee-4237-9fa3-babad49005a0\",\"type\":\"Circle\"},\"hover_glyph\":null,\"nonselection_glyph\":{\"id\":\"15103b98-2806-4e89-b0de-6ee4cbfc5aac\",\"type\":\"Circle\"},\"selection_glyph\":null},\"id\":\"d729f05c-ac4d-43f3-9bfc-ebbc8ebaebc3\",\"type\":\"GlyphRenderer\"},{\"attributes\":{\"fill_alpha\":{\"value\":0.1},\"fill_color\":{\"value\":\"#1f77b4\"},\"line_alpha\":{\"value\":0.1},\"line_color\":{\"value\":\"#1f77b4\"},\"size\":{\"units\":\"screen\",\"value\":12},\"x\":{\"field\":\"x\"},\"y\":{\"field\":\"y\"}},\"id\":\"c097cd2a-7c89-4381-869f-b3dd216afd82\",\"type\":\"Square\"},{\"attributes\":{\"plot\":{\"id\":\"8b0d3dde-e689-4201-9db6-de20b8419d30\",\"subtype\":\"Figure\",\"type\":\"Plot\"}},\"id\":\"d9a54386-e3aa-434f-8082-bbfd95108aec\",\"type\":\"WheelZoomTool\"},{\"attributes\":{},\"id\":\"11b13fea-157b-48bc-bb78-967c5c1dc45d\",\"type\":\"BasicTicker\"},{\"attributes\":{\"fill_alpha\":{\"value\":0.3},\"fill_color\":{\"value\":\"green\"},\"line_alpha\":{\"value\":0.3},\"line_color\":{\"value\":\"green\"},\"size\":{\"units\":\"screen\",\"value\":14},\"x\":{\"field\":\"x\"},\"y\":{\"field\":\"y\"}},\"id\":\"22a7edbb-8884-434e-ae34-8ca84258f8aa\",\"type\":\"Diamond\"},{\"attributes\":{\"formatter\":{\"id\":\"4ca7d661-b847-440c-8588-61cb5b18ac06\",\"type\":\"BasicTickFormatter\"},\"plot\":{\"id\":\"8b0d3dde-e689-4201-9db6-de20b8419d30\",\"subtype\":\"Figure\",\"type\":\"Plot\"},\"ticker\":{\"id\":\"03b18ec7-5138-4867-a96d-3c64f37d791e\",\"type\":\"BasicTicker\"}},\"id\":\"9f16138c-9221-4213-a2f7-48fa39b673ed\",\"type\":\"LinearAxis\"},{\"attributes\":{\"fill_alpha\":{\"value\":0.5},\"fill_color\":{\"value\":\"yellow\"},\"line_alpha\":{\"value\":0.5},\"line_color\":{\"value\":\"red\"},\"size\":{\"units\":\"screen\",\"value\":16},\"x\":{\"field\":\"x\"},\"y\":{\"field\":\"y\"}},\"id\":\"f164b7f4-18ee-4237-9fa3-babad49005a0\",\"type\":\"Circle\"},{\"attributes\":{\"callback\":null},\"id\":\"c3c7b377-1e99-4205-ae20-552889ac3408\",\"type\":\"DataRange1d\"},{\"attributes\":{\"overlay\":{\"id\":\"56cc52f7-cebf-4645-820f-90e17d6ef300\",\"type\":\"BoxAnnotation\"},\"plot\":{\"id\":\"8b0d3dde-e689-4201-9db6-de20b8419d30\",\"subtype\":\"Figure\",\"type\":\"Plot\"}},\"id\":\"e0cccd03-d46f-4e35-b84c-bdf952d7e2db\",\"type\":\"BoxZoomTool\"},{\"attributes\":{\"callback\":null,\"column_names\":[\"y\",\"x\"],\"data\":{\"x\":[3,8,5,9],\"y\":[8,4,5,3]}},\"id\":\"43f156d9-4201-4811-8ecb-fe64df00831b\",\"type\":\"ColumnDataSource\"},{\"attributes\":{\"plot\":{\"id\":\"8b0d3dde-e689-4201-9db6-de20b8419d30\",\"subtype\":\"Figure\",\"type\":\"Plot\"}},\"id\":\"e9386139-b10b-46a2-b336-1ce74091458e\",\"type\":\"SaveTool\"},{\"attributes\":{},\"id\":\"4ca7d661-b847-440c-8588-61cb5b18ac06\",\"type\":\"BasicTickFormatter\"},{\"attributes\":{\"bottom_units\":\"screen\",\"fill_alpha\":{\"value\":0.5},\"fill_color\":{\"value\":\"lightgrey\"},\"left_units\":\"screen\",\"level\":\"overlay\",\"line_alpha\":{\"value\":1.0},\"line_color\":{\"value\":\"black\"},\"line_dash\":[4,4],\"line_width\":{\"value\":2},\"plot\":null,\"render_mode\":\"css\",\"right_units\":\"screen\",\"top_units\":\"screen\"},\"id\":\"56cc52f7-cebf-4645-820f-90e17d6ef300\",\"type\":\"BoxAnnotation\"},{\"attributes\":{\"callback\":null,\"column_names\":[\"x\",\"y\"],\"data\":{\"x\":[2,4,3,6],\"y\":[3,1,5,2]}},\"id\":\"ca09a299-7623-47e6-af23-db252830caf5\",\"type\":\"ColumnDataSource\"},{\"attributes\":{\"fill_alpha\":{\"value\":0.1},\"fill_color\":{\"value\":\"#1f77b4\"},\"line_alpha\":{\"value\":0.1},\"line_color\":{\"value\":\"#1f77b4\"},\"size\":{\"units\":\"screen\",\"value\":14},\"x\":{\"field\":\"x\"},\"y\":{\"field\":\"y\"}},\"id\":\"fb2b0ab2-fa9d-4dde-b1f6-24b17117ef8e\",\"type\":\"Diamond\"},{\"attributes\":{\"plot\":null,\"text\":null},\"id\":\"98467434-1c84-42bb-bebc-134658ca1cc6\",\"type\":\"Title\"},{\"attributes\":{\"active_drag\":\"auto\",\"active_scroll\":\"auto\",\"active_tap\":\"auto\",\"tools\":[{\"id\":\"70c5231c-f42c-42ae-a5e5-6d318f408470\",\"type\":\"PanTool\"},{\"id\":\"d9a54386-e3aa-434f-8082-bbfd95108aec\",\"type\":\"WheelZoomTool\"},{\"id\":\"e0cccd03-d46f-4e35-b84c-bdf952d7e2db\",\"type\":\"BoxZoomTool\"},{\"id\":\"e9386139-b10b-46a2-b336-1ce74091458e\",\"type\":\"SaveTool\"},{\"id\":\"99c2df8a-eef4-4928-ab46-9f76947c8d86\",\"type\":\"ResetTool\"},{\"id\":\"2750bd33-2d6a-43cd-8136-1ebdeb60e323\",\"type\":\"HelpTool\"}]},\"id\":\"d43f2a14-0779-4468-8e85-f8aafb4a0c93\",\"type\":\"Toolbar\"},{\"attributes\":{\"plot\":{\"id\":\"8b0d3dde-e689-4201-9db6-de20b8419d30\",\"subtype\":\"Figure\",\"type\":\"Plot\"}},\"id\":\"99c2df8a-eef4-4928-ab46-9f76947c8d86\",\"type\":\"ResetTool\"},{\"attributes\":{\"plot\":{\"id\":\"8b0d3dde-e689-4201-9db6-de20b8419d30\",\"subtype\":\"Figure\",\"type\":\"Plot\"}},\"id\":\"2750bd33-2d6a-43cd-8136-1ebdeb60e323\",\"type\":\"HelpTool\"},{\"attributes\":{\"plot\":{\"id\":\"8b0d3dde-e689-4201-9db6-de20b8419d30\",\"subtype\":\"Figure\",\"type\":\"Plot\"}},\"id\":\"70c5231c-f42c-42ae-a5e5-6d318f408470\",\"type\":\"PanTool\"},{\"attributes\":{\"callback\":null,\"column_names\":[\"x\",\"y\"],\"data\":{\"x\":[1,5,7,2],\"y\":[3,1,5,6]}},\"id\":\"11fd8865-1ed3-401f-86a2-fc977fc5253d\",\"type\":\"ColumnDataSource\"},{\"attributes\":{\"formatter\":{\"id\":\"13f7f75c-5d94-4a17-a3d6-e81882eebe9f\",\"type\":\"BasicTickFormatter\"},\"plot\":{\"id\":\"8b0d3dde-e689-4201-9db6-de20b8419d30\",\"subtype\":\"Figure\",\"type\":\"Plot\"},\"ticker\":{\"id\":\"11b13fea-157b-48bc-bb78-967c5c1dc45d\",\"type\":\"BasicTicker\"}},\"id\":\"807706a6-5e84-4ef9-88a1-476ccd28ffbe\",\"type\":\"LinearAxis\"}],\"root_ids\":[\"8b0d3dde-e689-4201-9db6-de20b8419d30\"]},\"title\":\"Bokeh Application\",\"version\":\"0.12.1\"}};\n",
       "            var render_items = [{\"docid\":\"89e169bc-e9f3-4315-8a51-88db87eed3e7\",\"elementid\":\"060453c1-b50b-43a9-be8f-532cb6821d1e\",\"modelid\":\"8b0d3dde-e689-4201-9db6-de20b8419d30\",\"notebook_comms_target\":\"29e1513c-129b-4c62-8b6d-66ea123e3f98\"}];\n",
       "            \n",
       "            Bokeh.embed.embed_items(docs_json, render_items);\n",
       "        });\n",
       "      },\n",
       "      function(Bokeh) {\n",
       "      }\n",
       "    ];\n",
       "  \n",
       "    function run_inline_js() {\n",
       "      for (var i = 0; i < inline_js.length; i++) {\n",
       "        inline_js[i](window.Bokeh);\n",
       "      }\n",
       "    }\n",
       "  \n",
       "    if (window._bokeh_is_loading === 0) {\n",
       "      console.log(\"Bokeh: BokehJS loaded, going straight to plotting\");\n",
       "      run_inline_js();\n",
       "    } else {\n",
       "      load_libs(js_urls, function() {\n",
       "        console.log(\"Bokeh: BokehJS plotting callback run at\", now());\n",
       "        run_inline_js();\n",
       "      });\n",
       "    }\n",
       "  }(this));\n",
       "</script>"
      ]
     },
     "metadata": {},
     "output_type": "display_data"
    },
    {
     "data": {
      "text/html": [
       "<p><code>&lt;Bokeh Notebook handle for <strong>In[18]</strong>&gt;</code></p>"
      ],
      "text/plain": [
       "<bokeh.io._CommsHandle at 0x113462990>"
      ]
     },
     "execution_count": 18,
     "metadata": {},
     "output_type": "execute_result"
    }
   ],
   "source": [
    "a = figure(plot_width=450, plot_height=350)\n",
    "\n",
    "a.diamond([1,5,7,2],[3,1,5,6], size=14, color='green', alpha=0.3)\n",
    "a.circle([3,8,5,9],[8,4,5,3], size=16, color='red',fill_color='yellow', alpha=0.5)\n",
    "a.square([2,4,3,6],[3,1,5,2], size=12, color='blue', alpha=0.8)\n",
    "\n",
    "show(a)\n"
   ]
  },
  {
   "cell_type": "code",
   "execution_count": null,
   "metadata": {
    "collapsed": true
   },
   "outputs": [],
   "source": []
  },
  {
   "cell_type": "markdown",
   "metadata": {},
   "source": [
    "# Line Plots"
   ]
  },
  {
   "cell_type": "code",
   "execution_count": 19,
   "metadata": {
    "collapsed": true
   },
   "outputs": [],
   "source": [
    "l = figure(plot_width = 450, plot_height = 350)"
   ]
  },
  {
   "cell_type": "code",
   "execution_count": 22,
   "metadata": {
    "collapsed": false
   },
   "outputs": [
    {
     "data": {
      "text/html": [
       "\n",
       "\n",
       "    <div class=\"bk-root\">\n",
       "        <div class=\"plotdiv\" id=\"3d8459c4-cf14-49ab-b6a2-128540987669\"></div>\n",
       "    </div>\n",
       "<script type=\"text/javascript\">\n",
       "  \n",
       "  (function(global) {\n",
       "    function now() {\n",
       "      return new Date();\n",
       "    }\n",
       "  \n",
       "    var force = \"\";\n",
       "  \n",
       "    if (typeof (window._bokeh_onload_callbacks) === \"undefined\" || force !== \"\") {\n",
       "      window._bokeh_onload_callbacks = [];\n",
       "      window._bokeh_is_loading = undefined;\n",
       "    }\n",
       "  \n",
       "    function run_callbacks() {\n",
       "      window._bokeh_onload_callbacks.forEach(function(callback) { callback() });\n",
       "      delete window._bokeh_onload_callbacks\n",
       "      console.info(\"Bokeh: all callbacks have finished\");\n",
       "    }\n",
       "  \n",
       "    function load_libs(js_urls, callback) {\n",
       "      window._bokeh_onload_callbacks.push(callback);\n",
       "      if (window._bokeh_is_loading > 0) {\n",
       "        console.log(\"Bokeh: BokehJS is being loaded, scheduling callback at\", now());\n",
       "        return null;\n",
       "      }\n",
       "      if (js_urls == null || js_urls.length === 0) {\n",
       "        run_callbacks();\n",
       "        return null;\n",
       "      }\n",
       "      console.log(\"Bokeh: BokehJS not loaded, scheduling load and callback at\", now());\n",
       "      window._bokeh_is_loading = js_urls.length;\n",
       "      for (var i = 0; i < js_urls.length; i++) {\n",
       "        var url = js_urls[i];\n",
       "        var s = document.createElement('script');\n",
       "        s.src = url;\n",
       "        s.async = false;\n",
       "        s.onreadystatechange = s.onload = function() {\n",
       "          window._bokeh_is_loading--;\n",
       "          if (window._bokeh_is_loading === 0) {\n",
       "            console.log(\"Bokeh: all BokehJS libraries loaded\");\n",
       "            run_callbacks()\n",
       "          }\n",
       "        };\n",
       "        s.onerror = function() {\n",
       "          console.warn(\"failed to load library \" + url);\n",
       "        };\n",
       "        console.log(\"Bokeh: injecting script tag for BokehJS library: \", url);\n",
       "        document.getElementsByTagName(\"head\")[0].appendChild(s);\n",
       "      }\n",
       "    };var element = document.getElementById(\"3d8459c4-cf14-49ab-b6a2-128540987669\");\n",
       "    if (element == null) {\n",
       "      console.log(\"Bokeh: ERROR: autoload.js configured with elementid '3d8459c4-cf14-49ab-b6a2-128540987669' but no matching script tag was found. \")\n",
       "      return false;\n",
       "    }\n",
       "  \n",
       "    var js_urls = [];\n",
       "  \n",
       "    var inline_js = [\n",
       "      function(Bokeh) {\n",
       "        Bokeh.$(function() {\n",
       "            var docs_json = {\"54a221a5-ac42-4665-a8b0-6bc2f5045353\":{\"roots\":{\"references\":[{\"attributes\":{\"plot\":{\"id\":\"5f8f80e6-e260-43a7-b0df-f1f7a5c8cea8\",\"subtype\":\"Figure\",\"type\":\"Plot\"}},\"id\":\"8be0854c-44f8-4beb-8da5-f4192af18dec\",\"type\":\"ResetTool\"},{\"attributes\":{\"plot\":{\"id\":\"5f8f80e6-e260-43a7-b0df-f1f7a5c8cea8\",\"subtype\":\"Figure\",\"type\":\"Plot\"}},\"id\":\"bb6c079c-0ef6-4404-a13c-b1026604f46a\",\"type\":\"HelpTool\"},{\"attributes\":{\"callback\":null,\"column_names\":[\"y\",\"x\"],\"data\":{\"x\":[2,3,4,6],\"y\":[4,2,64]}},\"id\":\"0032184b-fd48-479f-907c-839b611c0c5f\",\"type\":\"ColumnDataSource\"},{\"attributes\":{\"formatter\":{\"id\":\"3a3cc2e7-1c71-412f-b0cd-62ca8cdee2a6\",\"type\":\"BasicTickFormatter\"},\"plot\":{\"id\":\"5f8f80e6-e260-43a7-b0df-f1f7a5c8cea8\",\"subtype\":\"Figure\",\"type\":\"Plot\"},\"ticker\":{\"id\":\"9107d5f1-d5d2-4ad5-ac89-b93bef18b52e\",\"type\":\"BasicTicker\"}},\"id\":\"3d4b2184-e3c6-43c9-a7be-c7f084c54f57\",\"type\":\"LinearAxis\"},{\"attributes\":{\"line_alpha\":{\"value\":0.1},\"line_color\":{\"value\":\"#1f77b4\"},\"line_width\":{\"value\":3},\"x\":{\"field\":\"x\"},\"y\":{\"field\":\"y\"}},\"id\":\"090d6945-7966-4f8e-9197-5d0c1db73a43\",\"type\":\"Line\"},{\"attributes\":{\"dimension\":1,\"plot\":{\"id\":\"5f8f80e6-e260-43a7-b0df-f1f7a5c8cea8\",\"subtype\":\"Figure\",\"type\":\"Plot\"},\"ticker\":{\"id\":\"9107d5f1-d5d2-4ad5-ac89-b93bef18b52e\",\"type\":\"BasicTicker\"}},\"id\":\"b7a615c0-bedf-4d4b-aa9c-53395fbc8bd2\",\"type\":\"Grid\"},{\"attributes\":{\"plot\":{\"id\":\"5f8f80e6-e260-43a7-b0df-f1f7a5c8cea8\",\"subtype\":\"Figure\",\"type\":\"Plot\"},\"ticker\":{\"id\":\"a8f7d268-035c-4928-aba5-e79ad0734a9a\",\"type\":\"BasicTicker\"}},\"id\":\"bc503398-66cf-4513-beb0-0cf1ccf39f9d\",\"type\":\"Grid\"},{\"attributes\":{},\"id\":\"9107d5f1-d5d2-4ad5-ac89-b93bef18b52e\",\"type\":\"BasicTicker\"},{\"attributes\":{\"callback\":null,\"column_names\":[\"y\",\"x\"],\"data\":{\"x\":[2,3,4,6],\"y\":[4,2,6,4]}},\"id\":\"cca0ce8e-01a1-4900-b32c-9f5477e8c311\",\"type\":\"ColumnDataSource\"},{\"attributes\":{\"callback\":null},\"id\":\"add76635-2b6f-4076-bbb6-ac0315485e40\",\"type\":\"DataRange1d\"},{\"attributes\":{\"data_source\":{\"id\":\"cca0ce8e-01a1-4900-b32c-9f5477e8c311\",\"type\":\"ColumnDataSource\"},\"glyph\":{\"id\":\"fbe51a99-d4ad-40a0-aa7b-bd98361f9a6a\",\"type\":\"Line\"},\"hover_glyph\":null,\"nonselection_glyph\":{\"id\":\"fc737305-aa83-4a21-b04f-2a30b496a49f\",\"type\":\"Line\"},\"selection_glyph\":null},\"id\":\"fa95f712-ad2f-4590-85c4-62733f1edbaa\",\"type\":\"GlyphRenderer\"},{\"attributes\":{\"below\":[{\"id\":\"5a7739d2-fe90-4a48-8445-fe051db59821\",\"type\":\"LinearAxis\"}],\"left\":[{\"id\":\"3d4b2184-e3c6-43c9-a7be-c7f084c54f57\",\"type\":\"LinearAxis\"}],\"plot_height\":350,\"plot_width\":450,\"renderers\":[{\"id\":\"5a7739d2-fe90-4a48-8445-fe051db59821\",\"type\":\"LinearAxis\"},{\"id\":\"bc503398-66cf-4513-beb0-0cf1ccf39f9d\",\"type\":\"Grid\"},{\"id\":\"3d4b2184-e3c6-43c9-a7be-c7f084c54f57\",\"type\":\"LinearAxis\"},{\"id\":\"b7a615c0-bedf-4d4b-aa9c-53395fbc8bd2\",\"type\":\"Grid\"},{\"id\":\"881693a8-92d2-4391-95b2-ffa59888eaa3\",\"type\":\"BoxAnnotation\"},{\"id\":\"e3937588-4bc2-46da-9d16-3c5b6281ec2e\",\"type\":\"GlyphRenderer\"},{\"id\":\"ab2892c6-b465-44f7-8017-ff1135338a71\",\"type\":\"GlyphRenderer\"},{\"id\":\"fa95f712-ad2f-4590-85c4-62733f1edbaa\",\"type\":\"GlyphRenderer\"}],\"title\":{\"id\":\"74ec441e-4742-4b6a-8dfb-10a1b0e45cdf\",\"type\":\"Title\"},\"tool_events\":{\"id\":\"4277ca50-4d72-427f-8d01-15bfaa219cbb\",\"type\":\"ToolEvents\"},\"toolbar\":{\"id\":\"3b9a37de-2e4d-4749-bb06-ada50b568b75\",\"type\":\"Toolbar\"},\"x_range\":{\"id\":\"6962a217-b01d-43ab-9c5e-6ce7114136d9\",\"type\":\"DataRange1d\"},\"y_range\":{\"id\":\"add76635-2b6f-4076-bbb6-ac0315485e40\",\"type\":\"DataRange1d\"}},\"id\":\"5f8f80e6-e260-43a7-b0df-f1f7a5c8cea8\",\"subtype\":\"Figure\",\"type\":\"Plot\"},{\"attributes\":{\"data_source\":{\"id\":\"a706402a-60d7-4a47-a8b7-666e4920a71c\",\"type\":\"ColumnDataSource\"},\"glyph\":{\"id\":\"48e35e78-3795-4d30-845b-d7ff20c592ba\",\"type\":\"Line\"},\"hover_glyph\":null,\"nonselection_glyph\":{\"id\":\"090d6945-7966-4f8e-9197-5d0c1db73a43\",\"type\":\"Line\"},\"selection_glyph\":null},\"id\":\"ab2892c6-b465-44f7-8017-ff1135338a71\",\"type\":\"GlyphRenderer\"},{\"attributes\":{},\"id\":\"a8f7d268-035c-4928-aba5-e79ad0734a9a\",\"type\":\"BasicTicker\"},{\"attributes\":{\"line_color\":{\"value\":\"red\"},\"line_width\":{\"value\":3},\"x\":{\"field\":\"x\"},\"y\":{\"field\":\"y\"}},\"id\":\"48e35e78-3795-4d30-845b-d7ff20c592ba\",\"type\":\"Line\"},{\"attributes\":{},\"id\":\"4277ca50-4d72-427f-8d01-15bfaa219cbb\",\"type\":\"ToolEvents\"},{\"attributes\":{\"line_alpha\":{\"value\":0.1},\"line_color\":{\"value\":\"#1f77b4\"},\"x\":{\"field\":\"x\"},\"y\":{\"field\":\"y\"}},\"id\":\"2c397bda-eb90-4369-8695-9ee09b87424d\",\"type\":\"Line\"},{\"attributes\":{\"line_alpha\":{\"value\":0.1},\"line_color\":{\"value\":\"#1f77b4\"},\"x\":{\"field\":\"x\"},\"y\":{\"field\":\"y\"}},\"id\":\"fc737305-aa83-4a21-b04f-2a30b496a49f\",\"type\":\"Line\"},{\"attributes\":{},\"id\":\"3a3cc2e7-1c71-412f-b0cd-62ca8cdee2a6\",\"type\":\"BasicTickFormatter\"},{\"attributes\":{\"overlay\":{\"id\":\"881693a8-92d2-4391-95b2-ffa59888eaa3\",\"type\":\"BoxAnnotation\"},\"plot\":{\"id\":\"5f8f80e6-e260-43a7-b0df-f1f7a5c8cea8\",\"subtype\":\"Figure\",\"type\":\"Plot\"}},\"id\":\"4a1d3d0a-f291-497c-81a3-e0f5493ecaab\",\"type\":\"BoxZoomTool\"},{\"attributes\":{\"plot\":{\"id\":\"5f8f80e6-e260-43a7-b0df-f1f7a5c8cea8\",\"subtype\":\"Figure\",\"type\":\"Plot\"}},\"id\":\"87431803-702d-4a2b-aeb8-dd5817e24620\",\"type\":\"WheelZoomTool\"},{\"attributes\":{\"bottom_units\":\"screen\",\"fill_alpha\":{\"value\":0.5},\"fill_color\":{\"value\":\"lightgrey\"},\"left_units\":\"screen\",\"level\":\"overlay\",\"line_alpha\":{\"value\":1.0},\"line_color\":{\"value\":\"black\"},\"line_dash\":[4,4],\"line_width\":{\"value\":2},\"plot\":null,\"render_mode\":\"css\",\"right_units\":\"screen\",\"top_units\":\"screen\"},\"id\":\"881693a8-92d2-4391-95b2-ffa59888eaa3\",\"type\":\"BoxAnnotation\"},{\"attributes\":{\"formatter\":{\"id\":\"3ea56a9a-258c-4a23-9d2f-0a668eb55779\",\"type\":\"BasicTickFormatter\"},\"plot\":{\"id\":\"5f8f80e6-e260-43a7-b0df-f1f7a5c8cea8\",\"subtype\":\"Figure\",\"type\":\"Plot\"},\"ticker\":{\"id\":\"a8f7d268-035c-4928-aba5-e79ad0734a9a\",\"type\":\"BasicTicker\"}},\"id\":\"5a7739d2-fe90-4a48-8445-fe051db59821\",\"type\":\"LinearAxis\"},{\"attributes\":{\"callback\":null,\"column_names\":[\"y\",\"x\"],\"data\":{\"x\":[2,3,4,6],\"y\":[4,2,64]}},\"id\":\"a706402a-60d7-4a47-a8b7-666e4920a71c\",\"type\":\"ColumnDataSource\"},{\"attributes\":{\"callback\":null},\"id\":\"6962a217-b01d-43ab-9c5e-6ce7114136d9\",\"type\":\"DataRange1d\"},{\"attributes\":{\"data_source\":{\"id\":\"0032184b-fd48-479f-907c-839b611c0c5f\",\"type\":\"ColumnDataSource\"},\"glyph\":{\"id\":\"4147f0af-bae0-419c-a61d-93df591a637e\",\"type\":\"Line\"},\"hover_glyph\":null,\"nonselection_glyph\":{\"id\":\"2c397bda-eb90-4369-8695-9ee09b87424d\",\"type\":\"Line\"},\"selection_glyph\":null},\"id\":\"e3937588-4bc2-46da-9d16-3c5b6281ec2e\",\"type\":\"GlyphRenderer\"},{\"attributes\":{\"line_color\":{\"value\":\"#1f77b4\"},\"x\":{\"field\":\"x\"},\"y\":{\"field\":\"y\"}},\"id\":\"fbe51a99-d4ad-40a0-aa7b-bd98361f9a6a\",\"type\":\"Line\"},{\"attributes\":{},\"id\":\"3ea56a9a-258c-4a23-9d2f-0a668eb55779\",\"type\":\"BasicTickFormatter\"},{\"attributes\":{\"line_color\":{\"value\":\"#1f77b4\"},\"x\":{\"field\":\"x\"},\"y\":{\"field\":\"y\"}},\"id\":\"4147f0af-bae0-419c-a61d-93df591a637e\",\"type\":\"Line\"},{\"attributes\":{\"plot\":null,\"text\":null},\"id\":\"74ec441e-4742-4b6a-8dfb-10a1b0e45cdf\",\"type\":\"Title\"},{\"attributes\":{\"plot\":{\"id\":\"5f8f80e6-e260-43a7-b0df-f1f7a5c8cea8\",\"subtype\":\"Figure\",\"type\":\"Plot\"}},\"id\":\"2aaf6cae-460d-46aa-9b01-528754f0fc5f\",\"type\":\"PanTool\"},{\"attributes\":{\"plot\":{\"id\":\"5f8f80e6-e260-43a7-b0df-f1f7a5c8cea8\",\"subtype\":\"Figure\",\"type\":\"Plot\"}},\"id\":\"1d58ed24-9519-446c-bf8c-bce41d59d29d\",\"type\":\"SaveTool\"},{\"attributes\":{\"active_drag\":\"auto\",\"active_scroll\":\"auto\",\"active_tap\":\"auto\",\"tools\":[{\"id\":\"2aaf6cae-460d-46aa-9b01-528754f0fc5f\",\"type\":\"PanTool\"},{\"id\":\"87431803-702d-4a2b-aeb8-dd5817e24620\",\"type\":\"WheelZoomTool\"},{\"id\":\"4a1d3d0a-f291-497c-81a3-e0f5493ecaab\",\"type\":\"BoxZoomTool\"},{\"id\":\"1d58ed24-9519-446c-bf8c-bce41d59d29d\",\"type\":\"SaveTool\"},{\"id\":\"8be0854c-44f8-4beb-8da5-f4192af18dec\",\"type\":\"ResetTool\"},{\"id\":\"bb6c079c-0ef6-4404-a13c-b1026604f46a\",\"type\":\"HelpTool\"}]},\"id\":\"3b9a37de-2e4d-4749-bb06-ada50b568b75\",\"type\":\"Toolbar\"}],\"root_ids\":[\"5f8f80e6-e260-43a7-b0df-f1f7a5c8cea8\"]},\"title\":\"Bokeh Application\",\"version\":\"0.12.1\"}};\n",
       "            var render_items = [{\"docid\":\"54a221a5-ac42-4665-a8b0-6bc2f5045353\",\"elementid\":\"3d8459c4-cf14-49ab-b6a2-128540987669\",\"modelid\":\"5f8f80e6-e260-43a7-b0df-f1f7a5c8cea8\",\"notebook_comms_target\":\"ee7136c2-08bb-4154-9ac8-c33bf2e31a46\"}];\n",
       "            \n",
       "            Bokeh.embed.embed_items(docs_json, render_items);\n",
       "        });\n",
       "      },\n",
       "      function(Bokeh) {\n",
       "      }\n",
       "    ];\n",
       "  \n",
       "    function run_inline_js() {\n",
       "      for (var i = 0; i < inline_js.length; i++) {\n",
       "        inline_js[i](window.Bokeh);\n",
       "      }\n",
       "    }\n",
       "  \n",
       "    if (window._bokeh_is_loading === 0) {\n",
       "      console.log(\"Bokeh: BokehJS loaded, going straight to plotting\");\n",
       "      run_inline_js();\n",
       "    } else {\n",
       "      load_libs(js_urls, function() {\n",
       "        console.log(\"Bokeh: BokehJS plotting callback run at\", now());\n",
       "        run_inline_js();\n",
       "      });\n",
       "    }\n",
       "  }(this));\n",
       "</script>"
      ]
     },
     "metadata": {},
     "output_type": "display_data"
    },
    {
     "data": {
      "text/html": [
       "<p><code>&lt;Bokeh Notebook handle for <strong>In[22]</strong>&gt;</code></p>"
      ],
      "text/plain": [
       "<bokeh.io._CommsHandle at 0x11343f110>"
      ]
     },
     "execution_count": 22,
     "metadata": {},
     "output_type": "execute_result"
    }
   ],
   "source": [
    "l.line([2,3,4,6],[4,2,6,4])\n",
    "\n",
    "show(l)"
   ]
  },
  {
   "cell_type": "code",
   "execution_count": 21,
   "metadata": {
    "collapsed": false
   },
   "outputs": [
    {
     "data": {
      "text/html": [
       "\n",
       "\n",
       "    <div class=\"bk-root\">\n",
       "        <div class=\"plotdiv\" id=\"55a8b867-54ed-40d1-92c9-7018eca1ea20\"></div>\n",
       "    </div>\n",
       "<script type=\"text/javascript\">\n",
       "  \n",
       "  (function(global) {\n",
       "    function now() {\n",
       "      return new Date();\n",
       "    }\n",
       "  \n",
       "    var force = \"\";\n",
       "  \n",
       "    if (typeof (window._bokeh_onload_callbacks) === \"undefined\" || force !== \"\") {\n",
       "      window._bokeh_onload_callbacks = [];\n",
       "      window._bokeh_is_loading = undefined;\n",
       "    }\n",
       "  \n",
       "    function run_callbacks() {\n",
       "      window._bokeh_onload_callbacks.forEach(function(callback) { callback() });\n",
       "      delete window._bokeh_onload_callbacks\n",
       "      console.info(\"Bokeh: all callbacks have finished\");\n",
       "    }\n",
       "  \n",
       "    function load_libs(js_urls, callback) {\n",
       "      window._bokeh_onload_callbacks.push(callback);\n",
       "      if (window._bokeh_is_loading > 0) {\n",
       "        console.log(\"Bokeh: BokehJS is being loaded, scheduling callback at\", now());\n",
       "        return null;\n",
       "      }\n",
       "      if (js_urls == null || js_urls.length === 0) {\n",
       "        run_callbacks();\n",
       "        return null;\n",
       "      }\n",
       "      console.log(\"Bokeh: BokehJS not loaded, scheduling load and callback at\", now());\n",
       "      window._bokeh_is_loading = js_urls.length;\n",
       "      for (var i = 0; i < js_urls.length; i++) {\n",
       "        var url = js_urls[i];\n",
       "        var s = document.createElement('script');\n",
       "        s.src = url;\n",
       "        s.async = false;\n",
       "        s.onreadystatechange = s.onload = function() {\n",
       "          window._bokeh_is_loading--;\n",
       "          if (window._bokeh_is_loading === 0) {\n",
       "            console.log(\"Bokeh: all BokehJS libraries loaded\");\n",
       "            run_callbacks()\n",
       "          }\n",
       "        };\n",
       "        s.onerror = function() {\n",
       "          console.warn(\"failed to load library \" + url);\n",
       "        };\n",
       "        console.log(\"Bokeh: injecting script tag for BokehJS library: \", url);\n",
       "        document.getElementsByTagName(\"head\")[0].appendChild(s);\n",
       "      }\n",
       "    };var element = document.getElementById(\"55a8b867-54ed-40d1-92c9-7018eca1ea20\");\n",
       "    if (element == null) {\n",
       "      console.log(\"Bokeh: ERROR: autoload.js configured with elementid '55a8b867-54ed-40d1-92c9-7018eca1ea20' but no matching script tag was found. \")\n",
       "      return false;\n",
       "    }\n",
       "  \n",
       "    var js_urls = [];\n",
       "  \n",
       "    var inline_js = [\n",
       "      function(Bokeh) {\n",
       "        Bokeh.$(function() {\n",
       "            var docs_json = {\"5f7705cc-e3c9-4a10-9630-82279671e48b\":{\"roots\":{\"references\":[{\"attributes\":{\"plot\":{\"id\":\"5f8f80e6-e260-43a7-b0df-f1f7a5c8cea8\",\"subtype\":\"Figure\",\"type\":\"Plot\"}},\"id\":\"8be0854c-44f8-4beb-8da5-f4192af18dec\",\"type\":\"ResetTool\"},{\"attributes\":{\"plot\":{\"id\":\"5f8f80e6-e260-43a7-b0df-f1f7a5c8cea8\",\"subtype\":\"Figure\",\"type\":\"Plot\"}},\"id\":\"bb6c079c-0ef6-4404-a13c-b1026604f46a\",\"type\":\"HelpTool\"},{\"attributes\":{\"callback\":null,\"column_names\":[\"y\",\"x\"],\"data\":{\"x\":[2,3,4,6],\"y\":[4,2,64]}},\"id\":\"0032184b-fd48-479f-907c-839b611c0c5f\",\"type\":\"ColumnDataSource\"},{\"attributes\":{\"formatter\":{\"id\":\"3a3cc2e7-1c71-412f-b0cd-62ca8cdee2a6\",\"type\":\"BasicTickFormatter\"},\"plot\":{\"id\":\"5f8f80e6-e260-43a7-b0df-f1f7a5c8cea8\",\"subtype\":\"Figure\",\"type\":\"Plot\"},\"ticker\":{\"id\":\"9107d5f1-d5d2-4ad5-ac89-b93bef18b52e\",\"type\":\"BasicTicker\"}},\"id\":\"3d4b2184-e3c6-43c9-a7be-c7f084c54f57\",\"type\":\"LinearAxis\"},{\"attributes\":{\"line_alpha\":{\"value\":0.1},\"line_color\":{\"value\":\"#1f77b4\"},\"line_width\":{\"value\":3},\"x\":{\"field\":\"x\"},\"y\":{\"field\":\"y\"}},\"id\":\"090d6945-7966-4f8e-9197-5d0c1db73a43\",\"type\":\"Line\"},{\"attributes\":{\"dimension\":1,\"plot\":{\"id\":\"5f8f80e6-e260-43a7-b0df-f1f7a5c8cea8\",\"subtype\":\"Figure\",\"type\":\"Plot\"},\"ticker\":{\"id\":\"9107d5f1-d5d2-4ad5-ac89-b93bef18b52e\",\"type\":\"BasicTicker\"}},\"id\":\"b7a615c0-bedf-4d4b-aa9c-53395fbc8bd2\",\"type\":\"Grid\"},{\"attributes\":{\"plot\":{\"id\":\"5f8f80e6-e260-43a7-b0df-f1f7a5c8cea8\",\"subtype\":\"Figure\",\"type\":\"Plot\"},\"ticker\":{\"id\":\"a8f7d268-035c-4928-aba5-e79ad0734a9a\",\"type\":\"BasicTicker\"}},\"id\":\"bc503398-66cf-4513-beb0-0cf1ccf39f9d\",\"type\":\"Grid\"},{\"attributes\":{},\"id\":\"9107d5f1-d5d2-4ad5-ac89-b93bef18b52e\",\"type\":\"BasicTicker\"},{\"attributes\":{\"callback\":null},\"id\":\"add76635-2b6f-4076-bbb6-ac0315485e40\",\"type\":\"DataRange1d\"},{\"attributes\":{\"below\":[{\"id\":\"5a7739d2-fe90-4a48-8445-fe051db59821\",\"type\":\"LinearAxis\"}],\"left\":[{\"id\":\"3d4b2184-e3c6-43c9-a7be-c7f084c54f57\",\"type\":\"LinearAxis\"}],\"plot_height\":350,\"plot_width\":450,\"renderers\":[{\"id\":\"5a7739d2-fe90-4a48-8445-fe051db59821\",\"type\":\"LinearAxis\"},{\"id\":\"bc503398-66cf-4513-beb0-0cf1ccf39f9d\",\"type\":\"Grid\"},{\"id\":\"3d4b2184-e3c6-43c9-a7be-c7f084c54f57\",\"type\":\"LinearAxis\"},{\"id\":\"b7a615c0-bedf-4d4b-aa9c-53395fbc8bd2\",\"type\":\"Grid\"},{\"id\":\"881693a8-92d2-4391-95b2-ffa59888eaa3\",\"type\":\"BoxAnnotation\"},{\"id\":\"e3937588-4bc2-46da-9d16-3c5b6281ec2e\",\"type\":\"GlyphRenderer\"},{\"id\":\"ab2892c6-b465-44f7-8017-ff1135338a71\",\"type\":\"GlyphRenderer\"}],\"title\":{\"id\":\"74ec441e-4742-4b6a-8dfb-10a1b0e45cdf\",\"type\":\"Title\"},\"tool_events\":{\"id\":\"4277ca50-4d72-427f-8d01-15bfaa219cbb\",\"type\":\"ToolEvents\"},\"toolbar\":{\"id\":\"3b9a37de-2e4d-4749-bb06-ada50b568b75\",\"type\":\"Toolbar\"},\"x_range\":{\"id\":\"6962a217-b01d-43ab-9c5e-6ce7114136d9\",\"type\":\"DataRange1d\"},\"y_range\":{\"id\":\"add76635-2b6f-4076-bbb6-ac0315485e40\",\"type\":\"DataRange1d\"}},\"id\":\"5f8f80e6-e260-43a7-b0df-f1f7a5c8cea8\",\"subtype\":\"Figure\",\"type\":\"Plot\"},{\"attributes\":{\"data_source\":{\"id\":\"a706402a-60d7-4a47-a8b7-666e4920a71c\",\"type\":\"ColumnDataSource\"},\"glyph\":{\"id\":\"48e35e78-3795-4d30-845b-d7ff20c592ba\",\"type\":\"Line\"},\"hover_glyph\":null,\"nonselection_glyph\":{\"id\":\"090d6945-7966-4f8e-9197-5d0c1db73a43\",\"type\":\"Line\"},\"selection_glyph\":null},\"id\":\"ab2892c6-b465-44f7-8017-ff1135338a71\",\"type\":\"GlyphRenderer\"},{\"attributes\":{},\"id\":\"a8f7d268-035c-4928-aba5-e79ad0734a9a\",\"type\":\"BasicTicker\"},{\"attributes\":{\"line_color\":{\"value\":\"red\"},\"line_width\":{\"value\":3},\"x\":{\"field\":\"x\"},\"y\":{\"field\":\"y\"}},\"id\":\"48e35e78-3795-4d30-845b-d7ff20c592ba\",\"type\":\"Line\"},{\"attributes\":{},\"id\":\"4277ca50-4d72-427f-8d01-15bfaa219cbb\",\"type\":\"ToolEvents\"},{\"attributes\":{\"line_alpha\":{\"value\":0.1},\"line_color\":{\"value\":\"#1f77b4\"},\"x\":{\"field\":\"x\"},\"y\":{\"field\":\"y\"}},\"id\":\"2c397bda-eb90-4369-8695-9ee09b87424d\",\"type\":\"Line\"},{\"attributes\":{},\"id\":\"3a3cc2e7-1c71-412f-b0cd-62ca8cdee2a6\",\"type\":\"BasicTickFormatter\"},{\"attributes\":{\"overlay\":{\"id\":\"881693a8-92d2-4391-95b2-ffa59888eaa3\",\"type\":\"BoxAnnotation\"},\"plot\":{\"id\":\"5f8f80e6-e260-43a7-b0df-f1f7a5c8cea8\",\"subtype\":\"Figure\",\"type\":\"Plot\"}},\"id\":\"4a1d3d0a-f291-497c-81a3-e0f5493ecaab\",\"type\":\"BoxZoomTool\"},{\"attributes\":{\"plot\":{\"id\":\"5f8f80e6-e260-43a7-b0df-f1f7a5c8cea8\",\"subtype\":\"Figure\",\"type\":\"Plot\"}},\"id\":\"87431803-702d-4a2b-aeb8-dd5817e24620\",\"type\":\"WheelZoomTool\"},{\"attributes\":{\"bottom_units\":\"screen\",\"fill_alpha\":{\"value\":0.5},\"fill_color\":{\"value\":\"lightgrey\"},\"left_units\":\"screen\",\"level\":\"overlay\",\"line_alpha\":{\"value\":1.0},\"line_color\":{\"value\":\"black\"},\"line_dash\":[4,4],\"line_width\":{\"value\":2},\"plot\":null,\"render_mode\":\"css\",\"right_units\":\"screen\",\"top_units\":\"screen\"},\"id\":\"881693a8-92d2-4391-95b2-ffa59888eaa3\",\"type\":\"BoxAnnotation\"},{\"attributes\":{\"formatter\":{\"id\":\"3ea56a9a-258c-4a23-9d2f-0a668eb55779\",\"type\":\"BasicTickFormatter\"},\"plot\":{\"id\":\"5f8f80e6-e260-43a7-b0df-f1f7a5c8cea8\",\"subtype\":\"Figure\",\"type\":\"Plot\"},\"ticker\":{\"id\":\"a8f7d268-035c-4928-aba5-e79ad0734a9a\",\"type\":\"BasicTicker\"}},\"id\":\"5a7739d2-fe90-4a48-8445-fe051db59821\",\"type\":\"LinearAxis\"},{\"attributes\":{\"callback\":null,\"column_names\":[\"y\",\"x\"],\"data\":{\"x\":[2,3,4,6],\"y\":[4,2,64]}},\"id\":\"a706402a-60d7-4a47-a8b7-666e4920a71c\",\"type\":\"ColumnDataSource\"},{\"attributes\":{\"callback\":null},\"id\":\"6962a217-b01d-43ab-9c5e-6ce7114136d9\",\"type\":\"DataRange1d\"},{\"attributes\":{\"data_source\":{\"id\":\"0032184b-fd48-479f-907c-839b611c0c5f\",\"type\":\"ColumnDataSource\"},\"glyph\":{\"id\":\"4147f0af-bae0-419c-a61d-93df591a637e\",\"type\":\"Line\"},\"hover_glyph\":null,\"nonselection_glyph\":{\"id\":\"2c397bda-eb90-4369-8695-9ee09b87424d\",\"type\":\"Line\"},\"selection_glyph\":null},\"id\":\"e3937588-4bc2-46da-9d16-3c5b6281ec2e\",\"type\":\"GlyphRenderer\"},{\"attributes\":{},\"id\":\"3ea56a9a-258c-4a23-9d2f-0a668eb55779\",\"type\":\"BasicTickFormatter\"},{\"attributes\":{\"line_color\":{\"value\":\"#1f77b4\"},\"x\":{\"field\":\"x\"},\"y\":{\"field\":\"y\"}},\"id\":\"4147f0af-bae0-419c-a61d-93df591a637e\",\"type\":\"Line\"},{\"attributes\":{\"plot\":null,\"text\":null},\"id\":\"74ec441e-4742-4b6a-8dfb-10a1b0e45cdf\",\"type\":\"Title\"},{\"attributes\":{\"plot\":{\"id\":\"5f8f80e6-e260-43a7-b0df-f1f7a5c8cea8\",\"subtype\":\"Figure\",\"type\":\"Plot\"}},\"id\":\"2aaf6cae-460d-46aa-9b01-528754f0fc5f\",\"type\":\"PanTool\"},{\"attributes\":{\"plot\":{\"id\":\"5f8f80e6-e260-43a7-b0df-f1f7a5c8cea8\",\"subtype\":\"Figure\",\"type\":\"Plot\"}},\"id\":\"1d58ed24-9519-446c-bf8c-bce41d59d29d\",\"type\":\"SaveTool\"},{\"attributes\":{\"active_drag\":\"auto\",\"active_scroll\":\"auto\",\"active_tap\":\"auto\",\"tools\":[{\"id\":\"2aaf6cae-460d-46aa-9b01-528754f0fc5f\",\"type\":\"PanTool\"},{\"id\":\"87431803-702d-4a2b-aeb8-dd5817e24620\",\"type\":\"WheelZoomTool\"},{\"id\":\"4a1d3d0a-f291-497c-81a3-e0f5493ecaab\",\"type\":\"BoxZoomTool\"},{\"id\":\"1d58ed24-9519-446c-bf8c-bce41d59d29d\",\"type\":\"SaveTool\"},{\"id\":\"8be0854c-44f8-4beb-8da5-f4192af18dec\",\"type\":\"ResetTool\"},{\"id\":\"bb6c079c-0ef6-4404-a13c-b1026604f46a\",\"type\":\"HelpTool\"}]},\"id\":\"3b9a37de-2e4d-4749-bb06-ada50b568b75\",\"type\":\"Toolbar\"}],\"root_ids\":[\"5f8f80e6-e260-43a7-b0df-f1f7a5c8cea8\"]},\"title\":\"Bokeh Application\",\"version\":\"0.12.1\"}};\n",
       "            var render_items = [{\"docid\":\"5f7705cc-e3c9-4a10-9630-82279671e48b\",\"elementid\":\"55a8b867-54ed-40d1-92c9-7018eca1ea20\",\"modelid\":\"5f8f80e6-e260-43a7-b0df-f1f7a5c8cea8\",\"notebook_comms_target\":\"98bfa494-d34a-401a-9298-870ad1106ef7\"}];\n",
       "            \n",
       "            Bokeh.embed.embed_items(docs_json, render_items);\n",
       "        });\n",
       "      },\n",
       "      function(Bokeh) {\n",
       "      }\n",
       "    ];\n",
       "  \n",
       "    function run_inline_js() {\n",
       "      for (var i = 0; i < inline_js.length; i++) {\n",
       "        inline_js[i](window.Bokeh);\n",
       "      }\n",
       "    }\n",
       "  \n",
       "    if (window._bokeh_is_loading === 0) {\n",
       "      console.log(\"Bokeh: BokehJS loaded, going straight to plotting\");\n",
       "      run_inline_js();\n",
       "    } else {\n",
       "      load_libs(js_urls, function() {\n",
       "        console.log(\"Bokeh: BokehJS plotting callback run at\", now());\n",
       "        run_inline_js();\n",
       "      });\n",
       "    }\n",
       "  }(this));\n",
       "</script>"
      ]
     },
     "metadata": {},
     "output_type": "display_data"
    },
    {
     "data": {
      "text/html": [
       "<p><code>&lt;Bokeh Notebook handle for <strong>In[21]</strong>&gt;</code></p>"
      ],
      "text/plain": [
       "<bokeh.io._CommsHandle at 0x1133dfb10>"
      ]
     },
     "execution_count": 21,
     "metadata": {},
     "output_type": "execute_result"
    }
   ],
   "source": [
    "l.line([2,3,4,6],[4,2,6,4], line_width = 3, color = 'red')\n",
    "\n",
    "show(l)"
   ]
  },
  {
   "cell_type": "code",
   "execution_count": 23,
   "metadata": {
    "collapsed": true
   },
   "outputs": [],
   "source": [
    "l = figure(plot_width = 450, plot_height = 350)"
   ]
  },
  {
   "cell_type": "code",
   "execution_count": 24,
   "metadata": {
    "collapsed": false
   },
   "outputs": [
    {
     "data": {
      "text/html": [
       "\n",
       "\n",
       "    <div class=\"bk-root\">\n",
       "        <div class=\"plotdiv\" id=\"391175a9-0ebb-4a83-99a6-385543ef361a\"></div>\n",
       "    </div>\n",
       "<script type=\"text/javascript\">\n",
       "  \n",
       "  (function(global) {\n",
       "    function now() {\n",
       "      return new Date();\n",
       "    }\n",
       "  \n",
       "    var force = \"\";\n",
       "  \n",
       "    if (typeof (window._bokeh_onload_callbacks) === \"undefined\" || force !== \"\") {\n",
       "      window._bokeh_onload_callbacks = [];\n",
       "      window._bokeh_is_loading = undefined;\n",
       "    }\n",
       "  \n",
       "    function run_callbacks() {\n",
       "      window._bokeh_onload_callbacks.forEach(function(callback) { callback() });\n",
       "      delete window._bokeh_onload_callbacks\n",
       "      console.info(\"Bokeh: all callbacks have finished\");\n",
       "    }\n",
       "  \n",
       "    function load_libs(js_urls, callback) {\n",
       "      window._bokeh_onload_callbacks.push(callback);\n",
       "      if (window._bokeh_is_loading > 0) {\n",
       "        console.log(\"Bokeh: BokehJS is being loaded, scheduling callback at\", now());\n",
       "        return null;\n",
       "      }\n",
       "      if (js_urls == null || js_urls.length === 0) {\n",
       "        run_callbacks();\n",
       "        return null;\n",
       "      }\n",
       "      console.log(\"Bokeh: BokehJS not loaded, scheduling load and callback at\", now());\n",
       "      window._bokeh_is_loading = js_urls.length;\n",
       "      for (var i = 0; i < js_urls.length; i++) {\n",
       "        var url = js_urls[i];\n",
       "        var s = document.createElement('script');\n",
       "        s.src = url;\n",
       "        s.async = false;\n",
       "        s.onreadystatechange = s.onload = function() {\n",
       "          window._bokeh_is_loading--;\n",
       "          if (window._bokeh_is_loading === 0) {\n",
       "            console.log(\"Bokeh: all BokehJS libraries loaded\");\n",
       "            run_callbacks()\n",
       "          }\n",
       "        };\n",
       "        s.onerror = function() {\n",
       "          console.warn(\"failed to load library \" + url);\n",
       "        };\n",
       "        console.log(\"Bokeh: injecting script tag for BokehJS library: \", url);\n",
       "        document.getElementsByTagName(\"head\")[0].appendChild(s);\n",
       "      }\n",
       "    };var element = document.getElementById(\"391175a9-0ebb-4a83-99a6-385543ef361a\");\n",
       "    if (element == null) {\n",
       "      console.log(\"Bokeh: ERROR: autoload.js configured with elementid '391175a9-0ebb-4a83-99a6-385543ef361a' but no matching script tag was found. \")\n",
       "      return false;\n",
       "    }\n",
       "  \n",
       "    var js_urls = [];\n",
       "  \n",
       "    var inline_js = [\n",
       "      function(Bokeh) {\n",
       "        Bokeh.$(function() {\n",
       "            var docs_json = {\"be6ca0d8-31ea-4160-a051-e0c70be8c356\":{\"roots\":{\"references\":[{\"attributes\":{\"line_color\":{\"value\":\"red\"},\"line_width\":{\"value\":3},\"x\":{\"field\":\"x\"},\"y\":{\"field\":\"y\"}},\"id\":\"1ef27108-29f9-42b8-b7e7-b3f9b939e539\",\"type\":\"Line\"},{\"attributes\":{\"bottom_units\":\"screen\",\"fill_alpha\":{\"value\":0.5},\"fill_color\":{\"value\":\"lightgrey\"},\"left_units\":\"screen\",\"level\":\"overlay\",\"line_alpha\":{\"value\":1.0},\"line_color\":{\"value\":\"black\"},\"line_dash\":[4,4],\"line_width\":{\"value\":2},\"plot\":null,\"render_mode\":\"css\",\"right_units\":\"screen\",\"top_units\":\"screen\"},\"id\":\"cf63d5d0-83b5-470e-9eae-472755d83f4f\",\"type\":\"BoxAnnotation\"},{\"attributes\":{},\"id\":\"a059c3e4-b6b5-44ed-990c-bc35cdd69769\",\"type\":\"ToolEvents\"},{\"attributes\":{\"plot\":{\"id\":\"5a14f333-a605-4518-9f9e-91b03df04ac4\",\"subtype\":\"Figure\",\"type\":\"Plot\"},\"ticker\":{\"id\":\"8a1ff092-566d-484a-9e8a-e7819d823ec2\",\"type\":\"BasicTicker\"}},\"id\":\"5eec2beb-b1cb-4766-8d64-a058ad39d266\",\"type\":\"Grid\"},{\"attributes\":{\"formatter\":{\"id\":\"27bfc4bf-e0bf-4905-b38c-e15a2ac05892\",\"type\":\"BasicTickFormatter\"},\"plot\":{\"id\":\"5a14f333-a605-4518-9f9e-91b03df04ac4\",\"subtype\":\"Figure\",\"type\":\"Plot\"},\"ticker\":{\"id\":\"8a1ff092-566d-484a-9e8a-e7819d823ec2\",\"type\":\"BasicTicker\"}},\"id\":\"c59409d9-c8c3-449d-ab91-cbb5e1bcef58\",\"type\":\"LinearAxis\"},{\"attributes\":{\"formatter\":{\"id\":\"65e30f53-84a0-4e81-b44f-e662d4541e92\",\"type\":\"BasicTickFormatter\"},\"plot\":{\"id\":\"5a14f333-a605-4518-9f9e-91b03df04ac4\",\"subtype\":\"Figure\",\"type\":\"Plot\"},\"ticker\":{\"id\":\"311ee88f-623d-440e-9d69-7a0bd1851edb\",\"type\":\"BasicTicker\"}},\"id\":\"f316179e-33e6-4275-9805-4430110e25d8\",\"type\":\"LinearAxis\"},{\"attributes\":{\"plot\":{\"id\":\"5a14f333-a605-4518-9f9e-91b03df04ac4\",\"subtype\":\"Figure\",\"type\":\"Plot\"}},\"id\":\"1a8a33fb-7f68-495a-8d50-00fedaa11017\",\"type\":\"WheelZoomTool\"},{\"attributes\":{\"callback\":null,\"column_names\":[\"y\",\"x\"],\"data\":{\"x\":[2,3,4,6],\"y\":[4,2,6,4]}},\"id\":\"f8066bae-a062-4ea6-91f9-4c4c3c791000\",\"type\":\"ColumnDataSource\"},{\"attributes\":{\"line_alpha\":{\"value\":0.1},\"line_color\":{\"value\":\"#1f77b4\"},\"line_width\":{\"value\":3},\"x\":{\"field\":\"x\"},\"y\":{\"field\":\"y\"}},\"id\":\"cc18af17-488e-44e8-9d23-ddd87d5c3013\",\"type\":\"Line\"},{\"attributes\":{\"below\":[{\"id\":\"c59409d9-c8c3-449d-ab91-cbb5e1bcef58\",\"type\":\"LinearAxis\"}],\"left\":[{\"id\":\"f316179e-33e6-4275-9805-4430110e25d8\",\"type\":\"LinearAxis\"}],\"plot_height\":350,\"plot_width\":450,\"renderers\":[{\"id\":\"c59409d9-c8c3-449d-ab91-cbb5e1bcef58\",\"type\":\"LinearAxis\"},{\"id\":\"5eec2beb-b1cb-4766-8d64-a058ad39d266\",\"type\":\"Grid\"},{\"id\":\"f316179e-33e6-4275-9805-4430110e25d8\",\"type\":\"LinearAxis\"},{\"id\":\"c37cd4b5-6df3-4861-b935-a457e0c8af18\",\"type\":\"Grid\"},{\"id\":\"cf63d5d0-83b5-470e-9eae-472755d83f4f\",\"type\":\"BoxAnnotation\"},{\"id\":\"3de07063-97f0-4f1a-9ecc-29e5d880c706\",\"type\":\"GlyphRenderer\"}],\"title\":{\"id\":\"21a139a9-ce9a-4d79-968e-ceaca9a2b013\",\"type\":\"Title\"},\"tool_events\":{\"id\":\"a059c3e4-b6b5-44ed-990c-bc35cdd69769\",\"type\":\"ToolEvents\"},\"toolbar\":{\"id\":\"9a637626-b9f1-4270-b7ea-010e40b0d3a8\",\"type\":\"Toolbar\"},\"x_range\":{\"id\":\"fc5c017e-e77c-400b-9629-542b7908775b\",\"type\":\"DataRange1d\"},\"y_range\":{\"id\":\"e7a83f1c-72f2-48a9-9215-a5a22b98d038\",\"type\":\"DataRange1d\"}},\"id\":\"5a14f333-a605-4518-9f9e-91b03df04ac4\",\"subtype\":\"Figure\",\"type\":\"Plot\"},{\"attributes\":{\"dimension\":1,\"plot\":{\"id\":\"5a14f333-a605-4518-9f9e-91b03df04ac4\",\"subtype\":\"Figure\",\"type\":\"Plot\"},\"ticker\":{\"id\":\"311ee88f-623d-440e-9d69-7a0bd1851edb\",\"type\":\"BasicTicker\"}},\"id\":\"c37cd4b5-6df3-4861-b935-a457e0c8af18\",\"type\":\"Grid\"},{\"attributes\":{\"overlay\":{\"id\":\"cf63d5d0-83b5-470e-9eae-472755d83f4f\",\"type\":\"BoxAnnotation\"},\"plot\":{\"id\":\"5a14f333-a605-4518-9f9e-91b03df04ac4\",\"subtype\":\"Figure\",\"type\":\"Plot\"}},\"id\":\"9ee08439-01ce-47ab-9747-95a8c2af411d\",\"type\":\"BoxZoomTool\"},{\"attributes\":{},\"id\":\"27bfc4bf-e0bf-4905-b38c-e15a2ac05892\",\"type\":\"BasicTickFormatter\"},{\"attributes\":{\"callback\":null},\"id\":\"e7a83f1c-72f2-48a9-9215-a5a22b98d038\",\"type\":\"DataRange1d\"},{\"attributes\":{\"plot\":{\"id\":\"5a14f333-a605-4518-9f9e-91b03df04ac4\",\"subtype\":\"Figure\",\"type\":\"Plot\"}},\"id\":\"0b8ae4fd-ec25-4f4b-9183-4ff0833b86ba\",\"type\":\"PanTool\"},{\"attributes\":{\"plot\":{\"id\":\"5a14f333-a605-4518-9f9e-91b03df04ac4\",\"subtype\":\"Figure\",\"type\":\"Plot\"}},\"id\":\"f8c7d806-227e-48e3-a546-dc44ae67cf2a\",\"type\":\"SaveTool\"},{\"attributes\":{\"plot\":{\"id\":\"5a14f333-a605-4518-9f9e-91b03df04ac4\",\"subtype\":\"Figure\",\"type\":\"Plot\"}},\"id\":\"57e3eb7b-a495-479c-ae2a-167ba6e9e9cd\",\"type\":\"ResetTool\"},{\"attributes\":{\"callback\":null},\"id\":\"fc5c017e-e77c-400b-9629-542b7908775b\",\"type\":\"DataRange1d\"},{\"attributes\":{},\"id\":\"8a1ff092-566d-484a-9e8a-e7819d823ec2\",\"type\":\"BasicTicker\"},{\"attributes\":{},\"id\":\"65e30f53-84a0-4e81-b44f-e662d4541e92\",\"type\":\"BasicTickFormatter\"},{\"attributes\":{\"active_drag\":\"auto\",\"active_scroll\":\"auto\",\"active_tap\":\"auto\",\"tools\":[{\"id\":\"0b8ae4fd-ec25-4f4b-9183-4ff0833b86ba\",\"type\":\"PanTool\"},{\"id\":\"1a8a33fb-7f68-495a-8d50-00fedaa11017\",\"type\":\"WheelZoomTool\"},{\"id\":\"9ee08439-01ce-47ab-9747-95a8c2af411d\",\"type\":\"BoxZoomTool\"},{\"id\":\"f8c7d806-227e-48e3-a546-dc44ae67cf2a\",\"type\":\"SaveTool\"},{\"id\":\"57e3eb7b-a495-479c-ae2a-167ba6e9e9cd\",\"type\":\"ResetTool\"},{\"id\":\"25b3207a-cced-47d0-928c-f3aadbb10375\",\"type\":\"HelpTool\"}]},\"id\":\"9a637626-b9f1-4270-b7ea-010e40b0d3a8\",\"type\":\"Toolbar\"},{\"attributes\":{\"data_source\":{\"id\":\"f8066bae-a062-4ea6-91f9-4c4c3c791000\",\"type\":\"ColumnDataSource\"},\"glyph\":{\"id\":\"1ef27108-29f9-42b8-b7e7-b3f9b939e539\",\"type\":\"Line\"},\"hover_glyph\":null,\"nonselection_glyph\":{\"id\":\"cc18af17-488e-44e8-9d23-ddd87d5c3013\",\"type\":\"Line\"},\"selection_glyph\":null},\"id\":\"3de07063-97f0-4f1a-9ecc-29e5d880c706\",\"type\":\"GlyphRenderer\"},{\"attributes\":{},\"id\":\"311ee88f-623d-440e-9d69-7a0bd1851edb\",\"type\":\"BasicTicker\"},{\"attributes\":{\"plot\":null,\"text\":null},\"id\":\"21a139a9-ce9a-4d79-968e-ceaca9a2b013\",\"type\":\"Title\"},{\"attributes\":{\"plot\":{\"id\":\"5a14f333-a605-4518-9f9e-91b03df04ac4\",\"subtype\":\"Figure\",\"type\":\"Plot\"}},\"id\":\"25b3207a-cced-47d0-928c-f3aadbb10375\",\"type\":\"HelpTool\"}],\"root_ids\":[\"5a14f333-a605-4518-9f9e-91b03df04ac4\"]},\"title\":\"Bokeh Application\",\"version\":\"0.12.1\"}};\n",
       "            var render_items = [{\"docid\":\"be6ca0d8-31ea-4160-a051-e0c70be8c356\",\"elementid\":\"391175a9-0ebb-4a83-99a6-385543ef361a\",\"modelid\":\"5a14f333-a605-4518-9f9e-91b03df04ac4\",\"notebook_comms_target\":\"ca5982b9-ba4b-4870-bb4c-336ca7189a9b\"}];\n",
       "            \n",
       "            Bokeh.embed.embed_items(docs_json, render_items);\n",
       "        });\n",
       "      },\n",
       "      function(Bokeh) {\n",
       "      }\n",
       "    ];\n",
       "  \n",
       "    function run_inline_js() {\n",
       "      for (var i = 0; i < inline_js.length; i++) {\n",
       "        inline_js[i](window.Bokeh);\n",
       "      }\n",
       "    }\n",
       "  \n",
       "    if (window._bokeh_is_loading === 0) {\n",
       "      console.log(\"Bokeh: BokehJS loaded, going straight to plotting\");\n",
       "      run_inline_js();\n",
       "    } else {\n",
       "      load_libs(js_urls, function() {\n",
       "        console.log(\"Bokeh: BokehJS plotting callback run at\", now());\n",
       "        run_inline_js();\n",
       "      });\n",
       "    }\n",
       "  }(this));\n",
       "</script>"
      ]
     },
     "metadata": {},
     "output_type": "display_data"
    },
    {
     "data": {
      "text/html": [
       "<p><code>&lt;Bokeh Notebook handle for <strong>In[24]</strong>&gt;</code></p>"
      ],
      "text/plain": [
       "<bokeh.io._CommsHandle at 0x1133dfe10>"
      ]
     },
     "execution_count": 24,
     "metadata": {},
     "output_type": "execute_result"
    }
   ],
   "source": [
    "l.line([2,3,4,6],[4,2,6,4], line_width = 3, color = 'red')\n",
    "\n",
    "show(l)"
   ]
  },
  {
   "cell_type": "code",
   "execution_count": 25,
   "metadata": {
    "collapsed": true
   },
   "outputs": [],
   "source": [
    "l = figure(plot_width = 450, plot_height = 350)"
   ]
  },
  {
   "cell_type": "code",
   "execution_count": 28,
   "metadata": {
    "collapsed": false
   },
   "outputs": [
    {
     "data": {
      "text/html": [
       "\n",
       "\n",
       "    <div class=\"bk-root\">\n",
       "        <div class=\"plotdiv\" id=\"f7803da2-dd37-4cd0-9cfc-035acdbf5e49\"></div>\n",
       "    </div>\n",
       "<script type=\"text/javascript\">\n",
       "  \n",
       "  (function(global) {\n",
       "    function now() {\n",
       "      return new Date();\n",
       "    }\n",
       "  \n",
       "    var force = \"\";\n",
       "  \n",
       "    if (typeof (window._bokeh_onload_callbacks) === \"undefined\" || force !== \"\") {\n",
       "      window._bokeh_onload_callbacks = [];\n",
       "      window._bokeh_is_loading = undefined;\n",
       "    }\n",
       "  \n",
       "    function run_callbacks() {\n",
       "      window._bokeh_onload_callbacks.forEach(function(callback) { callback() });\n",
       "      delete window._bokeh_onload_callbacks\n",
       "      console.info(\"Bokeh: all callbacks have finished\");\n",
       "    }\n",
       "  \n",
       "    function load_libs(js_urls, callback) {\n",
       "      window._bokeh_onload_callbacks.push(callback);\n",
       "      if (window._bokeh_is_loading > 0) {\n",
       "        console.log(\"Bokeh: BokehJS is being loaded, scheduling callback at\", now());\n",
       "        return null;\n",
       "      }\n",
       "      if (js_urls == null || js_urls.length === 0) {\n",
       "        run_callbacks();\n",
       "        return null;\n",
       "      }\n",
       "      console.log(\"Bokeh: BokehJS not loaded, scheduling load and callback at\", now());\n",
       "      window._bokeh_is_loading = js_urls.length;\n",
       "      for (var i = 0; i < js_urls.length; i++) {\n",
       "        var url = js_urls[i];\n",
       "        var s = document.createElement('script');\n",
       "        s.src = url;\n",
       "        s.async = false;\n",
       "        s.onreadystatechange = s.onload = function() {\n",
       "          window._bokeh_is_loading--;\n",
       "          if (window._bokeh_is_loading === 0) {\n",
       "            console.log(\"Bokeh: all BokehJS libraries loaded\");\n",
       "            run_callbacks()\n",
       "          }\n",
       "        };\n",
       "        s.onerror = function() {\n",
       "          console.warn(\"failed to load library \" + url);\n",
       "        };\n",
       "        console.log(\"Bokeh: injecting script tag for BokehJS library: \", url);\n",
       "        document.getElementsByTagName(\"head\")[0].appendChild(s);\n",
       "      }\n",
       "    };var element = document.getElementById(\"f7803da2-dd37-4cd0-9cfc-035acdbf5e49\");\n",
       "    if (element == null) {\n",
       "      console.log(\"Bokeh: ERROR: autoload.js configured with elementid 'f7803da2-dd37-4cd0-9cfc-035acdbf5e49' but no matching script tag was found. \")\n",
       "      return false;\n",
       "    }\n",
       "  \n",
       "    var js_urls = [];\n",
       "  \n",
       "    var inline_js = [\n",
       "      function(Bokeh) {\n",
       "        Bokeh.$(function() {\n",
       "            var docs_json = {\"66cc8d6b-a5cb-443b-9d96-fb9860365115\":{\"roots\":{\"references\":[{\"attributes\":{\"plot\":{\"id\":\"e320fc80-96d1-4af2-a39f-e73638a1bfb5\",\"subtype\":\"Figure\",\"type\":\"Plot\"},\"ticker\":{\"id\":\"417285e4-1249-44e1-b8d9-fe926d0f69e4\",\"type\":\"BasicTicker\"}},\"id\":\"62c5926f-5646-4dba-8ad9-0cb77ad0b114\",\"type\":\"Grid\"},{\"attributes\":{},\"id\":\"87542de0-f24b-4473-9077-8cd923f5c568\",\"type\":\"BasicTicker\"},{\"attributes\":{\"callback\":null,\"column_names\":[\"y\",\"x\"],\"data\":{\"x\":[2,3,4,5],\"y\":[2,3,4,5]}},\"id\":\"0de89a92-e289-4030-9fee-f7018fb436d5\",\"type\":\"ColumnDataSource\"},{\"attributes\":{\"line_color\":{\"value\":\"red\"},\"line_width\":{\"value\":3},\"x\":{\"field\":\"x\"},\"y\":{\"field\":\"y\"}},\"id\":\"bb71916c-800d-4e41-9dad-c2c1ca639e5a\",\"type\":\"Line\"},{\"attributes\":{\"formatter\":{\"id\":\"fd744710-d9f5-4848-a66e-1dcd21badc19\",\"type\":\"BasicTickFormatter\"},\"plot\":{\"id\":\"e320fc80-96d1-4af2-a39f-e73638a1bfb5\",\"subtype\":\"Figure\",\"type\":\"Plot\"},\"ticker\":{\"id\":\"417285e4-1249-44e1-b8d9-fe926d0f69e4\",\"type\":\"BasicTicker\"}},\"id\":\"8a6b88fa-cdd7-4aee-999b-3b3161d9e1df\",\"type\":\"LinearAxis\"},{\"attributes\":{\"overlay\":{\"id\":\"79a5759c-63ee-4a80-bfaf-a6e8cacddeb2\",\"type\":\"BoxAnnotation\"},\"plot\":{\"id\":\"e320fc80-96d1-4af2-a39f-e73638a1bfb5\",\"subtype\":\"Figure\",\"type\":\"Plot\"}},\"id\":\"59615ff4-8bc3-464a-a824-005fccac8a0a\",\"type\":\"BoxZoomTool\"},{\"attributes\":{\"data_source\":{\"id\":\"94184af7-6cf0-4b06-81f9-98a0dce951ba\",\"type\":\"ColumnDataSource\"},\"glyph\":{\"id\":\"1284dc63-6830-4474-9639-a580c42bd3bd\",\"type\":\"Line\"},\"hover_glyph\":null,\"nonselection_glyph\":{\"id\":\"e8f4e336-89fd-459f-8962-99ae6b85375f\",\"type\":\"Line\"},\"selection_glyph\":null},\"id\":\"365cc5d0-638e-427e-b6d9-ef01dd87bb62\",\"type\":\"GlyphRenderer\"},{\"attributes\":{\"plot\":{\"id\":\"e320fc80-96d1-4af2-a39f-e73638a1bfb5\",\"subtype\":\"Figure\",\"type\":\"Plot\"}},\"id\":\"3385167b-3800-4d6e-9df2-bce9622407bf\",\"type\":\"PanTool\"},{\"attributes\":{\"data_source\":{\"id\":\"7300ac62-3edb-4082-9eff-2baefa122a79\",\"type\":\"ColumnDataSource\"},\"glyph\":{\"id\":\"54084e55-8557-41e6-96c8-f4cdf2a354a9\",\"type\":\"Triangle\"},\"hover_glyph\":null,\"nonselection_glyph\":{\"id\":\"19d42f02-4336-4f37-814d-4578dbb639c7\",\"type\":\"Triangle\"},\"selection_glyph\":null},\"id\":\"5a39b3fe-7246-40c8-aa0b-c334eee3d73b\",\"type\":\"GlyphRenderer\"},{\"attributes\":{\"line_color\":{\"value\":\"red\"},\"line_width\":{\"value\":3},\"x\":{\"field\":\"x\"},\"y\":{\"field\":\"y\"}},\"id\":\"f496c283-3a8b-4fb0-825d-8b32adb5bf03\",\"type\":\"Line\"},{\"attributes\":{\"callback\":null},\"id\":\"acf870cd-4f94-456d-9dc0-0f64e6095dec\",\"type\":\"DataRange1d\"},{\"attributes\":{\"fill_alpha\":{\"value\":0.1},\"fill_color\":{\"value\":\"#1f77b4\"},\"line_alpha\":{\"value\":0.1},\"line_color\":{\"value\":\"#1f77b4\"},\"size\":{\"units\":\"screen\",\"value\":14},\"x\":{\"field\":\"x\"},\"y\":{\"field\":\"y\"}},\"id\":\"19d42f02-4336-4f37-814d-4578dbb639c7\",\"type\":\"Triangle\"},{\"attributes\":{\"active_drag\":\"auto\",\"active_scroll\":\"auto\",\"active_tap\":\"auto\",\"tools\":[{\"id\":\"3385167b-3800-4d6e-9df2-bce9622407bf\",\"type\":\"PanTool\"},{\"id\":\"f59243f1-79e7-4e9a-b082-e283d6daeb39\",\"type\":\"WheelZoomTool\"},{\"id\":\"59615ff4-8bc3-464a-a824-005fccac8a0a\",\"type\":\"BoxZoomTool\"},{\"id\":\"cf38c43f-b116-41af-9c0d-a8e45184f30a\",\"type\":\"SaveTool\"},{\"id\":\"6687b4b9-7ef3-492e-8fee-21eaee3305b9\",\"type\":\"ResetTool\"},{\"id\":\"67d637e1-941f-4105-a361-67006947c2e5\",\"type\":\"HelpTool\"}]},\"id\":\"b0514008-68d4-488e-b501-9e6bc9775d43\",\"type\":\"Toolbar\"},{\"attributes\":{\"callback\":null,\"column_names\":[\"y\",\"x\"],\"data\":{\"x\":[2,3,4,5],\"y\":[2,3,4,5]}},\"id\":\"ec325afa-eb97-4c01-a5c3-a8e9b0358fd3\",\"type\":\"ColumnDataSource\"},{\"attributes\":{\"line_alpha\":{\"value\":0.1},\"line_color\":{\"value\":\"#1f77b4\"},\"line_width\":{\"value\":3},\"x\":{\"field\":\"x\"},\"y\":{\"field\":\"y\"}},\"id\":\"1b9d87d3-4738-400a-8c33-5f37d7f11910\",\"type\":\"Line\"},{\"attributes\":{\"callback\":null,\"column_names\":[\"y\",\"x\"],\"data\":{\"x\":[2,3,4,5],\"y\":[2,3,4,5]}},\"id\":\"94184af7-6cf0-4b06-81f9-98a0dce951ba\",\"type\":\"ColumnDataSource\"},{\"attributes\":{\"fill_color\":{\"value\":\"yellow\"},\"line_color\":{\"value\":\"green\"},\"size\":{\"units\":\"screen\",\"value\":14},\"x\":{\"field\":\"x\"},\"y\":{\"field\":\"y\"}},\"id\":\"802574d7-0b7d-4cc7-b5c5-d0fae71f2f9a\",\"type\":\"Triangle\"},{\"attributes\":{\"plot\":{\"id\":\"e320fc80-96d1-4af2-a39f-e73638a1bfb5\",\"subtype\":\"Figure\",\"type\":\"Plot\"}},\"id\":\"6687b4b9-7ef3-492e-8fee-21eaee3305b9\",\"type\":\"ResetTool\"},{\"attributes\":{\"line_color\":{\"value\":\"red\"},\"line_width\":{\"value\":3},\"x\":{\"field\":\"x\"},\"y\":{\"field\":\"y\"}},\"id\":\"1284dc63-6830-4474-9639-a580c42bd3bd\",\"type\":\"Line\"},{\"attributes\":{},\"id\":\"53ede621-8026-4466-b27f-0eb275ce127d\",\"type\":\"BasicTickFormatter\"},{\"attributes\":{\"plot\":{\"id\":\"e320fc80-96d1-4af2-a39f-e73638a1bfb5\",\"subtype\":\"Figure\",\"type\":\"Plot\"}},\"id\":\"f59243f1-79e7-4e9a-b082-e283d6daeb39\",\"type\":\"WheelZoomTool\"},{\"attributes\":{},\"id\":\"c1482e06-3fe5-489e-92f5-9db007ed0259\",\"type\":\"ToolEvents\"},{\"attributes\":{\"data_source\":{\"id\":\"ec325afa-eb97-4c01-a5c3-a8e9b0358fd3\",\"type\":\"ColumnDataSource\"},\"glyph\":{\"id\":\"bb71916c-800d-4e41-9dad-c2c1ca639e5a\",\"type\":\"Line\"},\"hover_glyph\":null,\"nonselection_glyph\":{\"id\":\"1b9d87d3-4738-400a-8c33-5f37d7f11910\",\"type\":\"Line\"},\"selection_glyph\":null},\"id\":\"fc602725-d64d-42a4-80c7-9f1c89c2cd1d\",\"type\":\"GlyphRenderer\"},{\"attributes\":{\"plot\":null,\"text\":null},\"id\":\"58224624-7a1c-4575-85de-540fc341b5d8\",\"type\":\"Title\"},{\"attributes\":{\"fill_color\":{\"value\":\"yellow\"},\"line_color\":{\"value\":\"#1f77b4\"},\"size\":{\"units\":\"screen\",\"value\":14},\"x\":{\"field\":\"x\"},\"y\":{\"field\":\"y\"}},\"id\":\"54084e55-8557-41e6-96c8-f4cdf2a354a9\",\"type\":\"Triangle\"},{\"attributes\":{\"bottom_units\":\"screen\",\"fill_alpha\":{\"value\":0.5},\"fill_color\":{\"value\":\"lightgrey\"},\"left_units\":\"screen\",\"level\":\"overlay\",\"line_alpha\":{\"value\":1.0},\"line_color\":{\"value\":\"black\"},\"line_dash\":[4,4],\"line_width\":{\"value\":2},\"plot\":null,\"render_mode\":\"css\",\"right_units\":\"screen\",\"top_units\":\"screen\"},\"id\":\"79a5759c-63ee-4a80-bfaf-a6e8cacddeb2\",\"type\":\"BoxAnnotation\"},{\"attributes\":{\"data_source\":{\"id\":\"0de89a92-e289-4030-9fee-f7018fb436d5\",\"type\":\"ColumnDataSource\"},\"glyph\":{\"id\":\"802574d7-0b7d-4cc7-b5c5-d0fae71f2f9a\",\"type\":\"Triangle\"},\"hover_glyph\":null,\"nonselection_glyph\":{\"id\":\"5b90d324-607d-47f2-b835-64606c27e7d1\",\"type\":\"Triangle\"},\"selection_glyph\":null},\"id\":\"a137b96e-535f-4522-a66b-b385a220f70d\",\"type\":\"GlyphRenderer\"},{\"attributes\":{\"callback\":null},\"id\":\"9a78516f-0205-4c34-9420-1c7553ceb2ae\",\"type\":\"DataRange1d\"},{\"attributes\":{\"plot\":{\"id\":\"e320fc80-96d1-4af2-a39f-e73638a1bfb5\",\"subtype\":\"Figure\",\"type\":\"Plot\"}},\"id\":\"cf38c43f-b116-41af-9c0d-a8e45184f30a\",\"type\":\"SaveTool\"},{\"attributes\":{\"line_alpha\":{\"value\":0.1},\"line_color\":{\"value\":\"#1f77b4\"},\"line_width\":{\"value\":3},\"x\":{\"field\":\"x\"},\"y\":{\"field\":\"y\"}},\"id\":\"853cf0e8-1e15-470c-b42b-2d87bd7b9627\",\"type\":\"Line\"},{\"attributes\":{\"callback\":null,\"column_names\":[\"y\",\"x\"],\"data\":{\"x\":[2,3,4,5],\"y\":[2,3,4,5]}},\"id\":\"a875177d-4b93-4745-a70a-5571ff541a58\",\"type\":\"ColumnDataSource\"},{\"attributes\":{\"below\":[{\"id\":\"8a6b88fa-cdd7-4aee-999b-3b3161d9e1df\",\"type\":\"LinearAxis\"}],\"left\":[{\"id\":\"dbfbdbbe-bc26-4b6e-9c9f-4fd41660238e\",\"type\":\"LinearAxis\"}],\"plot_height\":350,\"plot_width\":450,\"renderers\":[{\"id\":\"8a6b88fa-cdd7-4aee-999b-3b3161d9e1df\",\"type\":\"LinearAxis\"},{\"id\":\"62c5926f-5646-4dba-8ad9-0cb77ad0b114\",\"type\":\"Grid\"},{\"id\":\"dbfbdbbe-bc26-4b6e-9c9f-4fd41660238e\",\"type\":\"LinearAxis\"},{\"id\":\"55acf1d6-e5d3-4fdf-8aa5-356232b0236e\",\"type\":\"Grid\"},{\"id\":\"79a5759c-63ee-4a80-bfaf-a6e8cacddeb2\",\"type\":\"BoxAnnotation\"},{\"id\":\"3be0c5f2-764d-44c9-80f1-0c236331889b\",\"type\":\"GlyphRenderer\"},{\"id\":\"fc602725-d64d-42a4-80c7-9f1c89c2cd1d\",\"type\":\"GlyphRenderer\"},{\"id\":\"5a39b3fe-7246-40c8-aa0b-c334eee3d73b\",\"type\":\"GlyphRenderer\"},{\"id\":\"365cc5d0-638e-427e-b6d9-ef01dd87bb62\",\"type\":\"GlyphRenderer\"},{\"id\":\"a137b96e-535f-4522-a66b-b385a220f70d\",\"type\":\"GlyphRenderer\"}],\"title\":{\"id\":\"58224624-7a1c-4575-85de-540fc341b5d8\",\"type\":\"Title\"},\"tool_events\":{\"id\":\"c1482e06-3fe5-489e-92f5-9db007ed0259\",\"type\":\"ToolEvents\"},\"toolbar\":{\"id\":\"b0514008-68d4-488e-b501-9e6bc9775d43\",\"type\":\"Toolbar\"},\"x_range\":{\"id\":\"acf870cd-4f94-456d-9dc0-0f64e6095dec\",\"type\":\"DataRange1d\"},\"y_range\":{\"id\":\"9a78516f-0205-4c34-9420-1c7553ceb2ae\",\"type\":\"DataRange1d\"}},\"id\":\"e320fc80-96d1-4af2-a39f-e73638a1bfb5\",\"subtype\":\"Figure\",\"type\":\"Plot\"},{\"attributes\":{\"data_source\":{\"id\":\"a875177d-4b93-4745-a70a-5571ff541a58\",\"type\":\"ColumnDataSource\"},\"glyph\":{\"id\":\"f496c283-3a8b-4fb0-825d-8b32adb5bf03\",\"type\":\"Line\"},\"hover_glyph\":null,\"nonselection_glyph\":{\"id\":\"853cf0e8-1e15-470c-b42b-2d87bd7b9627\",\"type\":\"Line\"},\"selection_glyph\":null},\"id\":\"3be0c5f2-764d-44c9-80f1-0c236331889b\",\"type\":\"GlyphRenderer\"},{\"attributes\":{\"fill_alpha\":{\"value\":0.1},\"fill_color\":{\"value\":\"#1f77b4\"},\"line_alpha\":{\"value\":0.1},\"line_color\":{\"value\":\"#1f77b4\"},\"size\":{\"units\":\"screen\",\"value\":14},\"x\":{\"field\":\"x\"},\"y\":{\"field\":\"y\"}},\"id\":\"5b90d324-607d-47f2-b835-64606c27e7d1\",\"type\":\"Triangle\"},{\"attributes\":{\"callback\":null,\"column_names\":[\"y\",\"x\"],\"data\":{\"x\":[2,3,4,5],\"y\":[2,3,4,5]}},\"id\":\"7300ac62-3edb-4082-9eff-2baefa122a79\",\"type\":\"ColumnDataSource\"},{\"attributes\":{\"line_alpha\":{\"value\":0.1},\"line_color\":{\"value\":\"#1f77b4\"},\"line_width\":{\"value\":3},\"x\":{\"field\":\"x\"},\"y\":{\"field\":\"y\"}},\"id\":\"e8f4e336-89fd-459f-8962-99ae6b85375f\",\"type\":\"Line\"},{\"attributes\":{\"plot\":{\"id\":\"e320fc80-96d1-4af2-a39f-e73638a1bfb5\",\"subtype\":\"Figure\",\"type\":\"Plot\"}},\"id\":\"67d637e1-941f-4105-a361-67006947c2e5\",\"type\":\"HelpTool\"},{\"attributes\":{},\"id\":\"417285e4-1249-44e1-b8d9-fe926d0f69e4\",\"type\":\"BasicTicker\"},{\"attributes\":{},\"id\":\"fd744710-d9f5-4848-a66e-1dcd21badc19\",\"type\":\"BasicTickFormatter\"},{\"attributes\":{\"formatter\":{\"id\":\"53ede621-8026-4466-b27f-0eb275ce127d\",\"type\":\"BasicTickFormatter\"},\"plot\":{\"id\":\"e320fc80-96d1-4af2-a39f-e73638a1bfb5\",\"subtype\":\"Figure\",\"type\":\"Plot\"},\"ticker\":{\"id\":\"87542de0-f24b-4473-9077-8cd923f5c568\",\"type\":\"BasicTicker\"}},\"id\":\"dbfbdbbe-bc26-4b6e-9c9f-4fd41660238e\",\"type\":\"LinearAxis\"},{\"attributes\":{\"dimension\":1,\"plot\":{\"id\":\"e320fc80-96d1-4af2-a39f-e73638a1bfb5\",\"subtype\":\"Figure\",\"type\":\"Plot\"},\"ticker\":{\"id\":\"87542de0-f24b-4473-9077-8cd923f5c568\",\"type\":\"BasicTicker\"}},\"id\":\"55acf1d6-e5d3-4fdf-8aa5-356232b0236e\",\"type\":\"Grid\"}],\"root_ids\":[\"e320fc80-96d1-4af2-a39f-e73638a1bfb5\"]},\"title\":\"Bokeh Application\",\"version\":\"0.12.1\"}};\n",
       "            var render_items = [{\"docid\":\"66cc8d6b-a5cb-443b-9d96-fb9860365115\",\"elementid\":\"f7803da2-dd37-4cd0-9cfc-035acdbf5e49\",\"modelid\":\"e320fc80-96d1-4af2-a39f-e73638a1bfb5\",\"notebook_comms_target\":\"29ff5c85-f11a-4b70-bef2-4293e5a61ce2\"}];\n",
       "            \n",
       "            Bokeh.embed.embed_items(docs_json, render_items);\n",
       "        });\n",
       "      },\n",
       "      function(Bokeh) {\n",
       "      }\n",
       "    ];\n",
       "  \n",
       "    function run_inline_js() {\n",
       "      for (var i = 0; i < inline_js.length; i++) {\n",
       "        inline_js[i](window.Bokeh);\n",
       "      }\n",
       "    }\n",
       "  \n",
       "    if (window._bokeh_is_loading === 0) {\n",
       "      console.log(\"Bokeh: BokehJS loaded, going straight to plotting\");\n",
       "      run_inline_js();\n",
       "    } else {\n",
       "      load_libs(js_urls, function() {\n",
       "        console.log(\"Bokeh: BokehJS plotting callback run at\", now());\n",
       "        run_inline_js();\n",
       "      });\n",
       "    }\n",
       "  }(this));\n",
       "</script>"
      ]
     },
     "metadata": {},
     "output_type": "display_data"
    },
    {
     "data": {
      "text/html": [
       "<p><code>&lt;Bokeh Notebook handle for <strong>In[28]</strong>&gt;</code></p>"
      ],
      "text/plain": [
       "<bokeh.io._CommsHandle at 0x113458fd0>"
      ]
     },
     "execution_count": 28,
     "metadata": {},
     "output_type": "execute_result"
    }
   ],
   "source": [
    "l.line([2,3,4,5], [2,3,4,5], line_width = 3, color = 'red')\n",
    "l.triangle([2,3,4,5],[2,3,4,5], size = 14, fill_color = 'yellow', color='green')\n",
    "\n",
    "show(l)"
   ]
  },
  {
   "cell_type": "code",
   "execution_count": null,
   "metadata": {
    "collapsed": true
   },
   "outputs": [],
   "source": []
  },
  {
   "cell_type": "code",
   "execution_count": 30,
   "metadata": {
    "collapsed": false
   },
   "outputs": [
    {
     "data": {
      "text/html": [
       "\n",
       "\n",
       "    <div class=\"bk-root\">\n",
       "        <div class=\"plotdiv\" id=\"da1b23dc-d0dd-45bd-874b-4430809f9435\"></div>\n",
       "    </div>\n",
       "<script type=\"text/javascript\">\n",
       "  \n",
       "  (function(global) {\n",
       "    function now() {\n",
       "      return new Date();\n",
       "    }\n",
       "  \n",
       "    var force = \"\";\n",
       "  \n",
       "    if (typeof (window._bokeh_onload_callbacks) === \"undefined\" || force !== \"\") {\n",
       "      window._bokeh_onload_callbacks = [];\n",
       "      window._bokeh_is_loading = undefined;\n",
       "    }\n",
       "  \n",
       "    function run_callbacks() {\n",
       "      window._bokeh_onload_callbacks.forEach(function(callback) { callback() });\n",
       "      delete window._bokeh_onload_callbacks\n",
       "      console.info(\"Bokeh: all callbacks have finished\");\n",
       "    }\n",
       "  \n",
       "    function load_libs(js_urls, callback) {\n",
       "      window._bokeh_onload_callbacks.push(callback);\n",
       "      if (window._bokeh_is_loading > 0) {\n",
       "        console.log(\"Bokeh: BokehJS is being loaded, scheduling callback at\", now());\n",
       "        return null;\n",
       "      }\n",
       "      if (js_urls == null || js_urls.length === 0) {\n",
       "        run_callbacks();\n",
       "        return null;\n",
       "      }\n",
       "      console.log(\"Bokeh: BokehJS not loaded, scheduling load and callback at\", now());\n",
       "      window._bokeh_is_loading = js_urls.length;\n",
       "      for (var i = 0; i < js_urls.length; i++) {\n",
       "        var url = js_urls[i];\n",
       "        var s = document.createElement('script');\n",
       "        s.src = url;\n",
       "        s.async = false;\n",
       "        s.onreadystatechange = s.onload = function() {\n",
       "          window._bokeh_is_loading--;\n",
       "          if (window._bokeh_is_loading === 0) {\n",
       "            console.log(\"Bokeh: all BokehJS libraries loaded\");\n",
       "            run_callbacks()\n",
       "          }\n",
       "        };\n",
       "        s.onerror = function() {\n",
       "          console.warn(\"failed to load library \" + url);\n",
       "        };\n",
       "        console.log(\"Bokeh: injecting script tag for BokehJS library: \", url);\n",
       "        document.getElementsByTagName(\"head\")[0].appendChild(s);\n",
       "      }\n",
       "    };var element = document.getElementById(\"da1b23dc-d0dd-45bd-874b-4430809f9435\");\n",
       "    if (element == null) {\n",
       "      console.log(\"Bokeh: ERROR: autoload.js configured with elementid 'da1b23dc-d0dd-45bd-874b-4430809f9435' but no matching script tag was found. \")\n",
       "      return false;\n",
       "    }\n",
       "  \n",
       "    var js_urls = [];\n",
       "  \n",
       "    var inline_js = [\n",
       "      function(Bokeh) {\n",
       "        Bokeh.$(function() {\n",
       "            var docs_json = {\"3250482f-a55b-4a57-8187-1a7412557986\":{\"roots\":{\"references\":[{\"attributes\":{\"callback\":null,\"column_names\":[\"y\",\"x\"],\"data\":{\"x\":[2,3,4,6],\"y\":[4,2,6,4]}},\"id\":\"528b397b-4380-4aee-8915-79c296f070f8\",\"type\":\"ColumnDataSource\"},{\"attributes\":{\"line_color\":{\"value\":\"red\"},\"line_width\":{\"value\":3},\"x\":{\"field\":\"x\"},\"y\":{\"field\":\"y\"}},\"id\":\"bb71916c-800d-4e41-9dad-c2c1ca639e5a\",\"type\":\"Line\"},{\"attributes\":{},\"id\":\"87542de0-f24b-4473-9077-8cd923f5c568\",\"type\":\"BasicTicker\"},{\"attributes\":{\"callback\":null,\"column_names\":[\"y\",\"x\"],\"data\":{\"x\":[2,3,4,5],\"y\":[2,3,4,5]}},\"id\":\"0de89a92-e289-4030-9fee-f7018fb436d5\",\"type\":\"ColumnDataSource\"},{\"attributes\":{\"plot\":{\"id\":\"e320fc80-96d1-4af2-a39f-e73638a1bfb5\",\"subtype\":\"Figure\",\"type\":\"Plot\"},\"ticker\":{\"id\":\"417285e4-1249-44e1-b8d9-fe926d0f69e4\",\"type\":\"BasicTicker\"}},\"id\":\"62c5926f-5646-4dba-8ad9-0cb77ad0b114\",\"type\":\"Grid\"},{\"attributes\":{\"line_alpha\":{\"value\":0.1},\"line_color\":{\"value\":\"#1f77b4\"},\"line_width\":{\"value\":3},\"x\":{\"field\":\"x\"},\"y\":{\"field\":\"y\"}},\"id\":\"b46a893f-c357-47f2-8257-dd5683b06cd1\",\"type\":\"Line\"},{\"attributes\":{\"fill_alpha\":{\"value\":0.1},\"fill_color\":{\"value\":\"#1f77b4\"},\"line_alpha\":{\"value\":0.1},\"line_color\":{\"value\":\"#1f77b4\"},\"size\":{\"units\":\"screen\",\"value\":14},\"x\":{\"field\":\"x\"},\"y\":{\"field\":\"y\"}},\"id\":\"04e9f114-c97d-4e03-ae15-968cbc19c18b\",\"type\":\"Triangle\"},{\"attributes\":{\"formatter\":{\"id\":\"fd744710-d9f5-4848-a66e-1dcd21badc19\",\"type\":\"BasicTickFormatter\"},\"plot\":{\"id\":\"e320fc80-96d1-4af2-a39f-e73638a1bfb5\",\"subtype\":\"Figure\",\"type\":\"Plot\"},\"ticker\":{\"id\":\"417285e4-1249-44e1-b8d9-fe926d0f69e4\",\"type\":\"BasicTicker\"}},\"id\":\"8a6b88fa-cdd7-4aee-999b-3b3161d9e1df\",\"type\":\"LinearAxis\"},{\"attributes\":{\"dimension\":1,\"plot\":{\"id\":\"e320fc80-96d1-4af2-a39f-e73638a1bfb5\",\"subtype\":\"Figure\",\"type\":\"Plot\"},\"ticker\":{\"id\":\"87542de0-f24b-4473-9077-8cd923f5c568\",\"type\":\"BasicTicker\"}},\"id\":\"55acf1d6-e5d3-4fdf-8aa5-356232b0236e\",\"type\":\"Grid\"},{\"attributes\":{\"fill_color\":{\"value\":\"yellow\"},\"line_color\":{\"value\":\"green\"},\"size\":{\"units\":\"screen\",\"value\":14},\"x\":{\"field\":\"x\"},\"y\":{\"field\":\"y\"}},\"id\":\"f1ff8643-45ec-4894-a188-64b1a814aa15\",\"type\":\"Triangle\"},{\"attributes\":{\"overlay\":{\"id\":\"79a5759c-63ee-4a80-bfaf-a6e8cacddeb2\",\"type\":\"BoxAnnotation\"},\"plot\":{\"id\":\"e320fc80-96d1-4af2-a39f-e73638a1bfb5\",\"subtype\":\"Figure\",\"type\":\"Plot\"}},\"id\":\"59615ff4-8bc3-464a-a824-005fccac8a0a\",\"type\":\"BoxZoomTool\"},{\"attributes\":{\"data_source\":{\"id\":\"528b397b-4380-4aee-8915-79c296f070f8\",\"type\":\"ColumnDataSource\"},\"glyph\":{\"id\":\"4acb56a2-b8ad-4097-add1-fb3d925fd951\",\"type\":\"Line\"},\"hover_glyph\":null,\"nonselection_glyph\":{\"id\":\"a5e075fe-2f35-4528-9ddc-6d0fd0967296\",\"type\":\"Line\"},\"selection_glyph\":null},\"id\":\"03e6fec6-6b28-400f-a811-9871ff6afd63\",\"type\":\"GlyphRenderer\"},{\"attributes\":{\"line_color\":{\"value\":\"red\"},\"line_width\":{\"value\":3},\"x\":{\"field\":\"x\"},\"y\":{\"field\":\"y\"}},\"id\":\"0d53bb99-ab3e-414f-9211-c1b7254d15d7\",\"type\":\"Line\"},{\"attributes\":{\"data_source\":{\"id\":\"94184af7-6cf0-4b06-81f9-98a0dce951ba\",\"type\":\"ColumnDataSource\"},\"glyph\":{\"id\":\"1284dc63-6830-4474-9639-a580c42bd3bd\",\"type\":\"Line\"},\"hover_glyph\":null,\"nonselection_glyph\":{\"id\":\"e8f4e336-89fd-459f-8962-99ae6b85375f\",\"type\":\"Line\"},\"selection_glyph\":null},\"id\":\"365cc5d0-638e-427e-b6d9-ef01dd87bb62\",\"type\":\"GlyphRenderer\"},{\"attributes\":{\"plot\":{\"id\":\"e320fc80-96d1-4af2-a39f-e73638a1bfb5\",\"subtype\":\"Figure\",\"type\":\"Plot\"}},\"id\":\"3385167b-3800-4d6e-9df2-bce9622407bf\",\"type\":\"PanTool\"},{\"attributes\":{\"data_source\":{\"id\":\"7300ac62-3edb-4082-9eff-2baefa122a79\",\"type\":\"ColumnDataSource\"},\"glyph\":{\"id\":\"54084e55-8557-41e6-96c8-f4cdf2a354a9\",\"type\":\"Triangle\"},\"hover_glyph\":null,\"nonselection_glyph\":{\"id\":\"19d42f02-4336-4f37-814d-4578dbb639c7\",\"type\":\"Triangle\"},\"selection_glyph\":null},\"id\":\"5a39b3fe-7246-40c8-aa0b-c334eee3d73b\",\"type\":\"GlyphRenderer\"},{\"attributes\":{\"fill_color\":{\"value\":\"orange\"},\"size\":{\"units\":\"screen\",\"value\":14},\"x\":{\"field\":\"x\"},\"y\":{\"field\":\"y\"}},\"id\":\"fc91f373-8109-40e1-8458-835369afcb75\",\"type\":\"Circle\"},{\"attributes\":{\"line_color\":{\"value\":\"red\"},\"line_width\":{\"value\":3},\"x\":{\"field\":\"x\"},\"y\":{\"field\":\"y\"}},\"id\":\"f496c283-3a8b-4fb0-825d-8b32adb5bf03\",\"type\":\"Line\"},{\"attributes\":{\"fill_alpha\":{\"value\":0.1},\"fill_color\":{\"value\":\"#1f77b4\"},\"line_alpha\":{\"value\":0.1},\"line_color\":{\"value\":\"#1f77b4\"},\"size\":{\"units\":\"screen\",\"value\":14},\"x\":{\"field\":\"x\"},\"y\":{\"field\":\"y\"}},\"id\":\"07c615bc-4e32-45ef-b45e-7c197084e17d\",\"type\":\"Circle\"},{\"attributes\":{\"callback\":null,\"column_names\":[\"y\",\"x\"],\"data\":{\"x\":[2,3,4,5],\"y\":[2,3,4,5]}},\"id\":\"6574addd-426a-4584-86da-6411254043b6\",\"type\":\"ColumnDataSource\"},{\"attributes\":{\"fill_color\":{\"value\":\"orange\"},\"size\":{\"units\":\"screen\",\"value\":14},\"x\":{\"field\":\"x\"},\"y\":{\"field\":\"y\"}},\"id\":\"c42b6461-6028-4858-b619-9d1f1c342cb0\",\"type\":\"Circle\"},{\"attributes\":{\"data_source\":{\"id\":\"dbaa0bbf-a3ef-41a0-a161-5bbdaabbebbf\",\"type\":\"ColumnDataSource\"},\"glyph\":{\"id\":\"fc91f373-8109-40e1-8458-835369afcb75\",\"type\":\"Circle\"},\"hover_glyph\":null,\"nonselection_glyph\":{\"id\":\"b344a20a-5f4e-45c7-9ea5-fd9b8c10545b\",\"type\":\"Circle\"},\"selection_glyph\":null},\"id\":\"3e3b9185-e956-484d-8400-0263d797dade\",\"type\":\"GlyphRenderer\"},{\"attributes\":{\"data_source\":{\"id\":\"b747ce08-070a-4028-8bf3-c28b718d32dc\",\"type\":\"ColumnDataSource\"},\"glyph\":{\"id\":\"3caf1c1f-d258-4c8b-b9ac-ddee695c4edb\",\"type\":\"Line\"},\"hover_glyph\":null,\"nonselection_glyph\":{\"id\":\"a4e88e02-889e-45aa-86d3-36672696c1dc\",\"type\":\"Line\"},\"selection_glyph\":null},\"id\":\"c2ca5dff-5927-4f57-b362-472a9a3a4ed0\",\"type\":\"GlyphRenderer\"},{\"attributes\":{\"active_drag\":\"auto\",\"active_scroll\":\"auto\",\"active_tap\":\"auto\",\"tools\":[{\"id\":\"3385167b-3800-4d6e-9df2-bce9622407bf\",\"type\":\"PanTool\"},{\"id\":\"f59243f1-79e7-4e9a-b082-e283d6daeb39\",\"type\":\"WheelZoomTool\"},{\"id\":\"59615ff4-8bc3-464a-a824-005fccac8a0a\",\"type\":\"BoxZoomTool\"},{\"id\":\"cf38c43f-b116-41af-9c0d-a8e45184f30a\",\"type\":\"SaveTool\"},{\"id\":\"6687b4b9-7ef3-492e-8fee-21eaee3305b9\",\"type\":\"ResetTool\"},{\"id\":\"67d637e1-941f-4105-a361-67006947c2e5\",\"type\":\"HelpTool\"}]},\"id\":\"b0514008-68d4-488e-b501-9e6bc9775d43\",\"type\":\"Toolbar\"},{\"attributes\":{\"callback\":null,\"column_names\":[\"y\",\"x\"],\"data\":{\"x\":[2,3,4,5],\"y\":[2,3,4,5]}},\"id\":\"ec325afa-eb97-4c01-a5c3-a8e9b0358fd3\",\"type\":\"ColumnDataSource\"},{\"attributes\":{\"line_alpha\":{\"value\":0.1},\"line_color\":{\"value\":\"#1f77b4\"},\"line_width\":{\"value\":3},\"x\":{\"field\":\"x\"},\"y\":{\"field\":\"y\"}},\"id\":\"1b9d87d3-4738-400a-8c33-5f37d7f11910\",\"type\":\"Line\"},{\"attributes\":{\"data_source\":{\"id\":\"6574addd-426a-4584-86da-6411254043b6\",\"type\":\"ColumnDataSource\"},\"glyph\":{\"id\":\"7c0164e2-ceb6-49e2-9318-fd2554118f2c\",\"type\":\"Triangle\"},\"hover_glyph\":null,\"nonselection_glyph\":{\"id\":\"04e9f114-c97d-4e03-ae15-968cbc19c18b\",\"type\":\"Triangle\"},\"selection_glyph\":null},\"id\":\"d1630163-9dc9-4c70-9ec5-f588bbb03b82\",\"type\":\"GlyphRenderer\"},{\"attributes\":{\"line_alpha\":{\"value\":0.1},\"line_color\":{\"value\":\"#1f77b4\"},\"line_width\":{\"value\":3},\"x\":{\"field\":\"x\"},\"y\":{\"field\":\"y\"}},\"id\":\"a5e075fe-2f35-4528-9ddc-6d0fd0967296\",\"type\":\"Line\"},{\"attributes\":{\"callback\":null,\"column_names\":[\"y\",\"x\"],\"data\":{\"x\":[2,3,4,5],\"y\":[2,3,4,5]}},\"id\":\"94184af7-6cf0-4b06-81f9-98a0dce951ba\",\"type\":\"ColumnDataSource\"},{\"attributes\":{\"fill_color\":{\"value\":\"yellow\"},\"line_color\":{\"value\":\"green\"},\"size\":{\"units\":\"screen\",\"value\":14},\"x\":{\"field\":\"x\"},\"y\":{\"field\":\"y\"}},\"id\":\"802574d7-0b7d-4cc7-b5c5-d0fae71f2f9a\",\"type\":\"Triangle\"},{\"attributes\":{\"fill_alpha\":{\"value\":0.1},\"fill_color\":{\"value\":\"#1f77b4\"},\"line_alpha\":{\"value\":0.1},\"line_color\":{\"value\":\"#1f77b4\"},\"size\":{\"units\":\"screen\",\"value\":14},\"x\":{\"field\":\"x\"},\"y\":{\"field\":\"y\"}},\"id\":\"b344a20a-5f4e-45c7-9ea5-fd9b8c10545b\",\"type\":\"Circle\"},{\"attributes\":{\"plot\":{\"id\":\"e320fc80-96d1-4af2-a39f-e73638a1bfb5\",\"subtype\":\"Figure\",\"type\":\"Plot\"}},\"id\":\"6687b4b9-7ef3-492e-8fee-21eaee3305b9\",\"type\":\"ResetTool\"},{\"attributes\":{\"fill_alpha\":{\"value\":0.1},\"fill_color\":{\"value\":\"#1f77b4\"},\"line_alpha\":{\"value\":0.1},\"line_color\":{\"value\":\"#1f77b4\"},\"size\":{\"units\":\"screen\",\"value\":14},\"x\":{\"field\":\"x\"},\"y\":{\"field\":\"y\"}},\"id\":\"dafb704d-2933-4d0e-8623-3eec6d197dc3\",\"type\":\"Triangle\"},{\"attributes\":{\"data_source\":{\"id\":\"9b000e0f-3aab-43fd-a38a-37a8246cc586\",\"type\":\"ColumnDataSource\"},\"glyph\":{\"id\":\"c42b6461-6028-4858-b619-9d1f1c342cb0\",\"type\":\"Circle\"},\"hover_glyph\":null,\"nonselection_glyph\":{\"id\":\"07c615bc-4e32-45ef-b45e-7c197084e17d\",\"type\":\"Circle\"},\"selection_glyph\":null},\"id\":\"4f073d25-c497-499f-86c8-75d2bf8a2fb8\",\"type\":\"GlyphRenderer\"},{\"attributes\":{\"line_color\":{\"value\":\"red\"},\"line_width\":{\"value\":3},\"x\":{\"field\":\"x\"},\"y\":{\"field\":\"y\"}},\"id\":\"1284dc63-6830-4474-9639-a580c42bd3bd\",\"type\":\"Line\"},{\"attributes\":{\"callback\":null,\"column_names\":[\"y\",\"x\"],\"data\":{\"x\":[2,3,4,6],\"y\":[4,2,6,4]}},\"id\":\"dbaa0bbf-a3ef-41a0-a161-5bbdaabbebbf\",\"type\":\"ColumnDataSource\"},{\"attributes\":{},\"id\":\"53ede621-8026-4466-b27f-0eb275ce127d\",\"type\":\"BasicTickFormatter\"},{\"attributes\":{\"plot\":{\"id\":\"e320fc80-96d1-4af2-a39f-e73638a1bfb5\",\"subtype\":\"Figure\",\"type\":\"Plot\"}},\"id\":\"f59243f1-79e7-4e9a-b082-e283d6daeb39\",\"type\":\"WheelZoomTool\"},{\"attributes\":{},\"id\":\"c1482e06-3fe5-489e-92f5-9db007ed0259\",\"type\":\"ToolEvents\"},{\"attributes\":{\"data_source\":{\"id\":\"ec325afa-eb97-4c01-a5c3-a8e9b0358fd3\",\"type\":\"ColumnDataSource\"},\"glyph\":{\"id\":\"bb71916c-800d-4e41-9dad-c2c1ca639e5a\",\"type\":\"Line\"},\"hover_glyph\":null,\"nonselection_glyph\":{\"id\":\"1b9d87d3-4738-400a-8c33-5f37d7f11910\",\"type\":\"Line\"},\"selection_glyph\":null},\"id\":\"fc602725-d64d-42a4-80c7-9f1c89c2cd1d\",\"type\":\"GlyphRenderer\"},{\"attributes\":{\"plot\":null,\"text\":null},\"id\":\"58224624-7a1c-4575-85de-540fc341b5d8\",\"type\":\"Title\"},{\"attributes\":{\"fill_color\":{\"value\":\"yellow\"},\"line_color\":{\"value\":\"#1f77b4\"},\"size\":{\"units\":\"screen\",\"value\":14},\"x\":{\"field\":\"x\"},\"y\":{\"field\":\"y\"}},\"id\":\"54084e55-8557-41e6-96c8-f4cdf2a354a9\",\"type\":\"Triangle\"},{\"attributes\":{\"bottom_units\":\"screen\",\"fill_alpha\":{\"value\":0.5},\"fill_color\":{\"value\":\"lightgrey\"},\"left_units\":\"screen\",\"level\":\"overlay\",\"line_alpha\":{\"value\":1.0},\"line_color\":{\"value\":\"black\"},\"line_dash\":[4,4],\"line_width\":{\"value\":2},\"plot\":null,\"render_mode\":\"css\",\"right_units\":\"screen\",\"top_units\":\"screen\"},\"id\":\"79a5759c-63ee-4a80-bfaf-a6e8cacddeb2\",\"type\":\"BoxAnnotation\"},{\"attributes\":{\"data_source\":{\"id\":\"0de89a92-e289-4030-9fee-f7018fb436d5\",\"type\":\"ColumnDataSource\"},\"glyph\":{\"id\":\"802574d7-0b7d-4cc7-b5c5-d0fae71f2f9a\",\"type\":\"Triangle\"},\"hover_glyph\":null,\"nonselection_glyph\":{\"id\":\"5b90d324-607d-47f2-b835-64606c27e7d1\",\"type\":\"Triangle\"},\"selection_glyph\":null},\"id\":\"a137b96e-535f-4522-a66b-b385a220f70d\",\"type\":\"GlyphRenderer\"},{\"attributes\":{\"callback\":null,\"column_names\":[\"y\",\"x\"],\"data\":{\"x\":[2,3,4,5],\"y\":[2,3,4,5]}},\"id\":\"571bf382-e928-4c64-90cf-f9242418151f\",\"type\":\"ColumnDataSource\"},{\"attributes\":{\"callback\":null},\"id\":\"9a78516f-0205-4c34-9420-1c7553ceb2ae\",\"type\":\"DataRange1d\"},{\"attributes\":{\"plot\":{\"id\":\"e320fc80-96d1-4af2-a39f-e73638a1bfb5\",\"subtype\":\"Figure\",\"type\":\"Plot\"}},\"id\":\"cf38c43f-b116-41af-9c0d-a8e45184f30a\",\"type\":\"SaveTool\"},{\"attributes\":{\"callback\":null,\"column_names\":[\"y\",\"x\"],\"data\":{\"x\":[2,3,4,6],\"y\":[4,2,6,4]}},\"id\":\"b747ce08-070a-4028-8bf3-c28b718d32dc\",\"type\":\"ColumnDataSource\"},{\"attributes\":{\"callback\":null},\"id\":\"acf870cd-4f94-456d-9dc0-0f64e6095dec\",\"type\":\"DataRange1d\"},{\"attributes\":{\"data_source\":{\"id\":\"789002b5-dd74-4a7e-b428-451600814afc\",\"type\":\"ColumnDataSource\"},\"glyph\":{\"id\":\"2375cf27-38dc-44c7-b917-288f5f69d737\",\"type\":\"Line\"},\"hover_glyph\":null,\"nonselection_glyph\":{\"id\":\"332fb660-7660-405f-9cac-a6c7c8967ed5\",\"type\":\"Line\"},\"selection_glyph\":null},\"id\":\"dc3e5e9f-3517-47a5-a108-1ce33a64295f\",\"type\":\"GlyphRenderer\"},{\"attributes\":{\"line_alpha\":{\"value\":0.1},\"line_color\":{\"value\":\"#1f77b4\"},\"line_width\":{\"value\":3},\"x\":{\"field\":\"x\"},\"y\":{\"field\":\"y\"}},\"id\":\"853cf0e8-1e15-470c-b42b-2d87bd7b9627\",\"type\":\"Line\"},{\"attributes\":{\"callback\":null,\"column_names\":[\"y\",\"x\"],\"data\":{\"x\":[2,3,4,5],\"y\":[2,3,4,5]}},\"id\":\"a875177d-4b93-4745-a70a-5571ff541a58\",\"type\":\"ColumnDataSource\"},{\"attributes\":{\"below\":[{\"id\":\"8a6b88fa-cdd7-4aee-999b-3b3161d9e1df\",\"type\":\"LinearAxis\"}],\"left\":[{\"id\":\"dbfbdbbe-bc26-4b6e-9c9f-4fd41660238e\",\"type\":\"LinearAxis\"}],\"plot_height\":350,\"plot_width\":450,\"renderers\":[{\"id\":\"8a6b88fa-cdd7-4aee-999b-3b3161d9e1df\",\"type\":\"LinearAxis\"},{\"id\":\"62c5926f-5646-4dba-8ad9-0cb77ad0b114\",\"type\":\"Grid\"},{\"id\":\"dbfbdbbe-bc26-4b6e-9c9f-4fd41660238e\",\"type\":\"LinearAxis\"},{\"id\":\"55acf1d6-e5d3-4fdf-8aa5-356232b0236e\",\"type\":\"Grid\"},{\"id\":\"79a5759c-63ee-4a80-bfaf-a6e8cacddeb2\",\"type\":\"BoxAnnotation\"},{\"id\":\"3be0c5f2-764d-44c9-80f1-0c236331889b\",\"type\":\"GlyphRenderer\"},{\"id\":\"fc602725-d64d-42a4-80c7-9f1c89c2cd1d\",\"type\":\"GlyphRenderer\"},{\"id\":\"5a39b3fe-7246-40c8-aa0b-c334eee3d73b\",\"type\":\"GlyphRenderer\"},{\"id\":\"365cc5d0-638e-427e-b6d9-ef01dd87bb62\",\"type\":\"GlyphRenderer\"},{\"id\":\"a137b96e-535f-4522-a66b-b385a220f70d\",\"type\":\"GlyphRenderer\"},{\"id\":\"dc3e5e9f-3517-47a5-a108-1ce33a64295f\",\"type\":\"GlyphRenderer\"},{\"id\":\"0a450f52-11d6-45d9-9ad0-b185f1c5739d\",\"type\":\"GlyphRenderer\"},{\"id\":\"c2ca5dff-5927-4f57-b362-472a9a3a4ed0\",\"type\":\"GlyphRenderer\"},{\"id\":\"4f073d25-c497-499f-86c8-75d2bf8a2fb8\",\"type\":\"GlyphRenderer\"},{\"id\":\"2df15a43-341b-40ed-88ff-a8f9d117f5dd\",\"type\":\"GlyphRenderer\"},{\"id\":\"d1630163-9dc9-4c70-9ec5-f588bbb03b82\",\"type\":\"GlyphRenderer\"},{\"id\":\"03e6fec6-6b28-400f-a811-9871ff6afd63\",\"type\":\"GlyphRenderer\"},{\"id\":\"3e3b9185-e956-484d-8400-0263d797dade\",\"type\":\"GlyphRenderer\"}],\"title\":{\"id\":\"58224624-7a1c-4575-85de-540fc341b5d8\",\"type\":\"Title\"},\"tool_events\":{\"id\":\"c1482e06-3fe5-489e-92f5-9db007ed0259\",\"type\":\"ToolEvents\"},\"toolbar\":{\"id\":\"b0514008-68d4-488e-b501-9e6bc9775d43\",\"type\":\"Toolbar\"},\"x_range\":{\"id\":\"acf870cd-4f94-456d-9dc0-0f64e6095dec\",\"type\":\"DataRange1d\"},\"y_range\":{\"id\":\"9a78516f-0205-4c34-9420-1c7553ceb2ae\",\"type\":\"DataRange1d\"}},\"id\":\"e320fc80-96d1-4af2-a39f-e73638a1bfb5\",\"subtype\":\"Figure\",\"type\":\"Plot\"},{\"attributes\":{\"line_color\":{\"value\":\"red\"},\"line_width\":{\"value\":3},\"x\":{\"field\":\"x\"},\"y\":{\"field\":\"y\"}},\"id\":\"3caf1c1f-d258-4c8b-b9ac-ddee695c4edb\",\"type\":\"Line\"},{\"attributes\":{\"line_color\":{\"value\":\"red\"},\"line_width\":{\"value\":3},\"x\":{\"field\":\"x\"},\"y\":{\"field\":\"y\"}},\"id\":\"2375cf27-38dc-44c7-b917-288f5f69d737\",\"type\":\"Line\"},{\"attributes\":{\"fill_alpha\":{\"value\":0.1},\"fill_color\":{\"value\":\"#1f77b4\"},\"line_alpha\":{\"value\":0.1},\"line_color\":{\"value\":\"#1f77b4\"},\"size\":{\"units\":\"screen\",\"value\":14},\"x\":{\"field\":\"x\"},\"y\":{\"field\":\"y\"}},\"id\":\"5b90d324-607d-47f2-b835-64606c27e7d1\",\"type\":\"Triangle\"},{\"attributes\":{\"data_source\":{\"id\":\"571bf382-e928-4c64-90cf-f9242418151f\",\"type\":\"ColumnDataSource\"},\"glyph\":{\"id\":\"0d53bb99-ab3e-414f-9211-c1b7254d15d7\",\"type\":\"Line\"},\"hover_glyph\":null,\"nonselection_glyph\":{\"id\":\"b46a893f-c357-47f2-8257-dd5683b06cd1\",\"type\":\"Line\"},\"selection_glyph\":null},\"id\":\"2df15a43-341b-40ed-88ff-a8f9d117f5dd\",\"type\":\"GlyphRenderer\"},{\"attributes\":{\"callback\":null,\"column_names\":[\"y\",\"x\"],\"data\":{\"x\":[2,3,4,5],\"y\":[2,3,4,5]}},\"id\":\"fa2572a4-db14-4d22-bc3e-b70db8871b92\",\"type\":\"ColumnDataSource\"},{\"attributes\":{\"callback\":null,\"column_names\":[\"y\",\"x\"],\"data\":{\"x\":[2,3,4,5],\"y\":[2,3,4,5]}},\"id\":\"7300ac62-3edb-4082-9eff-2baefa122a79\",\"type\":\"ColumnDataSource\"},{\"attributes\":{\"callback\":null,\"column_names\":[\"y\",\"x\"],\"data\":{\"x\":[2,3,4,5],\"y\":[2,3,4,5]}},\"id\":\"789002b5-dd74-4a7e-b428-451600814afc\",\"type\":\"ColumnDataSource\"},{\"attributes\":{\"line_alpha\":{\"value\":0.1},\"line_color\":{\"value\":\"#1f77b4\"},\"line_width\":{\"value\":3},\"x\":{\"field\":\"x\"},\"y\":{\"field\":\"y\"}},\"id\":\"a4e88e02-889e-45aa-86d3-36672696c1dc\",\"type\":\"Line\"},{\"attributes\":{\"line_alpha\":{\"value\":0.1},\"line_color\":{\"value\":\"#1f77b4\"},\"line_width\":{\"value\":3},\"x\":{\"field\":\"x\"},\"y\":{\"field\":\"y\"}},\"id\":\"e8f4e336-89fd-459f-8962-99ae6b85375f\",\"type\":\"Line\"},{\"attributes\":{\"line_color\":{\"value\":\"green\"},\"line_width\":{\"value\":3},\"x\":{\"field\":\"x\"},\"y\":{\"field\":\"y\"}},\"id\":\"4acb56a2-b8ad-4097-add1-fb3d925fd951\",\"type\":\"Line\"},{\"attributes\":{},\"id\":\"fd744710-d9f5-4848-a66e-1dcd21badc19\",\"type\":\"BasicTickFormatter\"},{\"attributes\":{},\"id\":\"417285e4-1249-44e1-b8d9-fe926d0f69e4\",\"type\":\"BasicTicker\"},{\"attributes\":{\"callback\":null,\"column_names\":[\"y\",\"x\"],\"data\":{\"x\":[2,3,4,6],\"y\":[4,2,6,4]}},\"id\":\"9b000e0f-3aab-43fd-a38a-37a8246cc586\",\"type\":\"ColumnDataSource\"},{\"attributes\":{\"line_alpha\":{\"value\":0.1},\"line_color\":{\"value\":\"#1f77b4\"},\"line_width\":{\"value\":3},\"x\":{\"field\":\"x\"},\"y\":{\"field\":\"y\"}},\"id\":\"332fb660-7660-405f-9cac-a6c7c8967ed5\",\"type\":\"Line\"},{\"attributes\":{\"plot\":{\"id\":\"e320fc80-96d1-4af2-a39f-e73638a1bfb5\",\"subtype\":\"Figure\",\"type\":\"Plot\"}},\"id\":\"67d637e1-941f-4105-a361-67006947c2e5\",\"type\":\"HelpTool\"},{\"attributes\":{\"fill_color\":{\"value\":\"yellow\"},\"line_color\":{\"value\":\"green\"},\"size\":{\"units\":\"screen\",\"value\":14},\"x\":{\"field\":\"x\"},\"y\":{\"field\":\"y\"}},\"id\":\"7c0164e2-ceb6-49e2-9318-fd2554118f2c\",\"type\":\"Triangle\"},{\"attributes\":{\"formatter\":{\"id\":\"53ede621-8026-4466-b27f-0eb275ce127d\",\"type\":\"BasicTickFormatter\"},\"plot\":{\"id\":\"e320fc80-96d1-4af2-a39f-e73638a1bfb5\",\"subtype\":\"Figure\",\"type\":\"Plot\"},\"ticker\":{\"id\":\"87542de0-f24b-4473-9077-8cd923f5c568\",\"type\":\"BasicTicker\"}},\"id\":\"dbfbdbbe-bc26-4b6e-9c9f-4fd41660238e\",\"type\":\"LinearAxis\"},{\"attributes\":{\"data_source\":{\"id\":\"a875177d-4b93-4745-a70a-5571ff541a58\",\"type\":\"ColumnDataSource\"},\"glyph\":{\"id\":\"f496c283-3a8b-4fb0-825d-8b32adb5bf03\",\"type\":\"Line\"},\"hover_glyph\":null,\"nonselection_glyph\":{\"id\":\"853cf0e8-1e15-470c-b42b-2d87bd7b9627\",\"type\":\"Line\"},\"selection_glyph\":null},\"id\":\"3be0c5f2-764d-44c9-80f1-0c236331889b\",\"type\":\"GlyphRenderer\"},{\"attributes\":{\"fill_alpha\":{\"value\":0.1},\"fill_color\":{\"value\":\"#1f77b4\"},\"line_alpha\":{\"value\":0.1},\"line_color\":{\"value\":\"#1f77b4\"},\"size\":{\"units\":\"screen\",\"value\":14},\"x\":{\"field\":\"x\"},\"y\":{\"field\":\"y\"}},\"id\":\"19d42f02-4336-4f37-814d-4578dbb639c7\",\"type\":\"Triangle\"},{\"attributes\":{\"data_source\":{\"id\":\"fa2572a4-db14-4d22-bc3e-b70db8871b92\",\"type\":\"ColumnDataSource\"},\"glyph\":{\"id\":\"f1ff8643-45ec-4894-a188-64b1a814aa15\",\"type\":\"Triangle\"},\"hover_glyph\":null,\"nonselection_glyph\":{\"id\":\"dafb704d-2933-4d0e-8623-3eec6d197dc3\",\"type\":\"Triangle\"},\"selection_glyph\":null},\"id\":\"0a450f52-11d6-45d9-9ad0-b185f1c5739d\",\"type\":\"GlyphRenderer\"}],\"root_ids\":[\"e320fc80-96d1-4af2-a39f-e73638a1bfb5\"]},\"title\":\"Bokeh Application\",\"version\":\"0.12.1\"}};\n",
       "            var render_items = [{\"docid\":\"3250482f-a55b-4a57-8187-1a7412557986\",\"elementid\":\"da1b23dc-d0dd-45bd-874b-4430809f9435\",\"modelid\":\"e320fc80-96d1-4af2-a39f-e73638a1bfb5\",\"notebook_comms_target\":\"4c7a7dde-cfe5-436c-8b2c-0776bccf1316\"}];\n",
       "            \n",
       "            Bokeh.embed.embed_items(docs_json, render_items);\n",
       "        });\n",
       "      },\n",
       "      function(Bokeh) {\n",
       "      }\n",
       "    ];\n",
       "  \n",
       "    function run_inline_js() {\n",
       "      for (var i = 0; i < inline_js.length; i++) {\n",
       "        inline_js[i](window.Bokeh);\n",
       "      }\n",
       "    }\n",
       "  \n",
       "    if (window._bokeh_is_loading === 0) {\n",
       "      console.log(\"Bokeh: BokehJS loaded, going straight to plotting\");\n",
       "      run_inline_js();\n",
       "    } else {\n",
       "      load_libs(js_urls, function() {\n",
       "        console.log(\"Bokeh: BokehJS plotting callback run at\", now());\n",
       "        run_inline_js();\n",
       "      });\n",
       "    }\n",
       "  }(this));\n",
       "</script>"
      ]
     },
     "metadata": {},
     "output_type": "display_data"
    },
    {
     "data": {
      "text/html": [
       "<p><code>&lt;Bokeh Notebook handle for <strong>In[30]</strong>&gt;</code></p>"
      ],
      "text/plain": [
       "<bokeh.io._CommsHandle at 0x113439f50>"
      ]
     },
     "execution_count": 30,
     "metadata": {},
     "output_type": "execute_result"
    }
   ],
   "source": [
    "l.line([2,3,4,5], [2,3,4,5], line_width = 3, color = 'red')\n",
    "l.triangle([2,3,4,5],[2,3,4,5], size = 14, fill_color = 'yellow', color='green')\n",
    "\n",
    "l.line([2,3,4,6],[4,2,6,4], line_width = 3, color = 'green')\n",
    "l.circle([2,3,4,6],[4,2,6,4], size = 14, fill_color = 'orange', color='black')\n",
    "\n",
    "show(l)"
   ]
  },
  {
   "cell_type": "code",
   "execution_count": null,
   "metadata": {
    "collapsed": true
   },
   "outputs": [],
   "source": []
  },
  {
   "cell_type": "markdown",
   "metadata": {},
   "source": [
    "# grid plots"
   ]
  },
  {
   "cell_type": "code",
   "execution_count": 42,
   "metadata": {
    "collapsed": false
   },
   "outputs": [],
   "source": [
    "from bokeh.io import output_notebook, show\n",
    "from bokeh.plotting import figure\n",
    "from bokeh.layouts import gridplot"
   ]
  },
  {
   "cell_type": "code",
   "execution_count": 43,
   "metadata": {
    "collapsed": false
   },
   "outputs": [
    {
     "data": {
      "text/html": [
       "\n",
       "    <div class=\"bk-root\">\n",
       "        <a href=\"http://bokeh.pydata.org\" target=\"_blank\" class=\"bk-logo bk-logo-small bk-logo-notebook\"></a>\n",
       "        <span id=\"d4f9eeae-aa1b-4279-9457-c88318ce8b40\">Loading BokehJS ...</span>\n",
       "    </div>"
      ]
     },
     "metadata": {},
     "output_type": "display_data"
    },
    {
     "data": {
      "application/javascript": [
       "\n",
       "(function(global) {\n",
       "  function now() {\n",
       "    return new Date();\n",
       "  }\n",
       "\n",
       "  var force = \"1\";\n",
       "\n",
       "  if (typeof (window._bokeh_onload_callbacks) === \"undefined\" || force !== \"\") {\n",
       "    window._bokeh_onload_callbacks = [];\n",
       "    window._bokeh_is_loading = undefined;\n",
       "  }\n",
       "\n",
       "  function run_callbacks() {\n",
       "    window._bokeh_onload_callbacks.forEach(function(callback) { callback() });\n",
       "    delete window._bokeh_onload_callbacks\n",
       "    console.info(\"Bokeh: all callbacks have finished\");\n",
       "  }\n",
       "\n",
       "  function load_libs(js_urls, callback) {\n",
       "    window._bokeh_onload_callbacks.push(callback);\n",
       "    if (window._bokeh_is_loading > 0) {\n",
       "      console.log(\"Bokeh: BokehJS is being loaded, scheduling callback at\", now());\n",
       "      return null;\n",
       "    }\n",
       "    if (js_urls == null || js_urls.length === 0) {\n",
       "      run_callbacks();\n",
       "      return null;\n",
       "    }\n",
       "    console.log(\"Bokeh: BokehJS not loaded, scheduling load and callback at\", now());\n",
       "    window._bokeh_is_loading = js_urls.length;\n",
       "    for (var i = 0; i < js_urls.length; i++) {\n",
       "      var url = js_urls[i];\n",
       "      var s = document.createElement('script');\n",
       "      s.src = url;\n",
       "      s.async = false;\n",
       "      s.onreadystatechange = s.onload = function() {\n",
       "        window._bokeh_is_loading--;\n",
       "        if (window._bokeh_is_loading === 0) {\n",
       "          console.log(\"Bokeh: all BokehJS libraries loaded\");\n",
       "          run_callbacks()\n",
       "        }\n",
       "      };\n",
       "      s.onerror = function() {\n",
       "        console.warn(\"failed to load library \" + url);\n",
       "      };\n",
       "      console.log(\"Bokeh: injecting script tag for BokehJS library: \", url);\n",
       "      document.getElementsByTagName(\"head\")[0].appendChild(s);\n",
       "    }\n",
       "  };\n",
       "\n",
       "  var js_urls = ['https://cdn.pydata.org/bokeh/release/bokeh-0.12.1.min.js', 'https://cdn.pydata.org/bokeh/release/bokeh-widgets-0.12.1.min.js', 'https://cdn.pydata.org/bokeh/release/bokeh-compiler-0.12.1.min.js'];\n",
       "\n",
       "  var inline_js = [\n",
       "    function(Bokeh) {\n",
       "      Bokeh.set_log_level(\"info\");\n",
       "    },\n",
       "    \n",
       "    function(Bokeh) {\n",
       "      \n",
       "      Bokeh.$(\"#d4f9eeae-aa1b-4279-9457-c88318ce8b40\").text(\"BokehJS successfully loaded\");\n",
       "      var kernel = Jupyter.notebook.kernel\n",
       "      if (kernel.execute !== undefined) {\n",
       "          kernel.execute(\"import bokeh.io; bokeh.io._nb_loaded = True\");\n",
       "      }\n",
       "    },\n",
       "    function(Bokeh) {\n",
       "      console.log(\"Bokeh: injecting CSS: https://cdn.pydata.org/bokeh/release/bokeh-0.12.1.min.css\");\n",
       "      Bokeh.embed.inject_css(\"https://cdn.pydata.org/bokeh/release/bokeh-0.12.1.min.css\");\n",
       "      console.log(\"Bokeh: injecting CSS: https://cdn.pydata.org/bokeh/release/bokeh-widgets-0.12.1.min.css\");\n",
       "      Bokeh.embed.inject_css(\"https://cdn.pydata.org/bokeh/release/bokeh-widgets-0.12.1.min.css\");\n",
       "    }\n",
       "  ];\n",
       "\n",
       "  function run_inline_js() {\n",
       "    for (var i = 0; i < inline_js.length; i++) {\n",
       "      inline_js[i](window.Bokeh);\n",
       "    }\n",
       "  }\n",
       "\n",
       "  if (window._bokeh_is_loading === 0) {\n",
       "    console.log(\"Bokeh: BokehJS loaded, going straight to plotting\");\n",
       "    run_inline_js();\n",
       "  } else {\n",
       "    load_libs(js_urls, function() {\n",
       "      console.log(\"Bokeh: BokehJS plotting callback run at\", now());\n",
       "      run_inline_js();\n",
       "    });\n",
       "  }\n",
       "}(this));"
      ]
     },
     "metadata": {},
     "output_type": "display_data"
    }
   ],
   "source": [
    "output_notebook()"
   ]
  },
  {
   "cell_type": "code",
   "execution_count": 44,
   "metadata": {
    "collapsed": true
   },
   "outputs": [],
   "source": [
    "x = [-3,-4,-2,-6,-9,-8,-11,2,3,1,5,8,3,6,4,11,9]"
   ]
  },
  {
   "cell_type": "code",
   "execution_count": null,
   "metadata": {
    "collapsed": true
   },
   "outputs": [],
   "source": [
    "(x,y0),(x,y1),(x,y2)"
   ]
  },
  {
   "cell_type": "code",
   "execution_count": 45,
   "metadata": {
    "collapsed": true
   },
   "outputs": [],
   "source": [
    "y0 = [i*0.5 for i in x]\n",
    "y1 = [i**2 for i in x]\n",
    "y2 = [i**3 for i in x]"
   ]
  },
  {
   "cell_type": "code",
   "execution_count": 47,
   "metadata": {
    "collapsed": false
   },
   "outputs": [
    {
     "data": {
      "text/html": [
       "\n",
       "\n",
       "    <div class=\"bk-root\">\n",
       "        <div class=\"plotdiv\" id=\"59d4e864-243b-4d32-a5af-767f00b8028b\"></div>\n",
       "    </div>\n",
       "<script type=\"text/javascript\">\n",
       "  \n",
       "  (function(global) {\n",
       "    function now() {\n",
       "      return new Date();\n",
       "    }\n",
       "  \n",
       "    var force = \"\";\n",
       "  \n",
       "    if (typeof (window._bokeh_onload_callbacks) === \"undefined\" || force !== \"\") {\n",
       "      window._bokeh_onload_callbacks = [];\n",
       "      window._bokeh_is_loading = undefined;\n",
       "    }\n",
       "  \n",
       "    function run_callbacks() {\n",
       "      window._bokeh_onload_callbacks.forEach(function(callback) { callback() });\n",
       "      delete window._bokeh_onload_callbacks\n",
       "      console.info(\"Bokeh: all callbacks have finished\");\n",
       "    }\n",
       "  \n",
       "    function load_libs(js_urls, callback) {\n",
       "      window._bokeh_onload_callbacks.push(callback);\n",
       "      if (window._bokeh_is_loading > 0) {\n",
       "        console.log(\"Bokeh: BokehJS is being loaded, scheduling callback at\", now());\n",
       "        return null;\n",
       "      }\n",
       "      if (js_urls == null || js_urls.length === 0) {\n",
       "        run_callbacks();\n",
       "        return null;\n",
       "      }\n",
       "      console.log(\"Bokeh: BokehJS not loaded, scheduling load and callback at\", now());\n",
       "      window._bokeh_is_loading = js_urls.length;\n",
       "      for (var i = 0; i < js_urls.length; i++) {\n",
       "        var url = js_urls[i];\n",
       "        var s = document.createElement('script');\n",
       "        s.src = url;\n",
       "        s.async = false;\n",
       "        s.onreadystatechange = s.onload = function() {\n",
       "          window._bokeh_is_loading--;\n",
       "          if (window._bokeh_is_loading === 0) {\n",
       "            console.log(\"Bokeh: all BokehJS libraries loaded\");\n",
       "            run_callbacks()\n",
       "          }\n",
       "        };\n",
       "        s.onerror = function() {\n",
       "          console.warn(\"failed to load library \" + url);\n",
       "        };\n",
       "        console.log(\"Bokeh: injecting script tag for BokehJS library: \", url);\n",
       "        document.getElementsByTagName(\"head\")[0].appendChild(s);\n",
       "      }\n",
       "    };var element = document.getElementById(\"59d4e864-243b-4d32-a5af-767f00b8028b\");\n",
       "    if (element == null) {\n",
       "      console.log(\"Bokeh: ERROR: autoload.js configured with elementid '59d4e864-243b-4d32-a5af-767f00b8028b' but no matching script tag was found. \")\n",
       "      return false;\n",
       "    }\n",
       "  \n",
       "    var js_urls = [];\n",
       "  \n",
       "    var inline_js = [\n",
       "      function(Bokeh) {\n",
       "        Bokeh.$(function() {\n",
       "            var docs_json = {\"3d2962b5-885f-4eb6-9e23-61959384a7c6\":{\"roots\":{\"references\":[{\"attributes\":{},\"id\":\"fbe5f287-354e-40d3-af38-71583f82d6e7\",\"type\":\"BasicTicker\"},{\"attributes\":{\"children\":[{\"id\":\"94d9cd69-ad7e-491c-911e-48d64304a1ac\",\"subtype\":\"Figure\",\"type\":\"Plot\"},{\"id\":\"076a51a8-4def-49bb-8db3-5d9b68c834f7\",\"subtype\":\"Figure\",\"type\":\"Plot\"},{\"id\":\"2239683a-e195-4b15-bcab-ceb3f912a306\",\"subtype\":\"Figure\",\"type\":\"Plot\"}]},\"id\":\"35a947ec-4fa8-4b49-9d47-939ae82225e9\",\"type\":\"Row\"},{\"attributes\":{\"plot\":{\"id\":\"2239683a-e195-4b15-bcab-ceb3f912a306\",\"subtype\":\"Figure\",\"type\":\"Plot\"},\"ticker\":{\"id\":\"b6d49ddc-101b-49df-9dfc-c0c778932af4\",\"type\":\"BasicTicker\"}},\"id\":\"66e79c92-6551-477f-99cc-17d01a5b29c3\",\"type\":\"Grid\"},{\"attributes\":{\"plot\":{\"id\":\"2239683a-e195-4b15-bcab-ceb3f912a306\",\"subtype\":\"Figure\",\"type\":\"Plot\"}},\"id\":\"18e93e31-19cc-4eaa-965a-7922435c98c2\",\"type\":\"PanTool\"},{\"attributes\":{\"bottom_units\":\"screen\",\"fill_alpha\":{\"value\":0.5},\"fill_color\":{\"value\":\"lightgrey\"},\"left_units\":\"screen\",\"level\":\"overlay\",\"line_alpha\":{\"value\":1.0},\"line_color\":{\"value\":\"black\"},\"line_dash\":[4,4],\"line_width\":{\"value\":2},\"plot\":null,\"render_mode\":\"css\",\"right_units\":\"screen\",\"top_units\":\"screen\"},\"id\":\"40427593-ac72-454c-981c-e2d3d7332caf\",\"type\":\"BoxAnnotation\"},{\"attributes\":{},\"id\":\"82b13477-1700-4c13-a8e4-3fc9e5cd1d9d\",\"type\":\"BasicTickFormatter\"},{\"attributes\":{},\"id\":\"7971649a-0b85-49dc-8109-1dc2efec7d4d\",\"type\":\"BasicTicker\"},{\"attributes\":{\"plot\":{\"id\":\"076a51a8-4def-49bb-8db3-5d9b68c834f7\",\"subtype\":\"Figure\",\"type\":\"Plot\"}},\"id\":\"134d0151-040f-4f53-9be4-87f79258f7c1\",\"type\":\"ResetTool\"},{\"attributes\":{\"plot\":{\"id\":\"94d9cd69-ad7e-491c-911e-48d64304a1ac\",\"subtype\":\"Figure\",\"type\":\"Plot\"},\"ticker\":{\"id\":\"7971649a-0b85-49dc-8109-1dc2efec7d4d\",\"type\":\"BasicTicker\"}},\"id\":\"f52f7e5e-485e-4794-80dc-cdf8c1af7d6b\",\"type\":\"Grid\"},{\"attributes\":{\"callback\":null},\"id\":\"b8097e7d-26cf-4995-82a1-d35169c81d13\",\"type\":\"DataRange1d\"},{\"attributes\":{\"formatter\":{\"id\":\"51a1efa0-07d1-44fb-928e-85828534e7d4\",\"type\":\"BasicTickFormatter\"},\"plot\":{\"id\":\"2239683a-e195-4b15-bcab-ceb3f912a306\",\"subtype\":\"Figure\",\"type\":\"Plot\"},\"ticker\":{\"id\":\"b6d49ddc-101b-49df-9dfc-c0c778932af4\",\"type\":\"BasicTicker\"}},\"id\":\"3d739bed-da7e-469e-a925-ffc73d816e49\",\"type\":\"LinearAxis\"},{\"attributes\":{\"callback\":null},\"id\":\"89d458d6-23bb-4b75-9828-5306ba20636a\",\"type\":\"DataRange1d\"},{\"attributes\":{\"callback\":null},\"id\":\"02f307fe-482e-4ea1-ab87-079d5c4f1fae\",\"type\":\"DataRange1d\"},{\"attributes\":{\"plot\":{\"id\":\"076a51a8-4def-49bb-8db3-5d9b68c834f7\",\"subtype\":\"Figure\",\"type\":\"Plot\"}},\"id\":\"4519e59c-4feb-4ca3-914e-261ad9a6884a\",\"type\":\"PanTool\"},{\"attributes\":{\"sizing_mode\":\"scale_width\",\"toolbar_location\":\"above\",\"tools\":[{\"id\":\"a4fd70a9-f188-4bc3-b465-105a030ec63d\",\"type\":\"PanTool\"},{\"id\":\"463ba812-1033-4ca5-afed-5f058dadaaa2\",\"type\":\"WheelZoomTool\"},{\"id\":\"8c8d5333-25d9-4a69-a58f-300a0c510646\",\"type\":\"BoxZoomTool\"},{\"id\":\"f2a0395e-129e-4610-9edb-f4e7caee2603\",\"type\":\"SaveTool\"},{\"id\":\"3aa2fdb7-8b34-43fd-83ba-74540d9525ea\",\"type\":\"ResetTool\"},{\"id\":\"a9f85022-0abf-440c-8790-9b8f52f23210\",\"type\":\"HelpTool\"},{\"id\":\"4519e59c-4feb-4ca3-914e-261ad9a6884a\",\"type\":\"PanTool\"},{\"id\":\"7c51288a-35f1-4899-888b-e48a921b7ac4\",\"type\":\"WheelZoomTool\"},{\"id\":\"a081c09e-c96d-48df-aaef-f1034ccfa3cd\",\"type\":\"BoxZoomTool\"},{\"id\":\"03958673-5a7b-4e90-8076-4fb4e52d81b4\",\"type\":\"SaveTool\"},{\"id\":\"134d0151-040f-4f53-9be4-87f79258f7c1\",\"type\":\"ResetTool\"},{\"id\":\"3d900386-638a-4d4c-94e9-ae7efd0ea0a2\",\"type\":\"HelpTool\"},{\"id\":\"18e93e31-19cc-4eaa-965a-7922435c98c2\",\"type\":\"PanTool\"},{\"id\":\"f39df3ce-3626-4dd6-9094-6d23a330335a\",\"type\":\"WheelZoomTool\"},{\"id\":\"8bd4fba7-6804-4176-90e3-85434f54f459\",\"type\":\"BoxZoomTool\"},{\"id\":\"c48889c6-52cd-40ce-88ae-c3be6d2508be\",\"type\":\"SaveTool\"},{\"id\":\"d3426684-5ee2-4438-a722-990814df8cc1\",\"type\":\"ResetTool\"},{\"id\":\"c0813913-b859-4f77-a7eb-50b2295fa146\",\"type\":\"HelpTool\"}]},\"id\":\"ace5d8ac-6cd3-4876-b988-d89558ff7125\",\"type\":\"ToolbarBox\"},{\"attributes\":{\"overlay\":{\"id\":\"1bd2d4a1-ccea-49c2-89e5-5fed4964352b\",\"type\":\"BoxAnnotation\"},\"plot\":{\"id\":\"94d9cd69-ad7e-491c-911e-48d64304a1ac\",\"subtype\":\"Figure\",\"type\":\"Plot\"}},\"id\":\"8c8d5333-25d9-4a69-a58f-300a0c510646\",\"type\":\"BoxZoomTool\"},{\"attributes\":{\"active_drag\":\"auto\",\"active_scroll\":\"auto\",\"active_tap\":\"auto\",\"tools\":[{\"id\":\"18e93e31-19cc-4eaa-965a-7922435c98c2\",\"type\":\"PanTool\"},{\"id\":\"f39df3ce-3626-4dd6-9094-6d23a330335a\",\"type\":\"WheelZoomTool\"},{\"id\":\"8bd4fba7-6804-4176-90e3-85434f54f459\",\"type\":\"BoxZoomTool\"},{\"id\":\"c48889c6-52cd-40ce-88ae-c3be6d2508be\",\"type\":\"SaveTool\"},{\"id\":\"d3426684-5ee2-4438-a722-990814df8cc1\",\"type\":\"ResetTool\"},{\"id\":\"c0813913-b859-4f77-a7eb-50b2295fa146\",\"type\":\"HelpTool\"}]},\"id\":\"193f7f39-ec53-4b29-b173-4da1fc01d69e\",\"type\":\"Toolbar\"},{\"attributes\":{},\"id\":\"8c13950f-f794-4015-befb-35e03317a704\",\"type\":\"ToolEvents\"},{\"attributes\":{\"plot\":{\"id\":\"2239683a-e195-4b15-bcab-ceb3f912a306\",\"subtype\":\"Figure\",\"type\":\"Plot\"}},\"id\":\"d3426684-5ee2-4438-a722-990814df8cc1\",\"type\":\"ResetTool\"},{\"attributes\":{\"active_drag\":\"auto\",\"active_scroll\":\"auto\",\"active_tap\":\"auto\",\"tools\":[{\"id\":\"a4fd70a9-f188-4bc3-b465-105a030ec63d\",\"type\":\"PanTool\"},{\"id\":\"463ba812-1033-4ca5-afed-5f058dadaaa2\",\"type\":\"WheelZoomTool\"},{\"id\":\"8c8d5333-25d9-4a69-a58f-300a0c510646\",\"type\":\"BoxZoomTool\"},{\"id\":\"f2a0395e-129e-4610-9edb-f4e7caee2603\",\"type\":\"SaveTool\"},{\"id\":\"3aa2fdb7-8b34-43fd-83ba-74540d9525ea\",\"type\":\"ResetTool\"},{\"id\":\"a9f85022-0abf-440c-8790-9b8f52f23210\",\"type\":\"HelpTool\"}]},\"id\":\"c3016a7f-fc3d-429a-80d9-4c85965ee9ef\",\"type\":\"Toolbar\"},{\"attributes\":{\"callback\":null,\"column_names\":[\"x\",\"y\"],\"data\":{\"x\":[-3,-4,-2,-6,-9,-8,-11,2,3,1,5,8,3,6,4,11,9],\"y\":[9,16,4,36,81,64,121,4,9,1,25,64,9,36,16,121,81]}},\"id\":\"3b146500-b6a6-41c0-ba83-f64a90c40ea8\",\"type\":\"ColumnDataSource\"},{\"attributes\":{\"plot\":null,\"text\":null},\"id\":\"642ac345-6a85-41a0-a082-1f7e72e44c26\",\"type\":\"Title\"},{\"attributes\":{\"fill_alpha\":{\"value\":0.1},\"fill_color\":{\"value\":\"#1f77b4\"},\"line_alpha\":{\"value\":0.1},\"line_color\":{\"value\":\"#1f77b4\"},\"size\":{\"units\":\"screen\",\"value\":13},\"x\":{\"field\":\"x\"},\"y\":{\"field\":\"y\"}},\"id\":\"c8bebed2-7c0b-4bc5-bb48-86d5e6052d0c\",\"type\":\"Circle\"},{\"attributes\":{\"plot\":{\"id\":\"076a51a8-4def-49bb-8db3-5d9b68c834f7\",\"subtype\":\"Figure\",\"type\":\"Plot\"}},\"id\":\"3d900386-638a-4d4c-94e9-ae7efd0ea0a2\",\"type\":\"HelpTool\"},{\"attributes\":{},\"id\":\"842240dd-db98-4ab1-98e5-7ccc1cdf6d0c\",\"type\":\"BasicTickFormatter\"},{\"attributes\":{\"plot\":null,\"text\":null},\"id\":\"f29be89e-a094-4cdc-8c3f-bca07c5a7d4a\",\"type\":\"Title\"},{\"attributes\":{},\"id\":\"ffcb0111-fa36-4982-853f-0dd9685d5d65\",\"type\":\"BasicTicker\"},{\"attributes\":{\"dimension\":1,\"plot\":{\"id\":\"2239683a-e195-4b15-bcab-ceb3f912a306\",\"subtype\":\"Figure\",\"type\":\"Plot\"},\"ticker\":{\"id\":\"ffcb0111-fa36-4982-853f-0dd9685d5d65\",\"type\":\"BasicTicker\"}},\"id\":\"d3d9effe-ffa9-4ab4-9f44-c198315bb6e2\",\"type\":\"Grid\"},{\"attributes\":{\"callback\":null,\"column_names\":[\"x\",\"y\"],\"data\":{\"x\":[-3,-4,-2,-6,-9,-8,-11,2,3,1,5,8,3,6,4,11,9],\"y\":[-27,-64,-8,-216,-729,-512,-1331,8,27,1,125,512,27,216,64,1331,729]}},\"id\":\"f192d48c-2079-4148-993c-63e40d1de0dd\",\"type\":\"ColumnDataSource\"},{\"attributes\":{\"data_source\":{\"id\":\"c1c7d37b-d2d5-465d-af99-4dbe0a8303cf\",\"type\":\"ColumnDataSource\"},\"glyph\":{\"id\":\"26775db6-9b67-48a9-bf74-e7fd460428fe\",\"type\":\"Circle\"},\"hover_glyph\":null,\"nonselection_glyph\":{\"id\":\"c8bebed2-7c0b-4bc5-bb48-86d5e6052d0c\",\"type\":\"Circle\"},\"selection_glyph\":null},\"id\":\"5fc6b3e2-3c0a-42c4-9254-a63c7adf7b59\",\"type\":\"GlyphRenderer\"},{\"attributes\":{\"dimension\":1,\"plot\":{\"id\":\"076a51a8-4def-49bb-8db3-5d9b68c834f7\",\"subtype\":\"Figure\",\"type\":\"Plot\"},\"ticker\":{\"id\":\"fbe5f287-354e-40d3-af38-71583f82d6e7\",\"type\":\"BasicTicker\"}},\"id\":\"743da147-fb1a-44fa-b979-8a0c69060912\",\"type\":\"Grid\"},{\"attributes\":{\"overlay\":{\"id\":\"40427593-ac72-454c-981c-e2d3d7332caf\",\"type\":\"BoxAnnotation\"},\"plot\":{\"id\":\"2239683a-e195-4b15-bcab-ceb3f912a306\",\"subtype\":\"Figure\",\"type\":\"Plot\"}},\"id\":\"8bd4fba7-6804-4176-90e3-85434f54f459\",\"type\":\"BoxZoomTool\"},{\"attributes\":{\"callback\":null,\"column_names\":[\"x\",\"y\"],\"data\":{\"x\":[-3,-4,-2,-6,-9,-8,-11,2,3,1,5,8,3,6,4,11,9],\"y\":[-1.5,-2.0,-1.0,-3.0,-4.5,-4.0,-5.5,1.0,1.5,0.5,2.5,4.0,1.5,3.0,2.0,5.5,4.5]}},\"id\":\"c1c7d37b-d2d5-465d-af99-4dbe0a8303cf\",\"type\":\"ColumnDataSource\"},{\"attributes\":{},\"id\":\"bd761280-b959-4f9e-876e-d55d6b6e4562\",\"type\":\"ToolEvents\"},{\"attributes\":{},\"id\":\"1e3a124e-36fc-4e52-810b-ec668256f866\",\"type\":\"BasicTicker\"},{\"attributes\":{\"plot\":{\"id\":\"2239683a-e195-4b15-bcab-ceb3f912a306\",\"subtype\":\"Figure\",\"type\":\"Plot\"}},\"id\":\"c0813913-b859-4f77-a7eb-50b2295fa146\",\"type\":\"HelpTool\"},{\"attributes\":{\"formatter\":{\"id\":\"82b13477-1700-4c13-a8e4-3fc9e5cd1d9d\",\"type\":\"BasicTickFormatter\"},\"plot\":{\"id\":\"94d9cd69-ad7e-491c-911e-48d64304a1ac\",\"subtype\":\"Figure\",\"type\":\"Plot\"},\"ticker\":{\"id\":\"1e3a124e-36fc-4e52-810b-ec668256f866\",\"type\":\"BasicTicker\"}},\"id\":\"fc3795cb-6108-44a8-9261-419042f64b75\",\"type\":\"LinearAxis\"},{\"attributes\":{},\"id\":\"a557283a-ba03-413e-918d-2d1cb5dd0e76\",\"type\":\"ToolEvents\"},{\"attributes\":{\"plot\":{\"id\":\"94d9cd69-ad7e-491c-911e-48d64304a1ac\",\"subtype\":\"Figure\",\"type\":\"Plot\"}},\"id\":\"3aa2fdb7-8b34-43fd-83ba-74540d9525ea\",\"type\":\"ResetTool\"},{\"attributes\":{\"data_source\":{\"id\":\"f192d48c-2079-4148-993c-63e40d1de0dd\",\"type\":\"ColumnDataSource\"},\"glyph\":{\"id\":\"c4c1d350-c3b0-407f-b415-951ca8392142\",\"type\":\"Square\"},\"hover_glyph\":null,\"nonselection_glyph\":{\"id\":\"8f71068f-02b1-4b65-b1f8-6d5e22c6119d\",\"type\":\"Square\"},\"selection_glyph\":null},\"id\":\"3b3fc580-d127-4964-b160-61e2c2d57b36\",\"type\":\"GlyphRenderer\"},{\"attributes\":{\"overlay\":{\"id\":\"cceab619-53ef-4de0-86a5-632f76c1f96d\",\"type\":\"BoxAnnotation\"},\"plot\":{\"id\":\"076a51a8-4def-49bb-8db3-5d9b68c834f7\",\"subtype\":\"Figure\",\"type\":\"Plot\"}},\"id\":\"a081c09e-c96d-48df-aaef-f1034ccfa3cd\",\"type\":\"BoxZoomTool\"},{\"attributes\":{\"fill_alpha\":{\"value\":0.6},\"fill_color\":{\"value\":\"red\"},\"line_alpha\":{\"value\":0.6},\"line_color\":{\"value\":\"red\"},\"size\":{\"units\":\"screen\",\"value\":13},\"x\":{\"field\":\"x\"},\"y\":{\"field\":\"y\"}},\"id\":\"d61634b6-59ce-4dfd-9811-c0bf7fc00509\",\"type\":\"Diamond\"},{\"attributes\":{\"below\":[{\"id\":\"2024c2c7-f5ae-420d-841f-832fd21896ae\",\"type\":\"LinearAxis\"}],\"left\":[{\"id\":\"fc3795cb-6108-44a8-9261-419042f64b75\",\"type\":\"LinearAxis\"}],\"plot_height\":250,\"plot_width\":275,\"renderers\":[{\"id\":\"2024c2c7-f5ae-420d-841f-832fd21896ae\",\"type\":\"LinearAxis\"},{\"id\":\"f52f7e5e-485e-4794-80dc-cdf8c1af7d6b\",\"type\":\"Grid\"},{\"id\":\"fc3795cb-6108-44a8-9261-419042f64b75\",\"type\":\"LinearAxis\"},{\"id\":\"7ea5c973-f73a-47c8-8b59-c0fd9c8bb224\",\"type\":\"Grid\"},{\"id\":\"1bd2d4a1-ccea-49c2-89e5-5fed4964352b\",\"type\":\"BoxAnnotation\"},{\"id\":\"5fc6b3e2-3c0a-42c4-9254-a63c7adf7b59\",\"type\":\"GlyphRenderer\"}],\"title\":{\"id\":\"f29be89e-a094-4cdc-8c3f-bca07c5a7d4a\",\"type\":\"Title\"},\"tool_events\":{\"id\":\"a557283a-ba03-413e-918d-2d1cb5dd0e76\",\"type\":\"ToolEvents\"},\"toolbar\":{\"id\":\"c3016a7f-fc3d-429a-80d9-4c85965ee9ef\",\"type\":\"Toolbar\"},\"toolbar_location\":null,\"x_range\":{\"id\":\"89d458d6-23bb-4b75-9828-5306ba20636a\",\"type\":\"DataRange1d\"},\"y_range\":{\"id\":\"d7995412-3128-4924-81cf-d4869a03ee3d\",\"type\":\"DataRange1d\"}},\"id\":\"94d9cd69-ad7e-491c-911e-48d64304a1ac\",\"subtype\":\"Figure\",\"type\":\"Plot\"},{\"attributes\":{\"children\":[{\"id\":\"ace5d8ac-6cd3-4876-b988-d89558ff7125\",\"type\":\"ToolbarBox\"},{\"id\":\"9748fc40-5335-4589-9def-374592d4d01d\",\"type\":\"Column\"}]},\"id\":\"f88058eb-555f-4ace-aeb3-0dd744af1462\",\"type\":\"Column\"},{\"attributes\":{\"plot\":{\"id\":\"076a51a8-4def-49bb-8db3-5d9b68c834f7\",\"subtype\":\"Figure\",\"type\":\"Plot\"},\"ticker\":{\"id\":\"57592afe-d323-4be0-bf86-6255fa5c933e\",\"type\":\"BasicTicker\"}},\"id\":\"2275508b-671f-46df-8c36-9b0928146069\",\"type\":\"Grid\"},{\"attributes\":{\"plot\":{\"id\":\"076a51a8-4def-49bb-8db3-5d9b68c834f7\",\"subtype\":\"Figure\",\"type\":\"Plot\"}},\"id\":\"03958673-5a7b-4e90-8076-4fb4e52d81b4\",\"type\":\"SaveTool\"},{\"attributes\":{\"formatter\":{\"id\":\"662b5dd2-5015-479f-a936-77e237bfc742\",\"type\":\"BasicTickFormatter\"},\"plot\":{\"id\":\"94d9cd69-ad7e-491c-911e-48d64304a1ac\",\"subtype\":\"Figure\",\"type\":\"Plot\"},\"ticker\":{\"id\":\"7971649a-0b85-49dc-8109-1dc2efec7d4d\",\"type\":\"BasicTicker\"}},\"id\":\"2024c2c7-f5ae-420d-841f-832fd21896ae\",\"type\":\"LinearAxis\"},{\"attributes\":{\"callback\":null},\"id\":\"3a80ca23-3086-4288-923c-1b99cb201f1c\",\"type\":\"DataRange1d\"},{\"attributes\":{\"formatter\":{\"id\":\"aab212ce-5e63-4226-beda-712afe1868f4\",\"type\":\"BasicTickFormatter\"},\"plot\":{\"id\":\"076a51a8-4def-49bb-8db3-5d9b68c834f7\",\"subtype\":\"Figure\",\"type\":\"Plot\"},\"ticker\":{\"id\":\"fbe5f287-354e-40d3-af38-71583f82d6e7\",\"type\":\"BasicTicker\"}},\"id\":\"e814fdb6-7c20-4874-b8c5-47e0ccb334ab\",\"type\":\"LinearAxis\"},{\"attributes\":{\"bottom_units\":\"screen\",\"fill_alpha\":{\"value\":0.5},\"fill_color\":{\"value\":\"lightgrey\"},\"left_units\":\"screen\",\"level\":\"overlay\",\"line_alpha\":{\"value\":1.0},\"line_color\":{\"value\":\"black\"},\"line_dash\":[4,4],\"line_width\":{\"value\":2},\"plot\":null,\"render_mode\":\"css\",\"right_units\":\"screen\",\"top_units\":\"screen\"},\"id\":\"1bd2d4a1-ccea-49c2-89e5-5fed4964352b\",\"type\":\"BoxAnnotation\"},{\"attributes\":{\"callback\":null},\"id\":\"d7995412-3128-4924-81cf-d4869a03ee3d\",\"type\":\"DataRange1d\"},{\"attributes\":{},\"id\":\"f29f99c9-57fe-45da-9a12-dffc251b8096\",\"type\":\"BasicTickFormatter\"},{\"attributes\":{\"fill_alpha\":{\"value\":0.9},\"fill_color\":{\"value\":\"blue\"},\"line_alpha\":{\"value\":0.9},\"line_color\":{\"value\":\"blue\"},\"size\":{\"units\":\"screen\",\"value\":13},\"x\":{\"field\":\"x\"},\"y\":{\"field\":\"y\"}},\"id\":\"c4c1d350-c3b0-407f-b415-951ca8392142\",\"type\":\"Square\"},{\"attributes\":{\"plot\":{\"id\":\"076a51a8-4def-49bb-8db3-5d9b68c834f7\",\"subtype\":\"Figure\",\"type\":\"Plot\"}},\"id\":\"7c51288a-35f1-4899-888b-e48a921b7ac4\",\"type\":\"WheelZoomTool\"},{\"attributes\":{\"bottom_units\":\"screen\",\"fill_alpha\":{\"value\":0.5},\"fill_color\":{\"value\":\"lightgrey\"},\"left_units\":\"screen\",\"level\":\"overlay\",\"line_alpha\":{\"value\":1.0},\"line_color\":{\"value\":\"black\"},\"line_dash\":[4,4],\"line_width\":{\"value\":2},\"plot\":null,\"render_mode\":\"css\",\"right_units\":\"screen\",\"top_units\":\"screen\"},\"id\":\"cceab619-53ef-4de0-86a5-632f76c1f96d\",\"type\":\"BoxAnnotation\"},{\"attributes\":{\"formatter\":{\"id\":\"f29f99c9-57fe-45da-9a12-dffc251b8096\",\"type\":\"BasicTickFormatter\"},\"plot\":{\"id\":\"076a51a8-4def-49bb-8db3-5d9b68c834f7\",\"subtype\":\"Figure\",\"type\":\"Plot\"},\"ticker\":{\"id\":\"57592afe-d323-4be0-bf86-6255fa5c933e\",\"type\":\"BasicTicker\"}},\"id\":\"17241def-59a2-4534-9b0a-786b511f57b6\",\"type\":\"LinearAxis\"},{\"attributes\":{\"fill_alpha\":{\"value\":0.1},\"fill_color\":{\"value\":\"#1f77b4\"},\"line_alpha\":{\"value\":0.1},\"line_color\":{\"value\":\"#1f77b4\"},\"size\":{\"units\":\"screen\",\"value\":13},\"x\":{\"field\":\"x\"},\"y\":{\"field\":\"y\"}},\"id\":\"8f71068f-02b1-4b65-b1f8-6d5e22c6119d\",\"type\":\"Square\"},{\"attributes\":{\"children\":[{\"id\":\"35a947ec-4fa8-4b49-9d47-939ae82225e9\",\"type\":\"Row\"}]},\"id\":\"9748fc40-5335-4589-9def-374592d4d01d\",\"type\":\"Column\"},{\"attributes\":{\"active_drag\":\"auto\",\"active_scroll\":\"auto\",\"active_tap\":\"auto\",\"tools\":[{\"id\":\"4519e59c-4feb-4ca3-914e-261ad9a6884a\",\"type\":\"PanTool\"},{\"id\":\"7c51288a-35f1-4899-888b-e48a921b7ac4\",\"type\":\"WheelZoomTool\"},{\"id\":\"a081c09e-c96d-48df-aaef-f1034ccfa3cd\",\"type\":\"BoxZoomTool\"},{\"id\":\"03958673-5a7b-4e90-8076-4fb4e52d81b4\",\"type\":\"SaveTool\"},{\"id\":\"134d0151-040f-4f53-9be4-87f79258f7c1\",\"type\":\"ResetTool\"},{\"id\":\"3d900386-638a-4d4c-94e9-ae7efd0ea0a2\",\"type\":\"HelpTool\"}]},\"id\":\"d097d69a-44c8-407c-8a42-acf07ebc910f\",\"type\":\"Toolbar\"},{\"attributes\":{\"formatter\":{\"id\":\"842240dd-db98-4ab1-98e5-7ccc1cdf6d0c\",\"type\":\"BasicTickFormatter\"},\"plot\":{\"id\":\"2239683a-e195-4b15-bcab-ceb3f912a306\",\"subtype\":\"Figure\",\"type\":\"Plot\"},\"ticker\":{\"id\":\"ffcb0111-fa36-4982-853f-0dd9685d5d65\",\"type\":\"BasicTicker\"}},\"id\":\"c8311e12-6a50-4f6a-aab2-d83e6afef21f\",\"type\":\"LinearAxis\"},{\"attributes\":{\"plot\":{\"id\":\"2239683a-e195-4b15-bcab-ceb3f912a306\",\"subtype\":\"Figure\",\"type\":\"Plot\"}},\"id\":\"c48889c6-52cd-40ce-88ae-c3be6d2508be\",\"type\":\"SaveTool\"},{\"attributes\":{\"dimension\":1,\"plot\":{\"id\":\"94d9cd69-ad7e-491c-911e-48d64304a1ac\",\"subtype\":\"Figure\",\"type\":\"Plot\"},\"ticker\":{\"id\":\"1e3a124e-36fc-4e52-810b-ec668256f866\",\"type\":\"BasicTicker\"}},\"id\":\"7ea5c973-f73a-47c8-8b59-c0fd9c8bb224\",\"type\":\"Grid\"},{\"attributes\":{},\"id\":\"51a1efa0-07d1-44fb-928e-85828534e7d4\",\"type\":\"BasicTickFormatter\"},{\"attributes\":{},\"id\":\"aab212ce-5e63-4226-beda-712afe1868f4\",\"type\":\"BasicTickFormatter\"},{\"attributes\":{\"plot\":{\"id\":\"94d9cd69-ad7e-491c-911e-48d64304a1ac\",\"subtype\":\"Figure\",\"type\":\"Plot\"}},\"id\":\"a4fd70a9-f188-4bc3-b465-105a030ec63d\",\"type\":\"PanTool\"},{\"attributes\":{\"fill_alpha\":{\"value\":0.1},\"fill_color\":{\"value\":\"#1f77b4\"},\"line_alpha\":{\"value\":0.1},\"line_color\":{\"value\":\"#1f77b4\"},\"size\":{\"units\":\"screen\",\"value\":13},\"x\":{\"field\":\"x\"},\"y\":{\"field\":\"y\"}},\"id\":\"6a9acb05-4c33-42ef-9009-65e789a4a76c\",\"type\":\"Diamond\"},{\"attributes\":{},\"id\":\"662b5dd2-5015-479f-a936-77e237bfc742\",\"type\":\"BasicTickFormatter\"},{\"attributes\":{},\"id\":\"b6d49ddc-101b-49df-9dfc-c0c778932af4\",\"type\":\"BasicTicker\"},{\"attributes\":{\"below\":[{\"id\":\"3d739bed-da7e-469e-a925-ffc73d816e49\",\"type\":\"LinearAxis\"}],\"left\":[{\"id\":\"c8311e12-6a50-4f6a-aab2-d83e6afef21f\",\"type\":\"LinearAxis\"}],\"plot_height\":250,\"plot_width\":275,\"renderers\":[{\"id\":\"3d739bed-da7e-469e-a925-ffc73d816e49\",\"type\":\"LinearAxis\"},{\"id\":\"66e79c92-6551-477f-99cc-17d01a5b29c3\",\"type\":\"Grid\"},{\"id\":\"c8311e12-6a50-4f6a-aab2-d83e6afef21f\",\"type\":\"LinearAxis\"},{\"id\":\"d3d9effe-ffa9-4ab4-9f44-c198315bb6e2\",\"type\":\"Grid\"},{\"id\":\"40427593-ac72-454c-981c-e2d3d7332caf\",\"type\":\"BoxAnnotation\"},{\"id\":\"3b3fc580-d127-4964-b160-61e2c2d57b36\",\"type\":\"GlyphRenderer\"}],\"title\":{\"id\":\"3d7618ce-3473-4b8f-ab1a-56ff6dde5478\",\"type\":\"Title\"},\"tool_events\":{\"id\":\"bd761280-b959-4f9e-876e-d55d6b6e4562\",\"type\":\"ToolEvents\"},\"toolbar\":{\"id\":\"193f7f39-ec53-4b29-b173-4da1fc01d69e\",\"type\":\"Toolbar\"},\"toolbar_location\":null,\"x_range\":{\"id\":\"3a80ca23-3086-4288-923c-1b99cb201f1c\",\"type\":\"DataRange1d\"},\"y_range\":{\"id\":\"20306edf-33e7-43f6-a07c-c4cd1b02b839\",\"type\":\"DataRange1d\"}},\"id\":\"2239683a-e195-4b15-bcab-ceb3f912a306\",\"subtype\":\"Figure\",\"type\":\"Plot\"},{\"attributes\":{\"plot\":{\"id\":\"94d9cd69-ad7e-491c-911e-48d64304a1ac\",\"subtype\":\"Figure\",\"type\":\"Plot\"}},\"id\":\"f2a0395e-129e-4610-9edb-f4e7caee2603\",\"type\":\"SaveTool\"},{\"attributes\":{\"plot\":{\"id\":\"2239683a-e195-4b15-bcab-ceb3f912a306\",\"subtype\":\"Figure\",\"type\":\"Plot\"}},\"id\":\"f39df3ce-3626-4dd6-9094-6d23a330335a\",\"type\":\"WheelZoomTool\"},{\"attributes\":{\"below\":[{\"id\":\"17241def-59a2-4534-9b0a-786b511f57b6\",\"type\":\"LinearAxis\"}],\"left\":[{\"id\":\"e814fdb6-7c20-4874-b8c5-47e0ccb334ab\",\"type\":\"LinearAxis\"}],\"plot_height\":250,\"plot_width\":275,\"renderers\":[{\"id\":\"17241def-59a2-4534-9b0a-786b511f57b6\",\"type\":\"LinearAxis\"},{\"id\":\"2275508b-671f-46df-8c36-9b0928146069\",\"type\":\"Grid\"},{\"id\":\"e814fdb6-7c20-4874-b8c5-47e0ccb334ab\",\"type\":\"LinearAxis\"},{\"id\":\"743da147-fb1a-44fa-b979-8a0c69060912\",\"type\":\"Grid\"},{\"id\":\"cceab619-53ef-4de0-86a5-632f76c1f96d\",\"type\":\"BoxAnnotation\"},{\"id\":\"16f39b85-e2a3-484c-9cd8-0437a119c261\",\"type\":\"GlyphRenderer\"}],\"title\":{\"id\":\"642ac345-6a85-41a0-a082-1f7e72e44c26\",\"type\":\"Title\"},\"tool_events\":{\"id\":\"8c13950f-f794-4015-befb-35e03317a704\",\"type\":\"ToolEvents\"},\"toolbar\":{\"id\":\"d097d69a-44c8-407c-8a42-acf07ebc910f\",\"type\":\"Toolbar\"},\"toolbar_location\":null,\"x_range\":{\"id\":\"02f307fe-482e-4ea1-ab87-079d5c4f1fae\",\"type\":\"DataRange1d\"},\"y_range\":{\"id\":\"b8097e7d-26cf-4995-82a1-d35169c81d13\",\"type\":\"DataRange1d\"}},\"id\":\"076a51a8-4def-49bb-8db3-5d9b68c834f7\",\"subtype\":\"Figure\",\"type\":\"Plot\"},{\"attributes\":{},\"id\":\"57592afe-d323-4be0-bf86-6255fa5c933e\",\"type\":\"BasicTicker\"},{\"attributes\":{\"plot\":{\"id\":\"94d9cd69-ad7e-491c-911e-48d64304a1ac\",\"subtype\":\"Figure\",\"type\":\"Plot\"}},\"id\":\"463ba812-1033-4ca5-afed-5f058dadaaa2\",\"type\":\"WheelZoomTool\"},{\"attributes\":{\"callback\":null},\"id\":\"20306edf-33e7-43f6-a07c-c4cd1b02b839\",\"type\":\"DataRange1d\"},{\"attributes\":{\"plot\":{\"id\":\"94d9cd69-ad7e-491c-911e-48d64304a1ac\",\"subtype\":\"Figure\",\"type\":\"Plot\"}},\"id\":\"a9f85022-0abf-440c-8790-9b8f52f23210\",\"type\":\"HelpTool\"},{\"attributes\":{\"plot\":null,\"text\":null},\"id\":\"3d7618ce-3473-4b8f-ab1a-56ff6dde5478\",\"type\":\"Title\"},{\"attributes\":{\"data_source\":{\"id\":\"3b146500-b6a6-41c0-ba83-f64a90c40ea8\",\"type\":\"ColumnDataSource\"},\"glyph\":{\"id\":\"d61634b6-59ce-4dfd-9811-c0bf7fc00509\",\"type\":\"Diamond\"},\"hover_glyph\":null,\"nonselection_glyph\":{\"id\":\"6a9acb05-4c33-42ef-9009-65e789a4a76c\",\"type\":\"Diamond\"},\"selection_glyph\":null},\"id\":\"16f39b85-e2a3-484c-9cd8-0437a119c261\",\"type\":\"GlyphRenderer\"},{\"attributes\":{\"fill_alpha\":{\"value\":0.4},\"fill_color\":{\"value\":\"green\"},\"line_alpha\":{\"value\":0.4},\"line_color\":{\"value\":\"green\"},\"size\":{\"units\":\"screen\",\"value\":13},\"x\":{\"field\":\"x\"},\"y\":{\"field\":\"y\"}},\"id\":\"26775db6-9b67-48a9-bf74-e7fd460428fe\",\"type\":\"Circle\"}],\"root_ids\":[\"f88058eb-555f-4ace-aeb3-0dd744af1462\"]},\"title\":\"Bokeh Application\",\"version\":\"0.12.1\"}};\n",
       "            var render_items = [{\"docid\":\"3d2962b5-885f-4eb6-9e23-61959384a7c6\",\"elementid\":\"59d4e864-243b-4d32-a5af-767f00b8028b\",\"modelid\":\"f88058eb-555f-4ace-aeb3-0dd744af1462\",\"notebook_comms_target\":\"2d47f55b-5fc0-4d65-990a-26ff2e7ae35d\"}];\n",
       "            \n",
       "            Bokeh.embed.embed_items(docs_json, render_items);\n",
       "        });\n",
       "      },\n",
       "      function(Bokeh) {\n",
       "      }\n",
       "    ];\n",
       "  \n",
       "    function run_inline_js() {\n",
       "      for (var i = 0; i < inline_js.length; i++) {\n",
       "        inline_js[i](window.Bokeh);\n",
       "      }\n",
       "    }\n",
       "  \n",
       "    if (window._bokeh_is_loading === 0) {\n",
       "      console.log(\"Bokeh: BokehJS loaded, going straight to plotting\");\n",
       "      run_inline_js();\n",
       "    } else {\n",
       "      load_libs(js_urls, function() {\n",
       "        console.log(\"Bokeh: BokehJS plotting callback run at\", now());\n",
       "        run_inline_js();\n",
       "      });\n",
       "    }\n",
       "  }(this));\n",
       "</script>"
      ]
     },
     "metadata": {},
     "output_type": "display_data"
    },
    {
     "data": {
      "text/html": [
       "<p><code>&lt;Bokeh Notebook handle for <strong>In[47]</strong>&gt;</code></p>"
      ],
      "text/plain": [
       "<bokeh.io._CommsHandle at 0x11350df10>"
      ]
     },
     "execution_count": 47,
     "metadata": {},
     "output_type": "execute_result"
    }
   ],
   "source": [
    "p1 = figure(plot_width=275, plot_height=250)\n",
    "p1.circle(x, y0, size=13, color='green', alpha=0.4)\n",
    "\n",
    "p2 = figure(plot_width=275, plot_height=250)\n",
    "p2.diamond(x, y1, size=13, color='red', alpha=0.6)\n",
    "\n",
    "p3 = figure(plot_width=275, plot_height=250)\n",
    "p3.square(x, y2, size=13, color='blue', alpha=0.9)\n",
    "\n",
    "p = gridplot([[p1,p2,p3]])\n",
    "\n",
    "show(p)"
   ]
  },
  {
   "cell_type": "code",
   "execution_count": null,
   "metadata": {
    "collapsed": true
   },
   "outputs": [],
   "source": []
  },
  {
   "cell_type": "code",
   "execution_count": 51,
   "metadata": {
    "collapsed": false
   },
   "outputs": [
    {
     "data": {
      "text/html": [
       "\n",
       "\n",
       "    <div class=\"bk-root\">\n",
       "        <div class=\"plotdiv\" id=\"a739bfa9-81b5-4953-bd69-cb7a96c21ef0\"></div>\n",
       "    </div>\n",
       "<script type=\"text/javascript\">\n",
       "  \n",
       "  (function(global) {\n",
       "    function now() {\n",
       "      return new Date();\n",
       "    }\n",
       "  \n",
       "    var force = \"\";\n",
       "  \n",
       "    if (typeof (window._bokeh_onload_callbacks) === \"undefined\" || force !== \"\") {\n",
       "      window._bokeh_onload_callbacks = [];\n",
       "      window._bokeh_is_loading = undefined;\n",
       "    }\n",
       "  \n",
       "    function run_callbacks() {\n",
       "      window._bokeh_onload_callbacks.forEach(function(callback) { callback() });\n",
       "      delete window._bokeh_onload_callbacks\n",
       "      console.info(\"Bokeh: all callbacks have finished\");\n",
       "    }\n",
       "  \n",
       "    function load_libs(js_urls, callback) {\n",
       "      window._bokeh_onload_callbacks.push(callback);\n",
       "      if (window._bokeh_is_loading > 0) {\n",
       "        console.log(\"Bokeh: BokehJS is being loaded, scheduling callback at\", now());\n",
       "        return null;\n",
       "      }\n",
       "      if (js_urls == null || js_urls.length === 0) {\n",
       "        run_callbacks();\n",
       "        return null;\n",
       "      }\n",
       "      console.log(\"Bokeh: BokehJS not loaded, scheduling load and callback at\", now());\n",
       "      window._bokeh_is_loading = js_urls.length;\n",
       "      for (var i = 0; i < js_urls.length; i++) {\n",
       "        var url = js_urls[i];\n",
       "        var s = document.createElement('script');\n",
       "        s.src = url;\n",
       "        s.async = false;\n",
       "        s.onreadystatechange = s.onload = function() {\n",
       "          window._bokeh_is_loading--;\n",
       "          if (window._bokeh_is_loading === 0) {\n",
       "            console.log(\"Bokeh: all BokehJS libraries loaded\");\n",
       "            run_callbacks()\n",
       "          }\n",
       "        };\n",
       "        s.onerror = function() {\n",
       "          console.warn(\"failed to load library \" + url);\n",
       "        };\n",
       "        console.log(\"Bokeh: injecting script tag for BokehJS library: \", url);\n",
       "        document.getElementsByTagName(\"head\")[0].appendChild(s);\n",
       "      }\n",
       "    };var element = document.getElementById(\"a739bfa9-81b5-4953-bd69-cb7a96c21ef0\");\n",
       "    if (element == null) {\n",
       "      console.log(\"Bokeh: ERROR: autoload.js configured with elementid 'a739bfa9-81b5-4953-bd69-cb7a96c21ef0' but no matching script tag was found. \")\n",
       "      return false;\n",
       "    }\n",
       "  \n",
       "    var js_urls = [];\n",
       "  \n",
       "    var inline_js = [\n",
       "      function(Bokeh) {\n",
       "        Bokeh.$(function() {\n",
       "            var docs_json = {\"10969409-9e30-414d-94c5-a96b698a65c0\":{\"roots\":{\"references\":[{\"attributes\":{\"plot\":{\"id\":\"ec267a88-0ad2-4dcc-9c6a-48a481078644\",\"subtype\":\"Figure\",\"type\":\"Plot\"}},\"id\":\"334e74ae-f2c9-47cd-8dcd-28439091a814\",\"type\":\"HelpTool\"},{\"attributes\":{\"children\":[{\"id\":\"bf40d7ec-9492-4707-87aa-4cd3f5aab230\",\"type\":\"Row\"}]},\"id\":\"5c200d10-1f2e-4a37-94e9-d85ca69bb50f\",\"type\":\"Column\"},{\"attributes\":{},\"id\":\"639f4a39-51eb-4239-9f79-428356ed849f\",\"type\":\"BasicTicker\"},{\"attributes\":{\"fill_alpha\":{\"value\":0.1},\"fill_color\":{\"value\":\"#1f77b4\"},\"line_alpha\":{\"value\":0.1},\"line_color\":{\"value\":\"#1f77b4\"},\"size\":{\"units\":\"screen\",\"value\":13},\"x\":{\"field\":\"x\"},\"y\":{\"field\":\"y\"}},\"id\":\"9a2e8a87-2731-46cd-8095-7d69db503c96\",\"type\":\"Circle\"},{\"attributes\":{\"plot\":{\"id\":\"b6055a5e-41b8-44e2-9763-244f5eed9670\",\"subtype\":\"Figure\",\"type\":\"Plot\"}},\"id\":\"b272b1ee-9f64-40de-b7dc-181d08a6476b\",\"type\":\"ResetTool\"},{\"attributes\":{\"callback\":null},\"id\":\"eab67750-61b7-496a-a21f-d6d62a9cf1d0\",\"type\":\"DataRange1d\"},{\"attributes\":{\"active_drag\":\"auto\",\"active_scroll\":\"auto\",\"active_tap\":\"auto\",\"tools\":[{\"id\":\"6d86fa3f-5678-4e65-8b92-3256a494797d\",\"type\":\"PanTool\"},{\"id\":\"908935f5-78f0-49a9-966e-fd1e450bb2c4\",\"type\":\"WheelZoomTool\"},{\"id\":\"d1144022-2000-4cdd-aaad-7ba4a39824ab\",\"type\":\"BoxZoomTool\"},{\"id\":\"187c1459-d10a-4916-a539-f1c4f1187311\",\"type\":\"SaveTool\"},{\"id\":\"b272b1ee-9f64-40de-b7dc-181d08a6476b\",\"type\":\"ResetTool\"},{\"id\":\"5ae382e2-8799-49b6-a25d-544dbb3ac511\",\"type\":\"HelpTool\"}]},\"id\":\"5b5c4171-614f-4511-a5fc-687bfbd27d18\",\"type\":\"Toolbar\"},{\"attributes\":{},\"id\":\"1b778293-9939-4ac1-ad96-3a94c1ba7284\",\"type\":\"ToolEvents\"},{\"attributes\":{},\"id\":\"a745f851-3ef1-4b52-922d-029d1b24871e\",\"type\":\"BasicTicker\"},{\"attributes\":{\"plot\":{\"id\":\"b6055a5e-41b8-44e2-9763-244f5eed9670\",\"subtype\":\"Figure\",\"type\":\"Plot\"}},\"id\":\"5ae382e2-8799-49b6-a25d-544dbb3ac511\",\"type\":\"HelpTool\"},{\"attributes\":{\"dimension\":1,\"plot\":{\"id\":\"4abe695a-6e75-4317-adff-06c184a59135\",\"subtype\":\"Figure\",\"type\":\"Plot\"},\"ticker\":{\"id\":\"ffa89bbe-2957-4590-aa4d-125f42292575\",\"type\":\"BasicTicker\"}},\"id\":\"1258af9c-dd20-4a57-8002-1b0e986b3009\",\"type\":\"Grid\"},{\"attributes\":{},\"id\":\"0ce67b97-6387-47c1-b8e3-89be03698b34\",\"type\":\"ToolEvents\"},{\"attributes\":{\"plot\":{\"id\":\"ec267a88-0ad2-4dcc-9c6a-48a481078644\",\"subtype\":\"Figure\",\"type\":\"Plot\"}},\"id\":\"52e97707-9b32-44d4-ba1b-00b30329559f\",\"type\":\"ResetTool\"},{\"attributes\":{\"dimension\":1,\"plot\":{\"id\":\"b6055a5e-41b8-44e2-9763-244f5eed9670\",\"subtype\":\"Figure\",\"type\":\"Plot\"},\"ticker\":{\"id\":\"72e6920b-b5df-4e3c-8788-24b43d800459\",\"type\":\"BasicTicker\"}},\"id\":\"e28c8e5a-8f27-4678-91b6-1361f7e07aed\",\"type\":\"Grid\"},{\"attributes\":{\"callback\":null},\"id\":\"1782805a-9308-41af-80d2-f95de80cffeb\",\"type\":\"DataRange1d\"},{\"attributes\":{},\"id\":\"ffa89bbe-2957-4590-aa4d-125f42292575\",\"type\":\"BasicTicker\"},{\"attributes\":{\"fill_alpha\":{\"value\":0.1},\"fill_color\":{\"value\":\"#1f77b4\"},\"line_alpha\":{\"value\":0.1},\"line_color\":{\"value\":\"#1f77b4\"},\"size\":{\"units\":\"screen\",\"value\":13},\"x\":{\"field\":\"x\"},\"y\":{\"field\":\"y\"}},\"id\":\"59903da6-fa1c-405f-8bcc-5968ba489c92\",\"type\":\"Diamond\"},{\"attributes\":{\"plot\":{\"id\":\"4abe695a-6e75-4317-adff-06c184a59135\",\"subtype\":\"Figure\",\"type\":\"Plot\"}},\"id\":\"e6f01052-c039-4b0e-ab56-497aa7e095af\",\"type\":\"PanTool\"},{\"attributes\":{\"fill_alpha\":{\"value\":0.4},\"fill_color\":{\"value\":\"white\"},\"line_alpha\":{\"value\":0.4},\"line_color\":{\"value\":\"green\"},\"size\":{\"units\":\"screen\",\"value\":13},\"x\":{\"field\":\"x\"},\"y\":{\"field\":\"y\"}},\"id\":\"7fe66d10-b53c-4a55-abf6-ccdf2746600d\",\"type\":\"Circle\"},{\"attributes\":{},\"id\":\"68c22899-7666-4436-abd6-f006091d2b2d\",\"type\":\"BasicTicker\"},{\"attributes\":{\"formatter\":{\"id\":\"1f55b7f7-0e55-41b1-a4ea-73f5363e1d82\",\"type\":\"BasicTickFormatter\"},\"plot\":{\"id\":\"ec267a88-0ad2-4dcc-9c6a-48a481078644\",\"subtype\":\"Figure\",\"type\":\"Plot\"},\"ticker\":{\"id\":\"639f4a39-51eb-4239-9f79-428356ed849f\",\"type\":\"BasicTicker\"}},\"id\":\"7dbd7e44-4345-4751-8a80-4f07aac54911\",\"type\":\"LinearAxis\"},{\"attributes\":{\"formatter\":{\"id\":\"f5983205-05bd-4532-b2f0-753fdb4f4eac\",\"type\":\"BasicTickFormatter\"},\"plot\":{\"id\":\"b6055a5e-41b8-44e2-9763-244f5eed9670\",\"subtype\":\"Figure\",\"type\":\"Plot\"},\"ticker\":{\"id\":\"aa1940ca-26f3-49ca-b2aa-d5239c0455fa\",\"type\":\"BasicTicker\"}},\"id\":\"4e3ca9da-5528-45cf-9965-3d4bf44dcefb\",\"type\":\"LinearAxis\"},{\"attributes\":{\"active_drag\":\"auto\",\"active_scroll\":\"auto\",\"active_tap\":\"auto\",\"tools\":[{\"id\":\"e6f01052-c039-4b0e-ab56-497aa7e095af\",\"type\":\"PanTool\"},{\"id\":\"611fc07a-ac6c-4353-9032-ff1f7826de27\",\"type\":\"WheelZoomTool\"},{\"id\":\"0d823d12-0433-4cd3-bd80-d7e31caede54\",\"type\":\"BoxZoomTool\"},{\"id\":\"6f343f44-1209-4a21-8428-3e82fb1e3108\",\"type\":\"SaveTool\"},{\"id\":\"ff85e64e-de90-4c44-9702-bb8d63d28d17\",\"type\":\"ResetTool\"},{\"id\":\"83e4542f-a3ea-4a29-91bd-854c475c786b\",\"type\":\"HelpTool\"}]},\"id\":\"466d90aa-99c8-42d8-af0c-5ece9c158e6c\",\"type\":\"Toolbar\"},{\"attributes\":{\"fill_alpha\":{\"value\":0.9},\"fill_color\":{\"value\":\"yellow\"},\"line_alpha\":{\"value\":0.9},\"line_color\":{\"value\":\"blue\"},\"size\":{\"units\":\"screen\",\"value\":13},\"x\":{\"field\":\"x\"},\"y\":{\"field\":\"y\"}},\"id\":\"28d9e31b-1467-4132-94b7-e8fcb35d1bf4\",\"type\":\"Square\"},{\"attributes\":{\"fill_alpha\":{\"value\":0.1},\"fill_color\":{\"value\":\"#1f77b4\"},\"line_alpha\":{\"value\":0.1},\"line_color\":{\"value\":\"#1f77b4\"},\"size\":{\"units\":\"screen\",\"value\":13},\"x\":{\"field\":\"x\"},\"y\":{\"field\":\"y\"}},\"id\":\"dd7bc6b9-0d31-4df3-838c-feedcaf5fa6e\",\"type\":\"Square\"},{\"attributes\":{\"overlay\":{\"id\":\"471bd5d2-2082-44c0-8507-c9693de87e59\",\"type\":\"BoxAnnotation\"},\"plot\":{\"id\":\"b6055a5e-41b8-44e2-9763-244f5eed9670\",\"subtype\":\"Figure\",\"type\":\"Plot\"}},\"id\":\"d1144022-2000-4cdd-aaad-7ba4a39824ab\",\"type\":\"BoxZoomTool\"},{\"attributes\":{\"below\":[{\"id\":\"4e3ca9da-5528-45cf-9965-3d4bf44dcefb\",\"type\":\"LinearAxis\"}],\"left\":[{\"id\":\"75892a50-3e82-42a0-a498-b1c052d83128\",\"type\":\"LinearAxis\"}],\"plot_height\":250,\"plot_width\":255,\"renderers\":[{\"id\":\"4e3ca9da-5528-45cf-9965-3d4bf44dcefb\",\"type\":\"LinearAxis\"},{\"id\":\"1010f2fa-962a-418d-b05b-8cf7ee4463bc\",\"type\":\"Grid\"},{\"id\":\"75892a50-3e82-42a0-a498-b1c052d83128\",\"type\":\"LinearAxis\"},{\"id\":\"e28c8e5a-8f27-4678-91b6-1361f7e07aed\",\"type\":\"Grid\"},{\"id\":\"471bd5d2-2082-44c0-8507-c9693de87e59\",\"type\":\"BoxAnnotation\"},{\"id\":\"b9a225bf-df09-4014-a162-c82e0b7a2eac\",\"type\":\"GlyphRenderer\"}],\"title\":{\"id\":\"455f49b2-7a89-4f1d-a7da-a97401f12466\",\"type\":\"Title\"},\"tool_events\":{\"id\":\"fe52a587-e02f-4358-9fe0-256e2efe5fd4\",\"type\":\"ToolEvents\"},\"toolbar\":{\"id\":\"5b5c4171-614f-4511-a5fc-687bfbd27d18\",\"type\":\"Toolbar\"},\"toolbar_location\":null,\"x_range\":{\"id\":\"081dba5d-0964-4eca-bc29-ec8fde0985c2\",\"type\":\"DataRange1d\"},\"y_range\":{\"id\":\"525850de-8e30-4625-bf0b-31f4003eaa13\",\"type\":\"DataRange1d\"}},\"id\":\"b6055a5e-41b8-44e2-9763-244f5eed9670\",\"subtype\":\"Figure\",\"type\":\"Plot\"},{\"attributes\":{\"callback\":null,\"column_names\":[\"y\",\"x\"],\"data\":{\"x\":[-3,-4,-2,-6,-9,-8,-11,2,3,1,5,8,3,6,4,11,9],\"y\":[9,16,4,36,81,64,121,4,9,1,25,64,9,36,16,121,81]}},\"id\":\"f75a1270-3e81-483b-b704-d735dbcaedaf\",\"type\":\"ColumnDataSource\"},{\"attributes\":{\"overlay\":{\"id\":\"5089df59-17f2-4327-be33-c659b8969c45\",\"type\":\"BoxAnnotation\"},\"plot\":{\"id\":\"4abe695a-6e75-4317-adff-06c184a59135\",\"subtype\":\"Figure\",\"type\":\"Plot\"}},\"id\":\"0d823d12-0433-4cd3-bd80-d7e31caede54\",\"type\":\"BoxZoomTool\"},{\"attributes\":{\"plot\":null,\"text\":null},\"id\":\"455f49b2-7a89-4f1d-a7da-a97401f12466\",\"type\":\"Title\"},{\"attributes\":{\"dimension\":1,\"plot\":{\"id\":\"ec267a88-0ad2-4dcc-9c6a-48a481078644\",\"subtype\":\"Figure\",\"type\":\"Plot\"},\"ticker\":{\"id\":\"68c22899-7666-4436-abd6-f006091d2b2d\",\"type\":\"BasicTicker\"}},\"id\":\"f9a1608f-7f39-4658-b014-329636afb960\",\"type\":\"Grid\"},{\"attributes\":{\"data_source\":{\"id\":\"d295957e-596a-43c6-a05a-36e36d86347c\",\"type\":\"ColumnDataSource\"},\"glyph\":{\"id\":\"7fe66d10-b53c-4a55-abf6-ccdf2746600d\",\"type\":\"Circle\"},\"hover_glyph\":null,\"nonselection_glyph\":{\"id\":\"9a2e8a87-2731-46cd-8095-7d69db503c96\",\"type\":\"Circle\"},\"selection_glyph\":null},\"id\":\"cba3cda0-e0b6-4006-bf29-dade667707af\",\"type\":\"GlyphRenderer\"},{\"attributes\":{\"plot\":{\"id\":\"b6055a5e-41b8-44e2-9763-244f5eed9670\",\"subtype\":\"Figure\",\"type\":\"Plot\"}},\"id\":\"187c1459-d10a-4916-a539-f1c4f1187311\",\"type\":\"SaveTool\"},{\"attributes\":{\"callback\":null},\"id\":\"c50abad2-4f6f-4978-97fe-4f8ff28a9cd7\",\"type\":\"DataRange1d\"},{\"attributes\":{\"plot\":{\"id\":\"ec267a88-0ad2-4dcc-9c6a-48a481078644\",\"subtype\":\"Figure\",\"type\":\"Plot\"},\"ticker\":{\"id\":\"639f4a39-51eb-4239-9f79-428356ed849f\",\"type\":\"BasicTicker\"}},\"id\":\"66aa8992-1b2a-46d4-a13d-7fcb5fcc5475\",\"type\":\"Grid\"},{\"attributes\":{},\"id\":\"e67c5835-9dfa-4498-a3ad-50faafdd26a9\",\"type\":\"BasicTickFormatter\"},{\"attributes\":{\"overlay\":{\"id\":\"09743a48-6b06-4c40-b1e3-f32cfdaf433a\",\"type\":\"BoxAnnotation\"},\"plot\":{\"id\":\"ec267a88-0ad2-4dcc-9c6a-48a481078644\",\"subtype\":\"Figure\",\"type\":\"Plot\"}},\"id\":\"9c2916fd-fdd8-46e1-993e-a5312ad6f5fd\",\"type\":\"BoxZoomTool\"},{\"attributes\":{\"plot\":{\"id\":\"4abe695a-6e75-4317-adff-06c184a59135\",\"subtype\":\"Figure\",\"type\":\"Plot\"}},\"id\":\"83e4542f-a3ea-4a29-91bd-854c475c786b\",\"type\":\"HelpTool\"},{\"attributes\":{\"active_drag\":\"auto\",\"active_scroll\":\"auto\",\"active_tap\":\"auto\",\"tools\":[{\"id\":\"3632591a-ed69-406e-9c9a-dad08fd9461f\",\"type\":\"PanTool\"},{\"id\":\"783a063d-86bc-4de6-8030-572715d6e0df\",\"type\":\"WheelZoomTool\"},{\"id\":\"9c2916fd-fdd8-46e1-993e-a5312ad6f5fd\",\"type\":\"BoxZoomTool\"},{\"id\":\"af1dc1b6-631f-42f0-acb6-938765972772\",\"type\":\"SaveTool\"},{\"id\":\"52e97707-9b32-44d4-ba1b-00b30329559f\",\"type\":\"ResetTool\"},{\"id\":\"334e74ae-f2c9-47cd-8dcd-28439091a814\",\"type\":\"HelpTool\"}]},\"id\":\"d33a95af-42a4-4984-9053-bea951f84864\",\"type\":\"Toolbar\"},{\"attributes\":{\"plot\":{\"id\":\"b6055a5e-41b8-44e2-9763-244f5eed9670\",\"subtype\":\"Figure\",\"type\":\"Plot\"}},\"id\":\"908935f5-78f0-49a9-966e-fd1e450bb2c4\",\"type\":\"WheelZoomTool\"},{\"attributes\":{\"bottom_units\":\"screen\",\"fill_alpha\":{\"value\":0.5},\"fill_color\":{\"value\":\"lightgrey\"},\"left_units\":\"screen\",\"level\":\"overlay\",\"line_alpha\":{\"value\":1.0},\"line_color\":{\"value\":\"black\"},\"line_dash\":[4,4],\"line_width\":{\"value\":2},\"plot\":null,\"render_mode\":\"css\",\"right_units\":\"screen\",\"top_units\":\"screen\"},\"id\":\"09743a48-6b06-4c40-b1e3-f32cfdaf433a\",\"type\":\"BoxAnnotation\"},{\"attributes\":{},\"id\":\"98616202-81d0-4386-961c-62427d959275\",\"type\":\"BasicTickFormatter\"},{\"attributes\":{\"plot\":{\"id\":\"4abe695a-6e75-4317-adff-06c184a59135\",\"subtype\":\"Figure\",\"type\":\"Plot\"}},\"id\":\"6f343f44-1209-4a21-8428-3e82fb1e3108\",\"type\":\"SaveTool\"},{\"attributes\":{\"bottom_units\":\"screen\",\"fill_alpha\":{\"value\":0.5},\"fill_color\":{\"value\":\"lightgrey\"},\"left_units\":\"screen\",\"level\":\"overlay\",\"line_alpha\":{\"value\":1.0},\"line_color\":{\"value\":\"black\"},\"line_dash\":[4,4],\"line_width\":{\"value\":2},\"plot\":null,\"render_mode\":\"css\",\"right_units\":\"screen\",\"top_units\":\"screen\"},\"id\":\"5089df59-17f2-4327-be33-c659b8969c45\",\"type\":\"BoxAnnotation\"},{\"attributes\":{\"callback\":null},\"id\":\"081dba5d-0964-4eca-bc29-ec8fde0985c2\",\"type\":\"DataRange1d\"},{\"attributes\":{\"below\":[{\"id\":\"7dbd7e44-4345-4751-8a80-4f07aac54911\",\"type\":\"LinearAxis\"}],\"left\":[{\"id\":\"d975ab7b-0a41-4402-a60e-0d7290e8be6d\",\"type\":\"LinearAxis\"}],\"plot_height\":250,\"plot_width\":255,\"renderers\":[{\"id\":\"7dbd7e44-4345-4751-8a80-4f07aac54911\",\"type\":\"LinearAxis\"},{\"id\":\"66aa8992-1b2a-46d4-a13d-7fcb5fcc5475\",\"type\":\"Grid\"},{\"id\":\"d975ab7b-0a41-4402-a60e-0d7290e8be6d\",\"type\":\"LinearAxis\"},{\"id\":\"f9a1608f-7f39-4658-b014-329636afb960\",\"type\":\"Grid\"},{\"id\":\"09743a48-6b06-4c40-b1e3-f32cfdaf433a\",\"type\":\"BoxAnnotation\"},{\"id\":\"cba3cda0-e0b6-4006-bf29-dade667707af\",\"type\":\"GlyphRenderer\"}],\"title\":{\"id\":\"1476bd80-1090-40c6-bd1e-2a0e74a968af\",\"type\":\"Title\"},\"tool_events\":{\"id\":\"1b778293-9939-4ac1-ad96-3a94c1ba7284\",\"type\":\"ToolEvents\"},\"toolbar\":{\"id\":\"d33a95af-42a4-4984-9053-bea951f84864\",\"type\":\"Toolbar\"},\"toolbar_location\":null,\"x_range\":{\"id\":\"1782805a-9308-41af-80d2-f95de80cffeb\",\"type\":\"DataRange1d\"},\"y_range\":{\"id\":\"eab67750-61b7-496a-a21f-d6d62a9cf1d0\",\"type\":\"DataRange1d\"}},\"id\":\"ec267a88-0ad2-4dcc-9c6a-48a481078644\",\"subtype\":\"Figure\",\"type\":\"Plot\"},{\"attributes\":{\"callback\":null},\"id\":\"525850de-8e30-4625-bf0b-31f4003eaa13\",\"type\":\"DataRange1d\"},{\"attributes\":{\"formatter\":{\"id\":\"e67c5835-9dfa-4498-a3ad-50faafdd26a9\",\"type\":\"BasicTickFormatter\"},\"plot\":{\"id\":\"b6055a5e-41b8-44e2-9763-244f5eed9670\",\"subtype\":\"Figure\",\"type\":\"Plot\"},\"ticker\":{\"id\":\"72e6920b-b5df-4e3c-8788-24b43d800459\",\"type\":\"BasicTicker\"}},\"id\":\"75892a50-3e82-42a0-a498-b1c052d83128\",\"type\":\"LinearAxis\"},{\"attributes\":{},\"id\":\"fe52a587-e02f-4358-9fe0-256e2efe5fd4\",\"type\":\"ToolEvents\"},{\"attributes\":{},\"id\":\"aa1940ca-26f3-49ca-b2aa-d5239c0455fa\",\"type\":\"BasicTicker\"},{\"attributes\":{\"callback\":null,\"column_names\":[\"y\",\"x\"],\"data\":{\"x\":[-3,-4,-2,-6,-9,-8,-11,2,3,1,5,8,3,6,4,11,9],\"y\":[-1.5,-2.0,-1.0,-3.0,-4.5,-4.0,-5.5,1.0,1.5,0.5,2.5,4.0,1.5,3.0,2.0,5.5,4.5]}},\"id\":\"d295957e-596a-43c6-a05a-36e36d86347c\",\"type\":\"ColumnDataSource\"},{\"attributes\":{\"formatter\":{\"id\":\"b28fca6c-deae-4629-b0fd-a358579a2427\",\"type\":\"BasicTickFormatter\"},\"plot\":{\"id\":\"4abe695a-6e75-4317-adff-06c184a59135\",\"subtype\":\"Figure\",\"type\":\"Plot\"},\"ticker\":{\"id\":\"ffa89bbe-2957-4590-aa4d-125f42292575\",\"type\":\"BasicTicker\"}},\"id\":\"4fb94ce5-2129-4c19-94d5-edafb2f92b81\",\"type\":\"LinearAxis\"},{\"attributes\":{\"fill_alpha\":{\"value\":0.6},\"line_alpha\":{\"value\":0.6},\"line_color\":{\"value\":\"red\"},\"size\":{\"units\":\"screen\",\"value\":13},\"x\":{\"field\":\"x\"},\"y\":{\"field\":\"y\"}},\"id\":\"f6fcaa5c-6218-4d17-ac8d-04739e588e97\",\"type\":\"Diamond\"},{\"attributes\":{\"plot\":null,\"text\":null},\"id\":\"1476bd80-1090-40c6-bd1e-2a0e74a968af\",\"type\":\"Title\"},{\"attributes\":{\"below\":[{\"id\":\"52affb89-b5c2-43cc-bdcf-c2c9dfe55ad2\",\"type\":\"LinearAxis\"}],\"left\":[{\"id\":\"4fb94ce5-2129-4c19-94d5-edafb2f92b81\",\"type\":\"LinearAxis\"}],\"plot_height\":250,\"plot_width\":255,\"renderers\":[{\"id\":\"52affb89-b5c2-43cc-bdcf-c2c9dfe55ad2\",\"type\":\"LinearAxis\"},{\"id\":\"b4f991da-a0b3-4184-964c-84699cb25033\",\"type\":\"Grid\"},{\"id\":\"4fb94ce5-2129-4c19-94d5-edafb2f92b81\",\"type\":\"LinearAxis\"},{\"id\":\"1258af9c-dd20-4a57-8002-1b0e986b3009\",\"type\":\"Grid\"},{\"id\":\"5089df59-17f2-4327-be33-c659b8969c45\",\"type\":\"BoxAnnotation\"},{\"id\":\"0814f05a-bcc1-4fa2-af44-893293cb042a\",\"type\":\"GlyphRenderer\"}],\"title\":{\"id\":\"38f9ee17-d3d6-493b-a86d-f652e5604a9e\",\"type\":\"Title\"},\"tool_events\":{\"id\":\"0ce67b97-6387-47c1-b8e3-89be03698b34\",\"type\":\"ToolEvents\"},\"toolbar\":{\"id\":\"466d90aa-99c8-42d8-af0c-5ece9c158e6c\",\"type\":\"Toolbar\"},\"toolbar_location\":null,\"x_range\":{\"id\":\"b6a7a027-11ae-4a78-8aea-e5c747061e56\",\"type\":\"DataRange1d\"},\"y_range\":{\"id\":\"c50abad2-4f6f-4978-97fe-4f8ff28a9cd7\",\"type\":\"DataRange1d\"}},\"id\":\"4abe695a-6e75-4317-adff-06c184a59135\",\"subtype\":\"Figure\",\"type\":\"Plot\"},{\"attributes\":{\"callback\":null},\"id\":\"b6a7a027-11ae-4a78-8aea-e5c747061e56\",\"type\":\"DataRange1d\"},{\"attributes\":{\"plot\":{\"id\":\"ec267a88-0ad2-4dcc-9c6a-48a481078644\",\"subtype\":\"Figure\",\"type\":\"Plot\"}},\"id\":\"af1dc1b6-631f-42f0-acb6-938765972772\",\"type\":\"SaveTool\"},{\"attributes\":{\"plot\":{\"id\":\"ec267a88-0ad2-4dcc-9c6a-48a481078644\",\"subtype\":\"Figure\",\"type\":\"Plot\"}},\"id\":\"783a063d-86bc-4de6-8030-572715d6e0df\",\"type\":\"WheelZoomTool\"},{\"attributes\":{\"children\":[{\"id\":\"ec267a88-0ad2-4dcc-9c6a-48a481078644\",\"subtype\":\"Figure\",\"type\":\"Plot\"},{\"id\":\"4abe695a-6e75-4317-adff-06c184a59135\",\"subtype\":\"Figure\",\"type\":\"Plot\"},{\"id\":\"b6055a5e-41b8-44e2-9763-244f5eed9670\",\"subtype\":\"Figure\",\"type\":\"Plot\"}]},\"id\":\"bf40d7ec-9492-4707-87aa-4cd3f5aab230\",\"type\":\"Row\"},{\"attributes\":{\"callback\":null,\"column_names\":[\"y\",\"x\"],\"data\":{\"x\":[-3,-4,-2,-6,-9,-8,-11,2,3,1,5,8,3,6,4,11,9],\"y\":[-27,-64,-8,-216,-729,-512,-1331,8,27,1,125,512,27,216,64,1331,729]}},\"id\":\"08a39f12-92dd-4ffe-9f77-2a7c0c82a224\",\"type\":\"ColumnDataSource\"},{\"attributes\":{},\"id\":\"72e6920b-b5df-4e3c-8788-24b43d800459\",\"type\":\"BasicTicker\"},{\"attributes\":{\"plot\":null,\"text\":null},\"id\":\"38f9ee17-d3d6-493b-a86d-f652e5604a9e\",\"type\":\"Title\"},{\"attributes\":{},\"id\":\"981080e6-2292-46a8-8dcf-1ff94b56c957\",\"type\":\"BasicTickFormatter\"},{\"attributes\":{\"formatter\":{\"id\":\"981080e6-2292-46a8-8dcf-1ff94b56c957\",\"type\":\"BasicTickFormatter\"},\"plot\":{\"id\":\"4abe695a-6e75-4317-adff-06c184a59135\",\"subtype\":\"Figure\",\"type\":\"Plot\"},\"ticker\":{\"id\":\"a745f851-3ef1-4b52-922d-029d1b24871e\",\"type\":\"BasicTicker\"}},\"id\":\"52affb89-b5c2-43cc-bdcf-c2c9dfe55ad2\",\"type\":\"LinearAxis\"},{\"attributes\":{\"data_source\":{\"id\":\"08a39f12-92dd-4ffe-9f77-2a7c0c82a224\",\"type\":\"ColumnDataSource\"},\"glyph\":{\"id\":\"28d9e31b-1467-4132-94b7-e8fcb35d1bf4\",\"type\":\"Square\"},\"hover_glyph\":null,\"nonselection_glyph\":{\"id\":\"dd7bc6b9-0d31-4df3-838c-feedcaf5fa6e\",\"type\":\"Square\"},\"selection_glyph\":null},\"id\":\"b9a225bf-df09-4014-a162-c82e0b7a2eac\",\"type\":\"GlyphRenderer\"},{\"attributes\":{\"formatter\":{\"id\":\"98616202-81d0-4386-961c-62427d959275\",\"type\":\"BasicTickFormatter\"},\"plot\":{\"id\":\"ec267a88-0ad2-4dcc-9c6a-48a481078644\",\"subtype\":\"Figure\",\"type\":\"Plot\"},\"ticker\":{\"id\":\"68c22899-7666-4436-abd6-f006091d2b2d\",\"type\":\"BasicTicker\"}},\"id\":\"d975ab7b-0a41-4402-a60e-0d7290e8be6d\",\"type\":\"LinearAxis\"},{\"attributes\":{\"plot\":{\"id\":\"b6055a5e-41b8-44e2-9763-244f5eed9670\",\"subtype\":\"Figure\",\"type\":\"Plot\"},\"ticker\":{\"id\":\"aa1940ca-26f3-49ca-b2aa-d5239c0455fa\",\"type\":\"BasicTicker\"}},\"id\":\"1010f2fa-962a-418d-b05b-8cf7ee4463bc\",\"type\":\"Grid\"},{\"attributes\":{},\"id\":\"f5983205-05bd-4532-b2f0-753fdb4f4eac\",\"type\":\"BasicTickFormatter\"},{\"attributes\":{\"plot\":{\"id\":\"4abe695a-6e75-4317-adff-06c184a59135\",\"subtype\":\"Figure\",\"type\":\"Plot\"},\"ticker\":{\"id\":\"a745f851-3ef1-4b52-922d-029d1b24871e\",\"type\":\"BasicTicker\"}},\"id\":\"b4f991da-a0b3-4184-964c-84699cb25033\",\"type\":\"Grid\"},{\"attributes\":{\"plot\":{\"id\":\"ec267a88-0ad2-4dcc-9c6a-48a481078644\",\"subtype\":\"Figure\",\"type\":\"Plot\"}},\"id\":\"3632591a-ed69-406e-9c9a-dad08fd9461f\",\"type\":\"PanTool\"},{\"attributes\":{\"plot\":{\"id\":\"4abe695a-6e75-4317-adff-06c184a59135\",\"subtype\":\"Figure\",\"type\":\"Plot\"}},\"id\":\"ff85e64e-de90-4c44-9702-bb8d63d28d17\",\"type\":\"ResetTool\"},{\"attributes\":{},\"id\":\"b28fca6c-deae-4629-b0fd-a358579a2427\",\"type\":\"BasicTickFormatter\"},{\"attributes\":{\"data_source\":{\"id\":\"f75a1270-3e81-483b-b704-d735dbcaedaf\",\"type\":\"ColumnDataSource\"},\"glyph\":{\"id\":\"f6fcaa5c-6218-4d17-ac8d-04739e588e97\",\"type\":\"Diamond\"},\"hover_glyph\":null,\"nonselection_glyph\":{\"id\":\"59903da6-fa1c-405f-8bcc-5968ba489c92\",\"type\":\"Diamond\"},\"selection_glyph\":null},\"id\":\"0814f05a-bcc1-4fa2-af44-893293cb042a\",\"type\":\"GlyphRenderer\"},{\"attributes\":{\"plot\":{\"id\":\"b6055a5e-41b8-44e2-9763-244f5eed9670\",\"subtype\":\"Figure\",\"type\":\"Plot\"}},\"id\":\"6d86fa3f-5678-4e65-8b92-3256a494797d\",\"type\":\"PanTool\"},{\"attributes\":{},\"id\":\"1f55b7f7-0e55-41b1-a4ea-73f5363e1d82\",\"type\":\"BasicTickFormatter\"},{\"attributes\":{\"plot\":{\"id\":\"4abe695a-6e75-4317-adff-06c184a59135\",\"subtype\":\"Figure\",\"type\":\"Plot\"}},\"id\":\"611fc07a-ac6c-4353-9032-ff1f7826de27\",\"type\":\"WheelZoomTool\"},{\"attributes\":{\"bottom_units\":\"screen\",\"fill_alpha\":{\"value\":0.5},\"fill_color\":{\"value\":\"lightgrey\"},\"left_units\":\"screen\",\"level\":\"overlay\",\"line_alpha\":{\"value\":1.0},\"line_color\":{\"value\":\"black\"},\"line_dash\":[4,4],\"line_width\":{\"value\":2},\"plot\":null,\"render_mode\":\"css\",\"right_units\":\"screen\",\"top_units\":\"screen\"},\"id\":\"471bd5d2-2082-44c0-8507-c9693de87e59\",\"type\":\"BoxAnnotation\"}],\"root_ids\":[\"5c200d10-1f2e-4a37-94e9-d85ca69bb50f\"]},\"title\":\"Bokeh Application\",\"version\":\"0.12.1\"}};\n",
       "            var render_items = [{\"docid\":\"10969409-9e30-414d-94c5-a96b698a65c0\",\"elementid\":\"a739bfa9-81b5-4953-bd69-cb7a96c21ef0\",\"modelid\":\"5c200d10-1f2e-4a37-94e9-d85ca69bb50f\",\"notebook_comms_target\":\"8b90fc30-b7ab-4b49-bfa0-e65885bb4f5e\"}];\n",
       "            \n",
       "            Bokeh.embed.embed_items(docs_json, render_items);\n",
       "        });\n",
       "      },\n",
       "      function(Bokeh) {\n",
       "      }\n",
       "    ];\n",
       "  \n",
       "    function run_inline_js() {\n",
       "      for (var i = 0; i < inline_js.length; i++) {\n",
       "        inline_js[i](window.Bokeh);\n",
       "      }\n",
       "    }\n",
       "  \n",
       "    if (window._bokeh_is_loading === 0) {\n",
       "      console.log(\"Bokeh: BokehJS loaded, going straight to plotting\");\n",
       "      run_inline_js();\n",
       "    } else {\n",
       "      load_libs(js_urls, function() {\n",
       "        console.log(\"Bokeh: BokehJS plotting callback run at\", now());\n",
       "        run_inline_js();\n",
       "      });\n",
       "    }\n",
       "  }(this));\n",
       "</script>"
      ]
     },
     "metadata": {},
     "output_type": "display_data"
    },
    {
     "data": {
      "text/html": [
       "<p><code>&lt;Bokeh Notebook handle for <strong>In[51]</strong>&gt;</code></p>"
      ],
      "text/plain": [
       "<bokeh.io._CommsHandle at 0x113a13a10>"
      ]
     },
     "execution_count": 51,
     "metadata": {},
     "output_type": "execute_result"
    }
   ],
   "source": [
    "p1 = figure(plot_width=255, plot_height=250)\n",
    "p1.circle(x, y0, size=13, color='green',fill_color='white', alpha=0.4)\n",
    "\n",
    "p2 = figure(plot_width=255, plot_height=250)\n",
    "p2.diamond(x, y1, size=13, color='red', fill_color='gray', alpha=0.6)\n",
    "\n",
    "p3 = figure(plot_width=255, plot_height=250)\n",
    "p3.square(x, y2, size=13, color='blue', fill_color='yellow', alpha=0.9)\n",
    "\n",
    "p = gridplot([[p1,p2,p3]], toolbar_location=None)\n",
    "\n",
    "show(p)"
   ]
  },
  {
   "cell_type": "code",
   "execution_count": null,
   "metadata": {
    "collapsed": true
   },
   "outputs": [],
   "source": []
  },
  {
   "cell_type": "markdown",
   "metadata": {},
   "source": [
    "# Linking plots - link panning and link brushing"
   ]
  },
  {
   "cell_type": "code",
   "execution_count": 53,
   "metadata": {
    "collapsed": true
   },
   "outputs": [],
   "source": [
    "from bokeh.io import output_notebook, show\n",
    "from bokeh.plotting import figure\n",
    "from bokeh.layouts import gridplot"
   ]
  },
  {
   "cell_type": "code",
   "execution_count": 54,
   "metadata": {
    "collapsed": false
   },
   "outputs": [
    {
     "data": {
      "text/html": [
       "\n",
       "    <div class=\"bk-root\">\n",
       "        <a href=\"http://bokeh.pydata.org\" target=\"_blank\" class=\"bk-logo bk-logo-small bk-logo-notebook\"></a>\n",
       "        <span id=\"a7adaabc-34e9-4d85-a450-bc50921d62c6\">Loading BokehJS ...</span>\n",
       "    </div>"
      ]
     },
     "metadata": {},
     "output_type": "display_data"
    },
    {
     "data": {
      "application/javascript": [
       "\n",
       "(function(global) {\n",
       "  function now() {\n",
       "    return new Date();\n",
       "  }\n",
       "\n",
       "  var force = \"1\";\n",
       "\n",
       "  if (typeof (window._bokeh_onload_callbacks) === \"undefined\" || force !== \"\") {\n",
       "    window._bokeh_onload_callbacks = [];\n",
       "    window._bokeh_is_loading = undefined;\n",
       "  }\n",
       "\n",
       "  function run_callbacks() {\n",
       "    window._bokeh_onload_callbacks.forEach(function(callback) { callback() });\n",
       "    delete window._bokeh_onload_callbacks\n",
       "    console.info(\"Bokeh: all callbacks have finished\");\n",
       "  }\n",
       "\n",
       "  function load_libs(js_urls, callback) {\n",
       "    window._bokeh_onload_callbacks.push(callback);\n",
       "    if (window._bokeh_is_loading > 0) {\n",
       "      console.log(\"Bokeh: BokehJS is being loaded, scheduling callback at\", now());\n",
       "      return null;\n",
       "    }\n",
       "    if (js_urls == null || js_urls.length === 0) {\n",
       "      run_callbacks();\n",
       "      return null;\n",
       "    }\n",
       "    console.log(\"Bokeh: BokehJS not loaded, scheduling load and callback at\", now());\n",
       "    window._bokeh_is_loading = js_urls.length;\n",
       "    for (var i = 0; i < js_urls.length; i++) {\n",
       "      var url = js_urls[i];\n",
       "      var s = document.createElement('script');\n",
       "      s.src = url;\n",
       "      s.async = false;\n",
       "      s.onreadystatechange = s.onload = function() {\n",
       "        window._bokeh_is_loading--;\n",
       "        if (window._bokeh_is_loading === 0) {\n",
       "          console.log(\"Bokeh: all BokehJS libraries loaded\");\n",
       "          run_callbacks()\n",
       "        }\n",
       "      };\n",
       "      s.onerror = function() {\n",
       "        console.warn(\"failed to load library \" + url);\n",
       "      };\n",
       "      console.log(\"Bokeh: injecting script tag for BokehJS library: \", url);\n",
       "      document.getElementsByTagName(\"head\")[0].appendChild(s);\n",
       "    }\n",
       "  };\n",
       "\n",
       "  var js_urls = ['https://cdn.pydata.org/bokeh/release/bokeh-0.12.1.min.js', 'https://cdn.pydata.org/bokeh/release/bokeh-widgets-0.12.1.min.js', 'https://cdn.pydata.org/bokeh/release/bokeh-compiler-0.12.1.min.js'];\n",
       "\n",
       "  var inline_js = [\n",
       "    function(Bokeh) {\n",
       "      Bokeh.set_log_level(\"info\");\n",
       "    },\n",
       "    \n",
       "    function(Bokeh) {\n",
       "      \n",
       "      Bokeh.$(\"#a7adaabc-34e9-4d85-a450-bc50921d62c6\").text(\"BokehJS successfully loaded\");\n",
       "      var kernel = Jupyter.notebook.kernel\n",
       "      if (kernel.execute !== undefined) {\n",
       "          kernel.execute(\"import bokeh.io; bokeh.io._nb_loaded = True\");\n",
       "      }\n",
       "    },\n",
       "    function(Bokeh) {\n",
       "      console.log(\"Bokeh: injecting CSS: https://cdn.pydata.org/bokeh/release/bokeh-0.12.1.min.css\");\n",
       "      Bokeh.embed.inject_css(\"https://cdn.pydata.org/bokeh/release/bokeh-0.12.1.min.css\");\n",
       "      console.log(\"Bokeh: injecting CSS: https://cdn.pydata.org/bokeh/release/bokeh-widgets-0.12.1.min.css\");\n",
       "      Bokeh.embed.inject_css(\"https://cdn.pydata.org/bokeh/release/bokeh-widgets-0.12.1.min.css\");\n",
       "    }\n",
       "  ];\n",
       "\n",
       "  function run_inline_js() {\n",
       "    for (var i = 0; i < inline_js.length; i++) {\n",
       "      inline_js[i](window.Bokeh);\n",
       "    }\n",
       "  }\n",
       "\n",
       "  if (window._bokeh_is_loading === 0) {\n",
       "    console.log(\"Bokeh: BokehJS loaded, going straight to plotting\");\n",
       "    run_inline_js();\n",
       "  } else {\n",
       "    load_libs(js_urls, function() {\n",
       "      console.log(\"Bokeh: BokehJS plotting callback run at\", now());\n",
       "      run_inline_js();\n",
       "    });\n",
       "  }\n",
       "}(this));"
      ]
     },
     "metadata": {},
     "output_type": "display_data"
    }
   ],
   "source": [
    "output_notebook()"
   ]
  },
  {
   "cell_type": "code",
   "execution_count": 55,
   "metadata": {
    "collapsed": true
   },
   "outputs": [],
   "source": [
    "x = [-3,-4,-2,-6,-9,-8,-11,2,3,1,5,8,3,6,4,11,9]"
   ]
  },
  {
   "cell_type": "code",
   "execution_count": 56,
   "metadata": {
    "collapsed": true
   },
   "outputs": [],
   "source": [
    "y0 = [i*0.5 for i in x]\n",
    "y1 = [i**2 for i in x]\n",
    "y2 = [i**3 for i in x]"
   ]
  },
  {
   "cell_type": "code",
   "execution_count": 57,
   "metadata": {
    "collapsed": false
   },
   "outputs": [
    {
     "data": {
      "text/html": [
       "\n",
       "\n",
       "    <div class=\"bk-root\">\n",
       "        <div class=\"plotdiv\" id=\"208dbd7d-3bb9-4336-a80b-75c31e500983\"></div>\n",
       "    </div>\n",
       "<script type=\"text/javascript\">\n",
       "  \n",
       "  (function(global) {\n",
       "    function now() {\n",
       "      return new Date();\n",
       "    }\n",
       "  \n",
       "    var force = \"\";\n",
       "  \n",
       "    if (typeof (window._bokeh_onload_callbacks) === \"undefined\" || force !== \"\") {\n",
       "      window._bokeh_onload_callbacks = [];\n",
       "      window._bokeh_is_loading = undefined;\n",
       "    }\n",
       "  \n",
       "    function run_callbacks() {\n",
       "      window._bokeh_onload_callbacks.forEach(function(callback) { callback() });\n",
       "      delete window._bokeh_onload_callbacks\n",
       "      console.info(\"Bokeh: all callbacks have finished\");\n",
       "    }\n",
       "  \n",
       "    function load_libs(js_urls, callback) {\n",
       "      window._bokeh_onload_callbacks.push(callback);\n",
       "      if (window._bokeh_is_loading > 0) {\n",
       "        console.log(\"Bokeh: BokehJS is being loaded, scheduling callback at\", now());\n",
       "        return null;\n",
       "      }\n",
       "      if (js_urls == null || js_urls.length === 0) {\n",
       "        run_callbacks();\n",
       "        return null;\n",
       "      }\n",
       "      console.log(\"Bokeh: BokehJS not loaded, scheduling load and callback at\", now());\n",
       "      window._bokeh_is_loading = js_urls.length;\n",
       "      for (var i = 0; i < js_urls.length; i++) {\n",
       "        var url = js_urls[i];\n",
       "        var s = document.createElement('script');\n",
       "        s.src = url;\n",
       "        s.async = false;\n",
       "        s.onreadystatechange = s.onload = function() {\n",
       "          window._bokeh_is_loading--;\n",
       "          if (window._bokeh_is_loading === 0) {\n",
       "            console.log(\"Bokeh: all BokehJS libraries loaded\");\n",
       "            run_callbacks()\n",
       "          }\n",
       "        };\n",
       "        s.onerror = function() {\n",
       "          console.warn(\"failed to load library \" + url);\n",
       "        };\n",
       "        console.log(\"Bokeh: injecting script tag for BokehJS library: \", url);\n",
       "        document.getElementsByTagName(\"head\")[0].appendChild(s);\n",
       "      }\n",
       "    };var element = document.getElementById(\"208dbd7d-3bb9-4336-a80b-75c31e500983\");\n",
       "    if (element == null) {\n",
       "      console.log(\"Bokeh: ERROR: autoload.js configured with elementid '208dbd7d-3bb9-4336-a80b-75c31e500983' but no matching script tag was found. \")\n",
       "      return false;\n",
       "    }\n",
       "  \n",
       "    var js_urls = [];\n",
       "  \n",
       "    var inline_js = [\n",
       "      function(Bokeh) {\n",
       "        Bokeh.$(function() {\n",
       "            var docs_json = {\"3dc1ece9-b000-44ce-93e9-e31124799058\":{\"roots\":{\"references\":[{\"attributes\":{\"children\":[{\"id\":\"0deb67db-aae9-4788-b8f3-875a0b4afc97\",\"type\":\"ToolbarBox\"},{\"id\":\"4531b4f2-37ae-411a-bc89-bdbc240cb766\",\"type\":\"Column\"}]},\"id\":\"821b2229-43ab-49c7-9f1f-43a6b09d2413\",\"type\":\"Column\"},{\"attributes\":{},\"id\":\"2cf6d5a9-3e6d-416d-8e62-8383cb3ed052\",\"type\":\"BasicTickFormatter\"},{\"attributes\":{},\"id\":\"dd31b6ee-3896-45cb-b5fc-c00b6e02cd4b\",\"type\":\"BasicTickFormatter\"},{\"attributes\":{\"children\":[{\"id\":\"0d618d3b-54d5-4873-b2a2-3c4cc2922d23\",\"subtype\":\"Figure\",\"type\":\"Plot\"},{\"id\":\"ac2db45d-b81b-44d8-ae3f-e8ecefd18b0e\",\"subtype\":\"Figure\",\"type\":\"Plot\"},{\"id\":\"9a2c54d6-45db-4318-ae1b-1dde9ed7e3e4\",\"subtype\":\"Figure\",\"type\":\"Plot\"}]},\"id\":\"876e8a48-7dfe-4102-9164-7592797d594b\",\"type\":\"Row\"},{\"attributes\":{\"formatter\":{\"id\":\"9db55490-e282-4f60-b3db-6e00ce3100d5\",\"type\":\"BasicTickFormatter\"},\"plot\":{\"id\":\"9a2c54d6-45db-4318-ae1b-1dde9ed7e3e4\",\"subtype\":\"Figure\",\"type\":\"Plot\"},\"ticker\":{\"id\":\"5fb4bc5e-1803-49f6-a2ed-1d82b91fac11\",\"type\":\"BasicTicker\"}},\"id\":\"da490c1d-ee41-48d4-b9d9-e4f80be1d7ed\",\"type\":\"LinearAxis\"},{\"attributes\":{\"fill_alpha\":{\"value\":0.1},\"fill_color\":{\"value\":\"#1f77b4\"},\"line_alpha\":{\"value\":0.1},\"line_color\":{\"value\":\"#1f77b4\"},\"size\":{\"units\":\"screen\",\"value\":13},\"x\":{\"field\":\"x\"},\"y\":{\"field\":\"y\"}},\"id\":\"3b456dc6-46ff-4838-95fd-570efbcaeaae\",\"type\":\"Diamond\"},{\"attributes\":{\"callback\":null},\"id\":\"d0e51bff-0870-4de3-aa64-42fbcaddbf07\",\"type\":\"DataRange1d\"},{\"attributes\":{\"data_source\":{\"id\":\"f98befa8-4082-418f-93f7-d2d564fd11b9\",\"type\":\"ColumnDataSource\"},\"glyph\":{\"id\":\"cb7be57b-a5b6-4f5c-af1a-510c03ab9eef\",\"type\":\"Circle\"},\"hover_glyph\":null,\"nonselection_glyph\":{\"id\":\"6d007a70-e21c-4c32-ba8e-31d9ce38445c\",\"type\":\"Circle\"},\"selection_glyph\":null},\"id\":\"c4c1574a-98c9-4a60-81b9-1d3bd3b0812d\",\"type\":\"GlyphRenderer\"},{\"attributes\":{\"plot\":{\"id\":\"ac2db45d-b81b-44d8-ae3f-e8ecefd18b0e\",\"subtype\":\"Figure\",\"type\":\"Plot\"}},\"id\":\"3c28cb6e-c951-4495-a52a-c644b3d8a5d4\",\"type\":\"SaveTool\"},{\"attributes\":{\"callback\":null,\"column_names\":[\"y\",\"x\"],\"data\":{\"x\":[-3,-4,-2,-6,-9,-8,-11,2,3,1,5,8,3,6,4,11,9],\"y\":[9,16,4,36,81,64,121,4,9,1,25,64,9,36,16,121,81]}},\"id\":\"369b1a10-2905-4f5e-a38a-9bf059201e2a\",\"type\":\"ColumnDataSource\"},{\"attributes\":{\"fill_color\":{\"value\":\"orange\"},\"line_color\":{\"value\":\"red\"},\"size\":{\"units\":\"screen\",\"value\":13},\"x\":{\"field\":\"x\"},\"y\":{\"field\":\"y\"}},\"id\":\"ac540c92-e53f-4afe-aaeb-d7efbd43fa3e\",\"type\":\"Diamond\"},{\"attributes\":{\"fill_alpha\":{\"value\":0.5},\"fill_color\":{\"value\":\"yellow\"},\"line_alpha\":{\"value\":0.5},\"line_color\":{\"value\":\"green\"},\"size\":{\"units\":\"screen\",\"value\":13},\"x\":{\"field\":\"x\"},\"y\":{\"field\":\"y\"}},\"id\":\"cb7be57b-a5b6-4f5c-af1a-510c03ab9eef\",\"type\":\"Circle\"},{\"attributes\":{\"fill_alpha\":{\"value\":0.8},\"fill_color\":{\"value\":\"blue\"},\"line_alpha\":{\"value\":0.8},\"line_color\":{\"value\":\"blue\"},\"size\":{\"units\":\"screen\",\"value\":13},\"x\":{\"field\":\"x\"},\"y\":{\"field\":\"y\"}},\"id\":\"185bea69-2649-4e19-9b6f-9ddd87d7de94\",\"type\":\"Square\"},{\"attributes\":{},\"id\":\"65b23a77-43ce-403a-bb0a-d42e2b1624bc\",\"type\":\"ToolEvents\"},{\"attributes\":{\"callback\":null,\"column_names\":[\"y\",\"x\"],\"data\":{\"x\":[-3,-4,-2,-6,-9,-8,-11,2,3,1,5,8,3,6,4,11,9],\"y\":[-1.5,-2.0,-1.0,-3.0,-4.5,-4.0,-5.5,1.0,1.5,0.5,2.5,4.0,1.5,3.0,2.0,5.5,4.5]}},\"id\":\"f98befa8-4082-418f-93f7-d2d564fd11b9\",\"type\":\"ColumnDataSource\"},{\"attributes\":{\"fill_alpha\":{\"value\":0.1},\"fill_color\":{\"value\":\"#1f77b4\"},\"line_alpha\":{\"value\":0.1},\"line_color\":{\"value\":\"#1f77b4\"},\"size\":{\"units\":\"screen\",\"value\":13},\"x\":{\"field\":\"x\"},\"y\":{\"field\":\"y\"}},\"id\":\"cd39978d-6d5b-4d6a-a6ef-1b72405bce2c\",\"type\":\"Square\"},{\"attributes\":{},\"id\":\"5fbe9e88-1722-4334-bf90-ca4e902c6c47\",\"type\":\"ToolEvents\"},{\"attributes\":{\"plot\":{\"id\":\"ac2db45d-b81b-44d8-ae3f-e8ecefd18b0e\",\"subtype\":\"Figure\",\"type\":\"Plot\"}},\"id\":\"cd80cdbf-27e7-45a9-982a-56ea496b0976\",\"type\":\"PanTool\"},{\"attributes\":{},\"id\":\"2980ae4a-5f62-4293-b083-480f02ff8e86\",\"type\":\"BasicTickFormatter\"},{\"attributes\":{\"plot\":{\"id\":\"9a2c54d6-45db-4318-ae1b-1dde9ed7e3e4\",\"subtype\":\"Figure\",\"type\":\"Plot\"}},\"id\":\"c05c6667-f1c1-42fa-a71b-ab75abbf7e30\",\"type\":\"SaveTool\"},{\"attributes\":{\"bottom_units\":\"screen\",\"fill_alpha\":{\"value\":0.5},\"fill_color\":{\"value\":\"lightgrey\"},\"left_units\":\"screen\",\"level\":\"overlay\",\"line_alpha\":{\"value\":1.0},\"line_color\":{\"value\":\"black\"},\"line_dash\":[4,4],\"line_width\":{\"value\":2},\"plot\":null,\"render_mode\":\"css\",\"right_units\":\"screen\",\"top_units\":\"screen\"},\"id\":\"b6ef273a-6868-4257-97c9-ef3dd9e20b20\",\"type\":\"BoxAnnotation\"},{\"attributes\":{},\"id\":\"dd547804-db28-4b2b-a5d7-fefe0bff7d29\",\"type\":\"BasicTicker\"},{\"attributes\":{},\"id\":\"87284037-1738-4954-b46a-b5c6ff6b3fcc\",\"type\":\"BasicTickFormatter\"},{\"attributes\":{\"plot\":{\"id\":\"ac2db45d-b81b-44d8-ae3f-e8ecefd18b0e\",\"subtype\":\"Figure\",\"type\":\"Plot\"}},\"id\":\"667f4cab-1946-481d-872d-33fa1884ba76\",\"type\":\"HelpTool\"},{\"attributes\":{\"overlay\":{\"id\":\"16f6441b-48d1-49e7-8fe2-2328688eb3f0\",\"type\":\"BoxAnnotation\"},\"plot\":{\"id\":\"0d618d3b-54d5-4873-b2a2-3c4cc2922d23\",\"subtype\":\"Figure\",\"type\":\"Plot\"}},\"id\":\"5d0f3824-7909-43ae-94b1-85706da7ab64\",\"type\":\"BoxZoomTool\"},{\"attributes\":{},\"id\":\"762df840-337a-4303-8c1a-a0ab68a39d92\",\"type\":\"BasicTicker\"},{\"attributes\":{\"data_source\":{\"id\":\"52cfafa7-542a-45be-af94-5e2ed1e3c7c9\",\"type\":\"ColumnDataSource\"},\"glyph\":{\"id\":\"185bea69-2649-4e19-9b6f-9ddd87d7de94\",\"type\":\"Square\"},\"hover_glyph\":null,\"nonselection_glyph\":{\"id\":\"cd39978d-6d5b-4d6a-a6ef-1b72405bce2c\",\"type\":\"Square\"},\"selection_glyph\":null},\"id\":\"a1830db7-9a11-4eca-ad6c-93df2d4c9593\",\"type\":\"GlyphRenderer\"},{\"attributes\":{\"below\":[{\"id\":\"4f439b9c-7aee-44cc-9502-a5e9c4b6a481\",\"type\":\"LinearAxis\"}],\"left\":[{\"id\":\"bd7b6e5a-595e-4f91-b905-6ba9369ef48a\",\"type\":\"LinearAxis\"}],\"plot_height\":250,\"plot_width\":255,\"renderers\":[{\"id\":\"4f439b9c-7aee-44cc-9502-a5e9c4b6a481\",\"type\":\"LinearAxis\"},{\"id\":\"742c3326-20de-474c-bdad-501f3d4649a3\",\"type\":\"Grid\"},{\"id\":\"bd7b6e5a-595e-4f91-b905-6ba9369ef48a\",\"type\":\"LinearAxis\"},{\"id\":\"3316d5ea-f80c-476b-86dd-ffe8eca433c7\",\"type\":\"Grid\"},{\"id\":\"16f6441b-48d1-49e7-8fe2-2328688eb3f0\",\"type\":\"BoxAnnotation\"},{\"id\":\"c4c1574a-98c9-4a60-81b9-1d3bd3b0812d\",\"type\":\"GlyphRenderer\"}],\"title\":{\"id\":\"dcd78fb7-bef3-4803-8e92-a874507329d3\",\"type\":\"Title\"},\"tool_events\":{\"id\":\"f439c074-7f9f-42e9-94dc-eec9d2410953\",\"type\":\"ToolEvents\"},\"toolbar\":{\"id\":\"b46de3c4-2af3-420e-8cd2-ec5d8214a184\",\"type\":\"Toolbar\"},\"toolbar_location\":null,\"x_range\":{\"id\":\"2b74bbec-b09c-472a-9401-c0eb22705919\",\"type\":\"DataRange1d\"},\"y_range\":{\"id\":\"d0e51bff-0870-4de3-aa64-42fbcaddbf07\",\"type\":\"DataRange1d\"}},\"id\":\"0d618d3b-54d5-4873-b2a2-3c4cc2922d23\",\"subtype\":\"Figure\",\"type\":\"Plot\"},{\"attributes\":{\"bottom_units\":\"screen\",\"fill_alpha\":{\"value\":0.5},\"fill_color\":{\"value\":\"lightgrey\"},\"left_units\":\"screen\",\"level\":\"overlay\",\"line_alpha\":{\"value\":1.0},\"line_color\":{\"value\":\"black\"},\"line_dash\":[4,4],\"line_width\":{\"value\":2},\"plot\":null,\"render_mode\":\"css\",\"right_units\":\"screen\",\"top_units\":\"screen\"},\"id\":\"ffc725a7-5cb2-488f-b35e-7a8625f9b46d\",\"type\":\"BoxAnnotation\"},{\"attributes\":{\"plot\":{\"id\":\"0d618d3b-54d5-4873-b2a2-3c4cc2922d23\",\"subtype\":\"Figure\",\"type\":\"Plot\"}},\"id\":\"5b484869-7655-472f-b426-b236debd3d44\",\"type\":\"WheelZoomTool\"},{\"attributes\":{\"dimension\":1,\"plot\":{\"id\":\"0d618d3b-54d5-4873-b2a2-3c4cc2922d23\",\"subtype\":\"Figure\",\"type\":\"Plot\"},\"ticker\":{\"id\":\"85e17566-90a0-41d9-aa31-d395dd08bba2\",\"type\":\"BasicTicker\"}},\"id\":\"3316d5ea-f80c-476b-86dd-ffe8eca433c7\",\"type\":\"Grid\"},{\"attributes\":{},\"id\":\"1536e0c1-8c14-418c-8371-d682a25dae50\",\"type\":\"BasicTickFormatter\"},{\"attributes\":{\"active_drag\":\"auto\",\"active_scroll\":\"auto\",\"active_tap\":\"auto\",\"tools\":[{\"id\":\"65afb758-450b-4ce1-bcab-0d412e467051\",\"type\":\"PanTool\"},{\"id\":\"5b484869-7655-472f-b426-b236debd3d44\",\"type\":\"WheelZoomTool\"},{\"id\":\"5d0f3824-7909-43ae-94b1-85706da7ab64\",\"type\":\"BoxZoomTool\"},{\"id\":\"52e632cc-8a76-4379-b23c-4739385249c1\",\"type\":\"SaveTool\"},{\"id\":\"cd77d666-22bf-4f41-aefc-927cdbd4717a\",\"type\":\"ResetTool\"},{\"id\":\"9491ca45-1473-4e9e-ad6d-20a6ca98e734\",\"type\":\"HelpTool\"}]},\"id\":\"b46de3c4-2af3-420e-8cd2-ec5d8214a184\",\"type\":\"Toolbar\"},{\"attributes\":{\"plot\":{\"id\":\"0d618d3b-54d5-4873-b2a2-3c4cc2922d23\",\"subtype\":\"Figure\",\"type\":\"Plot\"},\"ticker\":{\"id\":\"dd547804-db28-4b2b-a5d7-fefe0bff7d29\",\"type\":\"BasicTicker\"}},\"id\":\"742c3326-20de-474c-bdad-501f3d4649a3\",\"type\":\"Grid\"},{\"attributes\":{\"plot\":{\"id\":\"9a2c54d6-45db-4318-ae1b-1dde9ed7e3e4\",\"subtype\":\"Figure\",\"type\":\"Plot\"}},\"id\":\"a0daf0b9-d183-4dad-b0d7-9c451eb2eb93\",\"type\":\"PanTool\"},{\"attributes\":{},\"id\":\"12698d9b-3daa-4c81-a27a-16cacbd220c4\",\"type\":\"BasicTicker\"},{\"attributes\":{\"below\":[{\"id\":\"da490c1d-ee41-48d4-b9d9-e4f80be1d7ed\",\"type\":\"LinearAxis\"}],\"left\":[{\"id\":\"413865e4-b996-45af-aa52-4c6e2c227033\",\"type\":\"LinearAxis\"}],\"plot_height\":250,\"plot_width\":255,\"renderers\":[{\"id\":\"da490c1d-ee41-48d4-b9d9-e4f80be1d7ed\",\"type\":\"LinearAxis\"},{\"id\":\"dadaeeb9-29c9-4adc-b71c-00dfb1dfe463\",\"type\":\"Grid\"},{\"id\":\"413865e4-b996-45af-aa52-4c6e2c227033\",\"type\":\"LinearAxis\"},{\"id\":\"06020c7a-5f9b-4c97-8efd-ccfc8c1e6463\",\"type\":\"Grid\"},{\"id\":\"b6ef273a-6868-4257-97c9-ef3dd9e20b20\",\"type\":\"BoxAnnotation\"},{\"id\":\"a1830db7-9a11-4eca-ad6c-93df2d4c9593\",\"type\":\"GlyphRenderer\"}],\"title\":{\"id\":\"b71fa5e0-ec92-4c76-a2b5-271f15a7aa13\",\"type\":\"Title\"},\"tool_events\":{\"id\":\"5fbe9e88-1722-4334-bf90-ca4e902c6c47\",\"type\":\"ToolEvents\"},\"toolbar\":{\"id\":\"b8fa47ed-0877-4606-a59d-07ed135febcc\",\"type\":\"Toolbar\"},\"toolbar_location\":null,\"x_range\":{\"id\":\"2b74bbec-b09c-472a-9401-c0eb22705919\",\"type\":\"DataRange1d\"},\"y_range\":{\"id\":\"d0e51bff-0870-4de3-aa64-42fbcaddbf07\",\"type\":\"DataRange1d\"}},\"id\":\"9a2c54d6-45db-4318-ae1b-1dde9ed7e3e4\",\"subtype\":\"Figure\",\"type\":\"Plot\"},{\"attributes\":{\"formatter\":{\"id\":\"1536e0c1-8c14-418c-8371-d682a25dae50\",\"type\":\"BasicTickFormatter\"},\"plot\":{\"id\":\"0d618d3b-54d5-4873-b2a2-3c4cc2922d23\",\"subtype\":\"Figure\",\"type\":\"Plot\"},\"ticker\":{\"id\":\"85e17566-90a0-41d9-aa31-d395dd08bba2\",\"type\":\"BasicTicker\"}},\"id\":\"bd7b6e5a-595e-4f91-b905-6ba9369ef48a\",\"type\":\"LinearAxis\"},{\"attributes\":{\"active_drag\":\"auto\",\"active_scroll\":\"auto\",\"active_tap\":\"auto\",\"tools\":[{\"id\":\"cd80cdbf-27e7-45a9-982a-56ea496b0976\",\"type\":\"PanTool\"},{\"id\":\"ba1328bd-4f38-445a-a3cb-aa8e59140061\",\"type\":\"WheelZoomTool\"},{\"id\":\"4636c374-d0bc-4d59-8f9d-c4e88dc8cd0f\",\"type\":\"BoxZoomTool\"},{\"id\":\"3c28cb6e-c951-4495-a52a-c644b3d8a5d4\",\"type\":\"SaveTool\"},{\"id\":\"af2c629e-319a-40dc-b467-06e67509d359\",\"type\":\"ResetTool\"},{\"id\":\"667f4cab-1946-481d-872d-33fa1884ba76\",\"type\":\"HelpTool\"}]},\"id\":\"6a51d793-9fc9-48d4-9aaf-5bcc2c60e745\",\"type\":\"Toolbar\"},{\"attributes\":{\"dimension\":1,\"plot\":{\"id\":\"ac2db45d-b81b-44d8-ae3f-e8ecefd18b0e\",\"subtype\":\"Figure\",\"type\":\"Plot\"},\"ticker\":{\"id\":\"12698d9b-3daa-4c81-a27a-16cacbd220c4\",\"type\":\"BasicTicker\"}},\"id\":\"33a420db-6749-460e-96db-91153572a94b\",\"type\":\"Grid\"},{\"attributes\":{\"dimension\":1,\"plot\":{\"id\":\"9a2c54d6-45db-4318-ae1b-1dde9ed7e3e4\",\"subtype\":\"Figure\",\"type\":\"Plot\"},\"ticker\":{\"id\":\"762df840-337a-4303-8c1a-a0ab68a39d92\",\"type\":\"BasicTicker\"}},\"id\":\"06020c7a-5f9b-4c97-8efd-ccfc8c1e6463\",\"type\":\"Grid\"},{\"attributes\":{\"overlay\":{\"id\":\"b6ef273a-6868-4257-97c9-ef3dd9e20b20\",\"type\":\"BoxAnnotation\"},\"plot\":{\"id\":\"9a2c54d6-45db-4318-ae1b-1dde9ed7e3e4\",\"subtype\":\"Figure\",\"type\":\"Plot\"}},\"id\":\"b838a84c-dba1-4320-ac79-41c8a4a3b9a2\",\"type\":\"BoxZoomTool\"},{\"attributes\":{},\"id\":\"f439c074-7f9f-42e9-94dc-eec9d2410953\",\"type\":\"ToolEvents\"},{\"attributes\":{\"callback\":null,\"column_names\":[\"x\",\"y\"],\"data\":{\"x\":[-3,-4,-2,-6,-9,-8,-11,2,3,1,5,8,3,6,4,11,9],\"y\":[-27,-64,-8,-216,-729,-512,-1331,8,27,1,125,512,27,216,64,1331,729]}},\"id\":\"52cfafa7-542a-45be-af94-5e2ed1e3c7c9\",\"type\":\"ColumnDataSource\"},{\"attributes\":{\"data_source\":{\"id\":\"369b1a10-2905-4f5e-a38a-9bf059201e2a\",\"type\":\"ColumnDataSource\"},\"glyph\":{\"id\":\"ac540c92-e53f-4afe-aaeb-d7efbd43fa3e\",\"type\":\"Diamond\"},\"hover_glyph\":null,\"nonselection_glyph\":{\"id\":\"3b456dc6-46ff-4838-95fd-570efbcaeaae\",\"type\":\"Diamond\"},\"selection_glyph\":null},\"id\":\"8bcd25fc-c25c-4038-bb9c-8ade24d9f4f0\",\"type\":\"GlyphRenderer\"},{\"attributes\":{},\"id\":\"85e17566-90a0-41d9-aa31-d395dd08bba2\",\"type\":\"BasicTicker\"},{\"attributes\":{\"overlay\":{\"id\":\"ffc725a7-5cb2-488f-b35e-7a8625f9b46d\",\"type\":\"BoxAnnotation\"},\"plot\":{\"id\":\"ac2db45d-b81b-44d8-ae3f-e8ecefd18b0e\",\"subtype\":\"Figure\",\"type\":\"Plot\"}},\"id\":\"4636c374-d0bc-4d59-8f9d-c4e88dc8cd0f\",\"type\":\"BoxZoomTool\"},{\"attributes\":{\"formatter\":{\"id\":\"87284037-1738-4954-b46a-b5c6ff6b3fcc\",\"type\":\"BasicTickFormatter\"},\"plot\":{\"id\":\"ac2db45d-b81b-44d8-ae3f-e8ecefd18b0e\",\"subtype\":\"Figure\",\"type\":\"Plot\"},\"ticker\":{\"id\":\"12698d9b-3daa-4c81-a27a-16cacbd220c4\",\"type\":\"BasicTicker\"}},\"id\":\"bee8356d-1685-4934-a934-12dd7b397f24\",\"type\":\"LinearAxis\"},{\"attributes\":{\"plot\":null,\"text\":null},\"id\":\"3f170b8f-3367-495a-ac22-d72439a1562a\",\"type\":\"Title\"},{\"attributes\":{\"plot\":{\"id\":\"9a2c54d6-45db-4318-ae1b-1dde9ed7e3e4\",\"subtype\":\"Figure\",\"type\":\"Plot\"}},\"id\":\"b97ffa6d-7bb3-4c66-91ba-3c086e39c800\",\"type\":\"HelpTool\"},{\"attributes\":{\"plot\":{\"id\":\"ac2db45d-b81b-44d8-ae3f-e8ecefd18b0e\",\"subtype\":\"Figure\",\"type\":\"Plot\"}},\"id\":\"af2c629e-319a-40dc-b467-06e67509d359\",\"type\":\"ResetTool\"},{\"attributes\":{\"plot\":{\"id\":\"0d618d3b-54d5-4873-b2a2-3c4cc2922d23\",\"subtype\":\"Figure\",\"type\":\"Plot\"}},\"id\":\"9491ca45-1473-4e9e-ad6d-20a6ca98e734\",\"type\":\"HelpTool\"},{\"attributes\":{\"below\":[{\"id\":\"59c42372-eef6-4e98-af22-1c8e4fb9a302\",\"type\":\"LinearAxis\"}],\"left\":[{\"id\":\"bee8356d-1685-4934-a934-12dd7b397f24\",\"type\":\"LinearAxis\"}],\"plot_height\":250,\"plot_width\":255,\"renderers\":[{\"id\":\"59c42372-eef6-4e98-af22-1c8e4fb9a302\",\"type\":\"LinearAxis\"},{\"id\":\"658d2d4c-628b-4b76-9f77-b37b41045e6e\",\"type\":\"Grid\"},{\"id\":\"bee8356d-1685-4934-a934-12dd7b397f24\",\"type\":\"LinearAxis\"},{\"id\":\"33a420db-6749-460e-96db-91153572a94b\",\"type\":\"Grid\"},{\"id\":\"ffc725a7-5cb2-488f-b35e-7a8625f9b46d\",\"type\":\"BoxAnnotation\"},{\"id\":\"8bcd25fc-c25c-4038-bb9c-8ade24d9f4f0\",\"type\":\"GlyphRenderer\"}],\"title\":{\"id\":\"3f170b8f-3367-495a-ac22-d72439a1562a\",\"type\":\"Title\"},\"tool_events\":{\"id\":\"65b23a77-43ce-403a-bb0a-d42e2b1624bc\",\"type\":\"ToolEvents\"},\"toolbar\":{\"id\":\"6a51d793-9fc9-48d4-9aaf-5bcc2c60e745\",\"type\":\"Toolbar\"},\"toolbar_location\":null,\"x_range\":{\"id\":\"2b74bbec-b09c-472a-9401-c0eb22705919\",\"type\":\"DataRange1d\"},\"y_range\":{\"id\":\"d0e51bff-0870-4de3-aa64-42fbcaddbf07\",\"type\":\"DataRange1d\"}},\"id\":\"ac2db45d-b81b-44d8-ae3f-e8ecefd18b0e\",\"subtype\":\"Figure\",\"type\":\"Plot\"},{\"attributes\":{\"plot\":{\"id\":\"9a2c54d6-45db-4318-ae1b-1dde9ed7e3e4\",\"subtype\":\"Figure\",\"type\":\"Plot\"},\"ticker\":{\"id\":\"5fb4bc5e-1803-49f6-a2ed-1d82b91fac11\",\"type\":\"BasicTicker\"}},\"id\":\"dadaeeb9-29c9-4adc-b71c-00dfb1dfe463\",\"type\":\"Grid\"},{\"attributes\":{\"plot\":{\"id\":\"9a2c54d6-45db-4318-ae1b-1dde9ed7e3e4\",\"subtype\":\"Figure\",\"type\":\"Plot\"}},\"id\":\"d43fa1a0-13db-4daf-b305-940428ec9c11\",\"type\":\"WheelZoomTool\"},{\"attributes\":{\"formatter\":{\"id\":\"2980ae4a-5f62-4293-b083-480f02ff8e86\",\"type\":\"BasicTickFormatter\"},\"plot\":{\"id\":\"0d618d3b-54d5-4873-b2a2-3c4cc2922d23\",\"subtype\":\"Figure\",\"type\":\"Plot\"},\"ticker\":{\"id\":\"dd547804-db28-4b2b-a5d7-fefe0bff7d29\",\"type\":\"BasicTicker\"}},\"id\":\"4f439b9c-7aee-44cc-9502-a5e9c4b6a481\",\"type\":\"LinearAxis\"},{\"attributes\":{\"bottom_units\":\"screen\",\"fill_alpha\":{\"value\":0.5},\"fill_color\":{\"value\":\"lightgrey\"},\"left_units\":\"screen\",\"level\":\"overlay\",\"line_alpha\":{\"value\":1.0},\"line_color\":{\"value\":\"black\"},\"line_dash\":[4,4],\"line_width\":{\"value\":2},\"plot\":null,\"render_mode\":\"css\",\"right_units\":\"screen\",\"top_units\":\"screen\"},\"id\":\"16f6441b-48d1-49e7-8fe2-2328688eb3f0\",\"type\":\"BoxAnnotation\"},{\"attributes\":{\"plot\":{\"id\":\"ac2db45d-b81b-44d8-ae3f-e8ecefd18b0e\",\"subtype\":\"Figure\",\"type\":\"Plot\"},\"ticker\":{\"id\":\"fff1f0b8-a424-4904-afcb-4df0ae484dc8\",\"type\":\"BasicTicker\"}},\"id\":\"658d2d4c-628b-4b76-9f77-b37b41045e6e\",\"type\":\"Grid\"},{\"attributes\":{},\"id\":\"5fb4bc5e-1803-49f6-a2ed-1d82b91fac11\",\"type\":\"BasicTicker\"},{\"attributes\":{\"formatter\":{\"id\":\"2cf6d5a9-3e6d-416d-8e62-8383cb3ed052\",\"type\":\"BasicTickFormatter\"},\"plot\":{\"id\":\"ac2db45d-b81b-44d8-ae3f-e8ecefd18b0e\",\"subtype\":\"Figure\",\"type\":\"Plot\"},\"ticker\":{\"id\":\"fff1f0b8-a424-4904-afcb-4df0ae484dc8\",\"type\":\"BasicTicker\"}},\"id\":\"59c42372-eef6-4e98-af22-1c8e4fb9a302\",\"type\":\"LinearAxis\"},{\"attributes\":{\"plot\":null,\"text\":null},\"id\":\"b71fa5e0-ec92-4c76-a2b5-271f15a7aa13\",\"type\":\"Title\"},{\"attributes\":{\"callback\":null},\"id\":\"2b74bbec-b09c-472a-9401-c0eb22705919\",\"type\":\"DataRange1d\"},{\"attributes\":{\"children\":[{\"id\":\"876e8a48-7dfe-4102-9164-7592797d594b\",\"type\":\"Row\"}]},\"id\":\"4531b4f2-37ae-411a-bc89-bdbc240cb766\",\"type\":\"Column\"},{\"attributes\":{\"active_drag\":\"auto\",\"active_scroll\":\"auto\",\"active_tap\":\"auto\",\"tools\":[{\"id\":\"a0daf0b9-d183-4dad-b0d7-9c451eb2eb93\",\"type\":\"PanTool\"},{\"id\":\"d43fa1a0-13db-4daf-b305-940428ec9c11\",\"type\":\"WheelZoomTool\"},{\"id\":\"b838a84c-dba1-4320-ac79-41c8a4a3b9a2\",\"type\":\"BoxZoomTool\"},{\"id\":\"c05c6667-f1c1-42fa-a71b-ab75abbf7e30\",\"type\":\"SaveTool\"},{\"id\":\"d75ae3e5-190e-4080-9dc6-c1b7c3110c3e\",\"type\":\"ResetTool\"},{\"id\":\"b97ffa6d-7bb3-4c66-91ba-3c086e39c800\",\"type\":\"HelpTool\"}]},\"id\":\"b8fa47ed-0877-4606-a59d-07ed135febcc\",\"type\":\"Toolbar\"},{\"attributes\":{\"plot\":{\"id\":\"0d618d3b-54d5-4873-b2a2-3c4cc2922d23\",\"subtype\":\"Figure\",\"type\":\"Plot\"}},\"id\":\"65afb758-450b-4ce1-bcab-0d412e467051\",\"type\":\"PanTool\"},{\"attributes\":{\"plot\":{\"id\":\"0d618d3b-54d5-4873-b2a2-3c4cc2922d23\",\"subtype\":\"Figure\",\"type\":\"Plot\"}},\"id\":\"52e632cc-8a76-4379-b23c-4739385249c1\",\"type\":\"SaveTool\"},{\"attributes\":{\"formatter\":{\"id\":\"dd31b6ee-3896-45cb-b5fc-c00b6e02cd4b\",\"type\":\"BasicTickFormatter\"},\"plot\":{\"id\":\"9a2c54d6-45db-4318-ae1b-1dde9ed7e3e4\",\"subtype\":\"Figure\",\"type\":\"Plot\"},\"ticker\":{\"id\":\"762df840-337a-4303-8c1a-a0ab68a39d92\",\"type\":\"BasicTicker\"}},\"id\":\"413865e4-b996-45af-aa52-4c6e2c227033\",\"type\":\"LinearAxis\"},{\"attributes\":{},\"id\":\"fff1f0b8-a424-4904-afcb-4df0ae484dc8\",\"type\":\"BasicTicker\"},{\"attributes\":{},\"id\":\"9db55490-e282-4f60-b3db-6e00ce3100d5\",\"type\":\"BasicTickFormatter\"},{\"attributes\":{\"plot\":null,\"text\":null},\"id\":\"dcd78fb7-bef3-4803-8e92-a874507329d3\",\"type\":\"Title\"},{\"attributes\":{\"plot\":{\"id\":\"0d618d3b-54d5-4873-b2a2-3c4cc2922d23\",\"subtype\":\"Figure\",\"type\":\"Plot\"}},\"id\":\"cd77d666-22bf-4f41-aefc-927cdbd4717a\",\"type\":\"ResetTool\"},{\"attributes\":{\"sizing_mode\":\"scale_width\",\"toolbar_location\":\"above\",\"tools\":[{\"id\":\"65afb758-450b-4ce1-bcab-0d412e467051\",\"type\":\"PanTool\"},{\"id\":\"5b484869-7655-472f-b426-b236debd3d44\",\"type\":\"WheelZoomTool\"},{\"id\":\"5d0f3824-7909-43ae-94b1-85706da7ab64\",\"type\":\"BoxZoomTool\"},{\"id\":\"52e632cc-8a76-4379-b23c-4739385249c1\",\"type\":\"SaveTool\"},{\"id\":\"cd77d666-22bf-4f41-aefc-927cdbd4717a\",\"type\":\"ResetTool\"},{\"id\":\"9491ca45-1473-4e9e-ad6d-20a6ca98e734\",\"type\":\"HelpTool\"},{\"id\":\"cd80cdbf-27e7-45a9-982a-56ea496b0976\",\"type\":\"PanTool\"},{\"id\":\"ba1328bd-4f38-445a-a3cb-aa8e59140061\",\"type\":\"WheelZoomTool\"},{\"id\":\"4636c374-d0bc-4d59-8f9d-c4e88dc8cd0f\",\"type\":\"BoxZoomTool\"},{\"id\":\"3c28cb6e-c951-4495-a52a-c644b3d8a5d4\",\"type\":\"SaveTool\"},{\"id\":\"af2c629e-319a-40dc-b467-06e67509d359\",\"type\":\"ResetTool\"},{\"id\":\"667f4cab-1946-481d-872d-33fa1884ba76\",\"type\":\"HelpTool\"},{\"id\":\"a0daf0b9-d183-4dad-b0d7-9c451eb2eb93\",\"type\":\"PanTool\"},{\"id\":\"d43fa1a0-13db-4daf-b305-940428ec9c11\",\"type\":\"WheelZoomTool\"},{\"id\":\"b838a84c-dba1-4320-ac79-41c8a4a3b9a2\",\"type\":\"BoxZoomTool\"},{\"id\":\"c05c6667-f1c1-42fa-a71b-ab75abbf7e30\",\"type\":\"SaveTool\"},{\"id\":\"d75ae3e5-190e-4080-9dc6-c1b7c3110c3e\",\"type\":\"ResetTool\"},{\"id\":\"b97ffa6d-7bb3-4c66-91ba-3c086e39c800\",\"type\":\"HelpTool\"}]},\"id\":\"0deb67db-aae9-4788-b8f3-875a0b4afc97\",\"type\":\"ToolbarBox\"},{\"attributes\":{\"plot\":{\"id\":\"9a2c54d6-45db-4318-ae1b-1dde9ed7e3e4\",\"subtype\":\"Figure\",\"type\":\"Plot\"}},\"id\":\"d75ae3e5-190e-4080-9dc6-c1b7c3110c3e\",\"type\":\"ResetTool\"},{\"attributes\":{\"plot\":{\"id\":\"ac2db45d-b81b-44d8-ae3f-e8ecefd18b0e\",\"subtype\":\"Figure\",\"type\":\"Plot\"}},\"id\":\"ba1328bd-4f38-445a-a3cb-aa8e59140061\",\"type\":\"WheelZoomTool\"},{\"attributes\":{\"fill_alpha\":{\"value\":0.1},\"fill_color\":{\"value\":\"#1f77b4\"},\"line_alpha\":{\"value\":0.1},\"line_color\":{\"value\":\"#1f77b4\"},\"size\":{\"units\":\"screen\",\"value\":13},\"x\":{\"field\":\"x\"},\"y\":{\"field\":\"y\"}},\"id\":\"6d007a70-e21c-4c32-ba8e-31d9ce38445c\",\"type\":\"Circle\"}],\"root_ids\":[\"821b2229-43ab-49c7-9f1f-43a6b09d2413\"]},\"title\":\"Bokeh Application\",\"version\":\"0.12.1\"}};\n",
       "            var render_items = [{\"docid\":\"3dc1ece9-b000-44ce-93e9-e31124799058\",\"elementid\":\"208dbd7d-3bb9-4336-a80b-75c31e500983\",\"modelid\":\"821b2229-43ab-49c7-9f1f-43a6b09d2413\",\"notebook_comms_target\":\"27b053a8-7a81-498f-a8cb-17a4de83aa1b\"}];\n",
       "            \n",
       "            Bokeh.embed.embed_items(docs_json, render_items);\n",
       "        });\n",
       "      },\n",
       "      function(Bokeh) {\n",
       "      }\n",
       "    ];\n",
       "  \n",
       "    function run_inline_js() {\n",
       "      for (var i = 0; i < inline_js.length; i++) {\n",
       "        inline_js[i](window.Bokeh);\n",
       "      }\n",
       "    }\n",
       "  \n",
       "    if (window._bokeh_is_loading === 0) {\n",
       "      console.log(\"Bokeh: BokehJS loaded, going straight to plotting\");\n",
       "      run_inline_js();\n",
       "    } else {\n",
       "      load_libs(js_urls, function() {\n",
       "        console.log(\"Bokeh: BokehJS plotting callback run at\", now());\n",
       "        run_inline_js();\n",
       "      });\n",
       "    }\n",
       "  }(this));\n",
       "</script>"
      ]
     },
     "metadata": {},
     "output_type": "display_data"
    },
    {
     "data": {
      "text/html": [
       "<p><code>&lt;Bokeh Notebook handle for <strong>In[57]</strong>&gt;</code></p>"
      ],
      "text/plain": [
       "<bokeh.io._CommsHandle at 0x113a3bd90>"
      ]
     },
     "execution_count": 57,
     "metadata": {},
     "output_type": "execute_result"
    }
   ],
   "source": [
    "p1 = figure(plot_width=255, plot_height=250)\n",
    "p1.circle(x, y0, size=13, color='green', fill_color='yellow', alpha=0.5)\n",
    "\n",
    "p2 = figure(x_range=p1.x_range, y_range=p1.y_range, plot_width=255, plot_height=250)\n",
    "p2.diamond(x, y1, size=13, color='red', fill_color='orange')\n",
    "\n",
    "p3 = figure(x_range=p1.x_range, y_range=p1.y_range, plot_width=255, plot_height=250)\n",
    "p3.square(x, y2, size=13, color='blue', alpha=0.8)\n",
    "\n",
    "p = gridplot([[p1,p2,p3]])\n",
    "\n",
    "show(p)\n"
   ]
  },
  {
   "cell_type": "code",
   "execution_count": 61,
   "metadata": {
    "collapsed": false
   },
   "outputs": [
    {
     "data": {
      "text/html": [
       "\n",
       "\n",
       "    <div class=\"bk-root\">\n",
       "        <div class=\"plotdiv\" id=\"7e443020-be6f-499b-9e5c-544712615d98\"></div>\n",
       "    </div>\n",
       "<script type=\"text/javascript\">\n",
       "  \n",
       "  (function(global) {\n",
       "    function now() {\n",
       "      return new Date();\n",
       "    }\n",
       "  \n",
       "    var force = \"\";\n",
       "  \n",
       "    if (typeof (window._bokeh_onload_callbacks) === \"undefined\" || force !== \"\") {\n",
       "      window._bokeh_onload_callbacks = [];\n",
       "      window._bokeh_is_loading = undefined;\n",
       "    }\n",
       "  \n",
       "    function run_callbacks() {\n",
       "      window._bokeh_onload_callbacks.forEach(function(callback) { callback() });\n",
       "      delete window._bokeh_onload_callbacks\n",
       "      console.info(\"Bokeh: all callbacks have finished\");\n",
       "    }\n",
       "  \n",
       "    function load_libs(js_urls, callback) {\n",
       "      window._bokeh_onload_callbacks.push(callback);\n",
       "      if (window._bokeh_is_loading > 0) {\n",
       "        console.log(\"Bokeh: BokehJS is being loaded, scheduling callback at\", now());\n",
       "        return null;\n",
       "      }\n",
       "      if (js_urls == null || js_urls.length === 0) {\n",
       "        run_callbacks();\n",
       "        return null;\n",
       "      }\n",
       "      console.log(\"Bokeh: BokehJS not loaded, scheduling load and callback at\", now());\n",
       "      window._bokeh_is_loading = js_urls.length;\n",
       "      for (var i = 0; i < js_urls.length; i++) {\n",
       "        var url = js_urls[i];\n",
       "        var s = document.createElement('script');\n",
       "        s.src = url;\n",
       "        s.async = false;\n",
       "        s.onreadystatechange = s.onload = function() {\n",
       "          window._bokeh_is_loading--;\n",
       "          if (window._bokeh_is_loading === 0) {\n",
       "            console.log(\"Bokeh: all BokehJS libraries loaded\");\n",
       "            run_callbacks()\n",
       "          }\n",
       "        };\n",
       "        s.onerror = function() {\n",
       "          console.warn(\"failed to load library \" + url);\n",
       "        };\n",
       "        console.log(\"Bokeh: injecting script tag for BokehJS library: \", url);\n",
       "        document.getElementsByTagName(\"head\")[0].appendChild(s);\n",
       "      }\n",
       "    };var element = document.getElementById(\"7e443020-be6f-499b-9e5c-544712615d98\");\n",
       "    if (element == null) {\n",
       "      console.log(\"Bokeh: ERROR: autoload.js configured with elementid '7e443020-be6f-499b-9e5c-544712615d98' but no matching script tag was found. \")\n",
       "      return false;\n",
       "    }\n",
       "  \n",
       "    var js_urls = [];\n",
       "  \n",
       "    var inline_js = [\n",
       "      function(Bokeh) {\n",
       "        Bokeh.$(function() {\n",
       "            var docs_json = {\"7a76a7fa-ccac-46b5-a40e-1e5781cbcb8b\":{\"roots\":{\"references\":[{\"attributes\":{\"children\":[{\"id\":\"1e127a51-c678-4abe-845b-2c4730082493\",\"type\":\"ToolbarBox\"},{\"id\":\"e00c0091-a521-4f97-abce-196c40d05a2e\",\"type\":\"Column\"}]},\"id\":\"291090db-d1e5-47ea-9d30-d9e17e07c76b\",\"type\":\"Column\"},{\"attributes\":{},\"id\":\"f2fd9883-2003-4b0b-aefa-bf0894c2b70a\",\"type\":\"BasicTickFormatter\"},{\"attributes\":{\"callback\":null,\"column_names\":[\"y\",\"x\"],\"data\":{\"x\":[-3,-4,-2,-6,-9,-8,-11,2,3,1,5,8,3,6,4,11,9],\"y\":[9,16,4,36,81,64,121,4,9,1,25,64,9,36,16,121,81]}},\"id\":\"3f09e170-61b7-4ed2-95d2-238ad26c603b\",\"type\":\"ColumnDataSource\"},{\"attributes\":{\"plot\":{\"id\":\"d85e6061-80bd-4c93-85e6-655cea39b4ae\",\"subtype\":\"Figure\",\"type\":\"Plot\"},\"ticker\":{\"id\":\"e192c754-9a96-4e9c-951d-b26c139f07be\",\"type\":\"BasicTicker\"}},\"id\":\"565c5e1d-b99f-4e34-8b27-946a64413224\",\"type\":\"Grid\"},{\"attributes\":{\"plot\":{\"id\":\"c11e1207-0701-4301-b1bb-15c9ac129010\",\"subtype\":\"Figure\",\"type\":\"Plot\"}},\"id\":\"5f4fb0e2-afd1-47ff-96f7-56a5ea61d329\",\"type\":\"ResetTool\"},{\"attributes\":{},\"id\":\"7577d2cd-3b47-46d4-9a0d-326686679fa1\",\"type\":\"BasicTicker\"},{\"attributes\":{},\"id\":\"41e2a2ec-c5f1-4092-a215-b48b8f32d4d6\",\"type\":\"ToolEvents\"},{\"attributes\":{\"fill_alpha\":{\"value\":0.1},\"fill_color\":{\"value\":\"#1f77b4\"},\"line_alpha\":{\"value\":0.1},\"line_color\":{\"value\":\"#1f77b4\"},\"size\":{\"units\":\"screen\",\"value\":13},\"x\":{\"field\":\"x\"},\"y\":{\"field\":\"y\"}},\"id\":\"53840ec4-261e-465d-be7f-a7bea2861e93\",\"type\":\"Square\"},{\"attributes\":{},\"id\":\"25b0f0a2-9d28-4a14-92e9-ff7670c5225a\",\"type\":\"BasicTicker\"},{\"attributes\":{},\"id\":\"a51d3620-2763-4b16-9d84-34abdf098d33\",\"type\":\"BasicTickFormatter\"},{\"attributes\":{\"fill_color\":{\"value\":\"orange\"},\"line_color\":{\"value\":\"red\"},\"size\":{\"units\":\"screen\",\"value\":13},\"x\":{\"field\":\"x\"},\"y\":{\"field\":\"y\"}},\"id\":\"01717ca3-d2bb-4e43-a014-94146a861358\",\"type\":\"Diamond\"},{\"attributes\":{\"plot\":{\"id\":\"c5924f10-3db1-4c2f-a11c-47f11dd28807\",\"subtype\":\"Figure\",\"type\":\"Plot\"},\"ticker\":{\"id\":\"e40704ab-051d-4ef9-baf7-15a1a37ce006\",\"type\":\"BasicTicker\"}},\"id\":\"47b1b76f-3e8a-4691-9797-cb3addd5e7cf\",\"type\":\"Grid\"},{\"attributes\":{\"callback\":null,\"column_names\":[\"y\",\"x\"],\"data\":{\"x\":[-3,-4,-2,-6,-9,-8,-11,2,3,1,5,8,3,6,4,11,9],\"y\":[-1.5,-2.0,-1.0,-3.0,-4.5,-4.0,-5.5,1.0,1.5,0.5,2.5,4.0,1.5,3.0,2.0,5.5,4.5]}},\"id\":\"a5c20829-20f0-4e6c-be96-76c3801e04d7\",\"type\":\"ColumnDataSource\"},{\"attributes\":{\"plot\":{\"id\":\"c5924f10-3db1-4c2f-a11c-47f11dd28807\",\"subtype\":\"Figure\",\"type\":\"Plot\"}},\"id\":\"546f7c4d-ab1c-4ce4-902d-7a588f30ce53\",\"type\":\"ResetTool\"},{\"attributes\":{\"data_source\":{\"id\":\"0d866f98-65b4-48da-8c50-243b463a6af7\",\"type\":\"ColumnDataSource\"},\"glyph\":{\"id\":\"fb9fdd4c-605b-4921-be4d-2fc390f88d36\",\"type\":\"Square\"},\"hover_glyph\":null,\"nonselection_glyph\":{\"id\":\"53840ec4-261e-465d-be7f-a7bea2861e93\",\"type\":\"Square\"},\"selection_glyph\":null},\"id\":\"963f011b-e42f-476f-bd6d-37f561e322e3\",\"type\":\"GlyphRenderer\"},{\"attributes\":{\"plot\":{\"id\":\"d85e6061-80bd-4c93-85e6-655cea39b4ae\",\"subtype\":\"Figure\",\"type\":\"Plot\"}},\"id\":\"9e6411bf-67ae-43cd-9b1a-977500013095\",\"type\":\"ResetTool\"},{\"attributes\":{\"sizing_mode\":\"scale_width\",\"toolbar_location\":\"above\",\"tools\":[{\"id\":\"5f4fb0e2-afd1-47ff-96f7-56a5ea61d329\",\"type\":\"ResetTool\"},{\"id\":\"ec2483b1-2aaa-4ddc-ac0a-a53715a54352\",\"type\":\"PanTool\"},{\"id\":\"546f7c4d-ab1c-4ce4-902d-7a588f30ce53\",\"type\":\"ResetTool\"},{\"id\":\"677e3f7f-6860-4b47-b6e5-3f3fbdc2e0a4\",\"type\":\"PanTool\"},{\"id\":\"9e6411bf-67ae-43cd-9b1a-977500013095\",\"type\":\"ResetTool\"},{\"id\":\"dc284dc9-f180-4ba7-bd13-42a4611b125c\",\"type\":\"PanTool\"}]},\"id\":\"1e127a51-c678-4abe-845b-2c4730082493\",\"type\":\"ToolbarBox\"},{\"attributes\":{\"plot\":null,\"text\":null},\"id\":\"cac2a5d4-2566-4644-938b-58c4527ba76b\",\"type\":\"Title\"},{\"attributes\":{\"fill_alpha\":{\"value\":0.1},\"fill_color\":{\"value\":\"#1f77b4\"},\"line_alpha\":{\"value\":0.1},\"line_color\":{\"value\":\"#1f77b4\"},\"size\":{\"units\":\"screen\",\"value\":13},\"x\":{\"field\":\"x\"},\"y\":{\"field\":\"y\"}},\"id\":\"cf70163a-1cb9-4be0-9053-8efa68637c76\",\"type\":\"Circle\"},{\"attributes\":{\"data_source\":{\"id\":\"3f09e170-61b7-4ed2-95d2-238ad26c603b\",\"type\":\"ColumnDataSource\"},\"glyph\":{\"id\":\"01717ca3-d2bb-4e43-a014-94146a861358\",\"type\":\"Diamond\"},\"hover_glyph\":null,\"nonselection_glyph\":{\"id\":\"7a8740b7-34bc-4fd9-849d-9d8490f49b75\",\"type\":\"Diamond\"},\"selection_glyph\":null},\"id\":\"01d0eea5-c785-4d65-b69f-a287ae0dce94\",\"type\":\"GlyphRenderer\"},{\"attributes\":{\"callback\":null},\"id\":\"238c443a-3cc0-499f-8b89-64e1958482c1\",\"type\":\"DataRange1d\"},{\"attributes\":{\"formatter\":{\"id\":\"59fa5aab-8bab-468c-9327-16d8b2ed21e4\",\"type\":\"BasicTickFormatter\"},\"plot\":{\"id\":\"c5924f10-3db1-4c2f-a11c-47f11dd28807\",\"subtype\":\"Figure\",\"type\":\"Plot\"},\"ticker\":{\"id\":\"e40704ab-051d-4ef9-baf7-15a1a37ce006\",\"type\":\"BasicTicker\"}},\"id\":\"74667972-3387-4dca-a589-cd589553ddd7\",\"type\":\"LinearAxis\"},{\"attributes\":{\"callback\":null},\"id\":\"fbf717c3-b920-43bf-8222-ebe00ec44440\",\"type\":\"DataRange1d\"},{\"attributes\":{\"plot\":null,\"text\":null},\"id\":\"68ae8766-1049-4b95-8bf7-0a459aacc3ec\",\"type\":\"Title\"},{\"attributes\":{\"plot\":{\"id\":\"c11e1207-0701-4301-b1bb-15c9ac129010\",\"subtype\":\"Figure\",\"type\":\"Plot\"},\"ticker\":{\"id\":\"182fbf16-aaa6-49a7-81b8-0c982f36aded\",\"type\":\"BasicTicker\"}},\"id\":\"8acae84d-3d36-4129-a0d0-712a6d5b1060\",\"type\":\"Grid\"},{\"attributes\":{\"dimension\":1,\"plot\":{\"id\":\"c5924f10-3db1-4c2f-a11c-47f11dd28807\",\"subtype\":\"Figure\",\"type\":\"Plot\"},\"ticker\":{\"id\":\"25b0f0a2-9d28-4a14-92e9-ff7670c5225a\",\"type\":\"BasicTicker\"}},\"id\":\"851344f6-5786-4a06-84de-52cc30a641f2\",\"type\":\"Grid\"},{\"attributes\":{\"children\":[{\"id\":\"314670e1-361e-4cea-9605-c64ecc9183bd\",\"type\":\"Row\"}]},\"id\":\"e00c0091-a521-4f97-abce-196c40d05a2e\",\"type\":\"Column\"},{\"attributes\":{\"formatter\":{\"id\":\"f2fd9883-2003-4b0b-aefa-bf0894c2b70a\",\"type\":\"BasicTickFormatter\"},\"plot\":{\"id\":\"c5924f10-3db1-4c2f-a11c-47f11dd28807\",\"subtype\":\"Figure\",\"type\":\"Plot\"},\"ticker\":{\"id\":\"25b0f0a2-9d28-4a14-92e9-ff7670c5225a\",\"type\":\"BasicTicker\"}},\"id\":\"0731e78c-2b2c-4980-955c-7e159b469bec\",\"type\":\"LinearAxis\"},{\"attributes\":{\"active_drag\":\"auto\",\"active_scroll\":\"auto\",\"active_tap\":\"auto\",\"tools\":[{\"id\":\"546f7c4d-ab1c-4ce4-902d-7a588f30ce53\",\"type\":\"ResetTool\"},{\"id\":\"677e3f7f-6860-4b47-b6e5-3f3fbdc2e0a4\",\"type\":\"PanTool\"}]},\"id\":\"91b9bb34-e63d-454e-a86b-7ddf5ec8cedc\",\"type\":\"Toolbar\"},{\"attributes\":{\"formatter\":{\"id\":\"a98da791-0e24-4691-b440-0a713f8b7fd9\",\"type\":\"BasicTickFormatter\"},\"plot\":{\"id\":\"d85e6061-80bd-4c93-85e6-655cea39b4ae\",\"subtype\":\"Figure\",\"type\":\"Plot\"},\"ticker\":{\"id\":\"e192c754-9a96-4e9c-951d-b26c139f07be\",\"type\":\"BasicTicker\"}},\"id\":\"634fbd45-d883-4b52-866a-c4cb2a4cc17b\",\"type\":\"LinearAxis\"},{\"attributes\":{},\"id\":\"f4f24175-0844-44fe-a3e2-c6ecca9ab0cd\",\"type\":\"BasicTickFormatter\"},{\"attributes\":{\"active_drag\":\"auto\",\"active_scroll\":\"auto\",\"active_tap\":\"auto\",\"tools\":[{\"id\":\"5f4fb0e2-afd1-47ff-96f7-56a5ea61d329\",\"type\":\"ResetTool\"},{\"id\":\"ec2483b1-2aaa-4ddc-ac0a-a53715a54352\",\"type\":\"PanTool\"}]},\"id\":\"8a9b8334-ab17-4e35-a31e-31031a613929\",\"type\":\"Toolbar\"},{\"attributes\":{\"children\":[{\"id\":\"c11e1207-0701-4301-b1bb-15c9ac129010\",\"subtype\":\"Figure\",\"type\":\"Plot\"},{\"id\":\"c5924f10-3db1-4c2f-a11c-47f11dd28807\",\"subtype\":\"Figure\",\"type\":\"Plot\"},{\"id\":\"d85e6061-80bd-4c93-85e6-655cea39b4ae\",\"subtype\":\"Figure\",\"type\":\"Plot\"}]},\"id\":\"314670e1-361e-4cea-9605-c64ecc9183bd\",\"type\":\"Row\"},{\"attributes\":{},\"id\":\"e40704ab-051d-4ef9-baf7-15a1a37ce006\",\"type\":\"BasicTicker\"},{\"attributes\":{\"below\":[{\"id\":\"434c8b21-5609-47df-ab87-3643a5809cb2\",\"type\":\"LinearAxis\"}],\"left\":[{\"id\":\"7e3f87ad-fbd3-42e7-83b4-30b04b8e44aa\",\"type\":\"LinearAxis\"}],\"plot_height\":250,\"plot_width\":255,\"renderers\":[{\"id\":\"434c8b21-5609-47df-ab87-3643a5809cb2\",\"type\":\"LinearAxis\"},{\"id\":\"8acae84d-3d36-4129-a0d0-712a6d5b1060\",\"type\":\"Grid\"},{\"id\":\"7e3f87ad-fbd3-42e7-83b4-30b04b8e44aa\",\"type\":\"LinearAxis\"},{\"id\":\"0e5781f5-0dcd-4324-9024-7be6462bef8a\",\"type\":\"Grid\"},{\"id\":\"17ca3367-00c0-4066-82e9-41babb817055\",\"type\":\"GlyphRenderer\"}],\"title\":{\"id\":\"68ae8766-1049-4b95-8bf7-0a459aacc3ec\",\"type\":\"Title\"},\"tool_events\":{\"id\":\"f34ecc15-e24f-465c-ac2d-a625fd762239\",\"type\":\"ToolEvents\"},\"toolbar\":{\"id\":\"8a9b8334-ab17-4e35-a31e-31031a613929\",\"type\":\"Toolbar\"},\"toolbar_location\":null,\"x_range\":{\"id\":\"fbf717c3-b920-43bf-8222-ebe00ec44440\",\"type\":\"DataRange1d\"},\"y_range\":{\"id\":\"238c443a-3cc0-499f-8b89-64e1958482c1\",\"type\":\"DataRange1d\"}},\"id\":\"c11e1207-0701-4301-b1bb-15c9ac129010\",\"subtype\":\"Figure\",\"type\":\"Plot\"},{\"attributes\":{},\"id\":\"59fa5aab-8bab-468c-9327-16d8b2ed21e4\",\"type\":\"BasicTickFormatter\"},{\"attributes\":{},\"id\":\"1e8201c8-673f-4af9-b892-03bcf35ec661\",\"type\":\"ToolEvents\"},{\"attributes\":{\"dimension\":1,\"plot\":{\"id\":\"d85e6061-80bd-4c93-85e6-655cea39b4ae\",\"subtype\":\"Figure\",\"type\":\"Plot\"},\"ticker\":{\"id\":\"f6694fdf-4f6e-4064-8483-65052d43ceb9\",\"type\":\"BasicTicker\"}},\"id\":\"67af9c91-02b9-43ac-ae81-4733f8fd1ed1\",\"type\":\"Grid\"},{\"attributes\":{\"formatter\":{\"id\":\"f4f24175-0844-44fe-a3e2-c6ecca9ab0cd\",\"type\":\"BasicTickFormatter\"},\"plot\":{\"id\":\"c11e1207-0701-4301-b1bb-15c9ac129010\",\"subtype\":\"Figure\",\"type\":\"Plot\"},\"ticker\":{\"id\":\"182fbf16-aaa6-49a7-81b8-0c982f36aded\",\"type\":\"BasicTicker\"}},\"id\":\"434c8b21-5609-47df-ab87-3643a5809cb2\",\"type\":\"LinearAxis\"},{\"attributes\":{\"plot\":{\"id\":\"d85e6061-80bd-4c93-85e6-655cea39b4ae\",\"subtype\":\"Figure\",\"type\":\"Plot\"}},\"id\":\"dc284dc9-f180-4ba7-bd13-42a4611b125c\",\"type\":\"PanTool\"},{\"attributes\":{\"below\":[{\"id\":\"634fbd45-d883-4b52-866a-c4cb2a4cc17b\",\"type\":\"LinearAxis\"}],\"left\":[{\"id\":\"64719411-da3e-4957-b985-a61bd9d5ebe5\",\"type\":\"LinearAxis\"}],\"plot_height\":250,\"plot_width\":255,\"renderers\":[{\"id\":\"634fbd45-d883-4b52-866a-c4cb2a4cc17b\",\"type\":\"LinearAxis\"},{\"id\":\"565c5e1d-b99f-4e34-8b27-946a64413224\",\"type\":\"Grid\"},{\"id\":\"64719411-da3e-4957-b985-a61bd9d5ebe5\",\"type\":\"LinearAxis\"},{\"id\":\"67af9c91-02b9-43ac-ae81-4733f8fd1ed1\",\"type\":\"Grid\"},{\"id\":\"963f011b-e42f-476f-bd6d-37f561e322e3\",\"type\":\"GlyphRenderer\"}],\"title\":{\"id\":\"1d40e1a8-9749-462d-81b1-e75876dc4f0f\",\"type\":\"Title\"},\"tool_events\":{\"id\":\"41e2a2ec-c5f1-4092-a215-b48b8f32d4d6\",\"type\":\"ToolEvents\"},\"toolbar\":{\"id\":\"4e596fa3-7098-4bb9-a4f5-f3068822c0f6\",\"type\":\"Toolbar\"},\"toolbar_location\":null,\"x_range\":{\"id\":\"fbf717c3-b920-43bf-8222-ebe00ec44440\",\"type\":\"DataRange1d\"},\"y_range\":{\"id\":\"95dbe447-3d38-4f5c-b42c-f4652506265b\",\"type\":\"DataRange1d\"}},\"id\":\"d85e6061-80bd-4c93-85e6-655cea39b4ae\",\"subtype\":\"Figure\",\"type\":\"Plot\"},{\"attributes\":{\"data_source\":{\"id\":\"a5c20829-20f0-4e6c-be96-76c3801e04d7\",\"type\":\"ColumnDataSource\"},\"glyph\":{\"id\":\"f7ee1137-4e26-4d22-8341-204c070eb848\",\"type\":\"Circle\"},\"hover_glyph\":null,\"nonselection_glyph\":{\"id\":\"cf70163a-1cb9-4be0-9053-8efa68637c76\",\"type\":\"Circle\"},\"selection_glyph\":null},\"id\":\"17ca3367-00c0-4066-82e9-41babb817055\",\"type\":\"GlyphRenderer\"},{\"attributes\":{\"active_drag\":\"auto\",\"active_scroll\":\"auto\",\"active_tap\":\"auto\",\"tools\":[{\"id\":\"9e6411bf-67ae-43cd-9b1a-977500013095\",\"type\":\"ResetTool\"},{\"id\":\"dc284dc9-f180-4ba7-bd13-42a4611b125c\",\"type\":\"PanTool\"}]},\"id\":\"4e596fa3-7098-4bb9-a4f5-f3068822c0f6\",\"type\":\"Toolbar\"},{\"attributes\":{},\"id\":\"2df3a597-b5a7-4704-9a58-83803ff4caf3\",\"type\":\"BasicTickFormatter\"},{\"attributes\":{},\"id\":\"a98da791-0e24-4691-b440-0a713f8b7fd9\",\"type\":\"BasicTickFormatter\"},{\"attributes\":{},\"id\":\"e192c754-9a96-4e9c-951d-b26c139f07be\",\"type\":\"BasicTicker\"},{\"attributes\":{\"fill_alpha\":{\"value\":0.1},\"fill_color\":{\"value\":\"#1f77b4\"},\"line_alpha\":{\"value\":0.1},\"line_color\":{\"value\":\"#1f77b4\"},\"size\":{\"units\":\"screen\",\"value\":13},\"x\":{\"field\":\"x\"},\"y\":{\"field\":\"y\"}},\"id\":\"7a8740b7-34bc-4fd9-849d-9d8490f49b75\",\"type\":\"Diamond\"},{\"attributes\":{\"plot\":null,\"text\":null},\"id\":\"1d40e1a8-9749-462d-81b1-e75876dc4f0f\",\"type\":\"Title\"},{\"attributes\":{\"fill_alpha\":{\"value\":0.8},\"fill_color\":{\"value\":\"blue\"},\"line_alpha\":{\"value\":0.8},\"line_color\":{\"value\":\"blue\"},\"size\":{\"units\":\"screen\",\"value\":13},\"x\":{\"field\":\"x\"},\"y\":{\"field\":\"y\"}},\"id\":\"fb9fdd4c-605b-4921-be4d-2fc390f88d36\",\"type\":\"Square\"},{\"attributes\":{\"dimension\":1,\"plot\":{\"id\":\"c11e1207-0701-4301-b1bb-15c9ac129010\",\"subtype\":\"Figure\",\"type\":\"Plot\"},\"ticker\":{\"id\":\"7577d2cd-3b47-46d4-9a0d-326686679fa1\",\"type\":\"BasicTicker\"}},\"id\":\"0e5781f5-0dcd-4324-9024-7be6462bef8a\",\"type\":\"Grid\"},{\"attributes\":{\"plot\":{\"id\":\"c11e1207-0701-4301-b1bb-15c9ac129010\",\"subtype\":\"Figure\",\"type\":\"Plot\"}},\"id\":\"ec2483b1-2aaa-4ddc-ac0a-a53715a54352\",\"type\":\"PanTool\"},{\"attributes\":{\"below\":[{\"id\":\"74667972-3387-4dca-a589-cd589553ddd7\",\"type\":\"LinearAxis\"}],\"left\":[{\"id\":\"0731e78c-2b2c-4980-955c-7e159b469bec\",\"type\":\"LinearAxis\"}],\"plot_height\":250,\"plot_width\":255,\"renderers\":[{\"id\":\"74667972-3387-4dca-a589-cd589553ddd7\",\"type\":\"LinearAxis\"},{\"id\":\"47b1b76f-3e8a-4691-9797-cb3addd5e7cf\",\"type\":\"Grid\"},{\"id\":\"0731e78c-2b2c-4980-955c-7e159b469bec\",\"type\":\"LinearAxis\"},{\"id\":\"851344f6-5786-4a06-84de-52cc30a641f2\",\"type\":\"Grid\"},{\"id\":\"01d0eea5-c785-4d65-b69f-a287ae0dce94\",\"type\":\"GlyphRenderer\"}],\"title\":{\"id\":\"cac2a5d4-2566-4644-938b-58c4527ba76b\",\"type\":\"Title\"},\"tool_events\":{\"id\":\"1e8201c8-673f-4af9-b892-03bcf35ec661\",\"type\":\"ToolEvents\"},\"toolbar\":{\"id\":\"91b9bb34-e63d-454e-a86b-7ddf5ec8cedc\",\"type\":\"Toolbar\"},\"toolbar_location\":null,\"x_range\":{\"id\":\"fbf717c3-b920-43bf-8222-ebe00ec44440\",\"type\":\"DataRange1d\"},\"y_range\":{\"id\":\"238c443a-3cc0-499f-8b89-64e1958482c1\",\"type\":\"DataRange1d\"}},\"id\":\"c5924f10-3db1-4c2f-a11c-47f11dd28807\",\"subtype\":\"Figure\",\"type\":\"Plot\"},{\"attributes\":{},\"id\":\"f34ecc15-e24f-465c-ac2d-a625fd762239\",\"type\":\"ToolEvents\"},{\"attributes\":{\"formatter\":{\"id\":\"2df3a597-b5a7-4704-9a58-83803ff4caf3\",\"type\":\"BasicTickFormatter\"},\"plot\":{\"id\":\"d85e6061-80bd-4c93-85e6-655cea39b4ae\",\"subtype\":\"Figure\",\"type\":\"Plot\"},\"ticker\":{\"id\":\"f6694fdf-4f6e-4064-8483-65052d43ceb9\",\"type\":\"BasicTicker\"}},\"id\":\"64719411-da3e-4957-b985-a61bd9d5ebe5\",\"type\":\"LinearAxis\"},{\"attributes\":{\"callback\":null},\"id\":\"95dbe447-3d38-4f5c-b42c-f4652506265b\",\"type\":\"DataRange1d\"},{\"attributes\":{},\"id\":\"182fbf16-aaa6-49a7-81b8-0c982f36aded\",\"type\":\"BasicTicker\"},{\"attributes\":{\"plot\":{\"id\":\"c5924f10-3db1-4c2f-a11c-47f11dd28807\",\"subtype\":\"Figure\",\"type\":\"Plot\"}},\"id\":\"677e3f7f-6860-4b47-b6e5-3f3fbdc2e0a4\",\"type\":\"PanTool\"},{\"attributes\":{},\"id\":\"f6694fdf-4f6e-4064-8483-65052d43ceb9\",\"type\":\"BasicTicker\"},{\"attributes\":{\"fill_alpha\":{\"value\":0.5},\"fill_color\":{\"value\":\"yellow\"},\"line_alpha\":{\"value\":0.5},\"line_color\":{\"value\":\"green\"},\"size\":{\"units\":\"screen\",\"value\":13},\"x\":{\"field\":\"x\"},\"y\":{\"field\":\"y\"}},\"id\":\"f7ee1137-4e26-4d22-8341-204c070eb848\",\"type\":\"Circle\"},{\"attributes\":{\"formatter\":{\"id\":\"a51d3620-2763-4b16-9d84-34abdf098d33\",\"type\":\"BasicTickFormatter\"},\"plot\":{\"id\":\"c11e1207-0701-4301-b1bb-15c9ac129010\",\"subtype\":\"Figure\",\"type\":\"Plot\"},\"ticker\":{\"id\":\"7577d2cd-3b47-46d4-9a0d-326686679fa1\",\"type\":\"BasicTicker\"}},\"id\":\"7e3f87ad-fbd3-42e7-83b4-30b04b8e44aa\",\"type\":\"LinearAxis\"},{\"attributes\":{\"callback\":null,\"column_names\":[\"x\",\"y\"],\"data\":{\"x\":[-3,-4,-2,-6,-9,-8,-11,2,3,1,5,8,3,6,4,11,9],\"y\":[-27,-64,-8,-216,-729,-512,-1331,8,27,1,125,512,27,216,64,1331,729]}},\"id\":\"0d866f98-65b4-48da-8c50-243b463a6af7\",\"type\":\"ColumnDataSource\"}],\"root_ids\":[\"291090db-d1e5-47ea-9d30-d9e17e07c76b\"]},\"title\":\"Bokeh Application\",\"version\":\"0.12.1\"}};\n",
       "            var render_items = [{\"docid\":\"7a76a7fa-ccac-46b5-a40e-1e5781cbcb8b\",\"elementid\":\"7e443020-be6f-499b-9e5c-544712615d98\",\"modelid\":\"291090db-d1e5-47ea-9d30-d9e17e07c76b\",\"notebook_comms_target\":\"eeb08043-cce3-42f3-89f5-a4d3cb71787f\"}];\n",
       "            \n",
       "            Bokeh.embed.embed_items(docs_json, render_items);\n",
       "        });\n",
       "      },\n",
       "      function(Bokeh) {\n",
       "      }\n",
       "    ];\n",
       "  \n",
       "    function run_inline_js() {\n",
       "      for (var i = 0; i < inline_js.length; i++) {\n",
       "        inline_js[i](window.Bokeh);\n",
       "      }\n",
       "    }\n",
       "  \n",
       "    if (window._bokeh_is_loading === 0) {\n",
       "      console.log(\"Bokeh: BokehJS loaded, going straight to plotting\");\n",
       "      run_inline_js();\n",
       "    } else {\n",
       "      load_libs(js_urls, function() {\n",
       "        console.log(\"Bokeh: BokehJS plotting callback run at\", now());\n",
       "        run_inline_js();\n",
       "      });\n",
       "    }\n",
       "  }(this));\n",
       "</script>"
      ]
     },
     "metadata": {},
     "output_type": "display_data"
    },
    {
     "data": {
      "text/html": [
       "<p><code>&lt;Bokeh Notebook handle for <strong>In[61]</strong>&gt;</code></p>"
      ],
      "text/plain": [
       "<bokeh.io._CommsHandle at 0x113c50b50>"
      ]
     },
     "execution_count": 61,
     "metadata": {},
     "output_type": "execute_result"
    }
   ],
   "source": [
    "p1 = figure(plot_width=255, plot_height=250, tools='reset,pan')\n",
    "p1.circle(x, y0, size=13, color='green', fill_color='yellow', alpha=0.5)\n",
    "\n",
    "p2 = figure(x_range=p1.x_range, y_range=p1.y_range, plot_width=255, plot_height=250,tools='reset,pan')\n",
    "p2.diamond(x, y1, size=13, color='red', fill_color='orange')\n",
    "\n",
    "p3 = figure(x_range=p1.x_range, plot_width=255, plot_height=250,tools='reset,pan')\n",
    "p3.square(x, y2, size=13, color='blue', alpha=0.8)\n",
    "\n",
    "p = gridplot([[p1,p2,p3]])\n",
    "\n",
    "show(p)"
   ]
  },
  {
   "cell_type": "code",
   "execution_count": 62,
   "metadata": {
    "collapsed": true
   },
   "outputs": [],
   "source": [
    "# Linked Brushing"
   ]
  },
  {
   "cell_type": "code",
   "execution_count": 63,
   "metadata": {
    "collapsed": true
   },
   "outputs": [],
   "source": [
    "from bokeh.io import output_notebook, show\n",
    "from bokeh.plotting import figure\n",
    "from bokeh.layouts import gridplot\n",
    "\n",
    "from bokeh.models import ColumnDataSource"
   ]
  },
  {
   "cell_type": "code",
   "execution_count": 64,
   "metadata": {
    "collapsed": false
   },
   "outputs": [
    {
     "data": {
      "text/plain": [
       "[-3, -4, -2, -6, -9, -8, -11, 2, 3, 1, 5, 8, 3, 6, 4, 11, 9]"
      ]
     },
     "execution_count": 64,
     "metadata": {},
     "output_type": "execute_result"
    }
   ],
   "source": [
    "x"
   ]
  },
  {
   "cell_type": "code",
   "execution_count": 67,
   "metadata": {
    "collapsed": false
   },
   "outputs": [],
   "source": [
    "#y0"
   ]
  },
  {
   "cell_type": "code",
   "execution_count": 69,
   "metadata": {
    "collapsed": false
   },
   "outputs": [],
   "source": [
    "source = ColumnDataSource(data=dict(x=x,y0=y0,y1=y1))"
   ]
  },
  {
   "cell_type": "code",
   "execution_count": 71,
   "metadata": {
    "collapsed": false
   },
   "outputs": [
    {
     "data": {
      "text/html": [
       "\n",
       "\n",
       "    <div class=\"bk-root\">\n",
       "        <div class=\"plotdiv\" id=\"dab8ccc1-bc78-44c0-8d2b-a86310d4f27d\"></div>\n",
       "    </div>\n",
       "<script type=\"text/javascript\">\n",
       "  \n",
       "  (function(global) {\n",
       "    function now() {\n",
       "      return new Date();\n",
       "    }\n",
       "  \n",
       "    var force = \"\";\n",
       "  \n",
       "    if (typeof (window._bokeh_onload_callbacks) === \"undefined\" || force !== \"\") {\n",
       "      window._bokeh_onload_callbacks = [];\n",
       "      window._bokeh_is_loading = undefined;\n",
       "    }\n",
       "  \n",
       "    function run_callbacks() {\n",
       "      window._bokeh_onload_callbacks.forEach(function(callback) { callback() });\n",
       "      delete window._bokeh_onload_callbacks\n",
       "      console.info(\"Bokeh: all callbacks have finished\");\n",
       "    }\n",
       "  \n",
       "    function load_libs(js_urls, callback) {\n",
       "      window._bokeh_onload_callbacks.push(callback);\n",
       "      if (window._bokeh_is_loading > 0) {\n",
       "        console.log(\"Bokeh: BokehJS is being loaded, scheduling callback at\", now());\n",
       "        return null;\n",
       "      }\n",
       "      if (js_urls == null || js_urls.length === 0) {\n",
       "        run_callbacks();\n",
       "        return null;\n",
       "      }\n",
       "      console.log(\"Bokeh: BokehJS not loaded, scheduling load and callback at\", now());\n",
       "      window._bokeh_is_loading = js_urls.length;\n",
       "      for (var i = 0; i < js_urls.length; i++) {\n",
       "        var url = js_urls[i];\n",
       "        var s = document.createElement('script');\n",
       "        s.src = url;\n",
       "        s.async = false;\n",
       "        s.onreadystatechange = s.onload = function() {\n",
       "          window._bokeh_is_loading--;\n",
       "          if (window._bokeh_is_loading === 0) {\n",
       "            console.log(\"Bokeh: all BokehJS libraries loaded\");\n",
       "            run_callbacks()\n",
       "          }\n",
       "        };\n",
       "        s.onerror = function() {\n",
       "          console.warn(\"failed to load library \" + url);\n",
       "        };\n",
       "        console.log(\"Bokeh: injecting script tag for BokehJS library: \", url);\n",
       "        document.getElementsByTagName(\"head\")[0].appendChild(s);\n",
       "      }\n",
       "    };var element = document.getElementById(\"dab8ccc1-bc78-44c0-8d2b-a86310d4f27d\");\n",
       "    if (element == null) {\n",
       "      console.log(\"Bokeh: ERROR: autoload.js configured with elementid 'dab8ccc1-bc78-44c0-8d2b-a86310d4f27d' but no matching script tag was found. \")\n",
       "      return false;\n",
       "    }\n",
       "  \n",
       "    var js_urls = [];\n",
       "  \n",
       "    var inline_js = [\n",
       "      function(Bokeh) {\n",
       "        Bokeh.$(function() {\n",
       "            var docs_json = {\"f4a46371-93c2-40de-b0fe-09964c294547\":{\"roots\":{\"references\":[{\"attributes\":{\"data_source\":{\"id\":\"7430d392-425a-4ff3-ad37-d3c75d568d18\",\"type\":\"ColumnDataSource\"},\"glyph\":{\"id\":\"cc6a3a5e-758e-4b3b-901e-05f74489b320\",\"type\":\"Circle\"},\"hover_glyph\":null,\"nonselection_glyph\":{\"id\":\"b1fdff52-3298-44e3-a2ba-fd01c9024ceb\",\"type\":\"Circle\"},\"selection_glyph\":null},\"id\":\"7f6bd369-be65-4454-8544-82887eff01fc\",\"type\":\"GlyphRenderer\"},{\"attributes\":{},\"id\":\"0488d884-a976-4382-bc61-38a89c88ed59\",\"type\":\"BasicTickFormatter\"},{\"attributes\":{\"plot\":null,\"text\":null},\"id\":\"98ca710b-80c8-4f7d-b96d-4f332a15bb77\",\"type\":\"Title\"},{\"attributes\":{\"dimension\":1,\"plot\":{\"id\":\"0ce110d6-4686-4be9-b54e-5a9f1e8b2fb8\",\"subtype\":\"Figure\",\"type\":\"Plot\"},\"ticker\":{\"id\":\"e397fdc9-287f-4aef-b1db-1f9617a53fdb\",\"type\":\"BasicTicker\"}},\"id\":\"6dc5dc16-bf1b-4392-8f1f-0dcbd61e267e\",\"type\":\"Grid\"},{\"attributes\":{\"callback\":null},\"id\":\"f52ffc33-f3db-41de-a89f-107fc8ff7274\",\"type\":\"DataRange1d\"},{\"attributes\":{\"below\":[{\"id\":\"bb3191c1-36cd-49ea-9b83-0c56174f9fb5\",\"type\":\"LinearAxis\"}],\"left\":[{\"id\":\"d809ee57-f00e-4f77-bb3e-e09f6c50d0e4\",\"type\":\"LinearAxis\"}],\"plot_height\":250,\"plot_width\":255,\"renderers\":[{\"id\":\"bb3191c1-36cd-49ea-9b83-0c56174f9fb5\",\"type\":\"LinearAxis\"},{\"id\":\"5711922e-278f-4cf7-b2fa-e14d690f430b\",\"type\":\"Grid\"},{\"id\":\"d809ee57-f00e-4f77-bb3e-e09f6c50d0e4\",\"type\":\"LinearAxis\"},{\"id\":\"acb95f21-425f-4685-959a-3b1ff1a250a2\",\"type\":\"Grid\"},{\"id\":\"1ea77869-d784-49ae-9037-2833c2622025\",\"type\":\"GlyphRenderer\"}],\"title\":{\"id\":\"162d2b9b-22ab-4510-a256-a06fb85c51ee\",\"type\":\"Title\"},\"tool_events\":{\"id\":\"2d619f78-4199-4240-9e59-0253eedf1760\",\"type\":\"ToolEvents\"},\"toolbar\":{\"id\":\"1067a10c-5879-4908-91e9-75c28603a1d2\",\"type\":\"Toolbar\"},\"toolbar_location\":null,\"x_range\":{\"id\":\"ab1f80ff-ebf7-4adf-bcce-5c57e191ea00\",\"type\":\"DataRange1d\"},\"y_range\":{\"id\":\"f5102674-89e0-4660-b07c-096b25909e90\",\"type\":\"DataRange1d\"}},\"id\":\"df21e923-a704-4d88-9d1d-4289abba4520\",\"subtype\":\"Figure\",\"type\":\"Plot\"},{\"attributes\":{},\"id\":\"e397fdc9-287f-4aef-b1db-1f9617a53fdb\",\"type\":\"BasicTicker\"},{\"attributes\":{},\"id\":\"7cc36513-2b0d-4e6c-9a91-ffe376b9e197\",\"type\":\"BasicTicker\"},{\"attributes\":{\"children\":[{\"id\":\"e85c15ed-b9d9-41cb-94b1-d52ec29ece59\",\"type\":\"ToolbarBox\"},{\"id\":\"f1a5bd8f-836c-4599-8eec-ed2dbe549c7f\",\"type\":\"Column\"}]},\"id\":\"e6af552e-75ff-428c-b820-c6689efdb1fd\",\"type\":\"Column\"},{\"attributes\":{\"active_drag\":\"auto\",\"active_scroll\":\"auto\",\"active_tap\":\"auto\",\"tools\":[{\"id\":\"167821ab-b122-4918-ab81-bf6825e8fddd\",\"type\":\"ResetTool\"},{\"id\":\"450f1840-e9aa-41bd-bb98-23d9fa83eb55\",\"type\":\"PanTool\"}]},\"id\":\"f8ae5320-99ad-4dc1-8851-f0cc350a3b99\",\"type\":\"Toolbar\"},{\"attributes\":{\"plot\":null,\"text\":null},\"id\":\"162d2b9b-22ab-4510-a256-a06fb85c51ee\",\"type\":\"Title\"},{\"attributes\":{\"below\":[{\"id\":\"087afb43-b717-4442-b059-e5fd2c3aec23\",\"type\":\"LinearAxis\"}],\"left\":[{\"id\":\"02eb2d21-4ba0-4ffa-9dcd-c2fb8431593b\",\"type\":\"LinearAxis\"}],\"plot_height\":250,\"plot_width\":255,\"renderers\":[{\"id\":\"087afb43-b717-4442-b059-e5fd2c3aec23\",\"type\":\"LinearAxis\"},{\"id\":\"0480cfaa-cd71-4c6e-b3a6-6752ba89d4e0\",\"type\":\"Grid\"},{\"id\":\"02eb2d21-4ba0-4ffa-9dcd-c2fb8431593b\",\"type\":\"LinearAxis\"},{\"id\":\"6dc5dc16-bf1b-4392-8f1f-0dcbd61e267e\",\"type\":\"Grid\"},{\"id\":\"7f6bd369-be65-4454-8544-82887eff01fc\",\"type\":\"GlyphRenderer\"}],\"title\":{\"id\":\"98ca710b-80c8-4f7d-b96d-4f332a15bb77\",\"type\":\"Title\"},\"tool_events\":{\"id\":\"86515425-9a7c-4242-9f8e-913fdab7a33e\",\"type\":\"ToolEvents\"},\"toolbar\":{\"id\":\"f8ae5320-99ad-4dc1-8851-f0cc350a3b99\",\"type\":\"Toolbar\"},\"toolbar_location\":null,\"x_range\":{\"id\":\"f52ffc33-f3db-41de-a89f-107fc8ff7274\",\"type\":\"DataRange1d\"},\"y_range\":{\"id\":\"153f720b-3ea3-479e-a102-05557bfd682b\",\"type\":\"DataRange1d\"}},\"id\":\"0ce110d6-4686-4be9-b54e-5a9f1e8b2fb8\",\"subtype\":\"Figure\",\"type\":\"Plot\"},{\"attributes\":{\"formatter\":{\"id\":\"0488d884-a976-4382-bc61-38a89c88ed59\",\"type\":\"BasicTickFormatter\"},\"plot\":{\"id\":\"df21e923-a704-4d88-9d1d-4289abba4520\",\"subtype\":\"Figure\",\"type\":\"Plot\"},\"ticker\":{\"id\":\"f3cbbe52-e3ab-4be7-9241-d4c9e8f22233\",\"type\":\"BasicTicker\"}},\"id\":\"bb3191c1-36cd-49ea-9b83-0c56174f9fb5\",\"type\":\"LinearAxis\"},{\"attributes\":{\"plot\":{\"id\":\"0ce110d6-4686-4be9-b54e-5a9f1e8b2fb8\",\"subtype\":\"Figure\",\"type\":\"Plot\"},\"ticker\":{\"id\":\"7cc36513-2b0d-4e6c-9a91-ffe376b9e197\",\"type\":\"BasicTicker\"}},\"id\":\"0480cfaa-cd71-4c6e-b3a6-6752ba89d4e0\",\"type\":\"Grid\"},{\"attributes\":{},\"id\":\"f3cbbe52-e3ab-4be7-9241-d4c9e8f22233\",\"type\":\"BasicTicker\"},{\"attributes\":{\"callback\":null},\"id\":\"f5102674-89e0-4660-b07c-096b25909e90\",\"type\":\"DataRange1d\"},{\"attributes\":{\"callback\":null},\"id\":\"ab1f80ff-ebf7-4adf-bcce-5c57e191ea00\",\"type\":\"DataRange1d\"},{\"attributes\":{\"data_source\":{\"id\":\"7430d392-425a-4ff3-ad37-d3c75d568d18\",\"type\":\"ColumnDataSource\"},\"glyph\":{\"id\":\"1bf99b11-e831-4ed7-b340-4e7b955e2f4d\",\"type\":\"Circle\"},\"hover_glyph\":null,\"nonselection_glyph\":{\"id\":\"11ca8863-d689-4a5b-8c85-feeef862a340\",\"type\":\"Circle\"},\"selection_glyph\":null},\"id\":\"1ea77869-d784-49ae-9037-2833c2622025\",\"type\":\"GlyphRenderer\"},{\"attributes\":{\"formatter\":{\"id\":\"4c7d6021-633c-4912-aaec-e5542aa8db96\",\"type\":\"BasicTickFormatter\"},\"plot\":{\"id\":\"0ce110d6-4686-4be9-b54e-5a9f1e8b2fb8\",\"subtype\":\"Figure\",\"type\":\"Plot\"},\"ticker\":{\"id\":\"7cc36513-2b0d-4e6c-9a91-ffe376b9e197\",\"type\":\"BasicTicker\"}},\"id\":\"087afb43-b717-4442-b059-e5fd2c3aec23\",\"type\":\"LinearAxis\"},{\"attributes\":{\"formatter\":{\"id\":\"5b937449-40bc-41fa-9ff8-310b8f5fef99\",\"type\":\"BasicTickFormatter\"},\"plot\":{\"id\":\"0ce110d6-4686-4be9-b54e-5a9f1e8b2fb8\",\"subtype\":\"Figure\",\"type\":\"Plot\"},\"ticker\":{\"id\":\"e397fdc9-287f-4aef-b1db-1f9617a53fdb\",\"type\":\"BasicTicker\"}},\"id\":\"02eb2d21-4ba0-4ffa-9dcd-c2fb8431593b\",\"type\":\"LinearAxis\"},{\"attributes\":{\"fill_alpha\":{\"value\":0.1},\"fill_color\":{\"value\":\"#1f77b4\"},\"line_alpha\":{\"value\":0.1},\"line_color\":{\"value\":\"#1f77b4\"},\"size\":{\"units\":\"screen\",\"value\":13},\"x\":{\"field\":\"x\"},\"y\":{\"field\":\"y0\"}},\"id\":\"b1fdff52-3298-44e3-a2ba-fd01c9024ceb\",\"type\":\"Circle\"},{\"attributes\":{},\"id\":\"2d619f78-4199-4240-9e59-0253eedf1760\",\"type\":\"ToolEvents\"},{\"attributes\":{},\"id\":\"244c20c0-1040-44e5-bd52-9eec3683ae58\",\"type\":\"BasicTickFormatter\"},{\"attributes\":{\"plot\":{\"id\":\"df21e923-a704-4d88-9d1d-4289abba4520\",\"subtype\":\"Figure\",\"type\":\"Plot\"}},\"id\":\"4ace1ba9-317d-4a03-a867-5d05459b1c45\",\"type\":\"PanTool\"},{\"attributes\":{},\"id\":\"86515425-9a7c-4242-9f8e-913fdab7a33e\",\"type\":\"ToolEvents\"},{\"attributes\":{},\"id\":\"5b937449-40bc-41fa-9ff8-310b8f5fef99\",\"type\":\"BasicTickFormatter\"},{\"attributes\":{\"plot\":{\"id\":\"0ce110d6-4686-4be9-b54e-5a9f1e8b2fb8\",\"subtype\":\"Figure\",\"type\":\"Plot\"}},\"id\":\"450f1840-e9aa-41bd-bb98-23d9fa83eb55\",\"type\":\"PanTool\"},{\"attributes\":{\"dimension\":1,\"plot\":{\"id\":\"df21e923-a704-4d88-9d1d-4289abba4520\",\"subtype\":\"Figure\",\"type\":\"Plot\"},\"ticker\":{\"id\":\"45ef4937-f25a-4b72-b01a-61a22544b92b\",\"type\":\"BasicTicker\"}},\"id\":\"acb95f21-425f-4685-959a-3b1ff1a250a2\",\"type\":\"Grid\"},{\"attributes\":{\"children\":[{\"id\":\"0ce110d6-4686-4be9-b54e-5a9f1e8b2fb8\",\"subtype\":\"Figure\",\"type\":\"Plot\"},{\"id\":\"df21e923-a704-4d88-9d1d-4289abba4520\",\"subtype\":\"Figure\",\"type\":\"Plot\"}]},\"id\":\"898394ee-3d73-4c89-8861-8703be9db8f7\",\"type\":\"Row\"},{\"attributes\":{\"active_drag\":\"auto\",\"active_scroll\":\"auto\",\"active_tap\":\"auto\",\"tools\":[{\"id\":\"bedbf379-9fc6-4636-b909-8d9909651d1f\",\"type\":\"ResetTool\"},{\"id\":\"4ace1ba9-317d-4a03-a867-5d05459b1c45\",\"type\":\"PanTool\"}]},\"id\":\"1067a10c-5879-4908-91e9-75c28603a1d2\",\"type\":\"Toolbar\"},{\"attributes\":{\"plot\":{\"id\":\"df21e923-a704-4d88-9d1d-4289abba4520\",\"subtype\":\"Figure\",\"type\":\"Plot\"}},\"id\":\"bedbf379-9fc6-4636-b909-8d9909651d1f\",\"type\":\"ResetTool\"},{\"attributes\":{\"plot\":{\"id\":\"0ce110d6-4686-4be9-b54e-5a9f1e8b2fb8\",\"subtype\":\"Figure\",\"type\":\"Plot\"}},\"id\":\"167821ab-b122-4918-ab81-bf6825e8fddd\",\"type\":\"ResetTool\"},{\"attributes\":{\"formatter\":{\"id\":\"244c20c0-1040-44e5-bd52-9eec3683ae58\",\"type\":\"BasicTickFormatter\"},\"plot\":{\"id\":\"df21e923-a704-4d88-9d1d-4289abba4520\",\"subtype\":\"Figure\",\"type\":\"Plot\"},\"ticker\":{\"id\":\"45ef4937-f25a-4b72-b01a-61a22544b92b\",\"type\":\"BasicTicker\"}},\"id\":\"d809ee57-f00e-4f77-bb3e-e09f6c50d0e4\",\"type\":\"LinearAxis\"},{\"attributes\":{},\"id\":\"4c7d6021-633c-4912-aaec-e5542aa8db96\",\"type\":\"BasicTickFormatter\"},{\"attributes\":{\"fill_color\":{\"value\":\"red\"},\"line_color\":{\"value\":\"red\"},\"size\":{\"units\":\"screen\",\"value\":13},\"x\":{\"field\":\"x\"},\"y\":{\"field\":\"y0\"}},\"id\":\"cc6a3a5e-758e-4b3b-901e-05f74489b320\",\"type\":\"Circle\"},{\"attributes\":{},\"id\":\"45ef4937-f25a-4b72-b01a-61a22544b92b\",\"type\":\"BasicTicker\"},{\"attributes\":{\"callback\":null,\"column_names\":[\"y1\",\"y0\",\"x\"],\"data\":{\"x\":[-3,-4,-2,-6,-9,-8,-11,2,3,1,5,8,3,6,4,11,9],\"y0\":[-1.5,-2.0,-1.0,-3.0,-4.5,-4.0,-5.5,1.0,1.5,0.5,2.5,4.0,1.5,3.0,2.0,5.5,4.5],\"y1\":[9,16,4,36,81,64,121,4,9,1,25,64,9,36,16,121,81]}},\"id\":\"7430d392-425a-4ff3-ad37-d3c75d568d18\",\"type\":\"ColumnDataSource\"},{\"attributes\":{\"fill_color\":{\"value\":\"blue\"},\"line_color\":{\"value\":\"blue\"},\"size\":{\"units\":\"screen\",\"value\":13},\"x\":{\"field\":\"x\"},\"y\":{\"field\":\"y1\"}},\"id\":\"1bf99b11-e831-4ed7-b340-4e7b955e2f4d\",\"type\":\"Circle\"},{\"attributes\":{\"children\":[{\"id\":\"898394ee-3d73-4c89-8861-8703be9db8f7\",\"type\":\"Row\"}]},\"id\":\"f1a5bd8f-836c-4599-8eec-ed2dbe549c7f\",\"type\":\"Column\"},{\"attributes\":{\"fill_alpha\":{\"value\":0.1},\"fill_color\":{\"value\":\"#1f77b4\"},\"line_alpha\":{\"value\":0.1},\"line_color\":{\"value\":\"#1f77b4\"},\"size\":{\"units\":\"screen\",\"value\":13},\"x\":{\"field\":\"x\"},\"y\":{\"field\":\"y1\"}},\"id\":\"11ca8863-d689-4a5b-8c85-feeef862a340\",\"type\":\"Circle\"},{\"attributes\":{\"sizing_mode\":\"scale_width\",\"toolbar_location\":\"above\",\"tools\":[{\"id\":\"167821ab-b122-4918-ab81-bf6825e8fddd\",\"type\":\"ResetTool\"},{\"id\":\"450f1840-e9aa-41bd-bb98-23d9fa83eb55\",\"type\":\"PanTool\"},{\"id\":\"bedbf379-9fc6-4636-b909-8d9909651d1f\",\"type\":\"ResetTool\"},{\"id\":\"4ace1ba9-317d-4a03-a867-5d05459b1c45\",\"type\":\"PanTool\"}]},\"id\":\"e85c15ed-b9d9-41cb-94b1-d52ec29ece59\",\"type\":\"ToolbarBox\"},{\"attributes\":{\"plot\":{\"id\":\"df21e923-a704-4d88-9d1d-4289abba4520\",\"subtype\":\"Figure\",\"type\":\"Plot\"},\"ticker\":{\"id\":\"f3cbbe52-e3ab-4be7-9241-d4c9e8f22233\",\"type\":\"BasicTicker\"}},\"id\":\"5711922e-278f-4cf7-b2fa-e14d690f430b\",\"type\":\"Grid\"},{\"attributes\":{\"callback\":null},\"id\":\"153f720b-3ea3-479e-a102-05557bfd682b\",\"type\":\"DataRange1d\"}],\"root_ids\":[\"e6af552e-75ff-428c-b820-c6689efdb1fd\"]},\"title\":\"Bokeh Application\",\"version\":\"0.12.1\"}};\n",
       "            var render_items = [{\"docid\":\"f4a46371-93c2-40de-b0fe-09964c294547\",\"elementid\":\"dab8ccc1-bc78-44c0-8d2b-a86310d4f27d\",\"modelid\":\"e6af552e-75ff-428c-b820-c6689efdb1fd\",\"notebook_comms_target\":\"775a10db-d71b-41f3-aa91-4d3cda3b0bb5\"}];\n",
       "            \n",
       "            Bokeh.embed.embed_items(docs_json, render_items);\n",
       "        });\n",
       "      },\n",
       "      function(Bokeh) {\n",
       "      }\n",
       "    ];\n",
       "  \n",
       "    function run_inline_js() {\n",
       "      for (var i = 0; i < inline_js.length; i++) {\n",
       "        inline_js[i](window.Bokeh);\n",
       "      }\n",
       "    }\n",
       "  \n",
       "    if (window._bokeh_is_loading === 0) {\n",
       "      console.log(\"Bokeh: BokehJS loaded, going straight to plotting\");\n",
       "      run_inline_js();\n",
       "    } else {\n",
       "      load_libs(js_urls, function() {\n",
       "        console.log(\"Bokeh: BokehJS plotting callback run at\", now());\n",
       "        run_inline_js();\n",
       "      });\n",
       "    }\n",
       "  }(this));\n",
       "</script>"
      ]
     },
     "metadata": {},
     "output_type": "display_data"
    },
    {
     "data": {
      "text/html": [
       "<p><code>&lt;Bokeh Notebook handle for <strong>In[71]</strong>&gt;</code></p>"
      ],
      "text/plain": [
       "<bokeh.io._CommsHandle at 0x113c3ff10>"
      ]
     },
     "execution_count": 71,
     "metadata": {},
     "output_type": "execute_result"
    }
   ],
   "source": [
    "first = figure(tools='reset,pan',plot_width=255, plot_height=250)\n",
    "first.circle('x','y0', size=13, color='red', source=source)\n",
    "\n",
    "second = figure(tools='reset,pan',plot_width=255, plot_height=250)\n",
    "second.circle('x','y1', size=13, color='blue', source=source)\n",
    "\n",
    "final = gridplot([[first, second]])\n",
    "\n",
    "show(final)"
   ]
  },
  {
   "cell_type": "code",
   "execution_count": 76,
   "metadata": {
    "collapsed": false
   },
   "outputs": [
    {
     "data": {
      "text/html": [
       "\n",
       "\n",
       "    <div class=\"bk-root\">\n",
       "        <div class=\"plotdiv\" id=\"911930fe-004a-4f74-a5d4-515b764018ae\"></div>\n",
       "    </div>\n",
       "<script type=\"text/javascript\">\n",
       "  \n",
       "  (function(global) {\n",
       "    function now() {\n",
       "      return new Date();\n",
       "    }\n",
       "  \n",
       "    var force = \"\";\n",
       "  \n",
       "    if (typeof (window._bokeh_onload_callbacks) === \"undefined\" || force !== \"\") {\n",
       "      window._bokeh_onload_callbacks = [];\n",
       "      window._bokeh_is_loading = undefined;\n",
       "    }\n",
       "  \n",
       "    function run_callbacks() {\n",
       "      window._bokeh_onload_callbacks.forEach(function(callback) { callback() });\n",
       "      delete window._bokeh_onload_callbacks\n",
       "      console.info(\"Bokeh: all callbacks have finished\");\n",
       "    }\n",
       "  \n",
       "    function load_libs(js_urls, callback) {\n",
       "      window._bokeh_onload_callbacks.push(callback);\n",
       "      if (window._bokeh_is_loading > 0) {\n",
       "        console.log(\"Bokeh: BokehJS is being loaded, scheduling callback at\", now());\n",
       "        return null;\n",
       "      }\n",
       "      if (js_urls == null || js_urls.length === 0) {\n",
       "        run_callbacks();\n",
       "        return null;\n",
       "      }\n",
       "      console.log(\"Bokeh: BokehJS not loaded, scheduling load and callback at\", now());\n",
       "      window._bokeh_is_loading = js_urls.length;\n",
       "      for (var i = 0; i < js_urls.length; i++) {\n",
       "        var url = js_urls[i];\n",
       "        var s = document.createElement('script');\n",
       "        s.src = url;\n",
       "        s.async = false;\n",
       "        s.onreadystatechange = s.onload = function() {\n",
       "          window._bokeh_is_loading--;\n",
       "          if (window._bokeh_is_loading === 0) {\n",
       "            console.log(\"Bokeh: all BokehJS libraries loaded\");\n",
       "            run_callbacks()\n",
       "          }\n",
       "        };\n",
       "        s.onerror = function() {\n",
       "          console.warn(\"failed to load library \" + url);\n",
       "        };\n",
       "        console.log(\"Bokeh: injecting script tag for BokehJS library: \", url);\n",
       "        document.getElementsByTagName(\"head\")[0].appendChild(s);\n",
       "      }\n",
       "    };var element = document.getElementById(\"911930fe-004a-4f74-a5d4-515b764018ae\");\n",
       "    if (element == null) {\n",
       "      console.log(\"Bokeh: ERROR: autoload.js configured with elementid '911930fe-004a-4f74-a5d4-515b764018ae' but no matching script tag was found. \")\n",
       "      return false;\n",
       "    }\n",
       "  \n",
       "    var js_urls = [];\n",
       "  \n",
       "    var inline_js = [\n",
       "      function(Bokeh) {\n",
       "        Bokeh.$(function() {\n",
       "            var docs_json = {\"03e27022-5b05-444f-89f3-909834cc4370\":{\"roots\":{\"references\":[{\"attributes\":{},\"id\":\"75fea712-9dbc-4c12-9650-55addc32bd03\",\"type\":\"BasicTicker\"},{\"attributes\":{\"callback\":null},\"id\":\"b1ad4b9e-327f-4261-b744-506f67d029a0\",\"type\":\"DataRange1d\"},{\"attributes\":{\"children\":[{\"id\":\"7fd04b91-2259-46bb-8c95-0ce573c67299\",\"type\":\"ToolbarBox\"},{\"id\":\"b740c259-bd09-4131-9cff-4473f57d491f\",\"type\":\"Column\"}]},\"id\":\"7609c8c4-afd2-4c3d-9e79-e8e4645397b9\",\"type\":\"Column\"},{\"attributes\":{\"callback\":null,\"overlay\":{\"id\":\"f4f08d84-7d18-4729-b919-64f402fe08f9\",\"type\":\"PolyAnnotation\"},\"plot\":{\"id\":\"d0a5ca2f-b9d1-4631-b0ef-d89381e31dc5\",\"subtype\":\"Figure\",\"type\":\"Plot\"}},\"id\":\"ff0812fa-d754-4668-aa6d-a81a194f7323\",\"type\":\"LassoSelectTool\"},{\"attributes\":{\"plot\":null,\"text\":null},\"id\":\"0e3c6c9f-b66e-4590-a428-b053348c4ada\",\"type\":\"Title\"},{\"attributes\":{\"plot\":null,\"text\":null},\"id\":\"663464e0-9de0-4b70-b392-efdf0e31b020\",\"type\":\"Title\"},{\"attributes\":{\"dimension\":1,\"plot\":{\"id\":\"01af64b8-c292-451b-a5cf-7d9d96621deb\",\"subtype\":\"Figure\",\"type\":\"Plot\"},\"ticker\":{\"id\":\"75fea712-9dbc-4c12-9650-55addc32bd03\",\"type\":\"BasicTicker\"}},\"id\":\"b41f9c14-7aff-4033-bbf8-fb223e3741ed\",\"type\":\"Grid\"},{\"attributes\":{\"plot\":{\"id\":\"01af64b8-c292-451b-a5cf-7d9d96621deb\",\"subtype\":\"Figure\",\"type\":\"Plot\"}},\"id\":\"dcde63db-ea2a-45d1-bd70-172d8e5103e4\",\"type\":\"PanTool\"},{\"attributes\":{},\"id\":\"f64c205b-2c6a-445c-88ed-de6e69c82b2f\",\"type\":\"BasicTickFormatter\"},{\"attributes\":{},\"id\":\"53c35191-0a14-4695-87d4-8585df13bce6\",\"type\":\"BasicTicker\"},{\"attributes\":{\"active_drag\":\"auto\",\"active_scroll\":\"auto\",\"active_tap\":\"auto\",\"tools\":[{\"id\":\"800c9984-c824-45eb-8af8-1aba335b2aa8\",\"type\":\"ResetTool\"},{\"id\":\"dcde63db-ea2a-45d1-bd70-172d8e5103e4\",\"type\":\"PanTool\"}]},\"id\":\"a2a3d253-0e98-43c8-83fe-cd1d0c6b1f83\",\"type\":\"Toolbar\"},{\"attributes\":{},\"id\":\"b92a61f7-2576-41e0-8875-50351f3a91f8\",\"type\":\"BasicTicker\"},{\"attributes\":{\"plot\":{\"id\":\"d0a5ca2f-b9d1-4631-b0ef-d89381e31dc5\",\"subtype\":\"Figure\",\"type\":\"Plot\"}},\"id\":\"7ea58fad-c6d4-4aeb-9305-049df391eb5b\",\"type\":\"PanTool\"},{\"attributes\":{\"formatter\":{\"id\":\"f6ed8040-b1be-4757-affd-06344e76484c\",\"type\":\"BasicTickFormatter\"},\"plot\":{\"id\":\"d0a5ca2f-b9d1-4631-b0ef-d89381e31dc5\",\"subtype\":\"Figure\",\"type\":\"Plot\"},\"ticker\":{\"id\":\"b9ba5a12-d976-4e8b-be7e-7ca04cde3d21\",\"type\":\"BasicTicker\"}},\"id\":\"f7c3fb4e-ab2a-4eb7-b1dd-cef1577099d1\",\"type\":\"LinearAxis\"},{\"attributes\":{\"below\":[{\"id\":\"f7c3fb4e-ab2a-4eb7-b1dd-cef1577099d1\",\"type\":\"LinearAxis\"}],\"left\":[{\"id\":\"a344a880-8bc8-4aad-bd6e-c3ad46539209\",\"type\":\"LinearAxis\"}],\"plot_height\":250,\"plot_width\":255,\"renderers\":[{\"id\":\"f7c3fb4e-ab2a-4eb7-b1dd-cef1577099d1\",\"type\":\"LinearAxis\"},{\"id\":\"f65d775c-23b2-4eb4-b9d1-7c04e5d5a580\",\"type\":\"Grid\"},{\"id\":\"a344a880-8bc8-4aad-bd6e-c3ad46539209\",\"type\":\"LinearAxis\"},{\"id\":\"a77c8f29-9c16-463c-ab44-09ff149a8dc9\",\"type\":\"Grid\"},{\"id\":\"f4f08d84-7d18-4729-b919-64f402fe08f9\",\"type\":\"PolyAnnotation\"},{\"id\":\"b81483c4-2015-4185-b2df-dba62b14adb0\",\"type\":\"GlyphRenderer\"}],\"title\":{\"id\":\"0e3c6c9f-b66e-4590-a428-b053348c4ada\",\"type\":\"Title\"},\"tool_events\":{\"id\":\"3507dc81-5c48-4047-9315-db7dc0c00e35\",\"type\":\"ToolEvents\"},\"toolbar\":{\"id\":\"b79acf75-4fff-4e48-b4d1-09cc95d0e927\",\"type\":\"Toolbar\"},\"toolbar_location\":null,\"x_range\":{\"id\":\"28966e3a-1d27-4c3d-bce2-578a29a93ba3\",\"type\":\"DataRange1d\"},\"y_range\":{\"id\":\"8375d94a-2ba9-496f-b5d4-8e31d550d1f0\",\"type\":\"DataRange1d\"}},\"id\":\"d0a5ca2f-b9d1-4631-b0ef-d89381e31dc5\",\"subtype\":\"Figure\",\"type\":\"Plot\"},{\"attributes\":{\"data_source\":{\"id\":\"7430d392-425a-4ff3-ad37-d3c75d568d18\",\"type\":\"ColumnDataSource\"},\"glyph\":{\"id\":\"aa782c5e-7117-4866-8096-0cf478c9b3bf\",\"type\":\"Circle\"},\"hover_glyph\":null,\"nonselection_glyph\":{\"id\":\"091fe6c4-f5d3-4191-9e1a-cbbf2efdbac7\",\"type\":\"Circle\"},\"selection_glyph\":null},\"id\":\"b81483c4-2015-4185-b2df-dba62b14adb0\",\"type\":\"GlyphRenderer\"},{\"attributes\":{\"data_source\":{\"id\":\"7430d392-425a-4ff3-ad37-d3c75d568d18\",\"type\":\"ColumnDataSource\"},\"glyph\":{\"id\":\"97589955-3ece-4931-95c1-a9b717dff353\",\"type\":\"Circle\"},\"hover_glyph\":null,\"nonselection_glyph\":{\"id\":\"4fa45714-1a1e-4691-bcde-4716f4b046ec\",\"type\":\"Circle\"},\"selection_glyph\":null},\"id\":\"be46cce4-f544-4e50-9201-0103cef3b5ee\",\"type\":\"GlyphRenderer\"},{\"attributes\":{},\"id\":\"220c6485-b8c6-46ea-a30c-4d049b531ca6\",\"type\":\"ToolEvents\"},{\"attributes\":{\"formatter\":{\"id\":\"e7b1e349-4d1e-44a7-a332-d8bd3ac4ccbf\",\"type\":\"BasicTickFormatter\"},\"plot\":{\"id\":\"d0a5ca2f-b9d1-4631-b0ef-d89381e31dc5\",\"subtype\":\"Figure\",\"type\":\"Plot\"},\"ticker\":{\"id\":\"b92a61f7-2576-41e0-8875-50351f3a91f8\",\"type\":\"BasicTicker\"}},\"id\":\"a344a880-8bc8-4aad-bd6e-c3ad46539209\",\"type\":\"LinearAxis\"},{\"attributes\":{\"fill_alpha\":{\"value\":0.1},\"fill_color\":{\"value\":\"#1f77b4\"},\"line_alpha\":{\"value\":0.1},\"line_color\":{\"value\":\"#1f77b4\"},\"size\":{\"units\":\"screen\",\"value\":13},\"x\":{\"field\":\"x\"},\"y\":{\"field\":\"y0\"}},\"id\":\"091fe6c4-f5d3-4191-9e1a-cbbf2efdbac7\",\"type\":\"Circle\"},{\"attributes\":{},\"id\":\"cf20c46a-d4b2-4432-82d2-24226dd1d345\",\"type\":\"BasicTickFormatter\"},{\"attributes\":{},\"id\":\"f6ed8040-b1be-4757-affd-06344e76484c\",\"type\":\"BasicTickFormatter\"},{\"attributes\":{\"active_drag\":\"auto\",\"active_scroll\":\"auto\",\"active_tap\":\"auto\",\"tools\":[{\"id\":\"e71f3a6b-555e-4db8-9cc9-dc8933c6c052\",\"type\":\"ResetTool\"},{\"id\":\"7ea58fad-c6d4-4aeb-9305-049df391eb5b\",\"type\":\"PanTool\"},{\"id\":\"ff0812fa-d754-4668-aa6d-a81a194f7323\",\"type\":\"LassoSelectTool\"}]},\"id\":\"b79acf75-4fff-4e48-b4d1-09cc95d0e927\",\"type\":\"Toolbar\"},{\"attributes\":{\"dimension\":1,\"plot\":{\"id\":\"d0a5ca2f-b9d1-4631-b0ef-d89381e31dc5\",\"subtype\":\"Figure\",\"type\":\"Plot\"},\"ticker\":{\"id\":\"b92a61f7-2576-41e0-8875-50351f3a91f8\",\"type\":\"BasicTicker\"}},\"id\":\"a77c8f29-9c16-463c-ab44-09ff149a8dc9\",\"type\":\"Grid\"},{\"attributes\":{\"below\":[{\"id\":\"f67d2e63-cb5b-4ef9-ae1f-6156c6f3b521\",\"type\":\"LinearAxis\"}],\"left\":[{\"id\":\"4bcb0cc6-6361-46e7-a89e-fb0a543ec8aa\",\"type\":\"LinearAxis\"}],\"plot_height\":250,\"plot_width\":255,\"renderers\":[{\"id\":\"f67d2e63-cb5b-4ef9-ae1f-6156c6f3b521\",\"type\":\"LinearAxis\"},{\"id\":\"763f88d1-f796-45c4-b9e1-914afda716a1\",\"type\":\"Grid\"},{\"id\":\"4bcb0cc6-6361-46e7-a89e-fb0a543ec8aa\",\"type\":\"LinearAxis\"},{\"id\":\"b41f9c14-7aff-4033-bbf8-fb223e3741ed\",\"type\":\"Grid\"},{\"id\":\"be46cce4-f544-4e50-9201-0103cef3b5ee\",\"type\":\"GlyphRenderer\"}],\"title\":{\"id\":\"663464e0-9de0-4b70-b392-efdf0e31b020\",\"type\":\"Title\"},\"tool_events\":{\"id\":\"220c6485-b8c6-46ea-a30c-4d049b531ca6\",\"type\":\"ToolEvents\"},\"toolbar\":{\"id\":\"a2a3d253-0e98-43c8-83fe-cd1d0c6b1f83\",\"type\":\"Toolbar\"},\"toolbar_location\":null,\"x_range\":{\"id\":\"e9114583-dd3b-44a8-a015-d56d1ba06c8f\",\"type\":\"DataRange1d\"},\"y_range\":{\"id\":\"b1ad4b9e-327f-4261-b744-506f67d029a0\",\"type\":\"DataRange1d\"}},\"id\":\"01af64b8-c292-451b-a5cf-7d9d96621deb\",\"subtype\":\"Figure\",\"type\":\"Plot\"},{\"attributes\":{},\"id\":\"b9ba5a12-d976-4e8b-be7e-7ca04cde3d21\",\"type\":\"BasicTicker\"},{\"attributes\":{\"fill_alpha\":{\"value\":0.1},\"fill_color\":{\"value\":\"#1f77b4\"},\"line_alpha\":{\"value\":0.1},\"line_color\":{\"value\":\"#1f77b4\"},\"size\":{\"units\":\"screen\",\"value\":13},\"x\":{\"field\":\"x\"},\"y\":{\"field\":\"y1\"}},\"id\":\"4fa45714-1a1e-4691-bcde-4716f4b046ec\",\"type\":\"Circle\"},{\"attributes\":{\"sizing_mode\":\"scale_width\",\"toolbar_location\":\"above\",\"tools\":[{\"id\":\"e71f3a6b-555e-4db8-9cc9-dc8933c6c052\",\"type\":\"ResetTool\"},{\"id\":\"7ea58fad-c6d4-4aeb-9305-049df391eb5b\",\"type\":\"PanTool\"},{\"id\":\"ff0812fa-d754-4668-aa6d-a81a194f7323\",\"type\":\"LassoSelectTool\"},{\"id\":\"800c9984-c824-45eb-8af8-1aba335b2aa8\",\"type\":\"ResetTool\"},{\"id\":\"dcde63db-ea2a-45d1-bd70-172d8e5103e4\",\"type\":\"PanTool\"}]},\"id\":\"7fd04b91-2259-46bb-8c95-0ce573c67299\",\"type\":\"ToolbarBox\"},{\"attributes\":{},\"id\":\"3507dc81-5c48-4047-9315-db7dc0c00e35\",\"type\":\"ToolEvents\"},{\"attributes\":{\"plot\":{\"id\":\"d0a5ca2f-b9d1-4631-b0ef-d89381e31dc5\",\"subtype\":\"Figure\",\"type\":\"Plot\"},\"ticker\":{\"id\":\"b9ba5a12-d976-4e8b-be7e-7ca04cde3d21\",\"type\":\"BasicTicker\"}},\"id\":\"f65d775c-23b2-4eb4-b9d1-7c04e5d5a580\",\"type\":\"Grid\"},{\"attributes\":{\"plot\":{\"id\":\"d0a5ca2f-b9d1-4631-b0ef-d89381e31dc5\",\"subtype\":\"Figure\",\"type\":\"Plot\"}},\"id\":\"e71f3a6b-555e-4db8-9cc9-dc8933c6c052\",\"type\":\"ResetTool\"},{\"attributes\":{\"formatter\":{\"id\":\"cf20c46a-d4b2-4432-82d2-24226dd1d345\",\"type\":\"BasicTickFormatter\"},\"plot\":{\"id\":\"01af64b8-c292-451b-a5cf-7d9d96621deb\",\"subtype\":\"Figure\",\"type\":\"Plot\"},\"ticker\":{\"id\":\"53c35191-0a14-4695-87d4-8585df13bce6\",\"type\":\"BasicTicker\"}},\"id\":\"f67d2e63-cb5b-4ef9-ae1f-6156c6f3b521\",\"type\":\"LinearAxis\"},{\"attributes\":{\"fill_alpha\":{\"value\":0.5},\"fill_color\":{\"value\":\"lightgrey\"},\"level\":\"overlay\",\"line_alpha\":{\"value\":1.0},\"line_color\":{\"value\":\"black\"},\"line_dash\":[4,4],\"line_width\":{\"value\":2},\"plot\":null,\"xs_units\":\"screen\",\"ys_units\":\"screen\"},\"id\":\"f4f08d84-7d18-4729-b919-64f402fe08f9\",\"type\":\"PolyAnnotation\"},{\"attributes\":{\"children\":[{\"id\":\"8f545fd9-07ed-4ce8-9b59-b5878d0a77d3\",\"type\":\"Row\"}]},\"id\":\"b740c259-bd09-4131-9cff-4473f57d491f\",\"type\":\"Column\"},{\"attributes\":{\"callback\":null,\"column_names\":[\"y1\",\"y0\",\"x\"],\"data\":{\"x\":[-3,-4,-2,-6,-9,-8,-11,2,3,1,5,8,3,6,4,11,9],\"y0\":[-1.5,-2.0,-1.0,-3.0,-4.5,-4.0,-5.5,1.0,1.5,0.5,2.5,4.0,1.5,3.0,2.0,5.5,4.5],\"y1\":[9,16,4,36,81,64,121,4,9,1,25,64,9,36,16,121,81]}},\"id\":\"7430d392-425a-4ff3-ad37-d3c75d568d18\",\"type\":\"ColumnDataSource\"},{\"attributes\":{\"plot\":{\"id\":\"01af64b8-c292-451b-a5cf-7d9d96621deb\",\"subtype\":\"Figure\",\"type\":\"Plot\"}},\"id\":\"800c9984-c824-45eb-8af8-1aba335b2aa8\",\"type\":\"ResetTool\"},{\"attributes\":{},\"id\":\"e7b1e349-4d1e-44a7-a332-d8bd3ac4ccbf\",\"type\":\"BasicTickFormatter\"},{\"attributes\":{\"callback\":null},\"id\":\"e9114583-dd3b-44a8-a015-d56d1ba06c8f\",\"type\":\"DataRange1d\"},{\"attributes\":{\"fill_color\":{\"value\":\"red\"},\"line_color\":{\"value\":\"red\"},\"size\":{\"units\":\"screen\",\"value\":13},\"x\":{\"field\":\"x\"},\"y\":{\"field\":\"y0\"}},\"id\":\"aa782c5e-7117-4866-8096-0cf478c9b3bf\",\"type\":\"Circle\"},{\"attributes\":{\"fill_color\":{\"value\":\"blue\"},\"line_color\":{\"value\":\"blue\"},\"size\":{\"units\":\"screen\",\"value\":13},\"x\":{\"field\":\"x\"},\"y\":{\"field\":\"y1\"}},\"id\":\"97589955-3ece-4931-95c1-a9b717dff353\",\"type\":\"Circle\"},{\"attributes\":{\"callback\":null},\"id\":\"8375d94a-2ba9-496f-b5d4-8e31d550d1f0\",\"type\":\"DataRange1d\"},{\"attributes\":{\"callback\":null},\"id\":\"28966e3a-1d27-4c3d-bce2-578a29a93ba3\",\"type\":\"DataRange1d\"},{\"attributes\":{\"plot\":{\"id\":\"01af64b8-c292-451b-a5cf-7d9d96621deb\",\"subtype\":\"Figure\",\"type\":\"Plot\"},\"ticker\":{\"id\":\"53c35191-0a14-4695-87d4-8585df13bce6\",\"type\":\"BasicTicker\"}},\"id\":\"763f88d1-f796-45c4-b9e1-914afda716a1\",\"type\":\"Grid\"},{\"attributes\":{\"children\":[{\"id\":\"d0a5ca2f-b9d1-4631-b0ef-d89381e31dc5\",\"subtype\":\"Figure\",\"type\":\"Plot\"},{\"id\":\"01af64b8-c292-451b-a5cf-7d9d96621deb\",\"subtype\":\"Figure\",\"type\":\"Plot\"}]},\"id\":\"8f545fd9-07ed-4ce8-9b59-b5878d0a77d3\",\"type\":\"Row\"},{\"attributes\":{\"formatter\":{\"id\":\"f64c205b-2c6a-445c-88ed-de6e69c82b2f\",\"type\":\"BasicTickFormatter\"},\"plot\":{\"id\":\"01af64b8-c292-451b-a5cf-7d9d96621deb\",\"subtype\":\"Figure\",\"type\":\"Plot\"},\"ticker\":{\"id\":\"75fea712-9dbc-4c12-9650-55addc32bd03\",\"type\":\"BasicTicker\"}},\"id\":\"4bcb0cc6-6361-46e7-a89e-fb0a543ec8aa\",\"type\":\"LinearAxis\"}],\"root_ids\":[\"7609c8c4-afd2-4c3d-9e79-e8e4645397b9\"]},\"title\":\"Bokeh Application\",\"version\":\"0.12.1\"}};\n",
       "            var render_items = [{\"docid\":\"03e27022-5b05-444f-89f3-909834cc4370\",\"elementid\":\"911930fe-004a-4f74-a5d4-515b764018ae\",\"modelid\":\"7609c8c4-afd2-4c3d-9e79-e8e4645397b9\",\"notebook_comms_target\":\"51fc7cdd-59ed-4452-8e0f-89ce99931993\"}];\n",
       "            \n",
       "            Bokeh.embed.embed_items(docs_json, render_items);\n",
       "        });\n",
       "      },\n",
       "      function(Bokeh) {\n",
       "      }\n",
       "    ];\n",
       "  \n",
       "    function run_inline_js() {\n",
       "      for (var i = 0; i < inline_js.length; i++) {\n",
       "        inline_js[i](window.Bokeh);\n",
       "      }\n",
       "    }\n",
       "  \n",
       "    if (window._bokeh_is_loading === 0) {\n",
       "      console.log(\"Bokeh: BokehJS loaded, going straight to plotting\");\n",
       "      run_inline_js();\n",
       "    } else {\n",
       "      load_libs(js_urls, function() {\n",
       "        console.log(\"Bokeh: BokehJS plotting callback run at\", now());\n",
       "        run_inline_js();\n",
       "      });\n",
       "    }\n",
       "  }(this));\n",
       "</script>"
      ]
     },
     "metadata": {},
     "output_type": "display_data"
    },
    {
     "data": {
      "text/html": [
       "<p><code>&lt;Bokeh Notebook handle for <strong>In[76]</strong>&gt;</code></p>"
      ],
      "text/plain": [
       "<bokeh.io._CommsHandle at 0x113a28990>"
      ]
     },
     "execution_count": 76,
     "metadata": {},
     "output_type": "execute_result"
    }
   ],
   "source": [
    "first = figure(tools='reset,pan,lasso_select',plot_width=255, plot_height=250)\n",
    "first.circle('x','y0', size=13, color='red', source=source)\n",
    "\n",
    "second = figure(tools='reset,pan',plot_width=255, plot_height=250)\n",
    "second.circle('x','y1', size=13, color='blue', source=source)\n",
    "\n",
    "final = gridplot([[first, second]])\n",
    "\n",
    "show(final)"
   ]
  },
  {
   "cell_type": "code",
   "execution_count": null,
   "metadata": {
    "collapsed": true
   },
   "outputs": [],
   "source": []
  },
  {
   "cell_type": "code",
   "execution_count": null,
   "metadata": {
    "collapsed": true
   },
   "outputs": [],
   "source": []
  },
  {
   "cell_type": "code",
   "execution_count": null,
   "metadata": {
    "collapsed": true
   },
   "outputs": [],
   "source": []
  },
  {
   "cell_type": "code",
   "execution_count": null,
   "metadata": {
    "collapsed": true
   },
   "outputs": [],
   "source": []
  },
  {
   "cell_type": "code",
   "execution_count": null,
   "metadata": {
    "collapsed": true
   },
   "outputs": [],
   "source": []
  },
  {
   "cell_type": "code",
   "execution_count": null,
   "metadata": {
    "collapsed": true
   },
   "outputs": [],
   "source": []
  }
 ],
 "metadata": {
  "kernelspec": {
   "display_name": "Python 2",
   "language": "python",
   "name": "python2"
  },
  "language_info": {
   "codemirror_mode": {
    "name": "ipython",
    "version": 2
   },
   "file_extension": ".py",
   "mimetype": "text/x-python",
   "name": "python",
   "nbconvert_exporter": "python",
   "pygments_lexer": "ipython2",
   "version": "2.7.12"
  }
 },
 "nbformat": 4,
 "nbformat_minor": 0
}
