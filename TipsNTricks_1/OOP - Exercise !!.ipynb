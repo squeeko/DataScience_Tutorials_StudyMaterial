{
 "cells": [
  {
   "cell_type": "code",
   "execution_count": 1,
   "metadata": {
    "collapsed": true
   },
   "outputs": [],
   "source": [
    "# write a program called a fraction that accepts attributes numerator and denominator\n",
    "# and returns a string representation of a fraction\n",
    "# you will need two methods that will get the numerator and denominator\n",
    "# you will also need two methods that will set the numerator and denominator\n",
    "# don't forget to check that denominator != 0\n",
    "# try to include a nice and short (one line) doc string for your class and all the methods"
   ]
  },
  {
   "cell_type": "code",
   "execution_count": null,
   "metadata": {
    "collapsed": true
   },
   "outputs": [],
   "source": []
  },
  {
   "cell_type": "code",
   "execution_count": 8,
   "metadata": {
    "collapsed": false
   },
   "outputs": [
    {
     "name": "stdout",
     "output_type": "stream",
     "text": [
      "2/7\n",
      "The numerator of our fration1 object is:  2\n",
      "The denominator of our fraction1 object is:  7\n",
      "--------------------------------------------------\n",
      "now we will change the numerator and denominator to d/t numbers\n",
      "The numerator of our fration1 object is:  9\n",
      "The denominator of our fraction1 object is:  19\n",
      "our new fraction is:  9/19\n",
      "9/19\n",
      "------------------------------------------------------------\n",
      "3/8\n",
      "The numerator of our fration2 object is:  3\n",
      "The denominator of our fraction2 object is:  8\n",
      "--------------------------------------------------\n",
      "We will now change the numerator and denominator of fraction2 obj to d/t numbers\n",
      "The new numerator of our fration2 object is:  24\n",
      "The new denominator of our fraction2 object is:  55\n",
      "our new fraction is:  24/55\n",
      "--------------------------------------------------\n",
      "There was an error with your calculation\n"
     ]
    },
    {
     "ename": "SystemExit",
     "evalue": "",
     "output_type": "error",
     "traceback": [
      "An exception has occurred, use %tb to see the full traceback.\n",
      "\u001b[0;31mSystemExit\u001b[0m\n"
     ]
    },
    {
     "name": "stderr",
     "output_type": "stream",
     "text": [
      "To exit: use 'exit', 'quit', or Ctrl-D.\n"
     ]
    }
   ],
   "source": [
    "class Fraction:\n",
    "    \"\"\"\n",
    "    Our class represents a fraction\n",
    "    \"\"\"\n",
    "    def __init__(self, num, den):\n",
    "        \"\"\" This will initialize attr num and den\"\"\"\n",
    "        self.numerator = num\n",
    "        if den != 0:\n",
    "            self.denominator = den\n",
    "        else:\n",
    "            print \"There was an error with your calculation\"\n",
    "            from sys import exit\n",
    "            exit()\n",
    "            \n",
    "    def get_numerator(self):\n",
    "        \"\"\" This will return the numerator \"\"\"\n",
    "        return self.numerator\n",
    "    \n",
    "    def get_denominator(self):\n",
    "        \"\"\" This will return the denominator \"\"\"\n",
    "        return self.denominator\n",
    "    \n",
    "    def set_numerator(self, nu):\n",
    "        \"\"\" This will set the numerator \"\"\"\n",
    "        self.numerator = nu\n",
    "        \n",
    "    def set_denominator(self, de):\n",
    "        \"\"\" This will set the denominator. If denom = 0, terminate and exit the program \"\"\"\n",
    "        if de != 0:\n",
    "            self.denominator = de\n",
    "        else:\n",
    "            print \"Denominator can't be zero\"\n",
    "            from sys import exit\n",
    "            exit()\n",
    "            \n",
    "    def __str__(self):\n",
    "        \"\"\" This will return a str represent of our fraction \"\"\"\n",
    "        return str(self.get_numerator()) + \"/\" + str(self.get_denominator())\n",
    "    \n",
    "def main():\n",
    "    fraction1 = Fraction(2,7)\n",
    "    print fraction1\n",
    "    print \"The numerator of our fration1 object is: \", fraction1.get_numerator()\n",
    "    print \"The denominator of our fraction1 object is: \", fraction1.get_denominator()\n",
    "    print \"-----\" * 10\n",
    "    print \"now we will change the numerator and denominator to d/t numbers\"\n",
    "    fraction1.set_numerator(9)\n",
    "    fraction1.set_denominator(19)\n",
    "    print \"The numerator of our fration1 object is: \", fraction1.get_numerator()\n",
    "    print \"The denominator of our fraction1 object is: \", fraction1.get_denominator()\n",
    "    print \"our new fraction is: \", fraction1\n",
    "    print fraction1\n",
    "    print \"------\" * 10\n",
    "    fraction2 = Fraction(3,8)\n",
    "    print fraction2\n",
    "    print \"The numerator of our fration2 object is: \", fraction2.get_numerator()\n",
    "    print \"The denominator of our fraction2 object is: \", fraction2.get_denominator()\n",
    "    print '-----' * 10\n",
    "    print \"We will now change the numerator and denominator of fraction2 obj to d/t numbers\"\n",
    "    fraction2.set_numerator(24)\n",
    "    fraction2.set_denominator(55)\n",
    "    print \"The new numerator of our fration2 object is: \", fraction2.get_numerator()\n",
    "    print \"The new denominator of our fraction2 object is: \", fraction2.get_denominator()\n",
    "    print \"our new fraction is: \", fraction2\n",
    "    print \"-----\" * 10\n",
    "    fraction3 = Fraction(4,0)\n",
    "    print fraction3\n",
    "    \n",
    "main()\n"
   ]
  },
  {
   "cell_type": "code",
   "execution_count": null,
   "metadata": {
    "collapsed": true
   },
   "outputs": [],
   "source": [
    "fraction1 = Fraction(3,4)\n",
    "print fraction1\n",
    "print fraction1.get_denominator()"
   ]
  },
  {
   "cell_type": "code",
   "execution_count": null,
   "metadata": {
    "collapsed": true
   },
   "outputs": [],
   "source": []
  },
  {
   "cell_type": "code",
   "execution_count": null,
   "metadata": {
    "collapsed": true
   },
   "outputs": [],
   "source": [
    "# A program class name is myaccount and takes 3 attrs: number, name and balance. Initialize them \n",
    "# and also initialize a min balance attr and set it = 500. Also set the acct to active ..\n",
    "# you will need two methods: deposit and withdraw\n",
    "# the deposit method will add (deposit) amt to your account if balance > 0\n",
    "# the withdraw method will take amt out of your acct and will require a mininum amt of 500 to be \n",
    "# present in your acct.\n",
    "# you'll also need a set_active method that will activate or not your acct and also is_active \n",
    "# method that will return true if balance is > 0\n"
   ]
  },
  {
   "cell_type": "code",
   "execution_count": 23,
   "metadata": {
    "collapsed": true
   },
   "outputs": [],
   "source": [
    "class myaccount:\n",
    "    \n",
    "    def __init__(self, number, name, balance):\n",
    "        self.account_number = number\n",
    "        self.name = name\n",
    "        self.balance = balance\n",
    "        self.min_balance = 501\n",
    "        self.active = True\n",
    "        \n",
    "    def deposit(self, amount):\n",
    "        \"\"\" this will deposit amt if balance > 0 \"\"\"\n",
    "        if self.is_active():\n",
    "            self.balance += amount\n",
    "            return True\n",
    "        else:\n",
    "            print \"you will need to go to the nearest branch...\"\n",
    "            return False\n",
    "        \n",
    "    def withdraw(self, amount):\n",
    "        \"\"\" This will withdraw amt if balance > 500\"\"\"\n",
    "        result = False\n",
    "        \n",
    "        if self.is_active() and self.balance - amount > self.min_balance:\n",
    "            self.balance -= amount\n",
    "            result = True\n",
    "        else:\n",
    "            print \"you will need a min balance of > 500\"\n",
    "        \n",
    "        return result\n",
    "    \n",
    "    def set_active(self, actt):\n",
    "        \"\"\" this method will activate or deactivate our acct\"\"\"\n",
    "        self.active = actt\n",
    "        \n",
    "    def is_active(self):\n",
    "        if self.balance > 0:\n",
    "            return self.active\n",
    "        else:\n",
    "            return False\n",
    "    "
   ]
  },
  {
   "cell_type": "code",
   "execution_count": 24,
   "metadata": {
    "collapsed": false
   },
   "outputs": [],
   "source": [
    "acct = myaccount(54545, \"Jane\", 1000)"
   ]
  },
  {
   "cell_type": "code",
   "execution_count": 25,
   "metadata": {
    "collapsed": false
   },
   "outputs": [
    {
     "data": {
      "text/plain": [
       "True"
      ]
     },
     "execution_count": 25,
     "metadata": {},
     "output_type": "execute_result"
    }
   ],
   "source": [
    "acct.deposit(300)"
   ]
  },
  {
   "cell_type": "code",
   "execution_count": 26,
   "metadata": {
    "collapsed": false
   },
   "outputs": [
    {
     "data": {
      "text/plain": [
       "1300"
      ]
     },
     "execution_count": 26,
     "metadata": {},
     "output_type": "execute_result"
    }
   ],
   "source": [
    "acct.balance"
   ]
  },
  {
   "cell_type": "code",
   "execution_count": 5,
   "metadata": {
    "collapsed": false
   },
   "outputs": [
    {
     "data": {
      "text/plain": [
       "True"
      ]
     },
     "execution_count": 5,
     "metadata": {},
     "output_type": "execute_result"
    }
   ],
   "source": [
    "acct.is_active()"
   ]
  },
  {
   "cell_type": "code",
   "execution_count": 9,
   "metadata": {
    "collapsed": false
   },
   "outputs": [
    {
     "name": "stdout",
     "output_type": "stream",
     "text": [
      "you will need a min balance of > 500\n"
     ]
    },
    {
     "data": {
      "text/plain": [
       "False"
      ]
     },
     "execution_count": 9,
     "metadata": {},
     "output_type": "execute_result"
    }
   ],
   "source": [
    "acct.withdraw(10)"
   ]
  },
  {
   "cell_type": "code",
   "execution_count": 27,
   "metadata": {
    "collapsed": false
   },
   "outputs": [
    {
     "data": {
      "text/plain": [
       "True"
      ]
     },
     "execution_count": 27,
     "metadata": {},
     "output_type": "execute_result"
    }
   ],
   "source": [
    "acct.deposit(100)"
   ]
  },
  {
   "cell_type": "code",
   "execution_count": 28,
   "metadata": {
    "collapsed": false
   },
   "outputs": [
    {
     "data": {
      "text/plain": [
       "1400"
      ]
     },
     "execution_count": 28,
     "metadata": {},
     "output_type": "execute_result"
    }
   ],
   "source": [
    "acct.balance"
   ]
  },
  {
   "cell_type": "code",
   "execution_count": 29,
   "metadata": {
    "collapsed": false
   },
   "outputs": [
    {
     "data": {
      "text/plain": [
       "True"
      ]
     },
     "execution_count": 29,
     "metadata": {},
     "output_type": "execute_result"
    }
   ],
   "source": [
    "acct.withdraw(750)"
   ]
  },
  {
   "cell_type": "code",
   "execution_count": 30,
   "metadata": {
    "collapsed": false
   },
   "outputs": [
    {
     "data": {
      "text/plain": [
       "501"
      ]
     },
     "execution_count": 30,
     "metadata": {},
     "output_type": "execute_result"
    }
   ],
   "source": [
    "acct.min_balance"
   ]
  },
  {
   "cell_type": "code",
   "execution_count": 31,
   "metadata": {
    "collapsed": false
   },
   "outputs": [
    {
     "data": {
      "text/plain": [
       "'Jane'"
      ]
     },
     "execution_count": 31,
     "metadata": {},
     "output_type": "execute_result"
    }
   ],
   "source": [
    "acct.name"
   ]
  },
  {
   "cell_type": "code",
   "execution_count": 32,
   "metadata": {
    "collapsed": true
   },
   "outputs": [],
   "source": [
    "acct2 = myaccount(33333, \"Smith\", -100)"
   ]
  },
  {
   "cell_type": "code",
   "execution_count": 34,
   "metadata": {
    "collapsed": false
   },
   "outputs": [
    {
     "data": {
      "text/plain": [
       "False"
      ]
     },
     "execution_count": 34,
     "metadata": {},
     "output_type": "execute_result"
    }
   ],
   "source": [
    "acct2.is_active()"
   ]
  },
  {
   "cell_type": "code",
   "execution_count": 35,
   "metadata": {
    "collapsed": false
   },
   "outputs": [
    {
     "name": "stdout",
     "output_type": "stream",
     "text": [
      "you will need to go to the nearest branch...\n"
     ]
    },
    {
     "data": {
      "text/plain": [
       "False"
      ]
     },
     "execution_count": 35,
     "metadata": {},
     "output_type": "execute_result"
    }
   ],
   "source": [
    "acct2.deposit(2000)"
   ]
  },
  {
   "cell_type": "code",
   "execution_count": 36,
   "metadata": {
    "collapsed": true
   },
   "outputs": [],
   "source": [
    "acct3 = myaccount(65465, \"Joe\", 3000)"
   ]
  },
  {
   "cell_type": "code",
   "execution_count": 37,
   "metadata": {
    "collapsed": false
   },
   "outputs": [
    {
     "data": {
      "text/plain": [
       "True"
      ]
     },
     "execution_count": 37,
     "metadata": {},
     "output_type": "execute_result"
    }
   ],
   "source": [
    "acct3.is_active()"
   ]
  },
  {
   "cell_type": "code",
   "execution_count": 38,
   "metadata": {
    "collapsed": false
   },
   "outputs": [
    {
     "data": {
      "text/plain": [
       "True"
      ]
     },
     "execution_count": 38,
     "metadata": {},
     "output_type": "execute_result"
    }
   ],
   "source": [
    "acct3.deposit(200)"
   ]
  },
  {
   "cell_type": "code",
   "execution_count": 39,
   "metadata": {
    "collapsed": false
   },
   "outputs": [
    {
     "data": {
      "text/plain": [
       "True"
      ]
     },
     "execution_count": 39,
     "metadata": {},
     "output_type": "execute_result"
    }
   ],
   "source": [
    "acct3.withdraw(400)"
   ]
  },
  {
   "cell_type": "code",
   "execution_count": 40,
   "metadata": {
    "collapsed": false
   },
   "outputs": [
    {
     "data": {
      "text/plain": [
       "2800"
      ]
     },
     "execution_count": 40,
     "metadata": {},
     "output_type": "execute_result"
    }
   ],
   "source": [
    "acct3.balance"
   ]
  },
  {
   "cell_type": "code",
   "execution_count": 41,
   "metadata": {
    "collapsed": true
   },
   "outputs": [],
   "source": [
    "acct3.set_active('False')"
   ]
  },
  {
   "cell_type": "code",
   "execution_count": 42,
   "metadata": {
    "collapsed": false
   },
   "outputs": [
    {
     "data": {
      "text/plain": [
       "'False'"
      ]
     },
     "execution_count": 42,
     "metadata": {},
     "output_type": "execute_result"
    }
   ],
   "source": [
    "acct3.is_active()"
   ]
  },
  {
   "cell_type": "code",
   "execution_count": null,
   "metadata": {
    "collapsed": true
   },
   "outputs": [],
   "source": []
  },
  {
   "cell_type": "code",
   "execution_count": null,
   "metadata": {
    "collapsed": true
   },
   "outputs": [],
   "source": []
  },
  {
   "cell_type": "code",
   "execution_count": null,
   "metadata": {
    "collapsed": true
   },
   "outputs": [],
   "source": []
  },
  {
   "cell_type": "code",
   "execution_count": null,
   "metadata": {
    "collapsed": true
   },
   "outputs": [],
   "source": []
  },
  {
   "cell_type": "code",
   "execution_count": null,
   "metadata": {
    "collapsed": true
   },
   "outputs": [],
   "source": []
  },
  {
   "cell_type": "code",
   "execution_count": null,
   "metadata": {
    "collapsed": true
   },
   "outputs": [],
   "source": []
  },
  {
   "cell_type": "code",
   "execution_count": null,
   "metadata": {
    "collapsed": true
   },
   "outputs": [],
   "source": []
  },
  {
   "cell_type": "code",
   "execution_count": null,
   "metadata": {
    "collapsed": true
   },
   "outputs": [],
   "source": []
  },
  {
   "cell_type": "code",
   "execution_count": null,
   "metadata": {
    "collapsed": true
   },
   "outputs": [],
   "source": []
  },
  {
   "cell_type": "code",
   "execution_count": null,
   "metadata": {
    "collapsed": true
   },
   "outputs": [],
   "source": []
  }
 ],
 "metadata": {
  "kernelspec": {
   "display_name": "Python 2",
   "language": "python",
   "name": "python2"
  },
  "language_info": {
   "codemirror_mode": {
    "name": "ipython",
    "version": 2
   },
   "file_extension": ".py",
   "mimetype": "text/x-python",
   "name": "python",
   "nbconvert_exporter": "python",
   "pygments_lexer": "ipython2",
   "version": "2.7.12"
  }
 },
 "nbformat": 4,
 "nbformat_minor": 0
}
