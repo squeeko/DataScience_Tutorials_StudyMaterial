{
 "cells": [
  {
   "cell_type": "code",
   "execution_count": null,
   "metadata": {
    "collapsed": true
   },
   "outputs": [],
   "source": [
    "# based on statements - outcome = True or False if value is not zero or null = evaluated as True"
   ]
  },
  {
   "cell_type": "code",
   "execution_count": null,
   "metadata": {
    "collapsed": true
   },
   "outputs": [],
   "source": [
    "# condition == if True \"execute this code\"    if not \"execute another code\""
   ]
  },
  {
   "cell_type": "code",
   "execution_count": null,
   "metadata": {
    "collapsed": true
   },
   "outputs": [],
   "source": [
    "if condition:\n",
    "    \"this code gets executed\"\n",
    "else:\n",
    "    'some other code gets exec'"
   ]
  },
  {
   "cell_type": "code",
   "execution_count": 5,
   "metadata": {
    "collapsed": false
   },
   "outputs": [
    {
     "name": "stdout",
     "output_type": "stream",
     "text": [
      "The number is what's expected\n",
      "This will be executed regardless\n"
     ]
    }
   ],
   "source": [
    "num = 22\n",
    "\n",
    "if num:\n",
    "    print \"The number is what's expected\"\n",
    "print \"This will be executed regardless\"\n",
    "    \n",
    "# if num == 22:"
   ]
  },
  {
   "cell_type": "code",
   "execution_count": 4,
   "metadata": {
    "collapsed": false
   },
   "outputs": [],
   "source": [
    "num2 = 0\n",
    "\n",
    "if num2:\n",
    "    print \"The number is not expected\"\n",
    "print \"print this code regardless\""
   ]
  },
  {
   "cell_type": "markdown",
   "metadata": {},
   "source": [
    "# if and else statements"
   ]
  },
  {
   "cell_type": "code",
   "execution_count": null,
   "metadata": {
    "collapsed": false
   },
   "outputs": [],
   "source": [
    "if cond:\n",
    "    execute this\n",
    "    execute this part also\n",
    "else:\n",
    "    execute this part"
   ]
  },
  {
   "cell_type": "code",
   "execution_count": 16,
   "metadata": {
    "collapsed": false
   },
   "outputs": [
    {
     "name": "stdout",
     "output_type": "stream",
     "text": [
      "num is 48\n",
      "this will be printed regardless\n"
     ]
    }
   ],
   "source": [
    "num = 48\n",
    "\n",
    "if num == 48:\n",
    "    print \"num is 48\"\n",
    "    \n",
    "else:\n",
    "    print \"num is not 48\"\n",
    "    \n",
    "print \"this will be printed regardless\""
   ]
  },
  {
   "cell_type": "code",
   "execution_count": 15,
   "metadata": {
    "collapsed": false
   },
   "outputs": [
    {
     "name": "stdout",
     "output_type": "stream",
     "text": [
      "num is not 48\n",
      "this will be printed regardless\n"
     ]
    }
   ],
   "source": [
    "num = 48\n",
    "\n",
    "if num == 12:\n",
    "    print \"num is 48\"\n",
    "    \n",
    "else:\n",
    "    print \"num is not 48\"\n",
    "    \n",
    "print \"this will be printed regardless\""
   ]
  },
  {
   "cell_type": "code",
   "execution_count": 20,
   "metadata": {
    "collapsed": false,
    "scrolled": true
   },
   "outputs": [
    {
     "name": "stdout",
     "output_type": "stream",
     "text": [
      "Please enter your number: 46\n",
      "number is not less than 20\n",
      "this will be executed no matter what the outcome is\n"
     ]
    }
   ],
   "source": [
    "num = int(raw_input(\"Please enter your number: \"))   # input(\"please enter your number: \")\n",
    "\n",
    "if num < 20:\n",
    "    print \"number is less than 20\"\n",
    "    \n",
    "else:\n",
    "    print \"number is not less than 20\"\n",
    "    \n",
    "print \"this will be executed no matter what the outcome is\""
   ]
  },
  {
   "cell_type": "code",
   "execution_count": null,
   "metadata": {
    "collapsed": true
   },
   "outputs": [],
   "source": []
  },
  {
   "cell_type": "markdown",
   "metadata": {},
   "source": [
    "# if, elif and else"
   ]
  },
  {
   "cell_type": "code",
   "execution_count": null,
   "metadata": {
    "collapsed": true
   },
   "outputs": [],
   "source": [
    "if cond:\n",
    "    execute this\n",
    "elif cond2:\n",
    "    execute this\n",
    "elif cond3:\n",
    "    execute this\n",
    "else:\n",
    "    execute this"
   ]
  },
  {
   "cell_type": "code",
   "execution_count": 23,
   "metadata": {
    "collapsed": false
   },
   "outputs": [
    {
     "name": "stdout",
     "output_type": "stream",
     "text": [
      "Please enter your number: 20\n",
      "number is not 20\n"
     ]
    }
   ],
   "source": [
    "num = int(raw_input(\"Please enter your number: \"))   # input(\"please enter your number: \")\n",
    "\n",
    "if num < 20:\n",
    "    print \"number is less than 20\"\n",
    "    \n",
    "elif num > 20:\n",
    "    print \"number is greater than 20\"\n",
    "    \n",
    "else:\n",
    "    print \"number is not 20\"\n",
    "    \n",
    "#print \"this will be executed no matter what the outcome is\""
   ]
  },
  {
   "cell_type": "code",
   "execution_count": 28,
   "metadata": {
    "collapsed": false
   },
   "outputs": [
    {
     "name": "stdout",
     "output_type": "stream",
     "text": [
      "what was the movie?\n"
     ]
    }
   ],
   "source": [
    "movie = \"star wars\"\n",
    "\n",
    "if movie == \"Departed\":\n",
    "    print \"that was a great movie\"\n",
    "\n",
    "elif movie == \"Toy Story\":\n",
    "    print \"movie was toy story\"\n",
    "\n",
    "elif movie == \"minions\":\n",
    "    print \"that movie was funny\"\n",
    "    \n",
    "else:\n",
    "    print \"what was the movie?\""
   ]
  },
  {
   "cell_type": "code",
   "execution_count": 32,
   "metadata": {
    "collapsed": false
   },
   "outputs": [
    {
     "name": "stdout",
     "output_type": "stream",
     "text": [
      "enter a number pls: 20\n",
      " I don't know the number\n"
     ]
    }
   ],
   "source": [
    "num = int(raw_input(\"enter a number pls: \"))\n",
    "\n",
    "if num == 0:\n",
    "    print \"num is zero\"\n",
    "    \n",
    "elif num > 0 and num < 20:\n",
    "    print \"num is between 0 and 20\"\n",
    "    \n",
    "elif num > 20 and num < 45:\n",
    "    print \"num is between 20 and 45\"\n",
    "    \n",
    "else:\n",
    "    print \" I don't know the number\""
   ]
  },
  {
   "cell_type": "code",
   "execution_count": 33,
   "metadata": {
    "collapsed": false
   },
   "outputs": [
    {
     "name": "stdout",
     "output_type": "stream",
     "text": [
      "enter a number pls: 20\n",
      "num is between 0 and 20\n"
     ]
    }
   ],
   "source": [
    "num = int(raw_input(\"enter a number pls: \"))\n",
    "\n",
    "if num == 0:\n",
    "    print \"num is zero\"\n",
    "    \n",
    "elif num > 0 and num  < 20:\n",
    "    print \"num is between 0 and 20\"\n",
    "    \n",
    "elif num > 20 and num < 45:\n",
    "    print \"num is between 20 and 45\"\n",
    "    \n",
    "else:\n",
    "    print \" I don't know the number\""
   ]
  },
  {
   "cell_type": "code",
   "execution_count": null,
   "metadata": {
    "collapsed": true
   },
   "outputs": [],
   "source": []
  },
  {
   "cell_type": "markdown",
   "metadata": {},
   "source": [
    "# Nested If Statements"
   ]
  },
  {
   "cell_type": "code",
   "execution_count": null,
   "metadata": {
    "collapsed": true
   },
   "outputs": [],
   "source": [
    "if cond1:\n",
    "    execute this\n",
    "    \n",
    "    if cond_1a:\n",
    "        execute cond_1a\n",
    "    elif cond_1b:\n",
    "        execute cond_1b\n",
    "    else:\n",
    "        execute cond_1c\n",
    "        \n",
    "elif cond2:\n",
    "    execute this\n",
    "    \n",
    "     if cond_2a:\n",
    "        execute cond_2a\n",
    "    elif cond_2b:\n",
    "        execute cond_2b\n",
    "    else:\n",
    "        execute cond_2c\n",
    "    \n",
    "else:\n",
    "    execute this"
   ]
  },
  {
   "cell_type": "code",
   "execution_count": 5,
   "metadata": {
    "collapsed": false
   },
   "outputs": [
    {
     "name": "stdout",
     "output_type": "stream",
     "text": [
      "grade of the student is: 85\n",
      "\tStudent scored a passing grade\n",
      "passed with B\n",
      "passed with a higher B-\n",
      "grade of the student is: 98\n",
      "\tStudent scored a passing grade\n",
      "\tpassed with A\n",
      "\tpassed with A+\n",
      "grade of the student is: 66\n",
      "\tStudent scored a passing grade\n",
      "grade was a D\n",
      "grade of the student is: 73\n",
      "\tStudent scored a passing grade\n",
      "passed with C\n"
     ]
    }
   ],
   "source": [
    "x = [85, 98, 66, 73]\n",
    "\n",
    "for grade in x:\n",
    "    \n",
    "    print \"grade of the student is: \" + str(grade)\n",
    "    \n",
    "    if grade > 60:\n",
    "        print \"\\tStudent scored a passing grade\"\n",
    "\n",
    "        if grade >= 90:\n",
    "            print \"\\tpassed with A\"\n",
    "\n",
    "            if grade >= 96:\n",
    "                print \"\\tpassed with A+\"\n",
    "            elif grade >= 93:\n",
    "                print \"\\tpassed with high A-\"\n",
    "            else:\n",
    "                print \"passed with a low A-\"\n",
    "\n",
    "        elif grade >= 80:\n",
    "            print \"passed with B\"\n",
    "\n",
    "            if grade >= 87:\n",
    "                print \"passed with B+\"\n",
    "            elif grade >= 84:\n",
    "                print \"passed with a higher B-\"\n",
    "            else:\n",
    "                print \"passed with a B-\"\n",
    "\n",
    "        elif grade >= 70:\n",
    "            print \"passed with C\"\n",
    "        else:\n",
    "            print \"grade was a D\"\n",
    "\n",
    "    elif grade == 60:\n",
    "        print \"student will have to retake the exam\"\n",
    "\n",
    "    else:\n",
    "        print \"student failed\""
   ]
  },
  {
   "cell_type": "markdown",
   "metadata": {
    "collapsed": true
   },
   "source": [
    "# Exercise - If statements "
   ]
  },
  {
   "cell_type": "code",
   "execution_count": null,
   "metadata": {
    "collapsed": true
   },
   "outputs": [],
   "source": [
    "Exercise: Use a for loop together with if statements to check the grade of students and what\n",
    "    they scored\n",
    "    Student scores = 98, 92, 85, 74, 61, 55, 81"
   ]
  },
  {
   "cell_type": "code",
   "execution_count": null,
   "metadata": {
    "collapsed": true
   },
   "outputs": [],
   "source": []
  },
  {
   "cell_type": "code",
   "execution_count": 20,
   "metadata": {
    "collapsed": false
   },
   "outputs": [
    {
     "name": "stdout",
     "output_type": "stream",
     "text": [
      "the grade of the student is: 98\n",
      "passsed with a passing grade\n",
      " \tpassed with A\n",
      "\t\tgrade is A+\n",
      "-------------------------------\n",
      "the grade of the student is: 92\n",
      "passsed with a passing grade\n",
      " \tpassed with A\n",
      "\t\t grade is A-\n",
      "--------------------------------\n",
      "the grade of the student is: 85\n",
      "passsed with a passing grade\n",
      " \tpassed with B\n",
      "\t\tgrade is higher B-\n",
      "--------------------------------\n",
      "the grade of the student is: 89\n",
      "passsed with a passing grade\n",
      " \tpassed with B\n",
      "\t\tgrade is B+\n",
      "-------------------------------\n",
      "the grade of the student is: 74\n",
      "passsed with a passing grade\n",
      " \tpassed with C\n",
      "the grade of the student is: 61\n",
      "passsed with a passing grade\n",
      " \tpassed with D\n",
      "the grade of the student is: 55\n",
      "student has failed!\n",
      "the grade of the student is: 81\n",
      "passsed with a passing grade\n",
      " \tpassed with B\n",
      "\t\t grade is B-\n",
      "--------------------------------\n"
     ]
    }
   ],
   "source": [
    "student_scores = [98, 92, 85,89, 74, 61, 55, 81]\n",
    "\n",
    "for grade in student_scores:\n",
    "    \n",
    "    print \"the grade of the student is: \" + str(grade)\n",
    "    \n",
    "    if grade >= 60:\n",
    "        print \"passsed with a passing grade\"\n",
    "        \n",
    "        if grade >= 90:\n",
    "            print \" \\tpassed with A\"\n",
    "            \n",
    "            if grade >= 97:\n",
    "                print \"\\t\\tgrade is A+\"\n",
    "                print \"-------------------------------\"\n",
    "            elif grade >= 93:\n",
    "                print \"\\t\\tgrade is higher A-\"\n",
    "                print \"--------------------------------\"\n",
    "            else:\n",
    "                print \"\\t\\t grade is A-\"\n",
    "                print \"--------------------------------\"\n",
    "            \n",
    "        elif grade >= 80:\n",
    "            print \" \\tpassed with B\"\n",
    "            \n",
    "            if grade >= 87:\n",
    "                print \"\\t\\tgrade is B+\"\n",
    "                print \"-------------------------------\"\n",
    "            elif grade >= 83:\n",
    "                print \"\\t\\tgrade is higher B-\"\n",
    "                print \"--------------------------------\"\n",
    "            else:\n",
    "                print \"\\t\\t grade is B-\"\n",
    "                print \"--------------------------------\"\n",
    "            \n",
    "        elif grade >= 70:\n",
    "            print \" \\tpassed with C\"\n",
    "        else:\n",
    "            print \" \\tpassed with D\"\n",
    "        \n",
    "    \n",
    "    else:\n",
    "        print \"student has failed!\"\n",
    "\n",
    "\n",
    "\n",
    "\n",
    "\n"
   ]
  },
  {
   "cell_type": "code",
   "execution_count": null,
   "metadata": {
    "collapsed": true
   },
   "outputs": [],
   "source": []
  },
  {
   "cell_type": "code",
   "execution_count": null,
   "metadata": {
    "collapsed": true
   },
   "outputs": [],
   "source": []
  },
  {
   "cell_type": "code",
   "execution_count": null,
   "metadata": {
    "collapsed": true
   },
   "outputs": [],
   "source": []
  },
  {
   "cell_type": "code",
   "execution_count": null,
   "metadata": {
    "collapsed": true
   },
   "outputs": [],
   "source": []
  },
  {
   "cell_type": "code",
   "execution_count": null,
   "metadata": {
    "collapsed": true
   },
   "outputs": [],
   "source": []
  },
  {
   "cell_type": "code",
   "execution_count": null,
   "metadata": {
    "collapsed": true
   },
   "outputs": [],
   "source": []
  },
  {
   "cell_type": "code",
   "execution_count": null,
   "metadata": {
    "collapsed": true
   },
   "outputs": [],
   "source": []
  },
  {
   "cell_type": "code",
   "execution_count": null,
   "metadata": {
    "collapsed": true
   },
   "outputs": [],
   "source": []
  },
  {
   "cell_type": "code",
   "execution_count": null,
   "metadata": {
    "collapsed": true
   },
   "outputs": [],
   "source": []
  },
  {
   "cell_type": "code",
   "execution_count": null,
   "metadata": {
    "collapsed": true
   },
   "outputs": [],
   "source": [
    "Exercise: ask a user to input a number and check if the number the\n",
    "        user enters is -ve, 0 or positive"
   ]
  },
  {
   "cell_type": "code",
   "execution_count": 8,
   "metadata": {
    "collapsed": false
   },
   "outputs": [
    {
     "name": "stdout",
     "output_type": "stream",
     "text": [
      "please enter a number: 0\n",
      "zero\n"
     ]
    }
   ],
   "source": [
    "number = int(raw_input(\"please enter a number: \"))\n",
    "\n",
    "if number > 0:\n",
    "    print \"+\"\n",
    "elif number == 0:\n",
    "    print \"zero\"\n",
    "else:\n",
    "    print \"-\""
   ]
  },
  {
   "cell_type": "code",
   "execution_count": 11,
   "metadata": {
    "collapsed": false
   },
   "outputs": [
    {
     "name": "stdout",
     "output_type": "stream",
     "text": [
      "pls enter number: 0\n",
      "num is zero\n"
     ]
    }
   ],
   "source": [
    "number = int(raw_input(\"pls enter number: \"))\n",
    "\n",
    "if number >= 0:\n",
    "    if number == 0:\n",
    "        print \"num is zero\"\n",
    "    \n",
    "    else:\n",
    "        print \"number is +\"\n",
    "\n",
    "else:\n",
    "    print \"-ve\""
   ]
  },
  {
   "cell_type": "code",
   "execution_count": null,
   "metadata": {
    "collapsed": true
   },
   "outputs": [],
   "source": []
  },
  {
   "cell_type": "code",
   "execution_count": null,
   "metadata": {
    "collapsed": true
   },
   "outputs": [],
   "source": []
  },
  {
   "cell_type": "code",
   "execution_count": null,
   "metadata": {
    "collapsed": true
   },
   "outputs": [],
   "source": []
  },
  {
   "cell_type": "code",
   "execution_count": null,
   "metadata": {
    "collapsed": true
   },
   "outputs": [],
   "source": []
  },
  {
   "cell_type": "code",
   "execution_count": null,
   "metadata": {
    "collapsed": true
   },
   "outputs": [],
   "source": []
  },
  {
   "cell_type": "code",
   "execution_count": null,
   "metadata": {
    "collapsed": true
   },
   "outputs": [],
   "source": []
  },
  {
   "cell_type": "code",
   "execution_count": null,
   "metadata": {
    "collapsed": true
   },
   "outputs": [],
   "source": []
  },
  {
   "cell_type": "code",
   "execution_count": null,
   "metadata": {
    "collapsed": true
   },
   "outputs": [],
   "source": []
  },
  {
   "cell_type": "code",
   "execution_count": null,
   "metadata": {
    "collapsed": true
   },
   "outputs": [],
   "source": []
  },
  {
   "cell_type": "code",
   "execution_count": null,
   "metadata": {
    "collapsed": true
   },
   "outputs": [],
   "source": []
  },
  {
   "cell_type": "code",
   "execution_count": null,
   "metadata": {
    "collapsed": true
   },
   "outputs": [],
   "source": []
  },
  {
   "cell_type": "code",
   "execution_count": null,
   "metadata": {
    "collapsed": true
   },
   "outputs": [],
   "source": []
  },
  {
   "cell_type": "code",
   "execution_count": null,
   "metadata": {
    "collapsed": true
   },
   "outputs": [],
   "source": []
  },
  {
   "cell_type": "code",
   "execution_count": null,
   "metadata": {
    "collapsed": true
   },
   "outputs": [],
   "source": []
  },
  {
   "cell_type": "code",
   "execution_count": null,
   "metadata": {
    "collapsed": true
   },
   "outputs": [],
   "source": []
  },
  {
   "cell_type": "code",
   "execution_count": null,
   "metadata": {
    "collapsed": true
   },
   "outputs": [],
   "source": []
  },
  {
   "cell_type": "code",
   "execution_count": null,
   "metadata": {
    "collapsed": true
   },
   "outputs": [],
   "source": []
  },
  {
   "cell_type": "code",
   "execution_count": null,
   "metadata": {
    "collapsed": true
   },
   "outputs": [],
   "source": []
  },
  {
   "cell_type": "code",
   "execution_count": null,
   "metadata": {
    "collapsed": true
   },
   "outputs": [],
   "source": []
  },
  {
   "cell_type": "code",
   "execution_count": null,
   "metadata": {
    "collapsed": true
   },
   "outputs": [],
   "source": []
  },
  {
   "cell_type": "code",
   "execution_count": null,
   "metadata": {
    "collapsed": true
   },
   "outputs": [],
   "source": []
  },
  {
   "cell_type": "code",
   "execution_count": null,
   "metadata": {
    "collapsed": true
   },
   "outputs": [],
   "source": []
  },
  {
   "cell_type": "code",
   "execution_count": null,
   "metadata": {
    "collapsed": true
   },
   "outputs": [],
   "source": []
  },
  {
   "cell_type": "code",
   "execution_count": null,
   "metadata": {
    "collapsed": true
   },
   "outputs": [],
   "source": []
  },
  {
   "cell_type": "code",
   "execution_count": null,
   "metadata": {
    "collapsed": true
   },
   "outputs": [],
   "source": []
  },
  {
   "cell_type": "code",
   "execution_count": null,
   "metadata": {
    "collapsed": true
   },
   "outputs": [],
   "source": []
  },
  {
   "cell_type": "code",
   "execution_count": null,
   "metadata": {
    "collapsed": true
   },
   "outputs": [],
   "source": []
  },
  {
   "cell_type": "code",
   "execution_count": null,
   "metadata": {
    "collapsed": true
   },
   "outputs": [],
   "source": []
  },
  {
   "cell_type": "code",
   "execution_count": null,
   "metadata": {
    "collapsed": true
   },
   "outputs": [],
   "source": []
  },
  {
   "cell_type": "code",
   "execution_count": null,
   "metadata": {
    "collapsed": true
   },
   "outputs": [],
   "source": []
  },
  {
   "cell_type": "code",
   "execution_count": null,
   "metadata": {
    "collapsed": true
   },
   "outputs": [],
   "source": []
  },
  {
   "cell_type": "code",
   "execution_count": null,
   "metadata": {
    "collapsed": true
   },
   "outputs": [],
   "source": []
  },
  {
   "cell_type": "code",
   "execution_count": null,
   "metadata": {
    "collapsed": true
   },
   "outputs": [],
   "source": []
  },
  {
   "cell_type": "code",
   "execution_count": null,
   "metadata": {
    "collapsed": true
   },
   "outputs": [],
   "source": []
  },
  {
   "cell_type": "code",
   "execution_count": null,
   "metadata": {
    "collapsed": true
   },
   "outputs": [],
   "source": []
  },
  {
   "cell_type": "code",
   "execution_count": null,
   "metadata": {
    "collapsed": true
   },
   "outputs": [],
   "source": []
  }
 ],
 "metadata": {
  "kernelspec": {
   "display_name": "Python 2",
   "language": "python",
   "name": "python2"
  },
  "language_info": {
   "codemirror_mode": {
    "name": "ipython",
    "version": 2
   },
   "file_extension": ".py",
   "mimetype": "text/x-python",
   "name": "python",
   "nbconvert_exporter": "python",
   "pygments_lexer": "ipython2",
   "version": "2.7.12"
  }
 },
 "nbformat": 4,
 "nbformat_minor": 0
}
