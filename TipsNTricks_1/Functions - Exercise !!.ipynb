{
 "cells": [
  {
   "cell_type": "code",
   "execution_count": 1,
   "metadata": {
    "collapsed": true
   },
   "outputs": [],
   "source": [
    "# define a function that accepts two parameters lower and upper\n",
    "# the parameters lower and upper are int and must be lower first then upper\n",
    "# prompt the user to enter integers between the parameters lower and upper\n",
    "# if user doesn't enter int between the lower and upper params, prompt to enter int again\n",
    "# finally return the appropriate int entered"
   ]
  },
  {
   "cell_type": "code",
   "execution_count": 2,
   "metadata": {
    "collapsed": true
   },
   "outputs": [],
   "source": [
    "def display_integer(lower, upper):\n",
    "    if lower > upper:\n",
    "        lower, upper = upper, lower\n",
    "        \n",
    "    int_input = int(raw_input(\"Enter an integer within the range \" + str(lower)\\\n",
    "                          + \" and \" + str(upper) + \" : \"))\n",
    "        \n",
    "    while int_input < lower or int_input > upper:\n",
    "                    print int_input, \"isn't between\", lower, \" and \", upper\n",
    "                    int_input = int(raw_input(\"Enter an approriate int: \"))\n",
    "                \n",
    "    return int_input\n",
    "                   "
   ]
  },
  {
   "cell_type": "code",
   "execution_count": 3,
   "metadata": {
    "collapsed": false
   },
   "outputs": [
    {
     "name": "stdout",
     "output_type": "stream",
     "text": [
      "Enter an integer within the range 5 and 16 : 6\n"
     ]
    },
    {
     "data": {
      "text/plain": [
       "6"
      ]
     },
     "execution_count": 3,
     "metadata": {},
     "output_type": "execute_result"
    }
   ],
   "source": [
    "display_integer(5, 16)"
   ]
  },
  {
   "cell_type": "code",
   "execution_count": 4,
   "metadata": {
    "collapsed": false
   },
   "outputs": [
    {
     "name": "stdout",
     "output_type": "stream",
     "text": [
      "Before the execution of the display_integer function between 5 and 16\n",
      "Enter an integer within the range 5 and 16 : 3\n",
      "3 isn't between 5  and  16\n",
      "Enter an approriate int: 12\n",
      "The execution of the display_integer function between 5 and 16 is completed..\n",
      "------------------------------------------------------------------------\n",
      "Before the execution of the display_integer function between 7 and 30\n",
      "Enter an integer within the range 7 and 30 : 4\n",
      "4 isn't between 7  and  30\n",
      "Enter an approriate int: 34\n",
      "34 isn't between 7  and  30\n",
      "Enter an approriate int: 22\n",
      "The execution of the display_integer function between 7 and 30 is completed..\n",
      "------------------------------------------------------------------------\n",
      "Before the execution of the display_integer function between -15 and 25\n",
      "Enter an integer within the range -15 and 25 : -22\n",
      "-22 isn't between -15  and  25\n",
      "Enter an approriate int: -7\n",
      "The execution of the display_integer function between -15 and 25 is completed..\n",
      "------------------------------------------------------------------------\n"
     ]
    }
   ],
   "source": [
    "def display_integer(lower, upper):\n",
    "    if lower > upper:\n",
    "        lower, upper = upper, lower\n",
    "        \n",
    "    int_input = int(raw_input(\"Enter an integer within the range \" + str(lower)\\\n",
    "                          + \" and \" + str(upper) + \" : \"))\n",
    "        \n",
    "    while int_input < lower or int_input > upper:\n",
    "                    print int_input, \"isn't between\", lower, \" and \", upper\n",
    "                    int_input = int(raw_input(\"Enter an approriate int: \"))\n",
    "                \n",
    "    return int_input\n",
    "\n",
    "def main():\n",
    "    print \"Before the execution of the display_integer function between 5 and 16\"\n",
    "    display_integer(5, 16)\n",
    "    print \"The execution of the display_integer function between 5 and 16 is completed..\"\n",
    "    print \"----\" * 18\n",
    "    \n",
    "    print \"Before the execution of the display_integer function between 7 and 30\"\n",
    "    display_integer(30, 7)\n",
    "    print \"The execution of the display_integer function between 7 and 30 is completed..\"\n",
    "    print \"----\" * 18\n",
    "    \n",
    "    print \"Before the execution of the display_integer function between -15 and 25\"\n",
    "    display_integer(-15, 25)\n",
    "    print \"The execution of the display_integer function between -15 and 25 is completed..\"\n",
    "    print \"----\" * 18\n",
    "    \n",
    "    \n",
    "main()"
   ]
  },
  {
   "cell_type": "code",
   "execution_count": null,
   "metadata": {
    "collapsed": true
   },
   "outputs": [],
   "source": []
  },
  {
   "cell_type": "code",
   "execution_count": null,
   "metadata": {
    "collapsed": true
   },
   "outputs": [],
   "source": []
  },
  {
   "cell_type": "code",
   "execution_count": null,
   "metadata": {
    "collapsed": true
   },
   "outputs": [],
   "source": []
  },
  {
   "cell_type": "code",
   "execution_count": null,
   "metadata": {
    "collapsed": true
   },
   "outputs": [],
   "source": []
  },
  {
   "cell_type": "code",
   "execution_count": null,
   "metadata": {
    "collapsed": true
   },
   "outputs": [],
   "source": []
  },
  {
   "cell_type": "code",
   "execution_count": null,
   "metadata": {
    "collapsed": true
   },
   "outputs": [],
   "source": []
  },
  {
   "cell_type": "code",
   "execution_count": null,
   "metadata": {
    "collapsed": true
   },
   "outputs": [],
   "source": []
  },
  {
   "cell_type": "code",
   "execution_count": null,
   "metadata": {
    "collapsed": true
   },
   "outputs": [],
   "source": []
  },
  {
   "cell_type": "code",
   "execution_count": null,
   "metadata": {
    "collapsed": true
   },
   "outputs": [],
   "source": []
  },
  {
   "cell_type": "code",
   "execution_count": null,
   "metadata": {
    "collapsed": true
   },
   "outputs": [],
   "source": []
  },
  {
   "cell_type": "code",
   "execution_count": null,
   "metadata": {
    "collapsed": true
   },
   "outputs": [],
   "source": []
  },
  {
   "cell_type": "code",
   "execution_count": null,
   "metadata": {
    "collapsed": true
   },
   "outputs": [],
   "source": []
  },
  {
   "cell_type": "code",
   "execution_count": null,
   "metadata": {
    "collapsed": true
   },
   "outputs": [],
   "source": []
  },
  {
   "cell_type": "code",
   "execution_count": null,
   "metadata": {
    "collapsed": true
   },
   "outputs": [],
   "source": []
  },
  {
   "cell_type": "code",
   "execution_count": null,
   "metadata": {
    "collapsed": true
   },
   "outputs": [],
   "source": []
  },
  {
   "cell_type": "code",
   "execution_count": null,
   "metadata": {
    "collapsed": true
   },
   "outputs": [],
   "source": []
  },
  {
   "cell_type": "code",
   "execution_count": null,
   "metadata": {
    "collapsed": true
   },
   "outputs": [],
   "source": []
  }
 ],
 "metadata": {
  "kernelspec": {
   "display_name": "Python 2",
   "language": "python",
   "name": "python2"
  },
  "language_info": {
   "codemirror_mode": {
    "name": "ipython",
    "version": 2
   },
   "file_extension": ".py",
   "mimetype": "text/x-python",
   "name": "python",
   "nbconvert_exporter": "python",
   "pygments_lexer": "ipython2",
   "version": "2.7.12"
  }
 },
 "nbformat": 4,
 "nbformat_minor": 0
}
