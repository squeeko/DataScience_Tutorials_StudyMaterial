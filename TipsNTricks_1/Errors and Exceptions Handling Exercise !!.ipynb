{
 "cells": [
  {
   "cell_type": "code",
   "execution_count": 1,
   "metadata": {
    "collapsed": true
   },
   "outputs": [],
   "source": [
    "list1 = [23,44,56,32,57,89,76,99,222,123]\n",
    "# prompt a user to enter an index, and if the index is in the range(list1), display the number\n",
    "# in list1 at the specified index.\n",
    "# use a combination of while and if statements to make it challenging\n",
    "# in the prompt message, display the option to enter quit if they wanna quit and break out of \n",
    "# the while loop.\n",
    "# use try and except to handle errors like if the user enters an out of range index (IndexError)\n",
    "# or if they enter characters different from numbers..."
   ]
  },
  {
   "cell_type": "code",
   "execution_count": null,
   "metadata": {
    "collapsed": true
   },
   "outputs": [],
   "source": []
  },
  {
   "cell_type": "code",
   "execution_count": 4,
   "metadata": {
    "collapsed": false
   },
   "outputs": [
    {
     "name": "stdout",
     "output_type": "stream",
     "text": [
      "Choose your index now: 'type quit to quit':3\n",
      "32\n",
      "---------------------------------------------\n",
      "Choose your index now: 'type quit to quit':8\n",
      "222\n",
      "---------------------------------------------\n",
      "Choose your index now: 'type quit to quit':-1\n",
      "123\n",
      "---------------------------------------------\n",
      "Choose your index now: 'type quit to quit':-5\n",
      "89\n",
      "---------------------------------------------\n",
      "Choose your index now: 'type quit to quit':-11\n",
      "Wrong Index:  -11\n",
      "---------------------------------------------\n",
      "Choose your index now: 'type quit to quit':ss\n",
      "Something else is wrong:  ss\n",
      "---------------------------------------------\n",
      "Choose your index now: 'type quit to quit':quit\n",
      "---------------------------------------------\n"
     ]
    }
   ],
   "source": [
    "list1 = [23,44,56,32,57,89,76,99,222,123]\n",
    "\n",
    "while True:\n",
    "    choice = raw_input(\"Choose your index now: 'type quit to quit':\")\n",
    "    if choice == 'quit':\n",
    "        print \"---\" * 15\n",
    "        break\n",
    "        \n",
    "    try:\n",
    "        index = int(choice)\n",
    "        print list1[index]\n",
    "        print \"---\" * 15\n",
    "        \n",
    "    except IndexError:\n",
    "        print \"Wrong Index: \", index\n",
    "        print \"---\" * 15\n",
    "        \n",
    "    except:\n",
    "        print \"Something else is wrong: \", choice\n",
    "        print \"---\" * 15\n",
    "        "
   ]
  },
  {
   "cell_type": "code",
   "execution_count": null,
   "metadata": {
    "collapsed": true
   },
   "outputs": [],
   "source": []
  },
  {
   "cell_type": "code",
   "execution_count": null,
   "metadata": {
    "collapsed": true
   },
   "outputs": [],
   "source": []
  },
  {
   "cell_type": "code",
   "execution_count": null,
   "metadata": {
    "collapsed": true
   },
   "outputs": [],
   "source": []
  },
  {
   "cell_type": "code",
   "execution_count": 2,
   "metadata": {
    "collapsed": true
   },
   "outputs": [],
   "source": [
    "#1)\n",
    "# prompt a user to enter a number\n",
    "# prompt a user to enter a second number to divide the first number by\n",
    "# check to see if the first number divides by the second number evenly (i.e firstnum % sn == 0)\n",
    "# use try, except and finally to handle exceptions to handle ValueError and ZeroDivisionError\n"
   ]
  },
  {
   "cell_type": "code",
   "execution_count": null,
   "metadata": {
    "collapsed": true
   },
   "outputs": [],
   "source": []
  },
  {
   "cell_type": "code",
   "execution_count": 13,
   "metadata": {
    "collapsed": false
   },
   "outputs": [
    {
     "name": "stdout",
     "output_type": "stream",
     "text": [
      "enter your first number: 60\n",
      "enter your second number: 5\n",
      "yr 1st number:  60  divides evenly by yr 2nd number:  5\n",
      "all done now...\n"
     ]
    }
   ],
   "source": [
    "try:\n",
    "    first = int(raw_input(\"enter your first number: \"))\n",
    "    second = int(raw_input(\"enter your second number: \"))\n",
    "    \n",
    "    if first % second == 0:\n",
    "        print \"yr 1st number: \", first, \" divides evenly by yr 2nd number: \", second\n",
    "    else:\n",
    "        print \"yr 1st number: \", first, \" doesn't divide evenly by yr 2nd number: \", second\n",
    "\n",
    "except ZeroDivisionError:\n",
    "    print \"your second number can't be zero!\"\n",
    "    \n",
    "except ValueError:\n",
    "    print \"enter numbers only!\"\n",
    "    \n",
    "finally:\n",
    "    print \"all done now...\""
   ]
  },
  {
   "cell_type": "code",
   "execution_count": null,
   "metadata": {
    "collapsed": true
   },
   "outputs": [],
   "source": []
  },
  {
   "cell_type": "code",
   "execution_count": null,
   "metadata": {
    "collapsed": true
   },
   "outputs": [],
   "source": []
  },
  {
   "cell_type": "code",
   "execution_count": null,
   "metadata": {
    "collapsed": true
   },
   "outputs": [],
   "source": [
    "#2)\n",
    "# prompt a user to enter a number\n",
    "# check if the number is divisible by 5 and \n",
    "# use try, except and finally to handle exceptions"
   ]
  },
  {
   "cell_type": "code",
   "execution_count": 20,
   "metadata": {
    "collapsed": false
   },
   "outputs": [
    {
     "name": "stdout",
     "output_type": "stream",
     "text": [
      "Enter your number: w\n",
      "please choose a number only!!!\n",
      "all done now!....\n"
     ]
    }
   ],
   "source": [
    "try:\n",
    "    choice = int(raw_input(\"Enter your number: \"))\n",
    "    \n",
    "    if choice % 5 == 0:\n",
    "        print \"the number you chose\", choice, \"is divisible by 5\"\n",
    "    else:\n",
    "        print \"your number is not divisible by 5!\"\n",
    "        \n",
    "except ValueError:\n",
    "    print \"please choose a number only!!!\"\n",
    "    \n",
    "else:\n",
    "    print \"good choice\"\n",
    "    \n",
    "finally:\n",
    "    print \"all done now!....\""
   ]
  },
  {
   "cell_type": "code",
   "execution_count": null,
   "metadata": {
    "collapsed": true
   },
   "outputs": [],
   "source": []
  },
  {
   "cell_type": "code",
   "execution_count": null,
   "metadata": {
    "collapsed": true
   },
   "outputs": [],
   "source": []
  },
  {
   "cell_type": "code",
   "execution_count": null,
   "metadata": {
    "collapsed": true
   },
   "outputs": [],
   "source": []
  },
  {
   "cell_type": "code",
   "execution_count": null,
   "metadata": {
    "collapsed": true
   },
   "outputs": [],
   "source": []
  },
  {
   "cell_type": "code",
   "execution_count": null,
   "metadata": {
    "collapsed": true
   },
   "outputs": [],
   "source": []
  },
  {
   "cell_type": "code",
   "execution_count": null,
   "metadata": {
    "collapsed": true
   },
   "outputs": [],
   "source": []
  },
  {
   "cell_type": "code",
   "execution_count": null,
   "metadata": {
    "collapsed": true
   },
   "outputs": [],
   "source": []
  },
  {
   "cell_type": "code",
   "execution_count": null,
   "metadata": {
    "collapsed": true
   },
   "outputs": [],
   "source": []
  },
  {
   "cell_type": "code",
   "execution_count": null,
   "metadata": {
    "collapsed": true
   },
   "outputs": [],
   "source": []
  },
  {
   "cell_type": "code",
   "execution_count": null,
   "metadata": {
    "collapsed": true
   },
   "outputs": [],
   "source": []
  }
 ],
 "metadata": {
  "kernelspec": {
   "display_name": "Python 2",
   "language": "python",
   "name": "python2"
  },
  "language_info": {
   "codemirror_mode": {
    "name": "ipython",
    "version": 2
   },
   "file_extension": ".py",
   "mimetype": "text/x-python",
   "name": "python",
   "nbconvert_exporter": "python",
   "pygments_lexer": "ipython2",
   "version": "2.7.12"
  }
 },
 "nbformat": 4,
 "nbformat_minor": 0
}
